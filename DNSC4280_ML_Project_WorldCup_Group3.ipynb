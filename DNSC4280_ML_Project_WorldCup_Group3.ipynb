{
 "cells": [
  {
   "cell_type": "markdown",
   "id": "35cd29b3-a8ac-49d5-b1fe-84dd2b366312",
   "metadata": {},
   "source": [
    "# World Cup ML Project"
   ]
  },
  {
   "cell_type": "markdown",
   "id": "543085eb-2f23-42fa-90e4-4d1cb43174ab",
   "metadata": {
    "tags": []
   },
   "source": [
    "## Import package and check for version"
   ]
  },
  {
   "cell_type": "code",
   "execution_count": 39,
   "id": "2a44d5dd",
   "metadata": {},
   "outputs": [],
   "source": [
    "import numpy as np \n",
    "import pandas as pd \n",
    "import matplotlib.pyplot as plt\n",
    "import seaborn as sns\n",
    "import os\n",
    "import warnings\n",
    "warnings.filterwarnings('ignore')"
   ]
  },
  {
   "cell_type": "code",
   "execution_count": 40,
   "id": "0581590c",
   "metadata": {
    "scrolled": true
   },
   "outputs": [],
   "source": [
    "import sklearn\n",
    "import keras\n",
    "import xgboost"
   ]
  },
  {
   "cell_type": "code",
   "execution_count": 3,
   "id": "22b69b4c-ca86-4089-a50e-07dd514fac14",
   "metadata": {},
   "outputs": [
    {
     "name": "stdout",
     "output_type": "stream",
     "text": [
      "Python version: 3.9.13\n",
      "sklearn version: 1.0.2\n",
      "keras version: 2.11.0\n",
      "xgboost version: 1.7.1\n"
     ]
    }
   ],
   "source": [
    "# check version\n",
    "import sys\n",
    "version = \".\".join(map(str, sys.version_info[:3]))\n",
    "print('Python version:', version)\n",
    "print('sklearn version:', sklearn.__version__)\n",
    "print('keras version:', keras.__version__)\n",
    "print('xgboost version:', xgboost.__version__)"
   ]
  },
  {
   "cell_type": "raw",
   "id": "0d007c81-71f9-4d3c-ba5b-cc54cad62b50",
   "metadata": {},
   "source": [
    "Copyright <2022> <Yiqi Chen>\n",
    "\n",
    "Permission is hereby granted, free of charge, to any person obtaining a copy of this software and associated documentation files (the \"Software\"), to deal in the Software without restriction, including without limitation the rights to use, copy, modify, merge, publish, distribute, sublicense, and/or sell copies of the Software, and to permit persons to whom the Software is furnished to do so, subject to the following conditions:\n",
    "\n",
    "The above copyright notice and this permission notice shall be included in all copies or substantial portions of the Software.\n",
    "\n",
    "THE SOFTWARE IS PROVIDED \"AS IS\", WITHOUT WARRANTY OF ANY KIND, EXPRESS OR IMPLIED, INCLUDING BUT NOT LIMITED TO THE WARRANTIES OF MERCHANTABILITY, FITNESS FOR A PARTICULAR PURPOSE AND NONINFRINGEMENT. IN NO EVENT SHALL THE AUTHORS OR COPYRIGHT HOLDERS BE LIABLE FOR ANY CLAIM, DAMAGES OR OTHER LIABILITY, WHETHER IN AN ACTION OF CONTRACT, TORT OR OTHERWISE, ARISING FROM, OUT OF OR IN CONNECTION WITH THE SOFTWARE OR THE USE OR OTHER DEALINGS IN THE SOFTWARE."
   ]
  },
  {
   "cell_type": "markdown",
   "id": "9e6ecd8e",
   "metadata": {
    "tags": []
   },
   "source": [
    "## Data preprocessing and descriptive analysis"
   ]
  },
  {
   "cell_type": "code",
   "execution_count": 41,
   "id": "b00a1df9",
   "metadata": {},
   "outputs": [
    {
     "data": {
      "text/plain": [
       "'/Users/chenyiqi/Desktop/DNSC4280/Project_WorldCup'"
      ]
     },
     "execution_count": 41,
     "metadata": {},
     "output_type": "execute_result"
    }
   ],
   "source": [
    "pwd"
   ]
  },
  {
   "cell_type": "markdown",
   "id": "edb72923-df1a-465c-88ef-e9d6b25435e0",
   "metadata": {
    "tags": []
   },
   "source": [
    "### international_matches data set"
   ]
  },
  {
   "cell_type": "code",
   "execution_count": 42,
   "id": "bb30ce62",
   "metadata": {},
   "outputs": [
    {
     "data": {
      "text/html": [
       "<div>\n",
       "<style scoped>\n",
       "    .dataframe tbody tr th:only-of-type {\n",
       "        vertical-align: middle;\n",
       "    }\n",
       "\n",
       "    .dataframe tbody tr th {\n",
       "        vertical-align: top;\n",
       "    }\n",
       "\n",
       "    .dataframe thead th {\n",
       "        text-align: right;\n",
       "    }\n",
       "</style>\n",
       "<table border=\"1\" class=\"dataframe\">\n",
       "  <thead>\n",
       "    <tr style=\"text-align: right;\">\n",
       "      <th></th>\n",
       "      <th>date</th>\n",
       "      <th>home_team</th>\n",
       "      <th>away_team</th>\n",
       "      <th>home_team_continent</th>\n",
       "      <th>away_team_continent</th>\n",
       "      <th>home_team_fifa_rank</th>\n",
       "      <th>away_team_fifa_rank</th>\n",
       "      <th>home_team_total_fifa_points</th>\n",
       "      <th>away_team_total_fifa_points</th>\n",
       "      <th>home_team_score</th>\n",
       "      <th>...</th>\n",
       "      <th>shoot_out</th>\n",
       "      <th>home_team_result</th>\n",
       "      <th>home_team_goalkeeper_score</th>\n",
       "      <th>away_team_goalkeeper_score</th>\n",
       "      <th>home_team_mean_defense_score</th>\n",
       "      <th>home_team_mean_offense_score</th>\n",
       "      <th>home_team_mean_midfield_score</th>\n",
       "      <th>away_team_mean_defense_score</th>\n",
       "      <th>away_team_mean_offense_score</th>\n",
       "      <th>away_team_mean_midfield_score</th>\n",
       "    </tr>\n",
       "  </thead>\n",
       "  <tbody>\n",
       "    <tr>\n",
       "      <th>23916</th>\n",
       "      <td>2022-06-14</td>\n",
       "      <td>Moldova</td>\n",
       "      <td>Andorra</td>\n",
       "      <td>Europe</td>\n",
       "      <td>Europe</td>\n",
       "      <td>180</td>\n",
       "      <td>153</td>\n",
       "      <td>932</td>\n",
       "      <td>1040</td>\n",
       "      <td>2</td>\n",
       "      <td>...</td>\n",
       "      <td>No</td>\n",
       "      <td>Win</td>\n",
       "      <td>65.0</td>\n",
       "      <td>NaN</td>\n",
       "      <td>NaN</td>\n",
       "      <td>NaN</td>\n",
       "      <td>NaN</td>\n",
       "      <td>NaN</td>\n",
       "      <td>NaN</td>\n",
       "      <td>NaN</td>\n",
       "    </tr>\n",
       "    <tr>\n",
       "      <th>23917</th>\n",
       "      <td>2022-06-14</td>\n",
       "      <td>Liechtenstein</td>\n",
       "      <td>Latvia</td>\n",
       "      <td>Europe</td>\n",
       "      <td>Europe</td>\n",
       "      <td>192</td>\n",
       "      <td>135</td>\n",
       "      <td>895</td>\n",
       "      <td>1105</td>\n",
       "      <td>0</td>\n",
       "      <td>...</td>\n",
       "      <td>No</td>\n",
       "      <td>Lose</td>\n",
       "      <td>NaN</td>\n",
       "      <td>65.0</td>\n",
       "      <td>NaN</td>\n",
       "      <td>NaN</td>\n",
       "      <td>NaN</td>\n",
       "      <td>NaN</td>\n",
       "      <td>NaN</td>\n",
       "      <td>NaN</td>\n",
       "    </tr>\n",
       "    <tr>\n",
       "      <th>23918</th>\n",
       "      <td>2022-06-14</td>\n",
       "      <td>Chile</td>\n",
       "      <td>Ghana</td>\n",
       "      <td>South America</td>\n",
       "      <td>Africa</td>\n",
       "      <td>28</td>\n",
       "      <td>60</td>\n",
       "      <td>1526</td>\n",
       "      <td>1387</td>\n",
       "      <td>0</td>\n",
       "      <td>...</td>\n",
       "      <td>Yes</td>\n",
       "      <td>Lose</td>\n",
       "      <td>79.0</td>\n",
       "      <td>74.0</td>\n",
       "      <td>75.5</td>\n",
       "      <td>76.7</td>\n",
       "      <td>78.2</td>\n",
       "      <td>75.5</td>\n",
       "      <td>76.0</td>\n",
       "      <td>78.2</td>\n",
       "    </tr>\n",
       "    <tr>\n",
       "      <th>23919</th>\n",
       "      <td>2022-06-14</td>\n",
       "      <td>Japan</td>\n",
       "      <td>Tunisia</td>\n",
       "      <td>Asia</td>\n",
       "      <td>Africa</td>\n",
       "      <td>23</td>\n",
       "      <td>35</td>\n",
       "      <td>1553</td>\n",
       "      <td>1499</td>\n",
       "      <td>0</td>\n",
       "      <td>...</td>\n",
       "      <td>No</td>\n",
       "      <td>Lose</td>\n",
       "      <td>73.0</td>\n",
       "      <td>NaN</td>\n",
       "      <td>75.2</td>\n",
       "      <td>75.0</td>\n",
       "      <td>77.5</td>\n",
       "      <td>70.8</td>\n",
       "      <td>72.3</td>\n",
       "      <td>74.0</td>\n",
       "    </tr>\n",
       "    <tr>\n",
       "      <th>23920</th>\n",
       "      <td>2022-06-14</td>\n",
       "      <td>Korea Republic</td>\n",
       "      <td>Egypt</td>\n",
       "      <td>Asia</td>\n",
       "      <td>Africa</td>\n",
       "      <td>29</td>\n",
       "      <td>32</td>\n",
       "      <td>1519</td>\n",
       "      <td>1500</td>\n",
       "      <td>4</td>\n",
       "      <td>...</td>\n",
       "      <td>No</td>\n",
       "      <td>Win</td>\n",
       "      <td>75.0</td>\n",
       "      <td>NaN</td>\n",
       "      <td>73.0</td>\n",
       "      <td>80.0</td>\n",
       "      <td>73.8</td>\n",
       "      <td>NaN</td>\n",
       "      <td>79.3</td>\n",
       "      <td>70.8</td>\n",
       "    </tr>\n",
       "  </tbody>\n",
       "</table>\n",
       "<p>5 rows × 25 columns</p>\n",
       "</div>"
      ],
      "text/plain": [
       "            date       home_team away_team home_team_continent  \\\n",
       "23916 2022-06-14         Moldova   Andorra              Europe   \n",
       "23917 2022-06-14   Liechtenstein    Latvia              Europe   \n",
       "23918 2022-06-14           Chile     Ghana       South America   \n",
       "23919 2022-06-14           Japan   Tunisia                Asia   \n",
       "23920 2022-06-14  Korea Republic     Egypt                Asia   \n",
       "\n",
       "      away_team_continent  home_team_fifa_rank  away_team_fifa_rank  \\\n",
       "23916              Europe                  180                  153   \n",
       "23917              Europe                  192                  135   \n",
       "23918              Africa                   28                   60   \n",
       "23919              Africa                   23                   35   \n",
       "23920              Africa                   29                   32   \n",
       "\n",
       "       home_team_total_fifa_points  away_team_total_fifa_points  \\\n",
       "23916                          932                         1040   \n",
       "23917                          895                         1105   \n",
       "23918                         1526                         1387   \n",
       "23919                         1553                         1499   \n",
       "23920                         1519                         1500   \n",
       "\n",
       "       home_team_score  ...  shoot_out home_team_result  \\\n",
       "23916                2  ...         No              Win   \n",
       "23917                0  ...         No             Lose   \n",
       "23918                0  ...        Yes             Lose   \n",
       "23919                0  ...         No             Lose   \n",
       "23920                4  ...         No              Win   \n",
       "\n",
       "      home_team_goalkeeper_score away_team_goalkeeper_score  \\\n",
       "23916                       65.0                        NaN   \n",
       "23917                        NaN                       65.0   \n",
       "23918                       79.0                       74.0   \n",
       "23919                       73.0                        NaN   \n",
       "23920                       75.0                        NaN   \n",
       "\n",
       "       home_team_mean_defense_score home_team_mean_offense_score  \\\n",
       "23916                           NaN                          NaN   \n",
       "23917                           NaN                          NaN   \n",
       "23918                          75.5                         76.7   \n",
       "23919                          75.2                         75.0   \n",
       "23920                          73.0                         80.0   \n",
       "\n",
       "      home_team_mean_midfield_score  away_team_mean_defense_score  \\\n",
       "23916                           NaN                           NaN   \n",
       "23917                           NaN                           NaN   \n",
       "23918                          78.2                          75.5   \n",
       "23919                          77.5                          70.8   \n",
       "23920                          73.8                           NaN   \n",
       "\n",
       "       away_team_mean_offense_score  away_team_mean_midfield_score  \n",
       "23916                           NaN                            NaN  \n",
       "23917                           NaN                            NaN  \n",
       "23918                          76.0                           78.2  \n",
       "23919                          72.3                           74.0  \n",
       "23920                          79.3                           70.8  \n",
       "\n",
       "[5 rows x 25 columns]"
      ]
     },
     "execution_count": 42,
     "metadata": {},
     "output_type": "execute_result"
    }
   ],
   "source": [
    "# read international_matches data\n",
    "df = pd.read_csv('./data/international_matches.csv', parse_dates=['date'])\n",
    "df.tail()"
   ]
  },
  {
   "cell_type": "code",
   "execution_count": 6,
   "id": "ec845bac",
   "metadata": {},
   "outputs": [
    {
     "name": "stdout",
     "output_type": "stream",
     "text": [
      "<class 'pandas.core.frame.DataFrame'>\n",
      "RangeIndex: 23921 entries, 0 to 23920\n",
      "Data columns (total 25 columns):\n",
      " #   Column                         Non-Null Count  Dtype         \n",
      "---  ------                         --------------  -----         \n",
      " 0   date                           23921 non-null  datetime64[ns]\n",
      " 1   home_team                      23921 non-null  object        \n",
      " 2   away_team                      23921 non-null  object        \n",
      " 3   home_team_continent            23921 non-null  object        \n",
      " 4   away_team_continent            23921 non-null  object        \n",
      " 5   home_team_fifa_rank            23921 non-null  int64         \n",
      " 6   away_team_fifa_rank            23921 non-null  int64         \n",
      " 7   home_team_total_fifa_points    23921 non-null  int64         \n",
      " 8   away_team_total_fifa_points    23921 non-null  int64         \n",
      " 9   home_team_score                23921 non-null  int64         \n",
      " 10  away_team_score                23921 non-null  int64         \n",
      " 11  tournament                     23921 non-null  object        \n",
      " 12  city                           23921 non-null  object        \n",
      " 13  country                        23921 non-null  object        \n",
      " 14  neutral_location               23921 non-null  bool          \n",
      " 15  shoot_out                      23921 non-null  object        \n",
      " 16  home_team_result               23921 non-null  object        \n",
      " 17  home_team_goalkeeper_score     8379 non-null   float64       \n",
      " 18  away_team_goalkeeper_score     8095 non-null   float64       \n",
      " 19  home_team_mean_defense_score   7787 non-null   float64       \n",
      " 20  home_team_mean_offense_score   8510 non-null   float64       \n",
      " 21  home_team_mean_midfield_score  8162 non-null   float64       \n",
      " 22  away_team_mean_defense_score   7564 non-null   float64       \n",
      " 23  away_team_mean_offense_score   8312 non-null   float64       \n",
      " 24  away_team_mean_midfield_score  7979 non-null   float64       \n",
      "dtypes: bool(1), datetime64[ns](1), float64(8), int64(6), object(9)\n",
      "memory usage: 4.4+ MB\n"
     ]
    }
   ],
   "source": [
    "# check column name, null, dtype\n",
    "df.info()"
   ]
  },
  {
   "cell_type": "code",
   "execution_count": 7,
   "id": "58e63f06",
   "metadata": {},
   "outputs": [
    {
     "data": {
      "text/plain": [
       "(23921, 25)"
      ]
     },
     "execution_count": 7,
     "metadata": {},
     "output_type": "execute_result"
    }
   ],
   "source": [
    "# check column and row\n",
    "df.shape"
   ]
  },
  {
   "cell_type": "code",
   "execution_count": 8,
   "id": "ec94a1c5",
   "metadata": {},
   "outputs": [
    {
     "data": {
      "text/plain": [
       "date                                 0\n",
       "home_team                            0\n",
       "away_team                            0\n",
       "home_team_continent                  0\n",
       "away_team_continent                  0\n",
       "home_team_fifa_rank                  0\n",
       "away_team_fifa_rank                  0\n",
       "home_team_total_fifa_points          0\n",
       "away_team_total_fifa_points          0\n",
       "home_team_score                      0\n",
       "away_team_score                      0\n",
       "tournament                           0\n",
       "city                                 0\n",
       "country                              0\n",
       "neutral_location                     0\n",
       "shoot_out                            0\n",
       "home_team_result                     0\n",
       "home_team_goalkeeper_score       15542\n",
       "away_team_goalkeeper_score       15826\n",
       "home_team_mean_defense_score     16134\n",
       "home_team_mean_offense_score     15411\n",
       "home_team_mean_midfield_score    15759\n",
       "away_team_mean_defense_score     16357\n",
       "away_team_mean_offense_score     15609\n",
       "away_team_mean_midfield_score    15942\n",
       "dtype: int64"
      ]
     },
     "execution_count": 8,
     "metadata": {},
     "output_type": "execute_result"
    }
   ],
   "source": [
    "# check for null\n",
    "df.isnull().sum()"
   ]
  },
  {
   "cell_type": "code",
   "execution_count": 9,
   "id": "21688afe",
   "metadata": {},
   "outputs": [
    {
     "data": {
      "text/html": [
       "<div>\n",
       "<style scoped>\n",
       "    .dataframe tbody tr th:only-of-type {\n",
       "        vertical-align: middle;\n",
       "    }\n",
       "\n",
       "    .dataframe tbody tr th {\n",
       "        vertical-align: top;\n",
       "    }\n",
       "\n",
       "    .dataframe thead th {\n",
       "        text-align: right;\n",
       "    }\n",
       "</style>\n",
       "<table border=\"1\" class=\"dataframe\">\n",
       "  <thead>\n",
       "    <tr style=\"text-align: right;\">\n",
       "      <th></th>\n",
       "      <th>home_team_fifa_rank</th>\n",
       "      <th>away_team_fifa_rank</th>\n",
       "      <th>home_team_total_fifa_points</th>\n",
       "      <th>away_team_total_fifa_points</th>\n",
       "      <th>home_team_score</th>\n",
       "      <th>away_team_score</th>\n",
       "      <th>home_team_goalkeeper_score</th>\n",
       "      <th>away_team_goalkeeper_score</th>\n",
       "      <th>home_team_mean_defense_score</th>\n",
       "      <th>home_team_mean_offense_score</th>\n",
       "      <th>home_team_mean_midfield_score</th>\n",
       "      <th>away_team_mean_defense_score</th>\n",
       "      <th>away_team_mean_offense_score</th>\n",
       "      <th>away_team_mean_midfield_score</th>\n",
       "    </tr>\n",
       "  </thead>\n",
       "  <tbody>\n",
       "    <tr>\n",
       "      <th>count</th>\n",
       "      <td>23921.000000</td>\n",
       "      <td>23921.000000</td>\n",
       "      <td>23921.000000</td>\n",
       "      <td>23921.000000</td>\n",
       "      <td>23921.000000</td>\n",
       "      <td>23921.000000</td>\n",
       "      <td>8379.000000</td>\n",
       "      <td>8095.000000</td>\n",
       "      <td>7787.000000</td>\n",
       "      <td>8510.000000</td>\n",
       "      <td>8162.000000</td>\n",
       "      <td>7564.000000</td>\n",
       "      <td>8312.000000</td>\n",
       "      <td>7979.000000</td>\n",
       "    </tr>\n",
       "    <tr>\n",
       "      <th>mean</th>\n",
       "      <td>77.854688</td>\n",
       "      <td>80.797375</td>\n",
       "      <td>323.401488</td>\n",
       "      <td>315.453576</td>\n",
       "      <td>1.609214</td>\n",
       "      <td>1.068266</td>\n",
       "      <td>74.963838</td>\n",
       "      <td>74.212477</td>\n",
       "      <td>74.903249</td>\n",
       "      <td>75.818743</td>\n",
       "      <td>75.889292</td>\n",
       "      <td>74.424379</td>\n",
       "      <td>75.420019</td>\n",
       "      <td>75.259143</td>\n",
       "    </tr>\n",
       "    <tr>\n",
       "      <th>std</th>\n",
       "      <td>52.355225</td>\n",
       "      <td>53.232902</td>\n",
       "      <td>500.825725</td>\n",
       "      <td>490.944273</td>\n",
       "      <td>1.630127</td>\n",
       "      <td>1.263944</td>\n",
       "      <td>8.212242</td>\n",
       "      <td>8.225919</td>\n",
       "      <td>6.003114</td>\n",
       "      <td>6.268416</td>\n",
       "      <td>6.053110</td>\n",
       "      <td>5.937425</td>\n",
       "      <td>6.201906</td>\n",
       "      <td>6.124573</td>\n",
       "    </tr>\n",
       "    <tr>\n",
       "      <th>min</th>\n",
       "      <td>1.000000</td>\n",
       "      <td>1.000000</td>\n",
       "      <td>0.000000</td>\n",
       "      <td>0.000000</td>\n",
       "      <td>0.000000</td>\n",
       "      <td>0.000000</td>\n",
       "      <td>47.000000</td>\n",
       "      <td>47.000000</td>\n",
       "      <td>52.800000</td>\n",
       "      <td>53.300000</td>\n",
       "      <td>54.200000</td>\n",
       "      <td>52.800000</td>\n",
       "      <td>53.300000</td>\n",
       "      <td>54.200000</td>\n",
       "    </tr>\n",
       "    <tr>\n",
       "      <th>25%</th>\n",
       "      <td>33.000000</td>\n",
       "      <td>36.000000</td>\n",
       "      <td>0.000000</td>\n",
       "      <td>0.000000</td>\n",
       "      <td>0.000000</td>\n",
       "      <td>0.000000</td>\n",
       "      <td>70.000000</td>\n",
       "      <td>69.000000</td>\n",
       "      <td>71.000000</td>\n",
       "      <td>71.700000</td>\n",
       "      <td>72.500000</td>\n",
       "      <td>70.500000</td>\n",
       "      <td>71.300000</td>\n",
       "      <td>71.800000</td>\n",
       "    </tr>\n",
       "    <tr>\n",
       "      <th>50%</th>\n",
       "      <td>71.000000</td>\n",
       "      <td>73.000000</td>\n",
       "      <td>0.000000</td>\n",
       "      <td>0.000000</td>\n",
       "      <td>1.000000</td>\n",
       "      <td>1.000000</td>\n",
       "      <td>75.000000</td>\n",
       "      <td>74.000000</td>\n",
       "      <td>75.200000</td>\n",
       "      <td>75.700000</td>\n",
       "      <td>76.200000</td>\n",
       "      <td>74.500000</td>\n",
       "      <td>75.300000</td>\n",
       "      <td>75.500000</td>\n",
       "    </tr>\n",
       "    <tr>\n",
       "      <th>75%</th>\n",
       "      <td>115.000000</td>\n",
       "      <td>119.000000</td>\n",
       "      <td>547.000000</td>\n",
       "      <td>523.000000</td>\n",
       "      <td>2.000000</td>\n",
       "      <td>2.000000</td>\n",
       "      <td>81.000000</td>\n",
       "      <td>80.000000</td>\n",
       "      <td>78.800000</td>\n",
       "      <td>80.000000</td>\n",
       "      <td>79.500000</td>\n",
       "      <td>78.200000</td>\n",
       "      <td>79.700000</td>\n",
       "      <td>79.000000</td>\n",
       "    </tr>\n",
       "    <tr>\n",
       "      <th>max</th>\n",
       "      <td>211.000000</td>\n",
       "      <td>211.000000</td>\n",
       "      <td>2164.000000</td>\n",
       "      <td>2164.000000</td>\n",
       "      <td>31.000000</td>\n",
       "      <td>21.000000</td>\n",
       "      <td>97.000000</td>\n",
       "      <td>97.000000</td>\n",
       "      <td>91.800000</td>\n",
       "      <td>93.000000</td>\n",
       "      <td>93.200000</td>\n",
       "      <td>91.800000</td>\n",
       "      <td>93.000000</td>\n",
       "      <td>93.200000</td>\n",
       "    </tr>\n",
       "  </tbody>\n",
       "</table>\n",
       "</div>"
      ],
      "text/plain": [
       "       home_team_fifa_rank  away_team_fifa_rank  home_team_total_fifa_points  \\\n",
       "count         23921.000000         23921.000000                 23921.000000   \n",
       "mean             77.854688            80.797375                   323.401488   \n",
       "std              52.355225            53.232902                   500.825725   \n",
       "min               1.000000             1.000000                     0.000000   \n",
       "25%              33.000000            36.000000                     0.000000   \n",
       "50%              71.000000            73.000000                     0.000000   \n",
       "75%             115.000000           119.000000                   547.000000   \n",
       "max             211.000000           211.000000                  2164.000000   \n",
       "\n",
       "       away_team_total_fifa_points  home_team_score  away_team_score  \\\n",
       "count                 23921.000000     23921.000000     23921.000000   \n",
       "mean                    315.453576         1.609214         1.068266   \n",
       "std                     490.944273         1.630127         1.263944   \n",
       "min                       0.000000         0.000000         0.000000   \n",
       "25%                       0.000000         0.000000         0.000000   \n",
       "50%                       0.000000         1.000000         1.000000   \n",
       "75%                     523.000000         2.000000         2.000000   \n",
       "max                    2164.000000        31.000000        21.000000   \n",
       "\n",
       "       home_team_goalkeeper_score  away_team_goalkeeper_score  \\\n",
       "count                 8379.000000                 8095.000000   \n",
       "mean                    74.963838                   74.212477   \n",
       "std                      8.212242                    8.225919   \n",
       "min                     47.000000                   47.000000   \n",
       "25%                     70.000000                   69.000000   \n",
       "50%                     75.000000                   74.000000   \n",
       "75%                     81.000000                   80.000000   \n",
       "max                     97.000000                   97.000000   \n",
       "\n",
       "       home_team_mean_defense_score  home_team_mean_offense_score  \\\n",
       "count                   7787.000000                   8510.000000   \n",
       "mean                      74.903249                     75.818743   \n",
       "std                        6.003114                      6.268416   \n",
       "min                       52.800000                     53.300000   \n",
       "25%                       71.000000                     71.700000   \n",
       "50%                       75.200000                     75.700000   \n",
       "75%                       78.800000                     80.000000   \n",
       "max                       91.800000                     93.000000   \n",
       "\n",
       "       home_team_mean_midfield_score  away_team_mean_defense_score  \\\n",
       "count                    8162.000000                   7564.000000   \n",
       "mean                       75.889292                     74.424379   \n",
       "std                         6.053110                      5.937425   \n",
       "min                        54.200000                     52.800000   \n",
       "25%                        72.500000                     70.500000   \n",
       "50%                        76.200000                     74.500000   \n",
       "75%                        79.500000                     78.200000   \n",
       "max                        93.200000                     91.800000   \n",
       "\n",
       "       away_team_mean_offense_score  away_team_mean_midfield_score  \n",
       "count                   8312.000000                    7979.000000  \n",
       "mean                      75.420019                      75.259143  \n",
       "std                        6.201906                       6.124573  \n",
       "min                       53.300000                      54.200000  \n",
       "25%                       71.300000                      71.800000  \n",
       "50%                       75.300000                      75.500000  \n",
       "75%                       79.700000                      79.000000  \n",
       "max                       93.000000                      93.200000  "
      ]
     },
     "execution_count": 9,
     "metadata": {},
     "output_type": "execute_result"
    }
   ],
   "source": [
    "# check basic statistics of continuous variable\n",
    "df.describe(include=['number'])"
   ]
  },
  {
   "cell_type": "code",
   "execution_count": 10,
   "id": "c928579c",
   "metadata": {},
   "outputs": [
    {
     "data": {
      "text/html": [
       "<div>\n",
       "<style scoped>\n",
       "    .dataframe tbody tr th:only-of-type {\n",
       "        vertical-align: middle;\n",
       "    }\n",
       "\n",
       "    .dataframe tbody tr th {\n",
       "        vertical-align: top;\n",
       "    }\n",
       "\n",
       "    .dataframe thead th {\n",
       "        text-align: right;\n",
       "    }\n",
       "</style>\n",
       "<table border=\"1\" class=\"dataframe\">\n",
       "  <thead>\n",
       "    <tr style=\"text-align: right;\">\n",
       "      <th></th>\n",
       "      <th>home_team</th>\n",
       "      <th>away_team</th>\n",
       "      <th>home_team_continent</th>\n",
       "      <th>away_team_continent</th>\n",
       "      <th>tournament</th>\n",
       "      <th>city</th>\n",
       "      <th>country</th>\n",
       "      <th>shoot_out</th>\n",
       "      <th>home_team_result</th>\n",
       "    </tr>\n",
       "  </thead>\n",
       "  <tbody>\n",
       "    <tr>\n",
       "      <th>count</th>\n",
       "      <td>23921</td>\n",
       "      <td>23921</td>\n",
       "      <td>23921</td>\n",
       "      <td>23921</td>\n",
       "      <td>23921</td>\n",
       "      <td>23921</td>\n",
       "      <td>23921</td>\n",
       "      <td>23921</td>\n",
       "      <td>23921</td>\n",
       "    </tr>\n",
       "    <tr>\n",
       "      <th>unique</th>\n",
       "      <td>211</td>\n",
       "      <td>211</td>\n",
       "      <td>6</td>\n",
       "      <td>6</td>\n",
       "      <td>82</td>\n",
       "      <td>1576</td>\n",
       "      <td>217</td>\n",
       "      <td>2</td>\n",
       "      <td>3</td>\n",
       "    </tr>\n",
       "    <tr>\n",
       "      <th>top</th>\n",
       "      <td>Mexico</td>\n",
       "      <td>Zambia</td>\n",
       "      <td>Europe</td>\n",
       "      <td>Europe</td>\n",
       "      <td>Friendly</td>\n",
       "      <td>Doha</td>\n",
       "      <td>USA</td>\n",
       "      <td>No</td>\n",
       "      <td>Win</td>\n",
       "    </tr>\n",
       "    <tr>\n",
       "      <th>freq</th>\n",
       "      <td>316</td>\n",
       "      <td>243</td>\n",
       "      <td>7593</td>\n",
       "      <td>7359</td>\n",
       "      <td>8558</td>\n",
       "      <td>397</td>\n",
       "      <td>1003</td>\n",
       "      <td>23589</td>\n",
       "      <td>11761</td>\n",
       "    </tr>\n",
       "  </tbody>\n",
       "</table>\n",
       "</div>"
      ],
      "text/plain": [
       "       home_team away_team home_team_continent away_team_continent tournament  \\\n",
       "count      23921     23921               23921               23921      23921   \n",
       "unique       211       211                   6                   6         82   \n",
       "top       Mexico    Zambia              Europe              Europe   Friendly   \n",
       "freq         316       243                7593                7359       8558   \n",
       "\n",
       "         city country shoot_out home_team_result  \n",
       "count   23921   23921     23921            23921  \n",
       "unique   1576     217         2                3  \n",
       "top      Doha     USA        No              Win  \n",
       "freq      397    1003     23589            11761  "
      ]
     },
     "execution_count": 10,
     "metadata": {},
     "output_type": "execute_result"
    }
   ],
   "source": [
    "# basic statistics of categorical variable\n",
    "df.describe(include=['object'])"
   ]
  },
  {
   "cell_type": "code",
   "execution_count": 11,
   "id": "c53269ff-831c-4619-abe6-ffcba836eacb",
   "metadata": {},
   "outputs": [
    {
     "data": {
      "text/plain": [
       "home_team              0\n",
       "away_team              0\n",
       "home_team_continent    0\n",
       "away_team_continent    0\n",
       "tournament             0\n",
       "city                   0\n",
       "country                0\n",
       "shoot_out              0\n",
       "home_team_result       0\n",
       "dtype: int64"
      ]
     },
     "execution_count": 11,
     "metadata": {},
     "output_type": "execute_result"
    }
   ],
   "source": [
    "categorical = [var for var in df.columns if df[var].dtype=='O']\n",
    "df[categorical].isnull().sum()"
   ]
  },
  {
   "cell_type": "code",
   "execution_count": 12,
   "id": "8616f692-7cc3-475e-ab00-6d092474006f",
   "metadata": {},
   "outputs": [
    {
     "name": "stdout",
     "output_type": "stream",
     "text": [
      "home_team  contains  211  labels\n",
      "away_team  contains  211  labels\n",
      "home_team_continent  contains  6  labels\n",
      "away_team_continent  contains  6  labels\n",
      "tournament  contains  82  labels\n",
      "city  contains  1576  labels\n",
      "country  contains  217  labels\n",
      "shoot_out  contains  2  labels\n",
      "home_team_result  contains  3  labels\n"
     ]
    }
   ],
   "source": [
    "# check for cardinality in categorical variables - too many unique values not good for prediction\n",
    "for var in categorical:\n",
    "    print(var, ' contains ', len(df[var].unique()), ' labels')"
   ]
  },
  {
   "cell_type": "code",
   "execution_count": 13,
   "id": "85a5d1ac-71f0-4d43-bfc0-ba312bf644a8",
   "metadata": {},
   "outputs": [
    {
     "data": {
      "text/plain": [
       "array(['Win', 'Draw', 'Lose'], dtype=object)"
      ]
     },
     "execution_count": 13,
     "metadata": {},
     "output_type": "execute_result"
    }
   ],
   "source": [
    "# check for target variables\n",
    "df['home_team_result'].unique()"
   ]
  },
  {
   "cell_type": "code",
   "execution_count": 14,
   "id": "74c53a07-4a88-4fa7-ae15-5fc23bc84986",
   "metadata": {},
   "outputs": [
    {
     "data": {
      "text/plain": [
       "Win     11761\n",
       "Lose     6771\n",
       "Draw     5389\n",
       "Name: home_team_result, dtype: int64"
      ]
     },
     "execution_count": 14,
     "metadata": {},
     "output_type": "execute_result"
    }
   ],
   "source": [
    "df.home_team_result.value_counts()"
   ]
  },
  {
   "cell_type": "code",
   "execution_count": 15,
   "id": "8fb6825b-fd6d-4d08-862f-bf2f433e4431",
   "metadata": {},
   "outputs": [
    {
     "data": {
      "image/png": "[encoded data removed]",
      "text/plain": [
       "<Figure size 400x400 with 1 Axes>"
      ]
     },
     "metadata": {},
     "output_type": "display_data"
    }
   ],
   "source": [
    "unique_result = df['home_team_result'].value_counts()\n",
    "\n",
    "# Plot\n",
    "fig, axes = plt.subplots(1, 1, figsize=(4,4))\n",
    "ax =plt.pie(unique_result ,labels = ['Win', 'Lose', 'Draw'], colors=['yellowgreen','lightcoral','lemonchiffon'], autopct='%.0f%%')\n",
    "plt.title('Home Team Match Result', fontsize = 15)\n",
    "plt.get_cmap('jet')\n",
    "plt.show()"
   ]
  },
  {
   "cell_type": "code",
   "execution_count": 16,
   "id": "1a0b6d17",
   "metadata": {},
   "outputs": [
    {
     "name": "stdout",
     "output_type": "stream",
     "text": [
      "The earliest date is 1993-08-08 00:00:00\n",
      "The latest date is 2022-06-14 00:00:00\n"
     ]
    }
   ],
   "source": [
    "# check for data set duration\n",
    "print(f'The earliest date is', df[['date']].min().date)\n",
    "print(f'The latest date is', df[['date']].max().date)"
   ]
  },
  {
   "cell_type": "markdown",
   "id": "790ba1b5-7db1-43ed-adfc-a0da16acf264",
   "metadata": {},
   "source": [
    "**Comment**:\n",
    "international_matches.csv is a interesting data set because the data frame include home team and away team variable. Each entry represents a match, thus we have 2 players per entry/row. We want to see how we can interact with it. It also has a lot of NAs, so we need to take care of that!"
   ]
  },
  {
   "cell_type": "markdown",
   "id": "44c61d53-cf52-4b53-af98-18853738a633",
   "metadata": {
    "jp-MarkdownHeadingCollapsed": true,
    "tags": []
   },
   "source": [
    "### players_22 data set"
   ]
  },
  {
   "cell_type": "code",
   "execution_count": 40,
   "id": "0635774f-b5c6-47dd-8d90-9b3e60c27946",
   "metadata": {},
   "outputs": [
    {
     "data": {
      "text/plain": [
       "(19239, 110)"
      ]
     },
     "execution_count": 40,
     "metadata": {},
     "output_type": "execute_result"
    }
   ],
   "source": [
    "# literally don't know how can I use it, full of abbr.\n",
    "players_22 = pd.read_csv('./data/players_22.csv')\n",
    "players_22.shape"
   ]
  },
  {
   "cell_type": "code",
   "execution_count": 41,
   "id": "2e8dbc2c-aed1-47dd-9e61-aee6e53dc862",
   "metadata": {},
   "outputs": [
    {
     "name": "stdout",
     "output_type": "stream",
     "text": [
      "<class 'pandas.core.frame.DataFrame'>\n",
      "RangeIndex: 19239 entries, 0 to 19238\n",
      "Data columns (total 10 columns):\n",
      " #   Column            Non-Null Count  Dtype  \n",
      "---  ------            --------------  -----  \n",
      " 0   short_name        19239 non-null  object \n",
      " 1   long_name         19239 non-null  object \n",
      " 2   age               19239 non-null  int64  \n",
      " 3   nationality_name  19239 non-null  object \n",
      " 4   overall           19239 non-null  int64  \n",
      " 5   potential         19239 non-null  int64  \n",
      " 6   club_name         19178 non-null  object \n",
      " 7   value_eur         19165 non-null  float64\n",
      " 8   wage_eur          19178 non-null  float64\n",
      " 9   player_positions  19239 non-null  object \n",
      "dtypes: float64(2), int64(3), object(5)\n",
      "memory usage: 1.5+ MB\n"
     ]
    }
   ],
   "source": [
    "interested_columns = ['short_name', 'long_name', 'age', 'nationality_name', 'overall', \n",
    "                      'potential', 'club_name', 'value_eur', 'wage_eur', 'player_positions']\n",
    "players_22 = pd.DataFrame(players_22, columns=interested_columns)\n",
    "players_22.info()"
   ]
  },
  {
   "cell_type": "code",
   "execution_count": 42,
   "id": "0a5c20a8-f998-4b6e-a7f1-c359e6e63084",
   "metadata": {},
   "outputs": [
    {
     "data": {
      "text/plain": [
       "short_name           0\n",
       "long_name            0\n",
       "age                  0\n",
       "nationality_name     0\n",
       "overall              0\n",
       "potential            0\n",
       "club_name           61\n",
       "value_eur           74\n",
       "wage_eur            61\n",
       "player_positions     0\n",
       "dtype: int64"
      ]
     },
     "execution_count": 42,
     "metadata": {},
     "output_type": "execute_result"
    }
   ],
   "source": [
    "players_22.isnull().sum()"
   ]
  },
  {
   "cell_type": "code",
   "execution_count": 45,
   "id": "94389584-727e-4a8c-978e-3b8ceb8b290a",
   "metadata": {},
   "outputs": [
    {
     "data": {
      "text/html": [
       "<div>\n",
       "<style scoped>\n",
       "    .dataframe tbody tr th:only-of-type {\n",
       "        vertical-align: middle;\n",
       "    }\n",
       "\n",
       "    .dataframe tbody tr th {\n",
       "        vertical-align: top;\n",
       "    }\n",
       "\n",
       "    .dataframe thead th {\n",
       "        text-align: right;\n",
       "    }\n",
       "</style>\n",
       "<table border=\"1\" class=\"dataframe\">\n",
       "  <thead>\n",
       "    <tr style=\"text-align: right;\">\n",
       "      <th></th>\n",
       "      <th>short_name</th>\n",
       "      <th>long_name</th>\n",
       "      <th>age</th>\n",
       "      <th>nationality_name</th>\n",
       "      <th>overall</th>\n",
       "      <th>potential</th>\n",
       "      <th>club_name</th>\n",
       "      <th>value_eur</th>\n",
       "      <th>wage_eur</th>\n",
       "      <th>player_positions</th>\n",
       "    </tr>\n",
       "  </thead>\n",
       "  <tbody>\n",
       "    <tr>\n",
       "      <th>count</th>\n",
       "      <td>19239</td>\n",
       "      <td>19239</td>\n",
       "      <td>19239.000000</td>\n",
       "      <td>19239</td>\n",
       "      <td>19239.000000</td>\n",
       "      <td>19239.000000</td>\n",
       "      <td>19178</td>\n",
       "      <td>1.916500e+04</td>\n",
       "      <td>19178.000000</td>\n",
       "      <td>19239</td>\n",
       "    </tr>\n",
       "    <tr>\n",
       "      <th>unique</th>\n",
       "      <td>18145</td>\n",
       "      <td>19219</td>\n",
       "      <td>NaN</td>\n",
       "      <td>163</td>\n",
       "      <td>NaN</td>\n",
       "      <td>NaN</td>\n",
       "      <td>701</td>\n",
       "      <td>NaN</td>\n",
       "      <td>NaN</td>\n",
       "      <td>674</td>\n",
       "    </tr>\n",
       "    <tr>\n",
       "      <th>top</th>\n",
       "      <td>J. Rodríguez</td>\n",
       "      <td>Ladislav Krejčí</td>\n",
       "      <td>NaN</td>\n",
       "      <td>England</td>\n",
       "      <td>NaN</td>\n",
       "      <td>NaN</td>\n",
       "      <td>Paris Saint-Germain</td>\n",
       "      <td>NaN</td>\n",
       "      <td>NaN</td>\n",
       "      <td>CB</td>\n",
       "    </tr>\n",
       "    <tr>\n",
       "      <th>freq</th>\n",
       "      <td>13</td>\n",
       "      <td>2</td>\n",
       "      <td>NaN</td>\n",
       "      <td>1719</td>\n",
       "      <td>NaN</td>\n",
       "      <td>NaN</td>\n",
       "      <td>33</td>\n",
       "      <td>NaN</td>\n",
       "      <td>NaN</td>\n",
       "      <td>2423</td>\n",
       "    </tr>\n",
       "    <tr>\n",
       "      <th>mean</th>\n",
       "      <td>NaN</td>\n",
       "      <td>NaN</td>\n",
       "      <td>25.210822</td>\n",
       "      <td>NaN</td>\n",
       "      <td>65.772182</td>\n",
       "      <td>71.079370</td>\n",
       "      <td>NaN</td>\n",
       "      <td>2.850452e+06</td>\n",
       "      <td>9017.989363</td>\n",
       "      <td>NaN</td>\n",
       "    </tr>\n",
       "    <tr>\n",
       "      <th>std</th>\n",
       "      <td>NaN</td>\n",
       "      <td>NaN</td>\n",
       "      <td>4.748235</td>\n",
       "      <td>NaN</td>\n",
       "      <td>6.880232</td>\n",
       "      <td>6.086213</td>\n",
       "      <td>NaN</td>\n",
       "      <td>7.613700e+06</td>\n",
       "      <td>19470.176724</td>\n",
       "      <td>NaN</td>\n",
       "    </tr>\n",
       "    <tr>\n",
       "      <th>min</th>\n",
       "      <td>NaN</td>\n",
       "      <td>NaN</td>\n",
       "      <td>16.000000</td>\n",
       "      <td>NaN</td>\n",
       "      <td>47.000000</td>\n",
       "      <td>49.000000</td>\n",
       "      <td>NaN</td>\n",
       "      <td>9.000000e+03</td>\n",
       "      <td>500.000000</td>\n",
       "      <td>NaN</td>\n",
       "    </tr>\n",
       "    <tr>\n",
       "      <th>25%</th>\n",
       "      <td>NaN</td>\n",
       "      <td>NaN</td>\n",
       "      <td>21.000000</td>\n",
       "      <td>NaN</td>\n",
       "      <td>61.000000</td>\n",
       "      <td>67.000000</td>\n",
       "      <td>NaN</td>\n",
       "      <td>4.750000e+05</td>\n",
       "      <td>1000.000000</td>\n",
       "      <td>NaN</td>\n",
       "    </tr>\n",
       "    <tr>\n",
       "      <th>50%</th>\n",
       "      <td>NaN</td>\n",
       "      <td>NaN</td>\n",
       "      <td>25.000000</td>\n",
       "      <td>NaN</td>\n",
       "      <td>66.000000</td>\n",
       "      <td>71.000000</td>\n",
       "      <td>NaN</td>\n",
       "      <td>9.750000e+05</td>\n",
       "      <td>3000.000000</td>\n",
       "      <td>NaN</td>\n",
       "    </tr>\n",
       "    <tr>\n",
       "      <th>75%</th>\n",
       "      <td>NaN</td>\n",
       "      <td>NaN</td>\n",
       "      <td>29.000000</td>\n",
       "      <td>NaN</td>\n",
       "      <td>70.000000</td>\n",
       "      <td>75.000000</td>\n",
       "      <td>NaN</td>\n",
       "      <td>2.000000e+06</td>\n",
       "      <td>8000.000000</td>\n",
       "      <td>NaN</td>\n",
       "    </tr>\n",
       "    <tr>\n",
       "      <th>max</th>\n",
       "      <td>NaN</td>\n",
       "      <td>NaN</td>\n",
       "      <td>54.000000</td>\n",
       "      <td>NaN</td>\n",
       "      <td>93.000000</td>\n",
       "      <td>95.000000</td>\n",
       "      <td>NaN</td>\n",
       "      <td>1.940000e+08</td>\n",
       "      <td>350000.000000</td>\n",
       "      <td>NaN</td>\n",
       "    </tr>\n",
       "  </tbody>\n",
       "</table>\n",
       "</div>"
      ],
      "text/plain": [
       "          short_name        long_name           age nationality_name  \\\n",
       "count          19239            19239  19239.000000            19239   \n",
       "unique         18145            19219           NaN              163   \n",
       "top     J. Rodríguez  Ladislav Krejčí           NaN          England   \n",
       "freq              13                2           NaN             1719   \n",
       "mean             NaN              NaN     25.210822              NaN   \n",
       "std              NaN              NaN      4.748235              NaN   \n",
       "min              NaN              NaN     16.000000              NaN   \n",
       "25%              NaN              NaN     21.000000              NaN   \n",
       "50%              NaN              NaN     25.000000              NaN   \n",
       "75%              NaN              NaN     29.000000              NaN   \n",
       "max              NaN              NaN     54.000000              NaN   \n",
       "\n",
       "             overall     potential            club_name     value_eur  \\\n",
       "count   19239.000000  19239.000000                19178  1.916500e+04   \n",
       "unique           NaN           NaN                  701           NaN   \n",
       "top              NaN           NaN  Paris Saint-Germain           NaN   \n",
       "freq             NaN           NaN                   33           NaN   \n",
       "mean       65.772182     71.079370                  NaN  2.850452e+06   \n",
       "std         6.880232      6.086213                  NaN  7.613700e+06   \n",
       "min        47.000000     49.000000                  NaN  9.000000e+03   \n",
       "25%        61.000000     67.000000                  NaN  4.750000e+05   \n",
       "50%        66.000000     71.000000                  NaN  9.750000e+05   \n",
       "75%        70.000000     75.000000                  NaN  2.000000e+06   \n",
       "max        93.000000     95.000000                  NaN  1.940000e+08   \n",
       "\n",
       "             wage_eur player_positions  \n",
       "count    19178.000000            19239  \n",
       "unique            NaN              674  \n",
       "top               NaN               CB  \n",
       "freq              NaN             2423  \n",
       "mean      9017.989363              NaN  \n",
       "std      19470.176724              NaN  \n",
       "min        500.000000              NaN  \n",
       "25%       1000.000000              NaN  \n",
       "50%       3000.000000              NaN  \n",
       "75%       8000.000000              NaN  \n",
       "max     350000.000000              NaN  "
      ]
     },
     "execution_count": 45,
     "metadata": {},
     "output_type": "execute_result"
    }
   ],
   "source": [
    "# check for player stat, both numeric and categorical\n",
    "players_22.describe(include='all')"
   ]
  },
  {
   "cell_type": "code",
   "execution_count": 55,
   "id": "c011aea4-1ded-43c2-926d-eae1da0bc70e",
   "metadata": {
    "collapsed": true,
    "jupyter": {
     "outputs_hidden": true
    },
    "tags": []
   },
   "outputs": [
    {
     "data": {
      "text/html": [
       "<div>\n",
       "<style scoped>\n",
       "    .dataframe tbody tr th:only-of-type {\n",
       "        vertical-align: middle;\n",
       "    }\n",
       "\n",
       "    .dataframe tbody tr th {\n",
       "        vertical-align: top;\n",
       "    }\n",
       "\n",
       "    .dataframe thead th {\n",
       "        text-align: right;\n",
       "    }\n",
       "</style>\n",
       "<table border=\"1\" class=\"dataframe\">\n",
       "  <thead>\n",
       "    <tr style=\"text-align: right;\">\n",
       "      <th></th>\n",
       "      <th>short_name</th>\n",
       "      <th>long_name</th>\n",
       "      <th>age</th>\n",
       "      <th>nationality_name</th>\n",
       "      <th>overall</th>\n",
       "      <th>potential</th>\n",
       "      <th>club_name</th>\n",
       "      <th>value_eur</th>\n",
       "      <th>wage_eur</th>\n",
       "      <th>player_positions</th>\n",
       "    </tr>\n",
       "  </thead>\n",
       "  <tbody>\n",
       "    <tr>\n",
       "      <th>310</th>\n",
       "      <td>J. Rodríguez</td>\n",
       "      <td>James David Rodríguez Rubio</td>\n",
       "      <td>29</td>\n",
       "      <td>Colombia</td>\n",
       "      <td>81</td>\n",
       "      <td>81</td>\n",
       "      <td>Everton</td>\n",
       "      <td>25500000.0</td>\n",
       "      <td>105000.0</td>\n",
       "      <td>RW, CAM, CM</td>\n",
       "    </tr>\n",
       "    <tr>\n",
       "      <th>467</th>\n",
       "      <td>J. Rodríguez</td>\n",
       "      <td>Jonathan Javier Rodríguez Portillo</td>\n",
       "      <td>27</td>\n",
       "      <td>Uruguay</td>\n",
       "      <td>80</td>\n",
       "      <td>80</td>\n",
       "      <td>Cruz Azul</td>\n",
       "      <td>23000000.0</td>\n",
       "      <td>79000.0</td>\n",
       "      <td>ST, LW</td>\n",
       "    </tr>\n",
       "    <tr>\n",
       "      <th>1775</th>\n",
       "      <td>J. Rodríguez</td>\n",
       "      <td>Jorge Agustín Rodríguez</td>\n",
       "      <td>25</td>\n",
       "      <td>Argentina</td>\n",
       "      <td>75</td>\n",
       "      <td>80</td>\n",
       "      <td>Estudiantes de La Plata</td>\n",
       "      <td>7500000.0</td>\n",
       "      <td>12000.0</td>\n",
       "      <td>CDM, CM</td>\n",
       "    </tr>\n",
       "    <tr>\n",
       "      <th>2971</th>\n",
       "      <td>J. Rodríguez</td>\n",
       "      <td>José Iván Rodríguez Rebollar</td>\n",
       "      <td>25</td>\n",
       "      <td>Mexico</td>\n",
       "      <td>73</td>\n",
       "      <td>79</td>\n",
       "      <td>Club León</td>\n",
       "      <td>4300000.0</td>\n",
       "      <td>17000.0</td>\n",
       "      <td>CDM</td>\n",
       "    </tr>\n",
       "    <tr>\n",
       "      <th>3031</th>\n",
       "      <td>J. Rodríguez</td>\n",
       "      <td>Juan Gabriel Rodríguez</td>\n",
       "      <td>27</td>\n",
       "      <td>Argentina</td>\n",
       "      <td>73</td>\n",
       "      <td>74</td>\n",
       "      <td>Defensa y Justicia</td>\n",
       "      <td>3100000.0</td>\n",
       "      <td>12000.0</td>\n",
       "      <td>CB</td>\n",
       "    </tr>\n",
       "    <tr>\n",
       "      <th>4688</th>\n",
       "      <td>J. Rodríguez</td>\n",
       "      <td>José Antonio Rodríguez Romero</td>\n",
       "      <td>28</td>\n",
       "      <td>Mexico</td>\n",
       "      <td>70</td>\n",
       "      <td>72</td>\n",
       "      <td>Club Deportivo Guadalajara</td>\n",
       "      <td>1400000.0</td>\n",
       "      <td>19000.0</td>\n",
       "      <td>GK</td>\n",
       "    </tr>\n",
       "    <tr>\n",
       "      <th>4892</th>\n",
       "      <td>J. Rodríguez</td>\n",
       "      <td>Juan David Rodríguez Rico</td>\n",
       "      <td>28</td>\n",
       "      <td>Colombia</td>\n",
       "      <td>70</td>\n",
       "      <td>70</td>\n",
       "      <td>Junior FC</td>\n",
       "      <td>1600000.0</td>\n",
       "      <td>2000.0</td>\n",
       "      <td>CM</td>\n",
       "    </tr>\n",
       "    <tr>\n",
       "      <th>8419</th>\n",
       "      <td>J. Rodríguez</td>\n",
       "      <td>Jonathan Emanuel Rodríguez</td>\n",
       "      <td>31</td>\n",
       "      <td>Argentina</td>\n",
       "      <td>67</td>\n",
       "      <td>67</td>\n",
       "      <td>CFR Cluj</td>\n",
       "      <td>725000.0</td>\n",
       "      <td>6000.0</td>\n",
       "      <td>CDM, CM</td>\n",
       "    </tr>\n",
       "    <tr>\n",
       "      <th>10420</th>\n",
       "      <td>J. Rodríguez</td>\n",
       "      <td>José Luis Rodríguez Francis</td>\n",
       "      <td>23</td>\n",
       "      <td>Panama</td>\n",
       "      <td>65</td>\n",
       "      <td>74</td>\n",
       "      <td>Real Sporting de Gijón</td>\n",
       "      <td>1600000.0</td>\n",
       "      <td>5000.0</td>\n",
       "      <td>LM</td>\n",
       "    </tr>\n",
       "    <tr>\n",
       "      <th>11348</th>\n",
       "      <td>J. Rodríguez</td>\n",
       "      <td>Jhoao Leandro Rodríguez González</td>\n",
       "      <td>25</td>\n",
       "      <td>Colombia</td>\n",
       "      <td>64</td>\n",
       "      <td>67</td>\n",
       "      <td>América de Cali</td>\n",
       "      <td>775000.0</td>\n",
       "      <td>1000.0</td>\n",
       "      <td>LM, ST</td>\n",
       "    </tr>\n",
       "    <tr>\n",
       "      <th>11978</th>\n",
       "      <td>J. Rodríguez</td>\n",
       "      <td>Jerónimo Rodríguez Guemes</td>\n",
       "      <td>22</td>\n",
       "      <td>Mexico</td>\n",
       "      <td>64</td>\n",
       "      <td>73</td>\n",
       "      <td>Club Universidad Nacional</td>\n",
       "      <td>1300000.0</td>\n",
       "      <td>3000.0</td>\n",
       "      <td>LB, LM</td>\n",
       "    </tr>\n",
       "    <tr>\n",
       "      <th>14084</th>\n",
       "      <td>J. Rodríguez</td>\n",
       "      <td>Jackson Gabriel Rodríguez Perlaza</td>\n",
       "      <td>22</td>\n",
       "      <td>Ecuador</td>\n",
       "      <td>62</td>\n",
       "      <td>69</td>\n",
       "      <td>CS Emelec</td>\n",
       "      <td>775000.0</td>\n",
       "      <td>500.0</td>\n",
       "      <td>LB, LM</td>\n",
       "    </tr>\n",
       "    <tr>\n",
       "      <th>15751</th>\n",
       "      <td>J. Rodríguez</td>\n",
       "      <td>Jorge Alejandro Rodríguez Hernández</td>\n",
       "      <td>19</td>\n",
       "      <td>Mexico</td>\n",
       "      <td>60</td>\n",
       "      <td>70</td>\n",
       "      <td>Deportivo Toluca</td>\n",
       "      <td>500000.0</td>\n",
       "      <td>2000.0</td>\n",
       "      <td>LB</td>\n",
       "    </tr>\n",
       "  </tbody>\n",
       "</table>\n",
       "</div>"
      ],
      "text/plain": [
       "         short_name                            long_name  age  \\\n",
       "310    J. Rodríguez          James David Rodríguez Rubio   29   \n",
       "467    J. Rodríguez   Jonathan Javier Rodríguez Portillo   27   \n",
       "1775   J. Rodríguez              Jorge Agustín Rodríguez   25   \n",
       "2971   J. Rodríguez         José Iván Rodríguez Rebollar   25   \n",
       "3031   J. Rodríguez               Juan Gabriel Rodríguez   27   \n",
       "4688   J. Rodríguez        José Antonio Rodríguez Romero   28   \n",
       "4892   J. Rodríguez            Juan David Rodríguez Rico   28   \n",
       "8419   J. Rodríguez           Jonathan Emanuel Rodríguez   31   \n",
       "10420  J. Rodríguez          José Luis Rodríguez Francis   23   \n",
       "11348  J. Rodríguez     Jhoao Leandro Rodríguez González   25   \n",
       "11978  J. Rodríguez            Jerónimo Rodríguez Guemes   22   \n",
       "14084  J. Rodríguez    Jackson Gabriel Rodríguez Perlaza   22   \n",
       "15751  J. Rodríguez  Jorge Alejandro Rodríguez Hernández   19   \n",
       "\n",
       "      nationality_name  overall  potential                   club_name  \\\n",
       "310           Colombia       81         81                     Everton   \n",
       "467            Uruguay       80         80                   Cruz Azul   \n",
       "1775         Argentina       75         80     Estudiantes de La Plata   \n",
       "2971            Mexico       73         79                   Club León   \n",
       "3031         Argentina       73         74          Defensa y Justicia   \n",
       "4688            Mexico       70         72  Club Deportivo Guadalajara   \n",
       "4892          Colombia       70         70                   Junior FC   \n",
       "8419         Argentina       67         67                    CFR Cluj   \n",
       "10420           Panama       65         74      Real Sporting de Gijón   \n",
       "11348         Colombia       64         67             América de Cali   \n",
       "11978           Mexico       64         73   Club Universidad Nacional   \n",
       "14084          Ecuador       62         69                   CS Emelec   \n",
       "15751           Mexico       60         70            Deportivo Toluca   \n",
       "\n",
       "        value_eur  wage_eur player_positions  \n",
       "310    25500000.0  105000.0      RW, CAM, CM  \n",
       "467    23000000.0   79000.0           ST, LW  \n",
       "1775    7500000.0   12000.0          CDM, CM  \n",
       "2971    4300000.0   17000.0              CDM  \n",
       "3031    3100000.0   12000.0               CB  \n",
       "4688    1400000.0   19000.0               GK  \n",
       "4892    1600000.0    2000.0               CM  \n",
       "8419     725000.0    6000.0          CDM, CM  \n",
       "10420   1600000.0    5000.0               LM  \n",
       "11348    775000.0    1000.0           LM, ST  \n",
       "11978   1300000.0    3000.0           LB, LM  \n",
       "14084    775000.0     500.0           LB, LM  \n",
       "15751    500000.0    2000.0               LB  "
      ]
     },
     "execution_count": 55,
     "metadata": {},
     "output_type": "execute_result"
    }
   ],
   "source": [
    "#okay I don't think there is duplicate\n",
    "string = 'J. Rodríguez'\n",
    "players_22.loc[players_22['short_name'] == string]"
   ]
  },
  {
   "cell_type": "markdown",
   "id": "3a2717f8-dcc2-47f3-8a70-8c9f34b7640c",
   "metadata": {
    "jp-MarkdownHeadingCollapsed": true,
    "tags": []
   },
   "source": [
    "### Preprocessing"
   ]
  },
  {
   "cell_type": "code",
   "execution_count": 43,
   "id": "ef72024d-f88d-4e67-9dd0-a69ada812605",
   "metadata": {},
   "outputs": [],
   "source": [
    "# extract rows contain 2022 World Cup participant teams\n",
    "list_2022 = ['Qatar', 'Germany', 'Denmark', 'Brazil', 'France', 'Belgium', 'Croatia', 'Spain', \n",
    "             'Serbia', 'England', 'Switzerland', 'Netherlands', 'Argentina', 'IR Iran', \n",
    "             'Korea Republic', 'Japan', 'Saudi Arabia', 'Ecuador', 'Uruguay', 'Canada', 'Ghana', \n",
    "             'Senegal', 'Portugal', 'Poland', 'Tunisia', 'Morocco', 'Cameroon', 'USA', 'Mexico', \n",
    "             'Wales', 'Australia', 'Costa Rica']\n",
    "final_df = df[(df[\"home_team\"].apply(lambda x: x in list_2022)) | (df[\"away_team\"].apply(lambda x: x in list_2022))]"
   ]
  },
  {
   "cell_type": "code",
   "execution_count": 44,
   "id": "da637ee8-0c45-4de0-a7f4-51fe4ec0fa22",
   "metadata": {
    "tags": []
   },
   "outputs": [],
   "source": [
    "#Dropping unnecessary colums\n",
    "final_df = final_df.drop(['date', 'home_team_continent', 'away_team_continent', \n",
    "                          'home_team_total_fifa_points', 'away_team_total_fifa_points', \n",
    "                          'home_team_score', 'away_team_score', 'tournament', 'city', 'country', \n",
    "                          'neutral_location', 'shoot_out'],axis=1)"
   ]
  },
  {
   "cell_type": "code",
   "execution_count": 45,
   "id": "c9c02040-ec46-4bc3-8e1c-e81c2704257c",
   "metadata": {},
   "outputs": [],
   "source": [
    "# Change column names\n",
    "final_df.rename(columns={\"home_team\":\"Team1\", \"away_team\":\"Team2\", \n",
    "                         \"home_team_fifa_rank\":\"Team1_FIFA_RANK\", \n",
    "                         \"away_team_fifa_rank\":\"Team2_FIFA_RANK\", \n",
    "                         \"home_team_result\":\"Team1_Result\", \n",
    "                         \"home_team_goalkeeper_score\":\"Team1_Goalkeeper\",\n",
    "                        \"away_team_goalkeeper_score\":\"Team2_Goalkeeper\", \n",
    "                         \"home_team_mean_defense_score\":\"Team1_Defense\",\n",
    "                        \"home_team_mean_offense_score\":\"Team1_Offense\", \n",
    "                         \"home_team_mean_midfield_score\":\"Team1_Midfield\",\n",
    "                        \"away_team_mean_defense_score\":\"Team2_Defense\", \n",
    "                         \"away_team_mean_offense_score\":\"Team2_Offense\",\n",
    "                        \"away_team_mean_midfield_score\":\"Team2_Midfield\"}, inplace=True)"
   ]
  },
  {
   "cell_type": "code",
   "execution_count": 46,
   "id": "c5c6387a-df14-4e44-a5e1-eb7957adf552",
   "metadata": {},
   "outputs": [],
   "source": [
    "final_df = final_df.reset_index()"
   ]
  },
  {
   "cell_type": "code",
   "execution_count": 47,
   "id": "3fadbd7e-ca95-4004-aebd-d1bfe383502f",
   "metadata": {},
   "outputs": [],
   "source": [
    "final_df = final_df.drop(['index'],axis=1)"
   ]
  },
  {
   "cell_type": "code",
   "execution_count": 48,
   "id": "f4046e32-fd49-4f0a-8090-9096446e5184",
   "metadata": {},
   "outputs": [
    {
     "data": {
      "text/plain": [
       "(9321, 13)"
      ]
     },
     "execution_count": 48,
     "metadata": {},
     "output_type": "execute_result"
    }
   ],
   "source": [
    "final_df.shape"
   ]
  },
  {
   "cell_type": "code",
   "execution_count": 49,
   "id": "3c318a0f-5240-44f4-a366-c2eb2d07ec33",
   "metadata": {},
   "outputs": [
    {
     "data": {
      "text/plain": [
       "Team1                  0\n",
       "Team2                  0\n",
       "Team1_FIFA_RANK        0\n",
       "Team2_FIFA_RANK        0\n",
       "Team1_Result           0\n",
       "Team1_Goalkeeper    4674\n",
       "Team2_Goalkeeper    4794\n",
       "Team1_Defense       4745\n",
       "Team1_Offense       4561\n",
       "Team1_Midfield      4623\n",
       "Team2_Defense       4853\n",
       "Team2_Offense       4657\n",
       "Team2_Midfield      4733\n",
       "dtype: int64"
      ]
     },
     "execution_count": 49,
     "metadata": {},
     "output_type": "execute_result"
    }
   ],
   "source": [
    "# check for null\n",
    "final_df.isnull().sum()"
   ]
  },
  {
   "cell_type": "code",
   "execution_count": 34,
   "id": "3a712a1a-73b1-458a-ab56-681ad9b3ecb7",
   "metadata": {},
   "outputs": [
    {
     "name": "stdout",
     "output_type": "stream",
     "text": [
      "<class 'pandas.core.frame.DataFrame'>\n",
      "RangeIndex: 9321 entries, 0 to 9320\n",
      "Data columns (total 13 columns):\n",
      " #   Column            Non-Null Count  Dtype  \n",
      "---  ------            --------------  -----  \n",
      " 0   Team1             9321 non-null   object \n",
      " 1   Team2             9321 non-null   object \n",
      " 2   Team1_FIFA_RANK   9321 non-null   int64  \n",
      " 3   Team2_FIFA_RANK   9321 non-null   int64  \n",
      " 4   Team1_Result      9321 non-null   object \n",
      " 5   Team1_Goalkeeper  4647 non-null   float64\n",
      " 6   Team2_Goalkeeper  4527 non-null   float64\n",
      " 7   Team1_Defense     4576 non-null   float64\n",
      " 8   Team1_Offense     4760 non-null   float64\n",
      " 9   Team1_Midfield    4698 non-null   float64\n",
      " 10  Team2_Defense     4468 non-null   float64\n",
      " 11  Team2_Offense     4664 non-null   float64\n",
      " 12  Team2_Midfield    4588 non-null   float64\n",
      "dtypes: float64(8), int64(2), object(3)\n",
      "memory usage: 946.8+ KB\n"
     ]
    }
   ],
   "source": [
    "final_df.info()"
   ]
  },
  {
   "cell_type": "code",
   "execution_count": 13,
   "id": "44dadd32-042e-4516-bf1e-2755d11962d2",
   "metadata": {},
   "outputs": [
    {
     "data": {
      "text/plain": [
       "<AxesSubplot:>"
      ]
     },
     "execution_count": 13,
     "metadata": {},
     "output_type": "execute_result"
    },
    {
     "data": {
      "image/png": "[encoded data removed]",
      "text/plain": [
       "<Figure size 2000x800 with 2 Axes>"
      ]
     },
     "metadata": {},
     "output_type": "display_data"
    }
   ],
   "source": [
    "# plot heatmape to see correlation\n",
    "plt.figure(figsize=(10, 4), dpi=200)\n",
    "sns.heatmap(final_df.corr(), cmap=\"Greens\", annot=True)"
   ]
  },
  {
   "cell_type": "code",
   "execution_count": 14,
   "id": "d118124c-e6cd-4d67-8a88-1a76ed8f5c46",
   "metadata": {},
   "outputs": [
    {
     "data": {
      "image/png": "[encoded data removed]",
      "text/plain": [
       "<Figure size 800x800 with 12 Axes>"
      ]
     },
     "metadata": {},
     "output_type": "display_data"
    }
   ],
   "source": [
    "# check for variable distribution\n",
    "_=final_df[final_df.columns].hist(bins = 50, figsize = (8,8), color = 'green')"
   ]
  },
  {
   "cell_type": "markdown",
   "id": "d91626ee-c3dd-4011-9951-870e4280c5b6",
   "metadata": {},
   "source": [
    "### Take care of the null value"
   ]
  },
  {
   "cell_type": "code",
   "execution_count": 50,
   "id": "97ffd52a-25a5-44a6-ad1f-5ec42aa06096",
   "metadata": {
    "tags": []
   },
   "outputs": [
    {
     "data": {
      "text/plain": [
       "array([[<AxesSubplot:title={'center':'Null'}>]], dtype=object)"
      ]
     },
     "execution_count": 50,
     "metadata": {},
     "output_type": "execute_result"
    },
    {
     "data": {
      "image/png": "[encoded data removed]",
      "text/plain": [
       "<Figure size 400x300 with 1 Axes>"
      ]
     },
     "metadata": {},
     "output_type": "display_data"
    }
   ],
   "source": [
    "# see how null value distribute across rows for final_df\n",
    "null_dist = final_df.isnull().sum(axis=1).tolist()\n",
    "null_dist = pd.DataFrame(null_dist, columns = ['Null'])\n",
    "null_dist.hist(figsize = (4,3), color = 'green')"
   ]
  },
  {
   "cell_type": "code",
   "execution_count": 51,
   "id": "6ed8d535-021b-42b6-94e0-73816ff76da8",
   "metadata": {},
   "outputs": [
    {
     "data": {
      "text/plain": [
       "9321"
      ]
     },
     "execution_count": 51,
     "metadata": {},
     "output_type": "execute_result"
    }
   ],
   "source": [
    "# the length of null_dist is the same as & generated from final_df, so index should be the same too\n",
    "null_dist['Null'].count()"
   ]
  },
  {
   "cell_type": "code",
   "execution_count": 52,
   "id": "d4827ade-0d9d-447d-9fbd-378a151ea93e",
   "metadata": {},
   "outputs": [
    {
     "data": {
      "text/plain": [
       "Int64Index([   0,    1,    2,    3,    4,    5,    6,    7,    8,    9,\n",
       "            ...\n",
       "            9109, 9110, 9113, 9114, 9118, 9122, 9127, 9140, 9249, 9266],\n",
       "           dtype='int64', length=3925)"
      ]
     },
     "execution_count": 52,
     "metadata": {},
     "output_type": "execute_result"
    }
   ],
   "source": [
    "null_dist[(null_dist['Null'] > 4)].index #3925 rows have more than 4 NAs"
   ]
  },
  {
   "cell_type": "code",
   "execution_count": 53,
   "id": "b410295c-9391-47b9-af50-57f05cf75700",
   "metadata": {
    "tags": []
   },
   "outputs": [
    {
     "data": {
      "text/plain": [
       "(5396, 13)"
      ]
     },
     "execution_count": 53,
     "metadata": {},
     "output_type": "execute_result"
    }
   ],
   "source": [
    "# drop rows with more than 4 NAs\n",
    "new_df = final_df.drop(null_dist[(null_dist['Null'] > 4)].index, inplace = False )\n",
    "new_df = new_df.reset_index().drop(['index'],axis=1)\n",
    "new_df.shape"
   ]
  },
  {
   "cell_type": "code",
   "execution_count": 54,
   "id": "b0d68f94-6e8b-4e58-9475-52ccb808bc20",
   "metadata": {},
   "outputs": [
    {
     "data": {
      "text/plain": [
       "array([[<AxesSubplot:title={'center':'Null'}>]], dtype=object)"
      ]
     },
     "execution_count": 54,
     "metadata": {},
     "output_type": "execute_result"
    },
    {
     "data": {
      "image/png": "[encoded data removed]",
      "text/plain": [
       "<Figure size 400x300 with 1 Axes>"
      ]
     },
     "metadata": {},
     "output_type": "display_data"
    }
   ],
   "source": [
    "# check the distribution of NAs now, much better I think\n",
    "new_null_dist = new_df.isnull().sum(axis=1).tolist()\n",
    "new_null_dist = pd.DataFrame(new_null_dist, columns = ['Null'])\n",
    "new_null_dist.hist(figsize = (4,3),color = 'green')"
   ]
  },
  {
   "cell_type": "raw",
   "id": "60598d17-a067-4521-aee4-7ed677d0c415",
   "metadata": {},
   "source": [
    "# compute for those with 1,2,3 NAs using Interpolate linearly across the column\n",
    "new_df = new_df.interpolate(method ='linear', limit_direction ='forward', inplace=False)\n",
    "\n",
    "#1 NA remain, so we change the direction and compute again\n",
    "new_df = new_df.interpolate(method ='linear', limit_direction ='backward', inplace=False)\n",
    "new_df.isnull().sum()# no NAs!"
   ]
  },
  {
   "cell_type": "code",
   "execution_count": 55,
   "id": "5fe033aa-3121-4772-a637-e8e0780d5bcb",
   "metadata": {},
   "outputs": [
    {
     "data": {
      "text/plain": [
       "Team1               0\n",
       "Team2               0\n",
       "Team1_FIFA_RANK     0\n",
       "Team2_FIFA_RANK     0\n",
       "Team1_Result        0\n",
       "Team1_Goalkeeper    0\n",
       "Team2_Goalkeeper    0\n",
       "Team1_Defense       0\n",
       "Team1_Offense       0\n",
       "Team1_Midfield      0\n",
       "Team2_Defense       0\n",
       "Team2_Offense       0\n",
       "Team2_Midfield      0\n",
       "dtype: int64"
      ]
     },
     "execution_count": 55,
     "metadata": {},
     "output_type": "execute_result"
    }
   ],
   "source": [
    "# compute the mean value for each column\n",
    "mean_values = new_df.mean()\n",
    "\n",
    "# fill null values in each column with the corresponding mean value\n",
    "new_df = new_df.fillna(mean_values)\n",
    "\n",
    "new_df.isnull().sum()# no NAs!"
   ]
  },
  {
   "cell_type": "code",
   "execution_count": 41,
   "id": "2f3b5001-fdc0-455c-9c91-3fce3354c4f2",
   "metadata": {},
   "outputs": [
    {
     "name": "stdout",
     "output_type": "stream",
     "text": [
      "<class 'pandas.core.frame.DataFrame'>\n",
      "RangeIndex: 5396 entries, 0 to 5395\n",
      "Data columns (total 13 columns):\n",
      " #   Column            Non-Null Count  Dtype  \n",
      "---  ------            --------------  -----  \n",
      " 0   Team1             5396 non-null   object \n",
      " 1   Team2             5396 non-null   object \n",
      " 2   Team1_FIFA_RANK   5396 non-null   int64  \n",
      " 3   Team2_FIFA_RANK   5396 non-null   int64  \n",
      " 4   Team1_Result      5396 non-null   object \n",
      " 5   Team1_Goalkeeper  5396 non-null   float64\n",
      " 6   Team2_Goalkeeper  5396 non-null   float64\n",
      " 7   Team1_Defense     5396 non-null   float64\n",
      " 8   Team1_Offense     5396 non-null   float64\n",
      " 9   Team1_Midfield    5396 non-null   float64\n",
      " 10  Team2_Defense     5396 non-null   float64\n",
      " 11  Team2_Offense     5396 non-null   float64\n",
      " 12  Team2_Midfield    5396 non-null   float64\n",
      "dtypes: float64(8), int64(2), object(3)\n",
      "memory usage: 548.2+ KB\n"
     ]
    }
   ],
   "source": [
    "# 5396 data point, that not much but fair\n",
    "new_df.info()"
   ]
  },
  {
   "cell_type": "code",
   "execution_count": 56,
   "id": "e1137817-231f-4791-acf2-7914a56a49bb",
   "metadata": {},
   "outputs": [],
   "source": [
    "# in case you don't want to repeat work, delete # and run the following 2 chunks\n",
    "#new_df.to_csv(\"./data/preprocessed.csv\",index=False)"
   ]
  },
  {
   "cell_type": "code",
   "execution_count": 58,
   "id": "525de603-39d0-4651-9339-0b0167fa4438",
   "metadata": {},
   "outputs": [
    {
     "data": {
      "text/html": [
       "<div>\n",
       "<style scoped>\n",
       "    .dataframe tbody tr th:only-of-type {\n",
       "        vertical-align: middle;\n",
       "    }\n",
       "\n",
       "    .dataframe tbody tr th {\n",
       "        vertical-align: top;\n",
       "    }\n",
       "\n",
       "    .dataframe thead th {\n",
       "        text-align: right;\n",
       "    }\n",
       "</style>\n",
       "<table border=\"1\" class=\"dataframe\">\n",
       "  <thead>\n",
       "    <tr style=\"text-align: right;\">\n",
       "      <th></th>\n",
       "      <th>Team1</th>\n",
       "      <th>Team2</th>\n",
       "      <th>Team1_FIFA_RANK</th>\n",
       "      <th>Team2_FIFA_RANK</th>\n",
       "      <th>Team1_Result</th>\n",
       "      <th>Team1_Goalkeeper</th>\n",
       "      <th>Team2_Goalkeeper</th>\n",
       "      <th>Team1_Defense</th>\n",
       "      <th>Team1_Offense</th>\n",
       "      <th>Team1_Midfield</th>\n",
       "      <th>Team2_Defense</th>\n",
       "      <th>Team2_Offense</th>\n",
       "      <th>Team2_Midfield</th>\n",
       "    </tr>\n",
       "  </thead>\n",
       "  <tbody>\n",
       "    <tr>\n",
       "      <th>5391</th>\n",
       "      <td>Netherlands</td>\n",
       "      <td>Wales</td>\n",
       "      <td>10</td>\n",
       "      <td>18</td>\n",
       "      <td>Win</td>\n",
       "      <td>81.0</td>\n",
       "      <td>74.000000</td>\n",
       "      <td>85.2</td>\n",
       "      <td>83.0</td>\n",
       "      <td>83.5</td>\n",
       "      <td>75.000000</td>\n",
       "      <td>73.0</td>\n",
       "      <td>78.5</td>\n",
       "    </tr>\n",
       "    <tr>\n",
       "      <th>5392</th>\n",
       "      <td>Poland</td>\n",
       "      <td>Belgium</td>\n",
       "      <td>26</td>\n",
       "      <td>2</td>\n",
       "      <td>Lose</td>\n",
       "      <td>87.0</td>\n",
       "      <td>89.000000</td>\n",
       "      <td>75.2</td>\n",
       "      <td>84.7</td>\n",
       "      <td>75.8</td>\n",
       "      <td>80.800000</td>\n",
       "      <td>85.7</td>\n",
       "      <td>85.5</td>\n",
       "    </tr>\n",
       "    <tr>\n",
       "      <th>5393</th>\n",
       "      <td>Chile</td>\n",
       "      <td>Ghana</td>\n",
       "      <td>28</td>\n",
       "      <td>60</td>\n",
       "      <td>Lose</td>\n",
       "      <td>79.0</td>\n",
       "      <td>74.000000</td>\n",
       "      <td>75.5</td>\n",
       "      <td>76.7</td>\n",
       "      <td>78.2</td>\n",
       "      <td>75.500000</td>\n",
       "      <td>76.0</td>\n",
       "      <td>78.2</td>\n",
       "    </tr>\n",
       "    <tr>\n",
       "      <th>5394</th>\n",
       "      <td>Japan</td>\n",
       "      <td>Tunisia</td>\n",
       "      <td>23</td>\n",
       "      <td>35</td>\n",
       "      <td>Lose</td>\n",
       "      <td>73.0</td>\n",
       "      <td>76.634753</td>\n",
       "      <td>75.2</td>\n",
       "      <td>75.0</td>\n",
       "      <td>77.5</td>\n",
       "      <td>70.800000</td>\n",
       "      <td>72.3</td>\n",
       "      <td>74.0</td>\n",
       "    </tr>\n",
       "    <tr>\n",
       "      <th>5395</th>\n",
       "      <td>Korea Republic</td>\n",
       "      <td>Egypt</td>\n",
       "      <td>29</td>\n",
       "      <td>32</td>\n",
       "      <td>Win</td>\n",
       "      <td>75.0</td>\n",
       "      <td>76.634753</td>\n",
       "      <td>73.0</td>\n",
       "      <td>80.0</td>\n",
       "      <td>73.8</td>\n",
       "      <td>76.207957</td>\n",
       "      <td>79.3</td>\n",
       "      <td>70.8</td>\n",
       "    </tr>\n",
       "  </tbody>\n",
       "</table>\n",
       "</div>"
      ],
      "text/plain": [
       "               Team1    Team2  Team1_FIFA_RANK  Team2_FIFA_RANK Team1_Result  \\\n",
       "5391     Netherlands    Wales               10               18          Win   \n",
       "5392          Poland  Belgium               26                2         Lose   \n",
       "5393           Chile    Ghana               28               60         Lose   \n",
       "5394           Japan  Tunisia               23               35         Lose   \n",
       "5395  Korea Republic    Egypt               29               32          Win   \n",
       "\n",
       "      Team1_Goalkeeper  Team2_Goalkeeper  Team1_Defense  Team1_Offense  \\\n",
       "5391              81.0         74.000000           85.2           83.0   \n",
       "5392              87.0         89.000000           75.2           84.7   \n",
       "5393              79.0         74.000000           75.5           76.7   \n",
       "5394              73.0         76.634753           75.2           75.0   \n",
       "5395              75.0         76.634753           73.0           80.0   \n",
       "\n",
       "      Team1_Midfield  Team2_Defense  Team2_Offense  Team2_Midfield  \n",
       "5391            83.5      75.000000           73.0            78.5  \n",
       "5392            75.8      80.800000           85.7            85.5  \n",
       "5393            78.2      75.500000           76.0            78.2  \n",
       "5394            77.5      70.800000           72.3            74.0  \n",
       "5395            73.8      76.207957           79.3            70.8  "
      ]
     },
     "execution_count": 58,
     "metadata": {},
     "output_type": "execute_result"
    }
   ],
   "source": [
    "new_df = pd.read_csv('./data/preprocessed.csv')\n",
    "new_df.tail()"
   ]
  },
  {
   "cell_type": "markdown",
   "id": "984dc3f0-85c0-4075-8baa-d0679b141ddb",
   "metadata": {},
   "source": [
    "### Data partition"
   ]
  },
  {
   "cell_type": "code",
   "execution_count": 59,
   "id": "ffa2c5d9-853b-444b-a63a-388e59dceb25",
   "metadata": {},
   "outputs": [],
   "source": [
    "# data partition\n",
    "seed = 42\n",
    "X = new_df.drop('Team1_Result',axis=1)\n",
    "y = new_df['Team1_Result']\n",
    "from sklearn.model_selection import train_test_split\n",
    "\n",
    "# 70% training and 30% validation\n",
    "X_train, X_valid, y_train, y_valid = train_test_split(X, y, test_size=0.3, random_state=seed)"
   ]
  },
  {
   "cell_type": "code",
   "execution_count": 60,
   "id": "afd221f4-82fe-41ec-89f2-5842ef76bb9e",
   "metadata": {},
   "outputs": [
    {
     "data": {
      "text/plain": [
       "((3777, 12), (3777,))"
      ]
     },
     "execution_count": 60,
     "metadata": {},
     "output_type": "execute_result"
    }
   ],
   "source": [
    "X_train.shape, y_train.shape"
   ]
  },
  {
   "cell_type": "code",
   "execution_count": 61,
   "id": "3d839149-91ee-4b10-bc12-1ec7eb0439c1",
   "metadata": {},
   "outputs": [
    {
     "data": {
      "text/plain": [
       "Index(['Team1', 'Team2', 'Team1_FIFA_RANK', 'Team2_FIFA_RANK',\n",
       "       'Team1_Goalkeeper', 'Team2_Goalkeeper', 'Team1_Defense',\n",
       "       'Team1_Offense', 'Team1_Midfield', 'Team2_Defense', 'Team2_Offense',\n",
       "       'Team2_Midfield'],\n",
       "      dtype='object')"
      ]
     },
     "execution_count": 61,
     "metadata": {},
     "output_type": "execute_result"
    }
   ],
   "source": [
    "X_train.columns"
   ]
  },
  {
   "cell_type": "code",
   "execution_count": 62,
   "id": "26fd5fca-519b-471c-903d-cdb2b449217c",
   "metadata": {},
   "outputs": [],
   "source": [
    "# avoid error due to high cardinality by identifying those exist in valid but not training data\n",
    "index1 = X_valid[~X_valid['Team1'].isin(X_train['Team1'])].index\n",
    "index2 = X_valid[~X_valid['Team2'].isin(X_train['Team2'])].index"
   ]
  },
  {
   "cell_type": "code",
   "execution_count": 63,
   "id": "46be0fe9-83c3-4f3a-a3b7-b2f323abd348",
   "metadata": {},
   "outputs": [
    {
     "data": {
      "text/plain": [
       "pandas.core.indexes.numeric.Int64Index"
      ]
     },
     "execution_count": 63,
     "metadata": {},
     "output_type": "execute_result"
    }
   ],
   "source": [
    "type(index1)"
   ]
  },
  {
   "cell_type": "code",
   "execution_count": 64,
   "id": "c2779ddd-1c4a-45bf-9cbe-e362489b1377",
   "metadata": {},
   "outputs": [
    {
     "data": {
      "text/plain": [
       "[Int64Index([1732, 4232, 2337, 2456, 2092, 3712, 1400, 3864, 4905, 4620], dtype='int64'),\n",
       " Int64Index([2104, 4572, 2077, 1966, 4335, 752, 3410], dtype='int64')]"
      ]
     },
     "execution_count": 64,
     "metadata": {},
     "output_type": "execute_result"
    }
   ],
   "source": [
    "[index1, index2]"
   ]
  },
  {
   "cell_type": "code",
   "execution_count": 65,
   "id": "b9aaaa67-8a7f-405b-825f-3374e008b081",
   "metadata": {},
   "outputs": [
    {
     "data": {
      "text/plain": [
       "17"
      ]
     },
     "execution_count": 65,
     "metadata": {},
     "output_type": "execute_result"
    }
   ],
   "source": [
    "# find the values that appear in either list\n",
    "unique_values = list(set(index1) | set(index2))\n",
    "len(unique_values)"
   ]
  },
  {
   "cell_type": "code",
   "execution_count": 66,
   "id": "ab453851-1598-4970-8b57-ed855eaa061e",
   "metadata": {},
   "outputs": [
    {
     "data": {
      "text/plain": [
       "((1619, 12), (1619,))"
      ]
     },
     "execution_count": 66,
     "metadata": {},
     "output_type": "execute_result"
    }
   ],
   "source": [
    "X_valid.shape, y_valid.shape"
   ]
  },
  {
   "cell_type": "code",
   "execution_count": 67,
   "id": "46403431-2d68-4075-9257-4d207a0a7375",
   "metadata": {},
   "outputs": [
    {
     "data": {
      "text/plain": [
       "((1602, 12), (1602,))"
      ]
     },
     "execution_count": 67,
     "metadata": {},
     "output_type": "execute_result"
    }
   ],
   "source": [
    "# drop rows\n",
    "X_valid = X_valid.drop(unique_values)\n",
    "y_valid = y_valid.drop(unique_values)\n",
    "X_valid.shape, y_valid.shape"
   ]
  },
  {
   "cell_type": "markdown",
   "id": "8b9f4d3c-0252-47f5-8c8a-9ba5f9af2aa8",
   "metadata": {},
   "source": [
    "In the above section, we did 2 things:\n",
    "1. partition the data into 70% training and 30% validation using random seed = 42\n",
    "2. manually delete column in validation but not validation to avoid error when training model. It is the curse of high cardinality in our data Team1 and Team2 column that we have to painfully forgo 17 rows and now we end up having *3777 rows in training and 1619 rows in validation set*."
   ]
  },
  {
   "cell_type": "code",
   "execution_count": 68,
   "id": "d4a7671a-1884-4bfc-9c79-63211d31975c",
   "metadata": {},
   "outputs": [],
   "source": [
    "# no offence, just want to express how annoying data encoding is!"
   ]
  },
  {
   "cell_type": "markdown",
   "id": "fac2f533-d55b-4e5b-a105-06369a976cd1",
   "metadata": {
    "tags": []
   },
   "source": [
    "### [Data encoding](https://www.kaggle.com/discussions/getting-started/104651). [Uh Huh](https://getemoji.com) 🤬\n",
    "If you perform the encoding before the split, it will lead to data leakage (train-test contamination) which is discussed greatly on Lesson 7 of Intermediate Machine Learning course. In the sense, you will introduce new data (integers of Label Encoders) and use it for your models thus it will affect the end predictions results (good validation scores but poor in deployment).\n",
    "\n",
    "That's why to resolve the error, the notebook explains two options: **1) Drop the columns that have different values in train data and validation data - the simplest one.** 2) Introducing custom label encoder for new categories.\n",
    "\n",
    "After the train and validation data category already matched up, you can perform fit_transform on the train data, then only transform for the validation data - based on the encoding maps from train data."
   ]
  },
  {
   "cell_type": "code",
   "execution_count": 69,
   "id": "762b44a2-348a-4c0f-aa84-de7c900dbb06",
   "metadata": {},
   "outputs": [
    {
     "data": {
      "text/plain": [
       "((3777, 12), (1602, 12))"
      ]
     },
     "execution_count": 69,
     "metadata": {},
     "output_type": "execute_result"
    }
   ],
   "source": [
    "# encode predictors\n",
    "import pandas as pd\n",
    "from sklearn.preprocessing import LabelEncoder\n",
    "\n",
    "# create a LabelEncoder for each categorical column\n",
    "encoder1 = LabelEncoder()\n",
    "encoder2 = LabelEncoder()\n",
    "\n",
    "# fit the encoders to the categorical columns\n",
    "encoder1.fit(X_train['Team1'])\n",
    "encoder2.fit(X_train['Team2'])\n",
    "\n",
    "# encode the categorical columns in the training and validation data\n",
    "X_train['Team1'] = encoder1.transform(X_train['Team1'])\n",
    "X_train['Team2'] = encoder2.transform(X_train['Team2'])\n",
    "X_valid['Team1'] = encoder1.transform(X_valid['Team1'])\n",
    "X_valid['Team2'] = encoder2.transform(X_valid['Team2'])\n",
    "\n",
    "# check predictor data shape\n",
    "X_train.shape, X_valid.shape"
   ]
  },
  {
   "cell_type": "code",
   "execution_count": 70,
   "id": "febe79dd-1f7c-4367-9e36-ffaee9cdea47",
   "metadata": {},
   "outputs": [
    {
     "data": {
      "text/html": [
       "<div>\n",
       "<style scoped>\n",
       "    .dataframe tbody tr th:only-of-type {\n",
       "        vertical-align: middle;\n",
       "    }\n",
       "\n",
       "    .dataframe tbody tr th {\n",
       "        vertical-align: top;\n",
       "    }\n",
       "\n",
       "    .dataframe thead th {\n",
       "        text-align: right;\n",
       "    }\n",
       "</style>\n",
       "<table border=\"1\" class=\"dataframe\">\n",
       "  <thead>\n",
       "    <tr style=\"text-align: right;\">\n",
       "      <th></th>\n",
       "      <th>Team1</th>\n",
       "      <th>Team2</th>\n",
       "      <th>Team1_FIFA_RANK</th>\n",
       "      <th>Team2_FIFA_RANK</th>\n",
       "      <th>Team1_Goalkeeper</th>\n",
       "      <th>Team2_Goalkeeper</th>\n",
       "      <th>Team1_Defense</th>\n",
       "      <th>Team1_Offense</th>\n",
       "      <th>Team1_Midfield</th>\n",
       "      <th>Team2_Defense</th>\n",
       "      <th>Team2_Offense</th>\n",
       "      <th>Team2_Midfield</th>\n",
       "    </tr>\n",
       "  </thead>\n",
       "  <tbody>\n",
       "    <tr>\n",
       "      <th>1541</th>\n",
       "      <td>124</td>\n",
       "      <td>130</td>\n",
       "      <td>56</td>\n",
       "      <td>36</td>\n",
       "      <td>80.0</td>\n",
       "      <td>77.000000</td>\n",
       "      <td>71.5</td>\n",
       "      <td>74.0</td>\n",
       "      <td>76.0</td>\n",
       "      <td>77.800000</td>\n",
       "      <td>77.000000</td>\n",
       "      <td>73.2</td>\n",
       "    </tr>\n",
       "    <tr>\n",
       "      <th>2252</th>\n",
       "      <td>112</td>\n",
       "      <td>119</td>\n",
       "      <td>4</td>\n",
       "      <td>100</td>\n",
       "      <td>84.0</td>\n",
       "      <td>73.000000</td>\n",
       "      <td>76.5</td>\n",
       "      <td>83.3</td>\n",
       "      <td>86.0</td>\n",
       "      <td>71.200000</td>\n",
       "      <td>71.000000</td>\n",
       "      <td>73.2</td>\n",
       "    </tr>\n",
       "    <tr>\n",
       "      <th>4986</th>\n",
       "      <td>162</td>\n",
       "      <td>68</td>\n",
       "      <td>20</td>\n",
       "      <td>83</td>\n",
       "      <td>76.0</td>\n",
       "      <td>76.634753</td>\n",
       "      <td>75.5</td>\n",
       "      <td>76.7</td>\n",
       "      <td>75.2</td>\n",
       "      <td>76.207957</td>\n",
       "      <td>77.467714</td>\n",
       "      <td>64.5</td>\n",
       "    </tr>\n",
       "    <tr>\n",
       "      <th>3936</th>\n",
       "      <td>49</td>\n",
       "      <td>141</td>\n",
       "      <td>15</td>\n",
       "      <td>55</td>\n",
       "      <td>82.0</td>\n",
       "      <td>88.000000</td>\n",
       "      <td>82.8</td>\n",
       "      <td>83.3</td>\n",
       "      <td>82.8</td>\n",
       "      <td>75.200000</td>\n",
       "      <td>76.000000</td>\n",
       "      <td>77.2</td>\n",
       "    </tr>\n",
       "    <tr>\n",
       "      <th>2874</th>\n",
       "      <td>34</td>\n",
       "      <td>136</td>\n",
       "      <td>5</td>\n",
       "      <td>63</td>\n",
       "      <td>76.0</td>\n",
       "      <td>65.000000</td>\n",
       "      <td>75.8</td>\n",
       "      <td>83.0</td>\n",
       "      <td>80.8</td>\n",
       "      <td>75.000000</td>\n",
       "      <td>79.700000</td>\n",
       "      <td>74.8</td>\n",
       "    </tr>\n",
       "  </tbody>\n",
       "</table>\n",
       "</div>"
      ],
      "text/plain": [
       "      Team1  Team2  Team1_FIFA_RANK  Team2_FIFA_RANK  Team1_Goalkeeper  \\\n",
       "1541    124    130               56               36              80.0   \n",
       "2252    112    119                4              100              84.0   \n",
       "4986    162     68               20               83              76.0   \n",
       "3936     49    141               15               55              82.0   \n",
       "2874     34    136                5               63              76.0   \n",
       "\n",
       "      Team2_Goalkeeper  Team1_Defense  Team1_Offense  Team1_Midfield  \\\n",
       "1541         77.000000           71.5           74.0            76.0   \n",
       "2252         73.000000           76.5           83.3            86.0   \n",
       "4986         76.634753           75.5           76.7            75.2   \n",
       "3936         88.000000           82.8           83.3            82.8   \n",
       "2874         65.000000           75.8           83.0            80.8   \n",
       "\n",
       "      Team2_Defense  Team2_Offense  Team2_Midfield  \n",
       "1541      77.800000      77.000000            73.2  \n",
       "2252      71.200000      71.000000            73.2  \n",
       "4986      76.207957      77.467714            64.5  \n",
       "3936      75.200000      76.000000            77.2  \n",
       "2874      75.000000      79.700000            74.8  "
      ]
     },
     "execution_count": 70,
     "metadata": {},
     "output_type": "execute_result"
    }
   ],
   "source": [
    "# now teams are represented by numbers/code\n",
    "X_train.head(5)"
   ]
  },
  {
   "cell_type": "code",
   "execution_count": 71,
   "id": "8f1b1f79-842d-424a-baf9-6de4aecb6096",
   "metadata": {},
   "outputs": [],
   "source": [
    "X_train['Team1'] = X_train['Team1'].astype(\"category\")\n",
    "X_train['Team2'] = X_train['Team2'].astype(\"category\")\n",
    "X_valid['Team1'] = X_valid['Team1'].astype(\"category\")\n",
    "X_valid['Team2'] = X_valid['Team2'].astype(\"category\")"
   ]
  },
  {
   "cell_type": "code",
   "execution_count": 72,
   "id": "a36e3206-3b0e-479a-9e7c-7696bf00de77",
   "metadata": {},
   "outputs": [
    {
     "name": "stdout",
     "output_type": "stream",
     "text": [
      "<class 'pandas.core.frame.DataFrame'>\n",
      "Int64Index: 3777 entries, 1541 to 860\n",
      "Data columns (total 12 columns):\n",
      " #   Column            Non-Null Count  Dtype   \n",
      "---  ------            --------------  -----   \n",
      " 0   Team1             3777 non-null   category\n",
      " 1   Team2             3777 non-null   category\n",
      " 2   Team1_FIFA_RANK   3777 non-null   int64   \n",
      " 3   Team2_FIFA_RANK   3777 non-null   int64   \n",
      " 4   Team1_Goalkeeper  3777 non-null   float64 \n",
      " 5   Team2_Goalkeeper  3777 non-null   float64 \n",
      " 6   Team1_Defense     3777 non-null   float64 \n",
      " 7   Team1_Offense     3777 non-null   float64 \n",
      " 8   Team1_Midfield    3777 non-null   float64 \n",
      " 9   Team2_Defense     3777 non-null   float64 \n",
      " 10  Team2_Offense     3777 non-null   float64 \n",
      " 11  Team2_Midfield    3777 non-null   float64 \n",
      "dtypes: category(2), float64(8), int64(2)\n",
      "memory usage: 350.2 KB\n"
     ]
    }
   ],
   "source": [
    "# let's check the variable type\n",
    "X_train.info()"
   ]
  },
  {
   "cell_type": "code",
   "execution_count": 73,
   "id": "69785211-8ff7-4835-8da1-9145235e9e0b",
   "metadata": {},
   "outputs": [],
   "source": [
    "# create 3 level for target variable\n",
    "y_train = y_train.map({'Win':1, 'Draw':2, 'Lose':0})\n",
    "y_valid = y_valid.map({'Win':1, 'Draw':2, 'Lose':0})"
   ]
  },
  {
   "cell_type": "code",
   "execution_count": 74,
   "id": "ed5fb081-1000-42f1-ab35-c47b075c35ed",
   "metadata": {},
   "outputs": [
    {
     "data": {
      "text/plain": [
       "1541    0\n",
       "2252    1\n",
       "4986    1\n",
       "3936    1\n",
       "2874    2\n",
       "       ..\n",
       "3772    1\n",
       "5191    1\n",
       "5226    1\n",
       "5390    1\n",
       "860     0\n",
       "Name: Team1_Result, Length: 3777, dtype: int64"
      ]
     },
     "execution_count": 74,
     "metadata": {},
     "output_type": "execute_result"
    }
   ],
   "source": [
    "y_train"
   ]
  },
  {
   "cell_type": "markdown",
   "id": "11208038-69b5-4751-9f98-7a527871308d",
   "metadata": {
    "tags": []
   },
   "source": [
    "## Models"
   ]
  },
  {
   "cell_type": "code",
   "execution_count": 75,
   "id": "3ca32a34-8e5c-4bf6-a9e4-b073afc81534",
   "metadata": {},
   "outputs": [],
   "source": [
    "from sklearn.metrics import classification_report,ConfusionMatrixDisplay\n",
    "from sklearn.metrics import accuracy_score\n",
    "def metrics_display(model):\n",
    "    model.fit(X_train,y_train)\n",
    "    y_pred = model.predict(X_valid)\n",
    "    print(classification_report(y_valid,y_pred))\n",
    "    ConfusionMatrixDisplay.from_predictions(y_valid,y_pred);"
   ]
  },
  {
   "cell_type": "code",
   "execution_count": 76,
   "id": "f8194eb7-101b-4e2f-8551-6823ee21c1fa",
   "metadata": {},
   "outputs": [
    {
     "data": {
      "image/png": "[encoded data removed]",
      "text/plain": [
       "<Figure size 400x400 with 1 Axes>"
      ]
     },
     "metadata": {},
     "output_type": "display_data"
    }
   ],
   "source": [
    "unique_result = y_train.value_counts()\n",
    "\n",
    "# Plot\n",
    "fig, axes = plt.subplots(1, 1, figsize=(4,4))\n",
    "ax =plt.pie(unique_result ,labels = ['Win', 'Lose', 'Draw'], colors=['yellowgreen','lightcoral','lemonchiffon'], autopct='%.0f%%')\n",
    "plt.title('Home Team Match Result on Training', fontsize = 15)\n",
    "plt.get_cmap('jet')\n",
    "plt.show()"
   ]
  },
  {
   "cell_type": "code",
   "execution_count": 77,
   "id": "6946336d-47f4-4d55-9d07-08302619b073",
   "metadata": {},
   "outputs": [
    {
     "data": {
      "image/png": "[encoded data removed]",
      "text/plain": [
       "<Figure size 400x400 with 1 Axes>"
      ]
     },
     "metadata": {},
     "output_type": "display_data"
    }
   ],
   "source": [
    "unique_result = y_valid.value_counts()\n",
    "\n",
    "# Plot\n",
    "fig, axes = plt.subplots(1, 1, figsize=(4,4))\n",
    "ax =plt.pie(unique_result ,labels = ['Win', 'Lose', 'Draw'], colors=['yellowgreen','lightcoral','lemonchiffon'], autopct='%.0f%%')\n",
    "plt.title('Home Team Match Result on Validation', fontsize = 15)\n",
    "plt.get_cmap('jet')\n",
    "plt.show()"
   ]
  },
  {
   "cell_type": "markdown",
   "id": "1db4a044-b5bc-4f86-bba4-712981ee2ec6",
   "metadata": {},
   "source": [
    "### <font color='blue'>Logistic Regression</font>"
   ]
  },
  {
   "cell_type": "code",
   "execution_count": 78,
   "id": "0d52c758-effc-4cd2-8457-59d7ba9f423e",
   "metadata": {},
   "outputs": [],
   "source": [
    "from sklearn.linear_model import LogisticRegression\n",
    "\n",
    "lr = LogisticRegression(multi_class='multinomial').fit(X_train, y_train)"
   ]
  },
  {
   "cell_type": "code",
   "execution_count": 79,
   "id": "b15cc85e-516d-4403-b070-c902b61655f2",
   "metadata": {},
   "outputs": [
    {
     "name": "stdout",
     "output_type": "stream",
     "text": [
      "Misclassification rate:  0.4013732833957553\n",
      "Confusion matrix: \n",
      " [[299 162   0]\n",
      " [119 660   0]\n",
      " [149 213   0]]\n"
     ]
    }
   ],
   "source": [
    "# model performance\n",
    "from sklearn.metrics import confusion_matrix\n",
    "\n",
    "y_pred = lr.predict(X_valid)\n",
    "\n",
    "# Calculate the misclassification rate\n",
    "misclassification_rate = 1 - accuracy_score(y_valid, y_pred)\n",
    "print(\"Misclassification rate: \", misclassification_rate)\n",
    "\n",
    "conf_matrix = confusion_matrix(y_valid, y_pred)\n",
    "print(\"Confusion matrix: \\n\", conf_matrix)"
   ]
  },
  {
   "cell_type": "code",
   "execution_count": 80,
   "id": "6a055ebd-111f-4d23-9e21-7ae8aa680bf4",
   "metadata": {},
   "outputs": [
    {
     "name": "stdout",
     "output_type": "stream",
     "text": [
      "              precision    recall  f1-score   support\n",
      "\n",
      "           0       0.53      0.65      0.58       461\n",
      "           1       0.64      0.85      0.73       779\n",
      "           2       0.00      0.00      0.00       362\n",
      "\n",
      "    accuracy                           0.60      1602\n",
      "   macro avg       0.39      0.50      0.44      1602\n",
      "weighted avg       0.46      0.60      0.52      1602\n",
      "\n"
     ]
    },
    {
     "data": {
      "image/png": "[encoded data removed]",
      "text/plain": [
       "<Figure size 640x480 with 2 Axes>"
      ]
     },
     "metadata": {},
     "output_type": "display_data"
    }
   ],
   "source": [
    "#'Win':1, 'Draw':2, 'Lose':0\n",
    "metrics_display(LogisticRegression(multi_class='multinomial'))"
   ]
  },
  {
   "cell_type": "markdown",
   "id": "007ca857-f46f-4967-94fc-f24f45b0ece6",
   "metadata": {},
   "source": [
    "### [Naive Bayes](https://www.kaggle.com/code/prashant111/naive-bayes-classifier-in-python/notebook#10.-Feature-Engineering-)"
   ]
  },
  {
   "cell_type": "code",
   "execution_count": 81,
   "id": "6be9ca24-e88e-41c4-9843-641dcfb81f52",
   "metadata": {
    "tags": []
   },
   "outputs": [
    {
     "name": "stdout",
     "output_type": "stream",
     "text": [
      "Model accuracy score: 0.5868\n"
     ]
    }
   ],
   "source": [
    "# train a Gaussian Naive Bayes classifier on the training set\n",
    "from sklearn.naive_bayes import GaussianNB\n",
    "\n",
    "# instantiate the model\n",
    "gnb = GaussianNB()\n",
    "\n",
    "# fit the model\n",
    "gnb.fit(X_train, y_train)\n",
    "\n",
    "y_pred = gnb.predict(X_valid)\n",
    "\n",
    "from sklearn.metrics import accuracy_score\n",
    "\n",
    "print('Model accuracy score: {0:0.4f}'. format(accuracy_score(y_valid, y_pred)))"
   ]
  },
  {
   "cell_type": "code",
   "execution_count": 82,
   "id": "3f8bb458-18d6-42fc-a7a7-7f9f0c033049",
   "metadata": {},
   "outputs": [
    {
     "name": "stdout",
     "output_type": "stream",
     "text": [
      "Misclassification rate:  0.4132334581772784\n",
      "Confusion matrix: \n",
      " [[302 119  40]\n",
      " [119 599  61]\n",
      " [154 169  39]]\n"
     ]
    }
   ],
   "source": [
    "# Calculate the misclassification rate\n",
    "misclassification_rate = 1 - accuracy_score(y_valid, y_pred)\n",
    "print(\"Misclassification rate: \", misclassification_rate)\n",
    "conf_matrix = confusion_matrix(y_valid, y_pred)\n",
    "print(\"Confusion matrix: \\n\", conf_matrix)"
   ]
  },
  {
   "cell_type": "code",
   "execution_count": 83,
   "id": "29e73d3c-6760-417a-a50a-a1ce7603ce95",
   "metadata": {},
   "outputs": [
    {
     "name": "stdout",
     "output_type": "stream",
     "text": [
      "              precision    recall  f1-score   support\n",
      "\n",
      "           0       0.53      0.66      0.58       461\n",
      "           1       0.68      0.77      0.72       779\n",
      "           2       0.28      0.11      0.16       362\n",
      "\n",
      "    accuracy                           0.59      1602\n",
      "   macro avg       0.49      0.51      0.49      1602\n",
      "weighted avg       0.54      0.59      0.55      1602\n",
      "\n"
     ]
    },
    {
     "data": {
      "image/png": "[encoded data removed]",
      "text/plain": [
       "<Figure size 640x480 with 2 Axes>"
      ]
     },
     "metadata": {},
     "output_type": "display_data"
    }
   ],
   "source": [
    "#'Win':1, 'Draw':2, 'Lose':0\n",
    "metrics_display(GaussianNB())"
   ]
  },
  {
   "cell_type": "markdown",
   "id": "021a6765-0c90-4257-8537-391bee558150",
   "metadata": {},
   "source": [
    "### <font color='blue'>KNN</font>"
   ]
  },
  {
   "cell_type": "code",
   "execution_count": 84,
   "id": "f43e50ed-b7d8-4074-937c-bdd050fd9394",
   "metadata": {},
   "outputs": [
    {
     "name": "stdout",
     "output_type": "stream",
     "text": [
      "Misclassification rate:  0.49063670411985016\n"
     ]
    }
   ],
   "source": [
    "from sklearn.neighbors import KNeighborsClassifier\n",
    "\n",
    "knn = KNeighborsClassifier(n_neighbors=3).fit(X_train, y_train)\n",
    "y_pred = knn.predict(X_valid)\n",
    "\n",
    "misclassification_rate = 1 - accuracy_score(y_valid, y_pred)\n",
    "print(\"Misclassification rate: \", misclassification_rate)"
   ]
  },
  {
   "cell_type": "code",
   "execution_count": 85,
   "id": "c68e0c07-6a38-4431-878b-cff4190fc862",
   "metadata": {},
   "outputs": [
    {
     "name": "stdout",
     "output_type": "stream",
     "text": [
      "Confusion matrix: \n",
      " [[274 113  74]\n",
      " [200 484  95]\n",
      " [158 146  58]]\n"
     ]
    }
   ],
   "source": [
    "conf_matrix = confusion_matrix(y_valid, y_pred)\n",
    "print(\"Confusion matrix: \\n\", conf_matrix)"
   ]
  },
  {
   "cell_type": "code",
   "execution_count": 86,
   "id": "d4a4e8f8-7cbc-434d-a84e-e70473acbe0a",
   "metadata": {},
   "outputs": [
    {
     "name": "stdout",
     "output_type": "stream",
     "text": [
      "              precision    recall  f1-score   support\n",
      "\n",
      "           0       0.43      0.59      0.50       461\n",
      "           1       0.65      0.62      0.64       779\n",
      "           2       0.26      0.16      0.20       362\n",
      "\n",
      "    accuracy                           0.51      1602\n",
      "   macro avg       0.45      0.46      0.44      1602\n",
      "weighted avg       0.50      0.51      0.50      1602\n",
      "\n"
     ]
    },
    {
     "data": {
      "image/png": "[encoded data removed]",
      "text/plain": [
       "<Figure size 640x480 with 2 Axes>"
      ]
     },
     "metadata": {},
     "output_type": "display_data"
    }
   ],
   "source": [
    "#'Win':1, 'Draw':2, 'Lose':0\n",
    "metrics_display(KNeighborsClassifier(n_neighbors=3))"
   ]
  },
  {
   "cell_type": "markdown",
   "id": "3827cb63-0db7-4a3b-80a9-e4fde1903c05",
   "metadata": {},
   "source": [
    "#### Better KNN"
   ]
  },
  {
   "cell_type": "code",
   "execution_count": 86,
   "id": "a86ddabe-aca7-40e1-a2ee-e587512497ae",
   "metadata": {},
   "outputs": [],
   "source": [
    "from sklearn.model_selection import GridSearchCV\n",
    "grid_param={\"n_neighbors\": range(1,30,1)}\n",
    "grid_search = GridSearchCV(estimator=knn,param_grid=grid_param)"
   ]
  },
  {
   "cell_type": "code",
   "execution_count": 87,
   "id": "9dec8234-aa43-4eea-a2f5-ff15734c6c83",
   "metadata": {
    "tags": []
   },
   "outputs": [
    {
     "data": {
      "text/plain": [
       "GridSearchCV(estimator=KNeighborsClassifier(n_neighbors=14),\n",
       "             param_grid={'n_neighbors': range(1, 30)})"
      ]
     },
     "execution_count": 87,
     "metadata": {},
     "output_type": "execute_result"
    }
   ],
   "source": [
    "grid_search.fit(X_train,y_train)"
   ]
  },
  {
   "cell_type": "code",
   "execution_count": 88,
   "id": "709e03b4-97b1-47a0-a0b5-e494c4b5b916",
   "metadata": {
    "tags": []
   },
   "outputs": [
    {
     "data": {
      "text/plain": [
       "{'n_neighbors': 26}"
      ]
     },
     "execution_count": 88,
     "metadata": {},
     "output_type": "execute_result"
    }
   ],
   "source": [
    "grid_search.best_params_"
   ]
  },
  {
   "cell_type": "code",
   "execution_count": 87,
   "id": "0b31fdfd-af83-4562-bc53-84d5cb828dc2",
   "metadata": {},
   "outputs": [
    {
     "name": "stdout",
     "output_type": "stream",
     "text": [
      "Misclassification rate:  0.4244694132334582\n"
     ]
    }
   ],
   "source": [
    "# using best k under 30 {'n_neighbors': 26}\n",
    "from sklearn.neighbors import KNeighborsClassifier\n",
    "\n",
    "knn = KNeighborsClassifier(n_neighbors=26).fit(X_train, y_train)\n",
    "y_pred = knn.predict(X_valid)\n",
    "\n",
    "misclassification_rate = 1 - accuracy_score(y_valid, y_pred)\n",
    "print(\"Misclassification rate: \", misclassification_rate)"
   ]
  },
  {
   "cell_type": "code",
   "execution_count": 88,
   "id": "21658849-e51a-4431-acaa-d372879a5473",
   "metadata": {},
   "outputs": [
    {
     "name": "stdout",
     "output_type": "stream",
     "text": [
      "Confusion matrix: \n",
      " [[272 159  30]\n",
      " [116 634  29]\n",
      " [142 204  16]]\n"
     ]
    }
   ],
   "source": [
    "conf_matrix = confusion_matrix(y_valid, y_pred)\n",
    "print(\"Confusion matrix: \\n\", conf_matrix)"
   ]
  },
  {
   "cell_type": "code",
   "execution_count": 89,
   "id": "d481da89-be73-4639-b4e7-c17c58fa88ff",
   "metadata": {},
   "outputs": [
    {
     "name": "stdout",
     "output_type": "stream",
     "text": [
      "              precision    recall  f1-score   support\n",
      "\n",
      "           0       0.51      0.59      0.55       461\n",
      "           1       0.64      0.81      0.71       779\n",
      "           2       0.21      0.04      0.07       362\n",
      "\n",
      "    accuracy                           0.58      1602\n",
      "   macro avg       0.45      0.48      0.45      1602\n",
      "weighted avg       0.51      0.58      0.52      1602\n",
      "\n"
     ]
    },
    {
     "data": {
      "image/png": "[encoded data removed]",
      "text/plain": [
       "<Figure size 640x480 with 2 Axes>"
      ]
     },
     "metadata": {},
     "output_type": "display_data"
    }
   ],
   "source": [
    "#'Win':1, 'Draw':2, 'Lose':0\n",
    "metrics_display(KNeighborsClassifier(n_neighbors=26))"
   ]
  },
  {
   "cell_type": "markdown",
   "id": "211dc74c-a9e1-44e1-bf3f-e1f169894772",
   "metadata": {},
   "source": [
    "### <font color='blue'>Tree</font>"
   ]
  },
  {
   "cell_type": "code",
   "execution_count": 90,
   "id": "46442169-10fa-49bd-acb1-5353ebef33fb",
   "metadata": {},
   "outputs": [
    {
     "name": "stdout",
     "output_type": "stream",
     "text": [
      "Misclassification rate:  0.5218476903870162\n"
     ]
    }
   ],
   "source": [
    "# Import the necessary libraries\n",
    "from sklearn.tree import DecisionTreeClassifier\n",
    "from sklearn.metrics import accuracy_score\n",
    "\n",
    "clf = DecisionTreeClassifier(random_state=seed)\n",
    "clf.fit(X_train, y_train)\n",
    "\n",
    "# Make predictions on the validation dataset\n",
    "y_pred = clf.predict(X_valid)\n",
    "\n",
    "# Calculate the misclassification rate\n",
    "misclassification_rate = 1 - accuracy_score(y_valid, y_pred)\n",
    "print(\"Misclassification rate: \", misclassification_rate)"
   ]
  },
  {
   "cell_type": "code",
   "execution_count": 91,
   "id": "f4022e5a-cb5c-4187-a165-34521a6f610a",
   "metadata": {},
   "outputs": [
    {
     "name": "stdout",
     "output_type": "stream",
     "text": [
      "Confusion matrix: \n",
      " [[205 135 121]\n",
      " [149 467 163]\n",
      " [119 149  94]]\n"
     ]
    }
   ],
   "source": [
    "from sklearn.tree import DecisionTreeClassifier\n",
    "from sklearn.metrics import confusion_matrix\n",
    "\n",
    "conf_matrix = confusion_matrix(y_valid, y_pred)\n",
    "print(\"Confusion matrix: \\n\", conf_matrix)"
   ]
  },
  {
   "cell_type": "code",
   "execution_count": 92,
   "id": "54c30694-d897-4cf6-a40e-cce29c3c3555",
   "metadata": {},
   "outputs": [
    {
     "name": "stdout",
     "output_type": "stream",
     "text": [
      "              precision    recall  f1-score   support\n",
      "\n",
      "           0       0.43      0.44      0.44       461\n",
      "           1       0.62      0.60      0.61       779\n",
      "           2       0.25      0.26      0.25       362\n",
      "\n",
      "    accuracy                           0.48      1602\n",
      "   macro avg       0.43      0.43      0.43      1602\n",
      "weighted avg       0.48      0.48      0.48      1602\n",
      "\n"
     ]
    },
    {
     "data": {
      "image/png": "[encoded data removed]",
      "text/plain": [
       "<Figure size 640x480 with 2 Axes>"
      ]
     },
     "metadata": {},
     "output_type": "display_data"
    }
   ],
   "source": [
    "#'Win':1, 'Draw':2, 'Lose':0\n",
    "metrics_display(DecisionTreeClassifier(random_state=seed))"
   ]
  },
  {
   "cell_type": "code",
   "execution_count": 77,
   "id": "55de7f20-0240-44ee-bd5c-39fcaf3f3ae2",
   "metadata": {},
   "outputs": [
    {
     "data": {
      "image/png": "[encoded data removed]",
      "text/plain": [
       "<Figure size 640x480 with 1 Axes>"
      ]
     },
     "metadata": {},
     "output_type": "display_data"
    }
   ],
   "source": [
    "# display variable importance:\n",
    "importances = pd.DataFrame(clf.feature_importances_,\n",
    "                           index=X_train.columns,\n",
    "                           columns=['Importance'])\n",
    "_ = importances.sort_values(by='Importance').plot(kind='barh', \n",
    "                                                  title='Variable Importance', \n",
    "                                                  legend=False)"
   ]
  },
  {
   "cell_type": "markdown",
   "id": "af9b219d-6d9a-453b-97ac-fbb0f55f5b00",
   "metadata": {},
   "source": [
    "### <font color='blue'>Random Forest</font>"
   ]
  },
  {
   "cell_type": "code",
   "execution_count": 48,
   "id": "f678d843-8a17-44a5-b371-653555e9c90b",
   "metadata": {
    "tags": []
   },
   "outputs": [
    {
     "data": {
      "text/plain": [
       "RandomForestClassifier(max_depth=2000, min_samples_leaf=5, min_samples_split=10,\n",
       "                       random_state=42)"
      ]
     },
     "execution_count": 48,
     "metadata": {},
     "output_type": "execute_result"
    }
   ],
   "source": [
    "#Import Random Forest Model\n",
    "from sklearn.ensemble import RandomForestClassifier\n",
    "\n",
    "#Create a Random Forest Classifier: \n",
    "'''\n",
    "Number of tree in forest = 100\n",
    "Number of terms sampled per split = 3~4? given default is sqrt(number of predictors)\n",
    "Number of terms = 12\n",
    "Minimum split per tree = 10\n",
    "Minimum size split = 5\n",
    "random_state = 42\n",
    "'''\n",
    "clf=RandomForestClassifier(n_estimators=100,\n",
    "                           max_depth = 2000,\n",
    "                           min_samples_split = 10,\n",
    "                           min_samples_leaf=5,\n",
    "                           random_state=seed)\n",
    "\n",
    "#Train the model using the training sets y_pred=clf.predict(X_test)\n",
    "clf.fit(X_train,y_train)"
   ]
  },
  {
   "cell_type": "code",
   "execution_count": 49,
   "id": "f93ff007-617e-4944-b119-c0df731eab44",
   "metadata": {},
   "outputs": [
    {
     "name": "stdout",
     "output_type": "stream",
     "text": [
      "Accuracy: 0.6036204744069913\n"
     ]
    }
   ],
   "source": [
    "#Import scikit-learn metrics module for accuracy calculation\n",
    "from sklearn import metrics\n",
    "# Model Accuracy, how often is the classifier correct?\n",
    "y_pred=clf.predict(X_valid)\n",
    "print(\"Accuracy:\",metrics.accuracy_score(y_valid, y_pred))"
   ]
  },
  {
   "cell_type": "code",
   "execution_count": 50,
   "id": "af03aca3-ee47-4c12-803b-b96a8ad68fca",
   "metadata": {},
   "outputs": [
    {
     "name": "stdout",
     "output_type": "stream",
     "text": [
      "Misclassification rate:  0.3963795255930087\n"
     ]
    }
   ],
   "source": [
    "# Calculate the misclassification rate\n",
    "misclassification_rate = 1 - accuracy_score(y_valid, y_pred)\n",
    "print(\"Misclassification rate: \", misclassification_rate)"
   ]
  },
  {
   "cell_type": "code",
   "execution_count": 51,
   "id": "dae8e714-b76e-4fda-91d5-2924a18f53b2",
   "metadata": {},
   "outputs": [
    {
     "name": "stdout",
     "output_type": "stream",
     "text": [
      "Confusion matrix: \n",
      " [[300 139  22]\n",
      " [ 98 653  28]\n",
      " [145 203  14]]\n"
     ]
    }
   ],
   "source": [
    "from sklearn.metrics import confusion_matrix\n",
    "conf_matrix = confusion_matrix(y_valid, y_pred)\n",
    "print(\"Confusion matrix: \\n\", conf_matrix)"
   ]
  },
  {
   "cell_type": "code",
   "execution_count": 57,
   "id": "7a739182-566f-406c-b842-86e6c3bc5662",
   "metadata": {},
   "outputs": [
    {
     "name": "stdout",
     "output_type": "stream",
     "text": [
      "              precision    recall  f1-score   support\n",
      "\n",
      "           0       0.55      0.65      0.60       461\n",
      "           1       0.66      0.84      0.74       779\n",
      "           2       0.22      0.04      0.07       362\n",
      "\n",
      "    accuracy                           0.60      1602\n",
      "   macro avg       0.48      0.51      0.47      1602\n",
      "weighted avg       0.53      0.60      0.54      1602\n",
      "\n"
     ]
    },
    {
     "data": {
      "image/png": "[encoded data removed]",
      "text/plain": [
       "<Figure size 640x480 with 2 Axes>"
      ]
     },
     "metadata": {},
     "output_type": "display_data"
    }
   ],
   "source": [
    "#'Win':1, 'Draw':2, 'Lose':0\n",
    "metrics_display(RandomForestClassifier(n_estimators=100,\n",
    "                           max_depth = 2000,\n",
    "                           min_samples_split = 10,\n",
    "                           min_samples_leaf=5,\n",
    "                           random_state=seed))"
   ]
  },
  {
   "cell_type": "code",
   "execution_count": 67,
   "id": "345e4ce9-cbac-4226-abf8-fba1305a5c7d",
   "metadata": {},
   "outputs": [
    {
     "data": {
      "text/plain": [
       "array([0.05453329, 0.05667708, 0.12540538, 0.10948704, 0.05921791,\n",
       "       0.0638483 , 0.0783484 , 0.08469337, 0.07616092, 0.10042859,\n",
       "       0.0924334 , 0.09876631])"
      ]
     },
     "execution_count": 67,
     "metadata": {},
     "output_type": "execute_result"
    }
   ],
   "source": [
    "clf.feature_importances_"
   ]
  },
  {
   "cell_type": "code",
   "execution_count": 68,
   "id": "ff8cb6a0-10ed-47a3-ab8c-bbf67573a24c",
   "metadata": {},
   "outputs": [
    {
     "data": {
      "text/plain": [
       "<bound method BaseEstimator.get_params of RandomForestClassifier(max_depth=2000, min_samples_leaf=5, min_samples_split=10,\n",
       "                       random_state=42)>"
      ]
     },
     "execution_count": 68,
     "metadata": {},
     "output_type": "execute_result"
    }
   ],
   "source": [
    "clf.get_params"
   ]
  },
  {
   "cell_type": "code",
   "execution_count": 66,
   "id": "4f28f76d-8cd2-4120-9bc4-7d7653290f94",
   "metadata": {},
   "outputs": [
    {
     "data": {
      "image/png": "[encoded data removed]",
      "text/plain": [
       "<Figure size 640x480 with 1 Axes>"
      ]
     },
     "metadata": {},
     "output_type": "display_data"
    }
   ],
   "source": [
    "# Interesting, the output is very different from JMP, I wonder why 🧐 \n",
    "importances = pd.DataFrame(clf.feature_importances_,\n",
    "                           index=X_valid.columns,\n",
    "                           columns=['Importance'])\n",
    "_ = importances.sort_values(by='Importance').plot(kind='barh', \n",
    "                                                  title='Variable Importance', \n",
    "                                                  legend=False)"
   ]
  },
  {
   "cell_type": "markdown",
   "id": "bc0d62f8-5a8b-4cc8-8da7-4f6eb5ec9c68",
   "metadata": {},
   "source": [
    "#### finding better parameter for random forest"
   ]
  },
  {
   "cell_type": "code",
   "execution_count": 87,
   "id": "3fa6ea91-b3a2-421a-af7e-2bd6e30c4741",
   "metadata": {},
   "outputs": [],
   "source": [
    "grid_param={\"n_estimators\":[80,100,120], \n",
    "            \"criterion\":['gini', 'entropy'], \n",
    "            \"max_depth\":[5,100,2000], \n",
    "            \"min_samples_split\":[5,10,15], \n",
    "            \"min_samples_leaf\":[5,10,15], \n",
    "            \"max_features\":['sqrt','log2']\n",
    "}"
   ]
  },
  {
   "cell_type": "code",
   "execution_count": 90,
   "id": "ce02fea4-64d4-466e-8b84-23c63002e540",
   "metadata": {},
   "outputs": [],
   "source": [
    "from sklearn.model_selection import GridSearchCV\n",
    "grid_search = GridSearchCV(estimator=clf,param_grid=grid_param,cv=3,n_jobs=-1,verbose=3)"
   ]
  },
  {
   "cell_type": "code",
   "execution_count": 91,
   "id": "813492dc-02ac-4ecf-993f-c6d8de7f85d2",
   "metadata": {
    "collapsed": true,
    "jupyter": {
     "outputs_hidden": true
    },
    "tags": []
   },
   "outputs": [
    {
     "name": "stdout",
     "output_type": "stream",
     "text": [
      "Fitting 3 folds for each of 324 candidates, totalling 972 fits\n",
      "[CV 3/3] END criterion=gini, max_depth=5, max_features=sqrt, min_samples_leaf=5, min_samples_split=5, n_estimators=80;, score=0.596 total time=   0.8s\n",
      "[CV 3/3] END criterion=gini, max_depth=5, max_features=sqrt, min_samples_leaf=5, min_samples_split=5, n_estimators=100;, score=0.597 total time=   0.8s\n",
      "[CV 1/3] END criterion=gini, max_depth=5, max_features=sqrt, min_samples_leaf=5, min_samples_split=10, n_estimators=80;, score=0.596 total time=   0.8s\n",
      "[CV 1/3] END criterion=gini, max_depth=5, max_features=sqrt, min_samples_leaf=5, min_samples_split=10, n_estimators=100;, score=0.598 total time=   0.8s\n",
      "[CV 2/3] END criterion=gini, max_depth=5, max_features=sqrt, min_samples_leaf=5, min_samples_split=10, n_estimators=120;, score=0.604 total time=   1.2s\n",
      "[CV 3/3] END criterion=gini, max_depth=5, max_features=sqrt, min_samples_leaf=5, min_samples_split=15, n_estimators=80;, score=0.593 total time=   0.7s\n",
      "[CV 1/3] END criterion=gini, max_depth=5, max_features=sqrt, min_samples_leaf=5, min_samples_split=15, n_estimators=120;, score=0.595 total time=   1.0s\n",
      "[CV 2/3] END criterion=gini, max_depth=5, max_features=sqrt, min_samples_leaf=10, min_samples_split=5, n_estimators=80;, score=0.600 total time=   0.8s\n",
      "[CV 3/3] END criterion=gini, max_depth=5, max_features=sqrt, min_samples_leaf=10, min_samples_split=5, n_estimators=100;, score=0.600 total time=   0.7s\n",
      "[CV 1/3] END criterion=gini, max_depth=5, max_features=sqrt, min_samples_leaf=10, min_samples_split=10, n_estimators=80;, score=0.600 total time=   2.8s\n",
      "[CV 1/3] END criterion=gini, max_depth=5, max_features=sqrt, min_samples_leaf=10, min_samples_split=10, n_estimators=100;, score=0.597 total time=   1.4s\n",
      "[CV 2/3] END criterion=gini, max_depth=5, max_features=sqrt, min_samples_leaf=10, min_samples_split=10, n_estimators=120;, score=0.607 total time=   1.4s\n",
      "[CV 1/3] END criterion=gini, max_depth=5, max_features=sqrt, min_samples_leaf=10, min_samples_split=15, n_estimators=100;, score=0.597 total time=   3.9s\n",
      "[CV 3/3] END criterion=gini, max_depth=5, max_features=sqrt, min_samples_leaf=10, min_samples_split=15, n_estimators=120;, score=0.595 total time=   0.9s\n",
      "[CV 2/3] END criterion=gini, max_depth=5, max_features=sqrt, min_samples_leaf=15, min_samples_split=5, n_estimators=100;, score=0.604 total time=   0.8s\n",
      "[CV 3/3] END criterion=gini, max_depth=5, max_features=sqrt, min_samples_leaf=15, min_samples_split=5, n_estimators=120;, score=0.600 total time=   1.3s\n",
      "[CV 1/3] END criterion=gini, max_depth=5, max_features=sqrt, min_samples_leaf=15, min_samples_split=10, n_estimators=100;, score=0.599 total time=   1.3s\n",
      "[CV 2/3] END criterion=gini, max_depth=5, max_features=sqrt, min_samples_leaf=15, min_samples_split=10, n_estimators=120;, score=0.606 total time=   1.2s\n",
      "[CV 3/3] END criterion=gini, max_depth=5, max_features=sqrt, min_samples_leaf=15, min_samples_split=15, n_estimators=80;, score=0.601 total time=   1.3s\n",
      "[CV 1/3] END criterion=gini, max_depth=5, max_features=sqrt, min_samples_leaf=15, min_samples_split=15, n_estimators=120;, score=0.599 total time=   0.9s\n",
      "[CV 2/3] END criterion=gini, max_depth=5, max_features=log2, min_samples_leaf=5, min_samples_split=5, n_estimators=80;, score=0.599 total time=   0.9s\n",
      "[CV 3/3] END criterion=gini, max_depth=5, max_features=log2, min_samples_leaf=5, min_samples_split=5, n_estimators=100;, score=0.597 total time=   1.1s\n",
      "[CV 1/3] END criterion=gini, max_depth=5, max_features=log2, min_samples_leaf=5, min_samples_split=10, n_estimators=80;, score=0.596 total time=   0.7s\n",
      "[CV 3/3] END criterion=gini, max_depth=5, max_features=log2, min_samples_leaf=5, min_samples_split=10, n_estimators=80;, score=0.596 total time=   0.9s\n",
      "[CV 1/3] END criterion=gini, max_depth=5, max_features=log2, min_samples_leaf=5, min_samples_split=10, n_estimators=120;, score=0.597 total time=   0.9s\n",
      "[CV 2/3] END criterion=gini, max_depth=5, max_features=log2, min_samples_leaf=5, min_samples_split=15, n_estimators=80;, score=0.602 total time=   0.6s\n",
      "[CV 3/3] END criterion=gini, max_depth=5, max_features=log2, min_samples_leaf=5, min_samples_split=15, n_estimators=100;, score=0.594 total time=   1.1s\n",
      "[CV 1/3] END criterion=gini, max_depth=5, max_features=log2, min_samples_leaf=10, min_samples_split=5, n_estimators=80;, score=0.600 total time=   0.9s\n",
      "[CV 1/3] END criterion=gini, max_depth=5, max_features=log2, min_samples_leaf=10, min_samples_split=5, n_estimators=100;, score=0.597 total time=   1.2s\n",
      "[CV 2/3] END criterion=gini, max_depth=5, max_features=log2, min_samples_leaf=10, min_samples_split=5, n_estimators=120;, score=0.607 total time=   1.1s\n",
      "[CV 1/3] END criterion=gini, max_depth=5, max_features=log2, min_samples_leaf=10, min_samples_split=10, n_estimators=100;, score=0.597 total time=   0.9s\n",
      "[CV 2/3] END criterion=gini, max_depth=5, max_features=log2, min_samples_leaf=10, min_samples_split=10, n_estimators=120;, score=0.607 total time=   0.8s\n",
      "[CV 3/3] END criterion=gini, max_depth=5, max_features=log2, min_samples_leaf=10, min_samples_split=15, n_estimators=80;, score=0.599 total time=   0.6s\n",
      "[CV 1/3] END criterion=gini, max_depth=5, max_features=log2, min_samples_leaf=10, min_samples_split=15, n_estimators=120;, score=0.597 total time=   0.9s\n",
      "[CV 2/3] END criterion=gini, max_depth=5, max_features=log2, min_samples_leaf=15, min_samples_split=5, n_estimators=80;, score=0.600 total time=   0.6s\n",
      "[CV 3/3] END criterion=gini, max_depth=5, max_features=log2, min_samples_leaf=15, min_samples_split=5, n_estimators=100;, score=0.599 total time=   0.8s\n",
      "[CV 1/3] END criterion=gini, max_depth=5, max_features=log2, min_samples_leaf=15, min_samples_split=10, n_estimators=80;, score=0.598 total time=   0.7s\n",
      "[CV 2/3] END criterion=gini, max_depth=5, max_features=log2, min_samples_leaf=15, min_samples_split=10, n_estimators=100;, score=0.604 total time=   1.2s\n",
      "[CV 3/3] END criterion=gini, max_depth=5, max_features=log2, min_samples_leaf=15, min_samples_split=10, n_estimators=120;, score=0.600 total time=   1.0s\n",
      "[CV 1/3] END criterion=gini, max_depth=5, max_features=log2, min_samples_leaf=15, min_samples_split=15, n_estimators=100;, score=0.599 total time=   1.8s\n",
      "[CV 3/3] END criterion=gini, max_depth=5, max_features=log2, min_samples_leaf=15, min_samples_split=15, n_estimators=120;, score=0.600 total time=   0.9s\n",
      "[CV 3/3] END criterion=gini, max_depth=100, max_features=sqrt, min_samples_leaf=5, min_samples_split=5, n_estimators=80;, score=0.600 total time=   1.1s\n",
      "[CV 1/3] END criterion=gini, max_depth=100, max_features=sqrt, min_samples_leaf=5, min_samples_split=5, n_estimators=120;, score=0.587 total time=   1.6s\n",
      "[CV 2/3] END criterion=gini, max_depth=100, max_features=sqrt, min_samples_leaf=5, min_samples_split=10, n_estimators=80;, score=0.594 total time=   1.3s\n",
      "[CV 3/3] END criterion=gini, max_depth=100, max_features=sqrt, min_samples_leaf=5, min_samples_split=10, n_estimators=100;, score=0.599 total time=   2.7s\n",
      "[CV 1/3] END criterion=gini, max_depth=100, max_features=sqrt, min_samples_leaf=5, min_samples_split=15, n_estimators=80;, score=0.588 total time=   1.6s\n",
      "[CV 3/3] END criterion=gini, max_depth=100, max_features=sqrt, min_samples_leaf=5, min_samples_split=15, n_estimators=80;, score=0.589 total time=   2.3s\n",
      "[CV 1/3] END criterion=gini, max_depth=100, max_features=sqrt, min_samples_leaf=5, min_samples_split=15, n_estimators=120;, score=0.589 total time=   2.5s\n",
      "[CV 2/3] END criterion=gini, max_depth=100, max_features=sqrt, min_samples_leaf=10, min_samples_split=5, n_estimators=80;, score=0.600 total time=   1.3s\n",
      "[CV 3/3] END criterion=gini, max_depth=100, max_features=sqrt, min_samples_leaf=10, min_samples_split=5, n_estimators=100;, score=0.598 total time=   1.8s\n",
      "[CV 1/3] END criterion=gini, max_depth=100, max_features=sqrt, min_samples_leaf=10, min_samples_split=10, n_estimators=80;, score=0.593 total time=   1.0s\n",
      "[CV 2/3] END criterion=gini, max_depth=100, max_features=sqrt, min_samples_leaf=10, min_samples_split=10, n_estimators=100;, score=0.599 total time=   1.5s\n",
      "[CV 3/3] END criterion=gini, max_depth=100, max_features=sqrt, min_samples_leaf=10, min_samples_split=10, n_estimators=120;, score=0.595 total time=   1.7s\n",
      "[CV 2/3] END criterion=gini, max_depth=100, max_features=sqrt, min_samples_leaf=10, min_samples_split=15, n_estimators=100;, score=0.599 total time=   1.9s\n",
      "[CV 3/3] END criterion=gini, max_depth=100, max_features=sqrt, min_samples_leaf=10, min_samples_split=15, n_estimators=120;, score=0.595 total time=   2.0s\n",
      "[CV 1/3] END criterion=gini, max_depth=100, max_features=sqrt, min_samples_leaf=15, min_samples_split=5, n_estimators=100;, score=0.599 total time=   1.2s\n",
      "[CV 2/3] END criterion=gini, max_depth=100, max_features=sqrt, min_samples_leaf=15, min_samples_split=5, n_estimators=120;, score=0.602 total time=   1.6s\n",
      "[CV 3/3] END criterion=gini, max_depth=100, max_features=sqrt, min_samples_leaf=15, min_samples_split=10, n_estimators=80;, score=0.594 total time=   0.6s\n",
      "[CV 1/3] END criterion=gini, max_depth=100, max_features=sqrt, min_samples_leaf=15, min_samples_split=10, n_estimators=120;, score=0.599 total time=   0.8s\n",
      "[CV 2/3] END criterion=gini, max_depth=100, max_features=sqrt, min_samples_leaf=15, min_samples_split=15, n_estimators=80;, score=0.600 total time=   0.6s\n",
      "[CV 3/3] END criterion=gini, max_depth=100, max_features=sqrt, min_samples_leaf=15, min_samples_split=15, n_estimators=100;, score=0.595 total time=   0.7s\n",
      "[CV 1/3] END criterion=gini, max_depth=100, max_features=log2, min_samples_leaf=5, min_samples_split=5, n_estimators=80;, score=0.588 total time=   0.7s\n",
      "[CV 2/3] END criterion=gini, max_depth=100, max_features=log2, min_samples_leaf=5, min_samples_split=5, n_estimators=100;, score=0.592 total time=   1.2s\n",
      "[CV 3/3] END criterion=gini, max_depth=100, max_features=log2, min_samples_leaf=5, min_samples_split=5, n_estimators=120;, score=0.598 total time=   1.1s\n",
      "[CV 1/3] END criterion=gini, max_depth=100, max_features=log2, min_samples_leaf=5, min_samples_split=10, n_estimators=100;, score=0.588 total time=   0.9s\n",
      "[CV 2/3] END criterion=gini, max_depth=100, max_features=log2, min_samples_leaf=5, min_samples_split=10, n_estimators=120;, score=0.596 total time=   1.2s\n",
      "[CV 2/3] END criterion=gini, max_depth=100, max_features=log2, min_samples_leaf=5, min_samples_split=15, n_estimators=100;, score=0.597 total time=   0.9s\n",
      "[CV 3/3] END criterion=gini, max_depth=100, max_features=log2, min_samples_leaf=5, min_samples_split=15, n_estimators=120;, score=0.593 total time=   1.4s\n",
      "[CV 2/3] END criterion=gini, max_depth=100, max_features=log2, min_samples_leaf=10, min_samples_split=5, n_estimators=100;, score=0.599 total time=   1.1s\n",
      "[CV 3/3] END criterion=gini, max_depth=100, max_features=log2, min_samples_leaf=10, min_samples_split=5, n_estimators=120;, score=0.595 total time=   0.9s\n",
      "[CV 1/3] END criterion=gini, max_depth=100, max_features=log2, min_samples_leaf=10, min_samples_split=10, n_estimators=100;, score=0.596 total time=   1.0s\n",
      "[CV 2/3] END criterion=gini, max_depth=100, max_features=log2, min_samples_leaf=10, min_samples_split=10, n_estimators=120;, score=0.597 total time=   1.1s\n",
      "[CV 1/3] END criterion=gini, max_depth=100, max_features=log2, min_samples_leaf=10, min_samples_split=15, n_estimators=100;, score=0.596 total time=   0.8s\n",
      "[CV 2/3] END criterion=gini, max_depth=100, max_features=log2, min_samples_leaf=10, min_samples_split=15, n_estimators=120;, score=0.597 total time=   1.0s\n",
      "[CV 3/3] END criterion=gini, max_depth=100, max_features=log2, min_samples_leaf=15, min_samples_split=5, n_estimators=80;, score=0.594 total time=   0.5s\n",
      "[CV 1/3] END criterion=gini, max_depth=100, max_features=log2, min_samples_leaf=15, min_samples_split=5, n_estimators=120;, score=0.599 total time=   0.9s\n",
      "[CV 2/3] END criterion=gini, max_depth=100, max_features=log2, min_samples_leaf=15, min_samples_split=10, n_estimators=80;, score=0.600 total time=   0.5s\n",
      "[CV 3/3] END criterion=gini, max_depth=100, max_features=log2, min_samples_leaf=15, min_samples_split=10, n_estimators=100;, score=0.595 total time=   0.7s\n",
      "[CV 1/3] END criterion=gini, max_depth=100, max_features=log2, min_samples_leaf=15, min_samples_split=15, n_estimators=80;, score=0.601 total time=   0.6s\n",
      "[CV 1/3] END criterion=gini, max_depth=100, max_features=log2, min_samples_leaf=15, min_samples_split=15, n_estimators=100;, score=0.599 total time=   0.9s\n",
      "[CV 2/3] END criterion=gini, max_depth=100, max_features=log2, min_samples_leaf=15, min_samples_split=15, n_estimators=120;, score=0.602 total time=   0.9s\n",
      "[CV 3/3] END criterion=gini, max_depth=2000, max_features=sqrt, min_samples_leaf=5, min_samples_split=5, n_estimators=80;, score=0.600 total time=   0.7s\n",
      "[CV 1/3] END criterion=gini, max_depth=2000, max_features=sqrt, min_samples_leaf=5, min_samples_split=5, n_estimators=120;, score=0.587 total time=   1.0s\n",
      "[CV 2/3] END criterion=gini, max_depth=2000, max_features=sqrt, min_samples_leaf=5, min_samples_split=10, n_estimators=80;, score=0.594 total time=   0.7s\n",
      "[CV 3/3] END criterion=gini, max_depth=2000, max_features=sqrt, min_samples_leaf=5, min_samples_split=10, n_estimators=100;, score=0.599 total time=   0.8s\n",
      "[CV 1/3] END criterion=gini, max_depth=2000, max_features=sqrt, min_samples_leaf=5, min_samples_split=15, n_estimators=80;, score=0.588 total time=   0.6s\n",
      "[CV 3/3] END criterion=gini, max_depth=2000, max_features=sqrt, min_samples_leaf=5, min_samples_split=15, n_estimators=80;, score=0.589 total time=   0.6s\n",
      "[CV 1/3] END criterion=gini, max_depth=2000, max_features=sqrt, min_samples_leaf=5, min_samples_split=15, n_estimators=120;, score=0.589 total time=   0.9s\n",
      "[CV 2/3] END criterion=gini, max_depth=2000, max_features=sqrt, min_samples_leaf=10, min_samples_split=5, n_estimators=80;, score=0.600 total time=   0.6s\n",
      "[CV 3/3] END criterion=gini, max_depth=2000, max_features=sqrt, min_samples_leaf=10, min_samples_split=5, n_estimators=100;, score=0.598 total time=   0.8s\n",
      "[CV 1/3] END criterion=gini, max_depth=2000, max_features=sqrt, min_samples_leaf=10, min_samples_split=10, n_estimators=80;, score=0.593 total time=   0.7s\n",
      "[CV 2/3] END criterion=gini, max_depth=2000, max_features=sqrt, min_samples_leaf=10, min_samples_split=10, n_estimators=100;, score=0.599 total time=   1.0s\n",
      "[CV 3/3] END criterion=gini, max_depth=2000, max_features=sqrt, min_samples_leaf=10, min_samples_split=10, n_estimators=120;, score=0.595 total time=   0.9s\n",
      "[CV 1/3] END criterion=gini, max_depth=2000, max_features=sqrt, min_samples_leaf=10, min_samples_split=15, n_estimators=100;, score=0.596 total time=   0.8s\n",
      "[CV 2/3] END criterion=gini, max_depth=2000, max_features=sqrt, min_samples_leaf=10, min_samples_split=15, n_estimators=120;, score=0.597 total time=   0.9s\n",
      "[CV 3/3] END criterion=gini, max_depth=2000, max_features=sqrt, min_samples_leaf=15, min_samples_split=5, n_estimators=80;, score=0.594 total time=   0.6s\n",
      "[CV 1/3] END criterion=gini, max_depth=2000, max_features=sqrt, min_samples_leaf=15, min_samples_split=5, n_estimators=120;, score=0.599 total time=   1.4s\n",
      "[CV 2/3] END criterion=gini, max_depth=2000, max_features=sqrt, min_samples_leaf=15, min_samples_split=10, n_estimators=80;, score=0.600 total time=   0.6s\n",
      "[CV 3/3] END criterion=gini, max_depth=2000, max_features=sqrt, min_samples_leaf=15, min_samples_split=10, n_estimators=100;, score=0.595 total time=   1.3s\n",
      "[CV 1/3] END criterion=gini, max_depth=2000, max_features=sqrt, min_samples_leaf=15, min_samples_split=15, n_estimators=80;, score=0.601 total time=   1.0s\n",
      "[CV 2/3] END criterion=gini, max_depth=2000, max_features=sqrt, min_samples_leaf=15, min_samples_split=15, n_estimators=100;, score=0.600 total time=   1.2s\n",
      "[CV 3/3] END criterion=gini, max_depth=2000, max_features=sqrt, min_samples_leaf=15, min_samples_split=15, n_estimators=120;, score=0.600 total time=   1.8s\n",
      "[CV 1/3] END criterion=gini, max_depth=2000, max_features=log2, min_samples_leaf=5, min_samples_split=5, n_estimators=100;, score=0.588 total time=   1.2s\n",
      "[CV 2/3] END criterion=gini, max_depth=2000, max_features=log2, min_samples_leaf=5, min_samples_split=5, n_estimators=120;, score=0.596 total time=   1.2s\n",
      "[CV 3/3] END criterion=gini, max_depth=2000, max_features=log2, min_samples_leaf=5, min_samples_split=10, n_estimators=80;, score=0.600 total time=   1.1s\n",
      "[CV 1/3] END criterion=gini, max_depth=5, max_features=sqrt, min_samples_leaf=5, min_samples_split=5, n_estimators=100;, score=0.598 total time=   0.9s\n",
      "[CV 2/3] END criterion=gini, max_depth=5, max_features=sqrt, min_samples_leaf=5, min_samples_split=5, n_estimators=120;, score=0.604 total time=   1.0s\n",
      "[CV 3/3] END criterion=gini, max_depth=5, max_features=sqrt, min_samples_leaf=5, min_samples_split=10, n_estimators=80;, score=0.596 total time=   0.7s\n",
      "[CV 3/3] END criterion=gini, max_depth=5, max_features=sqrt, min_samples_leaf=5, min_samples_split=10, n_estimators=100;, score=0.597 total time=   1.0s\n",
      "[CV 1/3] END criterion=gini, max_depth=5, max_features=sqrt, min_samples_leaf=5, min_samples_split=15, n_estimators=80;, score=0.595 total time=   0.7s\n",
      "[CV 1/3] END criterion=gini, max_depth=5, max_features=sqrt, min_samples_leaf=5, min_samples_split=15, n_estimators=100;, score=0.594 total time=   0.9s\n",
      "[CV 2/3] END criterion=gini, max_depth=5, max_features=sqrt, min_samples_leaf=5, min_samples_split=15, n_estimators=120;, score=0.605 total time=   1.0s\n",
      "[CV 1/3] END criterion=gini, max_depth=5, max_features=sqrt, min_samples_leaf=10, min_samples_split=5, n_estimators=100;, score=0.597 total time=   0.9s\n",
      "[CV 2/3] END criterion=gini, max_depth=5, max_features=sqrt, min_samples_leaf=10, min_samples_split=5, n_estimators=120;, score=0.607 total time=   1.7s\n",
      "[CV 3/3] END criterion=gini, max_depth=5, max_features=sqrt, min_samples_leaf=10, min_samples_split=10, n_estimators=80;, score=0.599 total time=   2.3s\n",
      "[CV 1/3] END criterion=gini, max_depth=5, max_features=sqrt, min_samples_leaf=10, min_samples_split=10, n_estimators=120;, score=0.597 total time=   1.3s\n",
      "[CV 2/3] END criterion=gini, max_depth=5, max_features=sqrt, min_samples_leaf=10, min_samples_split=15, n_estimators=80;, score=0.600 total time=   0.9s\n",
      "[CV 3/3] END criterion=gini, max_depth=5, max_features=sqrt, min_samples_leaf=10, min_samples_split=15, n_estimators=100;, score=0.600 total time=   3.7s\n",
      "[CV 1/3] END criterion=gini, max_depth=5, max_features=sqrt, min_samples_leaf=15, min_samples_split=5, n_estimators=80;, score=0.598 total time=   0.7s\n",
      "[CV 3/3] END criterion=gini, max_depth=5, max_features=sqrt, min_samples_leaf=15, min_samples_split=5, n_estimators=80;, score=0.601 total time=   0.6s\n",
      "[CV 1/3] END criterion=gini, max_depth=5, max_features=sqrt, min_samples_leaf=15, min_samples_split=5, n_estimators=120;, score=0.599 total time=   1.1s\n",
      "[CV 2/3] END criterion=gini, max_depth=5, max_features=sqrt, min_samples_leaf=15, min_samples_split=10, n_estimators=80;, score=0.600 total time=   1.1s\n",
      "[CV 3/3] END criterion=gini, max_depth=5, max_features=sqrt, min_samples_leaf=15, min_samples_split=10, n_estimators=100;, score=0.599 total time=   1.1s\n",
      "[CV 1/3] END criterion=gini, max_depth=5, max_features=sqrt, min_samples_leaf=15, min_samples_split=15, n_estimators=80;, score=0.598 total time=   1.1s\n",
      "[CV 1/3] END criterion=gini, max_depth=5, max_features=sqrt, min_samples_leaf=15, min_samples_split=15, n_estimators=100;, score=0.599 total time=   1.1s\n",
      "[CV 3/3] END criterion=gini, max_depth=5, max_features=sqrt, min_samples_leaf=15, min_samples_split=15, n_estimators=120;, score=0.600 total time=   1.2s\n",
      "[CV 1/3] END criterion=gini, max_depth=5, max_features=log2, min_samples_leaf=5, min_samples_split=5, n_estimators=100;, score=0.598 total time=   1.1s\n",
      "[CV 2/3] END criterion=gini, max_depth=5, max_features=log2, min_samples_leaf=5, min_samples_split=5, n_estimators=120;, score=0.604 total time=   1.0s\n",
      "[CV 1/3] END criterion=gini, max_depth=5, max_features=log2, min_samples_leaf=5, min_samples_split=10, n_estimators=100;, score=0.598 total time=   1.0s\n",
      "[CV 2/3] END criterion=gini, max_depth=5, max_features=log2, min_samples_leaf=5, min_samples_split=10, n_estimators=120;, score=0.604 total time=   0.9s\n",
      "[CV 3/3] END criterion=gini, max_depth=5, max_features=log2, min_samples_leaf=5, min_samples_split=15, n_estimators=80;, score=0.593 total time=   0.8s\n",
      "[CV 1/3] END criterion=gini, max_depth=5, max_features=log2, min_samples_leaf=5, min_samples_split=15, n_estimators=120;, score=0.595 total time=   1.1s\n",
      "[CV 2/3] END criterion=gini, max_depth=5, max_features=log2, min_samples_leaf=10, min_samples_split=5, n_estimators=80;, score=0.600 total time=   1.0s\n",
      "[CV 3/3] END criterion=gini, max_depth=5, max_features=log2, min_samples_leaf=10, min_samples_split=5, n_estimators=100;, score=0.600 total time=   1.1s\n",
      "[CV 1/3] END criterion=gini, max_depth=5, max_features=log2, min_samples_leaf=10, min_samples_split=10, n_estimators=80;, score=0.600 total time=   0.7s\n",
      "[CV 3/3] END criterion=gini, max_depth=5, max_features=log2, min_samples_leaf=10, min_samples_split=10, n_estimators=80;, score=0.599 total time=   0.7s\n",
      "[CV 1/3] END criterion=gini, max_depth=5, max_features=log2, min_samples_leaf=10, min_samples_split=10, n_estimators=120;, score=0.597 total time=   0.9s\n",
      "[CV 2/3] END criterion=gini, max_depth=5, max_features=log2, min_samples_leaf=10, min_samples_split=15, n_estimators=80;, score=0.600 total time=   0.6s\n",
      "[CV 3/3] END criterion=gini, max_depth=5, max_features=log2, min_samples_leaf=10, min_samples_split=15, n_estimators=100;, score=0.600 total time=   0.7s\n",
      "[CV 1/3] END criterion=gini, max_depth=5, max_features=log2, min_samples_leaf=15, min_samples_split=5, n_estimators=80;, score=0.598 total time=   0.7s\n",
      "[CV 2/3] END criterion=gini, max_depth=5, max_features=log2, min_samples_leaf=15, min_samples_split=5, n_estimators=100;, score=0.604 total time=   0.7s\n",
      "[CV 3/3] END criterion=gini, max_depth=5, max_features=log2, min_samples_leaf=15, min_samples_split=5, n_estimators=120;, score=0.600 total time=   1.0s\n",
      "[CV 1/3] END criterion=gini, max_depth=5, max_features=log2, min_samples_leaf=15, min_samples_split=10, n_estimators=100;, score=0.599 total time=   1.2s\n",
      "[CV 2/3] END criterion=gini, max_depth=5, max_features=log2, min_samples_leaf=15, min_samples_split=10, n_estimators=120;, score=0.606 total time=   1.0s\n",
      "[CV 3/3] END criterion=gini, max_depth=5, max_features=log2, min_samples_leaf=15, min_samples_split=15, n_estimators=80;, score=0.601 total time=   1.1s\n",
      "[CV 1/3] END criterion=gini, max_depth=5, max_features=log2, min_samples_leaf=15, min_samples_split=15, n_estimators=120;, score=0.599 total time=   1.4s\n",
      "[CV 2/3] END criterion=gini, max_depth=100, max_features=sqrt, min_samples_leaf=5, min_samples_split=5, n_estimators=80;, score=0.594 total time=   1.1s\n",
      "[CV 3/3] END criterion=gini, max_depth=100, max_features=sqrt, min_samples_leaf=5, min_samples_split=5, n_estimators=100;, score=0.599 total time=   1.4s\n",
      "[CV 1/3] END criterion=gini, max_depth=100, max_features=sqrt, min_samples_leaf=5, min_samples_split=10, n_estimators=80;, score=0.588 total time=   1.1s\n",
      "[CV 1/3] END criterion=gini, max_depth=100, max_features=sqrt, min_samples_leaf=5, min_samples_split=10, n_estimators=100;, score=0.588 total time=   2.4s\n",
      "[CV 2/3] END criterion=gini, max_depth=100, max_features=sqrt, min_samples_leaf=5, min_samples_split=10, n_estimators=120;, score=0.596 total time=   2.7s\n",
      "[CV 1/3] END criterion=gini, max_depth=100, max_features=sqrt, min_samples_leaf=5, min_samples_split=15, n_estimators=100;, score=0.586 total time=   2.8s\n",
      "[CV 2/3] END criterion=gini, max_depth=100, max_features=sqrt, min_samples_leaf=5, min_samples_split=15, n_estimators=120;, score=0.599 total time=   2.6s\n",
      "[CV 2/3] END criterion=gini, max_depth=100, max_features=sqrt, min_samples_leaf=10, min_samples_split=5, n_estimators=100;, score=0.599 total time=   2.0s\n",
      "[CV 3/3] END criterion=gini, max_depth=100, max_features=sqrt, min_samples_leaf=10, min_samples_split=5, n_estimators=120;, score=0.595 total time=   1.5s\n",
      "[CV 1/3] END criterion=gini, max_depth=100, max_features=sqrt, min_samples_leaf=10, min_samples_split=10, n_estimators=100;, score=0.596 total time=   1.6s\n",
      "[CV 2/3] END criterion=gini, max_depth=100, max_features=sqrt, min_samples_leaf=10, min_samples_split=10, n_estimators=120;, score=0.597 total time=   1.7s\n",
      "[CV 1/3] END criterion=gini, max_depth=100, max_features=sqrt, min_samples_leaf=10, min_samples_split=15, n_estimators=100;, score=0.596 total time=   1.8s\n",
      "[CV 2/3] END criterion=gini, max_depth=100, max_features=sqrt, min_samples_leaf=10, min_samples_split=15, n_estimators=120;, score=0.597 total time=   2.1s\n",
      "[CV 3/3] END criterion=gini, max_depth=100, max_features=sqrt, min_samples_leaf=15, min_samples_split=5, n_estimators=80;, score=0.594 total time=   1.0s\n",
      "[CV 1/3] END criterion=gini, max_depth=100, max_features=sqrt, min_samples_leaf=15, min_samples_split=5, n_estimators=120;, score=0.599 total time=   1.5s\n",
      "[CV 2/3] END criterion=gini, max_depth=100, max_features=sqrt, min_samples_leaf=15, min_samples_split=10, n_estimators=80;, score=0.600 total time=   0.8s\n",
      "[CV 3/3] END criterion=gini, max_depth=100, max_features=sqrt, min_samples_leaf=15, min_samples_split=10, n_estimators=100;, score=0.595 total time=   0.6s\n",
      "[CV 1/3] END criterion=gini, max_depth=100, max_features=sqrt, min_samples_leaf=15, min_samples_split=15, n_estimators=80;, score=0.601 total time=   0.5s\n",
      "[CV 2/3] END criterion=gini, max_depth=100, max_features=sqrt, min_samples_leaf=15, min_samples_split=15, n_estimators=100;, score=0.600 total time=   0.7s\n",
      "[CV 3/3] END criterion=gini, max_depth=100, max_features=sqrt, min_samples_leaf=15, min_samples_split=15, n_estimators=120;, score=0.600 total time=   0.8s\n",
      "[CV 1/3] END criterion=gini, max_depth=100, max_features=log2, min_samples_leaf=5, min_samples_split=5, n_estimators=100;, score=0.588 total time=   1.1s\n",
      "[CV 2/3] END criterion=gini, max_depth=100, max_features=log2, min_samples_leaf=5, min_samples_split=5, n_estimators=120;, score=0.596 total time=   1.2s\n",
      "[CV 3/3] END criterion=gini, max_depth=100, max_features=log2, min_samples_leaf=5, min_samples_split=10, n_estimators=80;, score=0.600 total time=   0.8s\n",
      "[CV 1/3] END criterion=gini, max_depth=100, max_features=log2, min_samples_leaf=5, min_samples_split=10, n_estimators=120;, score=0.587 total time=   1.1s\n",
      "[CV 2/3] END criterion=gini, max_depth=100, max_features=log2, min_samples_leaf=5, min_samples_split=15, n_estimators=80;, score=0.599 total time=   0.7s\n",
      "[CV 3/3] END criterion=gini, max_depth=100, max_features=log2, min_samples_leaf=5, min_samples_split=15, n_estimators=100;, score=0.594 total time=   1.2s\n",
      "[CV 1/3] END criterion=gini, max_depth=100, max_features=log2, min_samples_leaf=10, min_samples_split=5, n_estimators=80;, score=0.593 total time=   0.8s\n",
      "[CV 1/3] END criterion=gini, max_depth=100, max_features=log2, min_samples_leaf=10, min_samples_split=5, n_estimators=100;, score=0.596 total time=   1.0s\n",
      "[CV 2/3] END criterion=gini, max_depth=100, max_features=log2, min_samples_leaf=10, min_samples_split=5, n_estimators=120;, score=0.597 total time=   1.0s\n",
      "[CV 3/3] END criterion=gini, max_depth=100, max_features=log2, min_samples_leaf=10, min_samples_split=10, n_estimators=80;, score=0.597 total time=   0.8s\n",
      "[CV 1/3] END criterion=gini, max_depth=100, max_features=log2, min_samples_leaf=10, min_samples_split=10, n_estimators=120;, score=0.599 total time=   1.1s\n",
      "[CV 2/3] END criterion=gini, max_depth=100, max_features=log2, min_samples_leaf=10, min_samples_split=15, n_estimators=80;, score=0.600 total time=   0.6s\n",
      "[CV 3/3] END criterion=gini, max_depth=100, max_features=log2, min_samples_leaf=10, min_samples_split=15, n_estimators=100;, score=0.598 total time=   1.0s\n",
      "[CV 1/3] END criterion=gini, max_depth=100, max_features=log2, min_samples_leaf=15, min_samples_split=5, n_estimators=80;, score=0.601 total time=   0.6s\n",
      "[CV 1/3] END criterion=gini, max_depth=100, max_features=log2, min_samples_leaf=15, min_samples_split=5, n_estimators=100;, score=0.599 total time=   0.6s\n",
      "[CV 2/3] END criterion=gini, max_depth=100, max_features=log2, min_samples_leaf=15, min_samples_split=5, n_estimators=120;, score=0.602 total time=   1.0s\n",
      "[CV 3/3] END criterion=gini, max_depth=100, max_features=log2, min_samples_leaf=15, min_samples_split=10, n_estimators=80;, score=0.594 total time=   0.5s\n",
      "[CV 1/3] END criterion=gini, max_depth=100, max_features=log2, min_samples_leaf=15, min_samples_split=10, n_estimators=120;, score=0.599 total time=   1.0s\n",
      "[CV 2/3] END criterion=gini, max_depth=100, max_features=log2, min_samples_leaf=15, min_samples_split=15, n_estimators=80;, score=0.600 total time=   0.6s\n",
      "[CV 3/3] END criterion=gini, max_depth=100, max_features=log2, min_samples_leaf=15, min_samples_split=15, n_estimators=100;, score=0.595 total time=   0.8s\n",
      "[CV 1/3] END criterion=gini, max_depth=2000, max_features=sqrt, min_samples_leaf=5, min_samples_split=5, n_estimators=80;, score=0.588 total time=   0.7s\n",
      "[CV 2/3] END criterion=gini, max_depth=2000, max_features=sqrt, min_samples_leaf=5, min_samples_split=5, n_estimators=100;, score=0.592 total time=   0.8s\n",
      "[CV 3/3] END criterion=gini, max_depth=2000, max_features=sqrt, min_samples_leaf=5, min_samples_split=5, n_estimators=120;, score=0.598 total time=   1.0s\n",
      "[CV 2/3] END criterion=gini, max_depth=2000, max_features=sqrt, min_samples_leaf=5, min_samples_split=10, n_estimators=100;, score=0.592 total time=   0.8s\n",
      "[CV 3/3] END criterion=gini, max_depth=2000, max_features=sqrt, min_samples_leaf=5, min_samples_split=10, n_estimators=120;, score=0.598 total time=   0.9s\n",
      "[CV 2/3] END criterion=gini, max_depth=2000, max_features=sqrt, min_samples_leaf=5, min_samples_split=15, n_estimators=100;, score=0.597 total time=   0.8s\n",
      "[CV 3/3] END criterion=gini, max_depth=2000, max_features=sqrt, min_samples_leaf=5, min_samples_split=15, n_estimators=120;, score=0.593 total time=   0.9s\n",
      "[CV 2/3] END criterion=gini, max_depth=2000, max_features=sqrt, min_samples_leaf=10, min_samples_split=5, n_estimators=100;, score=0.599 total time=   0.8s\n",
      "[CV 3/3] END criterion=gini, max_depth=2000, max_features=sqrt, min_samples_leaf=10, min_samples_split=5, n_estimators=120;, score=0.595 total time=   1.1s\n",
      "[CV 1/3] END criterion=gini, max_depth=2000, max_features=sqrt, min_samples_leaf=10, min_samples_split=10, n_estimators=100;, score=0.596 total time=   0.9s\n",
      "[CV 2/3] END criterion=gini, max_depth=2000, max_features=sqrt, min_samples_leaf=10, min_samples_split=10, n_estimators=120;, score=0.597 total time=   0.9s\n",
      "[CV 3/3] END criterion=gini, max_depth=2000, max_features=sqrt, min_samples_leaf=10, min_samples_split=15, n_estimators=80;, score=0.597 total time=   0.6s\n",
      "[CV 1/3] END criterion=gini, max_depth=2000, max_features=sqrt, min_samples_leaf=10, min_samples_split=15, n_estimators=120;, score=0.599 total time=   0.9s\n",
      "[CV 2/3] END criterion=gini, max_depth=2000, max_features=sqrt, min_samples_leaf=15, min_samples_split=5, n_estimators=80;, score=0.600 total time=   0.7s\n",
      "[CV 3/3] END criterion=gini, max_depth=2000, max_features=sqrt, min_samples_leaf=15, min_samples_split=5, n_estimators=100;, score=0.595 total time=   0.8s\n",
      "[CV 1/3] END criterion=gini, max_depth=2000, max_features=sqrt, min_samples_leaf=15, min_samples_split=10, n_estimators=80;, score=0.601 total time=   1.0s\n",
      "[CV 2/3] END criterion=gini, max_depth=2000, max_features=sqrt, min_samples_leaf=15, min_samples_split=10, n_estimators=100;, score=0.600 total time=   0.9s\n",
      "[CV 3/3] END criterion=gini, max_depth=2000, max_features=sqrt, min_samples_leaf=15, min_samples_split=10, n_estimators=120;, score=0.600 total time=   1.7s\n",
      "[CV 1/3] END criterion=gini, max_depth=2000, max_features=sqrt, min_samples_leaf=15, min_samples_split=15, n_estimators=100;, score=0.599 total time=   1.1s\n",
      "[CV 2/3] END criterion=gini, max_depth=2000, max_features=sqrt, min_samples_leaf=15, min_samples_split=15, n_estimators=120;, score=0.602 total time=   1.9s\n",
      "[CV 3/3] END criterion=gini, max_depth=2000, max_features=log2, min_samples_leaf=5, min_samples_split=5, n_estimators=80;, score=0.600 total time=   1.0s\n",
      "[CV 1/3] END criterion=gini, max_depth=2000, max_features=log2, min_samples_leaf=5, min_samples_split=5, n_estimators=120;, score=0.587 total time=   1.2s\n",
      "[CV 2/3] END criterion=gini, max_depth=2000, max_features=log2, min_samples_leaf=5, min_samples_split=10, n_estimators=80;, score=0.594 total time=   1.0s\n",
      "[CV 3/3] END criterion=gini, max_depth=2000, max_features=log2, min_samples_leaf=5, min_samples_split=10, n_estimators=100;, score=0.599 total time=   1.3s\n",
      "[CV 2/3] END criterion=gini, max_depth=5, max_features=sqrt, min_samples_leaf=5, min_samples_split=5, n_estimators=80;, score=0.599 total time=   0.8s\n",
      "[CV 1/3] END criterion=gini, max_depth=5, max_features=sqrt, min_samples_leaf=5, min_samples_split=5, n_estimators=120;, score=0.597 total time=   1.0s\n",
      "[CV 2/3] END criterion=gini, max_depth=5, max_features=sqrt, min_samples_leaf=5, min_samples_split=10, n_estimators=80;, score=0.599 total time=   0.7s\n",
      "[CV 2/3] END criterion=gini, max_depth=5, max_features=sqrt, min_samples_leaf=5, min_samples_split=10, n_estimators=100;, score=0.603 total time=   0.8s\n",
      "[CV 3/3] END criterion=gini, max_depth=5, max_features=sqrt, min_samples_leaf=5, min_samples_split=10, n_estimators=120;, score=0.597 total time=   1.4s\n",
      "[CV 2/3] END criterion=gini, max_depth=5, max_features=sqrt, min_samples_leaf=5, min_samples_split=15, n_estimators=100;, score=0.606 total time=   0.8s\n",
      "[CV 1/3] END criterion=gini, max_depth=5, max_features=sqrt, min_samples_leaf=10, min_samples_split=5, n_estimators=80;, score=0.600 total time=   0.6s\n",
      "[CV 3/3] END criterion=gini, max_depth=5, max_features=sqrt, min_samples_leaf=10, min_samples_split=5, n_estimators=80;, score=0.599 total time=   0.7s\n",
      "[CV 1/3] END criterion=gini, max_depth=5, max_features=sqrt, min_samples_leaf=10, min_samples_split=5, n_estimators=120;, score=0.597 total time=   1.1s\n",
      "[CV 2/3] END criterion=gini, max_depth=5, max_features=sqrt, min_samples_leaf=10, min_samples_split=10, n_estimators=80;, score=0.600 total time=   3.0s\n",
      "[CV 3/3] END criterion=gini, max_depth=5, max_features=sqrt, min_samples_leaf=10, min_samples_split=10, n_estimators=100;, score=0.600 total time=   1.0s\n",
      "[CV 1/3] END criterion=gini, max_depth=5, max_features=sqrt, min_samples_leaf=10, min_samples_split=15, n_estimators=80;, score=0.600 total time=   1.1s\n",
      "[CV 3/3] END criterion=gini, max_depth=5, max_features=sqrt, min_samples_leaf=10, min_samples_split=15, n_estimators=80;, score=0.599 total time=   2.3s\n",
      "[CV 1/3] END criterion=gini, max_depth=5, max_features=sqrt, min_samples_leaf=10, min_samples_split=15, n_estimators=120;, score=0.597 total time=   1.3s\n",
      "[CV 2/3] END criterion=gini, max_depth=5, max_features=sqrt, min_samples_leaf=15, min_samples_split=5, n_estimators=80;, score=0.600 total time=   0.6s\n",
      "[CV 3/3] END criterion=gini, max_depth=5, max_features=sqrt, min_samples_leaf=15, min_samples_split=5, n_estimators=100;, score=0.599 total time=   0.8s\n",
      "[CV 1/3] END criterion=gini, max_depth=5, max_features=sqrt, min_samples_leaf=15, min_samples_split=10, n_estimators=80;, score=0.598 total time=   0.9s\n",
      "[CV 2/3] END criterion=gini, max_depth=5, max_features=sqrt, min_samples_leaf=15, min_samples_split=10, n_estimators=100;, score=0.604 total time=   1.3s\n",
      "[CV 3/3] END criterion=gini, max_depth=5, max_features=sqrt, min_samples_leaf=15, min_samples_split=10, n_estimators=120;, score=0.600 total time=   1.7s\n",
      "[CV 2/3] END criterion=gini, max_depth=5, max_features=sqrt, min_samples_leaf=15, min_samples_split=15, n_estimators=100;, score=0.604 total time=   1.1s\n",
      "[CV 2/3] END criterion=gini, max_depth=5, max_features=sqrt, min_samples_leaf=15, min_samples_split=15, n_estimators=120;, score=0.606 total time=   1.2s\n",
      "[CV 3/3] END criterion=gini, max_depth=5, max_features=log2, min_samples_leaf=5, min_samples_split=5, n_estimators=80;, score=0.596 total time=   0.9s\n",
      "[CV 1/3] END criterion=gini, max_depth=5, max_features=log2, min_samples_leaf=5, min_samples_split=5, n_estimators=120;, score=0.597 total time=   1.1s\n",
      "[CV 2/3] END criterion=gini, max_depth=5, max_features=log2, min_samples_leaf=5, min_samples_split=10, n_estimators=80;, score=0.599 total time=   0.9s\n",
      "[CV 3/3] END criterion=gini, max_depth=5, max_features=log2, min_samples_leaf=5, min_samples_split=10, n_estimators=100;, score=0.597 total time=   0.7s\n",
      "[CV 1/3] END criterion=gini, max_depth=5, max_features=log2, min_samples_leaf=5, min_samples_split=15, n_estimators=80;, score=0.595 total time=   0.6s\n",
      "[CV 2/3] END criterion=gini, max_depth=5, max_features=log2, min_samples_leaf=5, min_samples_split=15, n_estimators=100;, score=0.606 total time=   1.0s\n",
      "[CV 3/3] END criterion=gini, max_depth=5, max_features=log2, min_samples_leaf=5, min_samples_split=15, n_estimators=120;, score=0.594 total time=   1.2s\n",
      "[CV 2/3] END criterion=gini, max_depth=5, max_features=log2, min_samples_leaf=10, min_samples_split=5, n_estimators=100;, score=0.604 total time=   1.2s\n",
      "[CV 3/3] END criterion=gini, max_depth=5, max_features=log2, min_samples_leaf=10, min_samples_split=5, n_estimators=120;, score=0.595 total time=   1.1s\n",
      "[CV 2/3] END criterion=gini, max_depth=5, max_features=log2, min_samples_leaf=10, min_samples_split=10, n_estimators=100;, score=0.604 total time=   0.9s\n",
      "[CV 3/3] END criterion=gini, max_depth=5, max_features=log2, min_samples_leaf=10, min_samples_split=10, n_estimators=120;, score=0.595 total time=   0.8s\n",
      "[CV 2/3] END criterion=gini, max_depth=5, max_features=log2, min_samples_leaf=10, min_samples_split=15, n_estimators=100;, score=0.604 total time=   0.8s\n",
      "[CV 3/3] END criterion=gini, max_depth=5, max_features=log2, min_samples_leaf=10, min_samples_split=15, n_estimators=120;, score=0.595 total time=   0.9s\n",
      "[CV 1/3] END criterion=gini, max_depth=5, max_features=log2, min_samples_leaf=15, min_samples_split=5, n_estimators=100;, score=0.599 total time=   0.7s\n",
      "[CV 2/3] END criterion=gini, max_depth=5, max_features=log2, min_samples_leaf=15, min_samples_split=5, n_estimators=120;, score=0.606 total time=   1.1s\n",
      "[CV 3/3] END criterion=gini, max_depth=5, max_features=log2, min_samples_leaf=15, min_samples_split=10, n_estimators=80;, score=0.601 total time=   1.0s\n",
      "[CV 1/3] END criterion=gini, max_depth=5, max_features=log2, min_samples_leaf=15, min_samples_split=10, n_estimators=120;, score=0.599 total time=   0.9s\n",
      "[CV 2/3] END criterion=gini, max_depth=5, max_features=log2, min_samples_leaf=15, min_samples_split=15, n_estimators=80;, score=0.600 total time=   0.9s\n",
      "[CV 3/3] END criterion=gini, max_depth=5, max_features=log2, min_samples_leaf=15, min_samples_split=15, n_estimators=100;, score=0.599 total time=   1.6s\n",
      "[CV 1/3] END criterion=gini, max_depth=100, max_features=sqrt, min_samples_leaf=5, min_samples_split=5, n_estimators=80;, score=0.588 total time=   0.9s\n",
      "[CV 2/3] END criterion=gini, max_depth=100, max_features=sqrt, min_samples_leaf=5, min_samples_split=5, n_estimators=100;, score=0.592 total time=   1.5s\n",
      "[CV 3/3] END criterion=gini, max_depth=100, max_features=sqrt, min_samples_leaf=5, min_samples_split=5, n_estimators=120;, score=0.598 total time=   1.5s\n",
      "[CV 2/3] END criterion=gini, max_depth=100, max_features=sqrt, min_samples_leaf=5, min_samples_split=10, n_estimators=100;, score=0.592 total time=   2.4s\n",
      "[CV 3/3] END criterion=gini, max_depth=100, max_features=sqrt, min_samples_leaf=5, min_samples_split=10, n_estimators=120;, score=0.598 total time=   2.7s\n",
      "[CV 2/3] END criterion=gini, max_depth=100, max_features=sqrt, min_samples_leaf=5, min_samples_split=15, n_estimators=100;, score=0.597 total time=   2.8s\n",
      "[CV 3/3] END criterion=gini, max_depth=100, max_features=sqrt, min_samples_leaf=5, min_samples_split=15, n_estimators=120;, score=0.593 total time=   2.4s\n",
      "[CV 1/3] END criterion=gini, max_depth=100, max_features=sqrt, min_samples_leaf=10, min_samples_split=5, n_estimators=100;, score=0.596 total time=   2.0s\n",
      "[CV 2/3] END criterion=gini, max_depth=100, max_features=sqrt, min_samples_leaf=10, min_samples_split=5, n_estimators=120;, score=0.597 total time=   1.5s\n",
      "[CV 3/3] END criterion=gini, max_depth=100, max_features=sqrt, min_samples_leaf=10, min_samples_split=10, n_estimators=80;, score=0.597 total time=   1.3s\n",
      "[CV 1/3] END criterion=gini, max_depth=100, max_features=sqrt, min_samples_leaf=10, min_samples_split=10, n_estimators=120;, score=0.599 total time=   1.6s\n",
      "[CV 2/3] END criterion=gini, max_depth=100, max_features=sqrt, min_samples_leaf=10, min_samples_split=15, n_estimators=80;, score=0.600 total time=   1.2s\n",
      "[CV 3/3] END criterion=gini, max_depth=100, max_features=sqrt, min_samples_leaf=10, min_samples_split=15, n_estimators=100;, score=0.598 total time=   2.0s\n",
      "[CV 1/3] END criterion=gini, max_depth=100, max_features=sqrt, min_samples_leaf=15, min_samples_split=5, n_estimators=80;, score=0.601 total time=   1.1s\n",
      "[CV 2/3] END criterion=gini, max_depth=100, max_features=sqrt, min_samples_leaf=15, min_samples_split=5, n_estimators=100;, score=0.600 total time=   1.2s\n",
      "[CV 3/3] END criterion=gini, max_depth=100, max_features=sqrt, min_samples_leaf=15, min_samples_split=5, n_estimators=120;, score=0.600 total time=   1.6s\n",
      "[CV 1/3] END criterion=gini, max_depth=100, max_features=sqrt, min_samples_leaf=15, min_samples_split=10, n_estimators=100;, score=0.599 total time=   0.7s\n",
      "[CV 2/3] END criterion=gini, max_depth=100, max_features=sqrt, min_samples_leaf=15, min_samples_split=10, n_estimators=120;, score=0.602 total time=   0.8s\n",
      "[CV 3/3] END criterion=gini, max_depth=100, max_features=sqrt, min_samples_leaf=15, min_samples_split=15, n_estimators=80;, score=0.594 total time=   0.6s\n",
      "[CV 1/3] END criterion=gini, max_depth=100, max_features=sqrt, min_samples_leaf=15, min_samples_split=15, n_estimators=120;, score=0.599 total time=   0.8s\n",
      "[CV 2/3] END criterion=gini, max_depth=100, max_features=log2, min_samples_leaf=5, min_samples_split=5, n_estimators=80;, score=0.594 total time=   0.7s\n",
      "[CV 3/3] END criterion=gini, max_depth=100, max_features=log2, min_samples_leaf=5, min_samples_split=5, n_estimators=100;, score=0.599 total time=   1.2s\n",
      "[CV 1/3] END criterion=gini, max_depth=100, max_features=log2, min_samples_leaf=5, min_samples_split=10, n_estimators=80;, score=0.588 total time=   0.8s\n",
      "[CV 2/3] END criterion=gini, max_depth=100, max_features=log2, min_samples_leaf=5, min_samples_split=10, n_estimators=100;, score=0.592 total time=   0.9s\n",
      "[CV 3/3] END criterion=gini, max_depth=100, max_features=log2, min_samples_leaf=5, min_samples_split=10, n_estimators=120;, score=0.598 total time=   1.1s\n",
      "[CV 1/3] END criterion=gini, max_depth=100, max_features=log2, min_samples_leaf=5, min_samples_split=15, n_estimators=100;, score=0.586 total time=   0.9s\n",
      "[CV 2/3] END criterion=gini, max_depth=100, max_features=log2, min_samples_leaf=5, min_samples_split=15, n_estimators=120;, score=0.599 total time=   1.4s\n",
      "[CV 3/3] END criterion=gini, max_depth=100, max_features=log2, min_samples_leaf=10, min_samples_split=5, n_estimators=80;, score=0.597 total time=   0.8s\n",
      "[CV 1/3] END criterion=gini, max_depth=100, max_features=log2, min_samples_leaf=10, min_samples_split=5, n_estimators=120;, score=0.599 total time=   0.9s\n",
      "[CV 2/3] END criterion=gini, max_depth=100, max_features=log2, min_samples_leaf=10, min_samples_split=10, n_estimators=80;, score=0.600 total time=   0.6s\n",
      "[CV 3/3] END criterion=gini, max_depth=100, max_features=log2, min_samples_leaf=10, min_samples_split=10, n_estimators=100;, score=0.598 total time=   1.0s\n",
      "[CV 1/3] END criterion=gini, max_depth=100, max_features=log2, min_samples_leaf=10, min_samples_split=15, n_estimators=80;, score=0.593 total time=   0.7s\n",
      "[CV 3/3] END criterion=gini, max_depth=100, max_features=log2, min_samples_leaf=10, min_samples_split=15, n_estimators=80;, score=0.597 total time=   0.6s\n",
      "[CV 1/3] END criterion=gini, max_depth=100, max_features=log2, min_samples_leaf=10, min_samples_split=15, n_estimators=120;, score=0.599 total time=   1.1s\n",
      "[CV 2/3] END criterion=gini, max_depth=100, max_features=log2, min_samples_leaf=15, min_samples_split=5, n_estimators=80;, score=0.600 total time=   0.6s\n",
      "[CV 3/3] END criterion=gini, max_depth=100, max_features=log2, min_samples_leaf=15, min_samples_split=5, n_estimators=100;, score=0.595 total time=   0.7s\n",
      "[CV 1/3] END criterion=gini, max_depth=100, max_features=log2, min_samples_leaf=15, min_samples_split=10, n_estimators=80;, score=0.601 total time=   0.7s\n",
      "[CV 1/3] END criterion=gini, max_depth=100, max_features=log2, min_samples_leaf=15, min_samples_split=10, n_estimators=100;, score=0.599 total time=   0.7s\n",
      "[CV 2/3] END criterion=gini, max_depth=100, max_features=log2, min_samples_leaf=15, min_samples_split=10, n_estimators=120;, score=0.602 total time=   0.9s\n",
      "[CV 3/3] END criterion=gini, max_depth=100, max_features=log2, min_samples_leaf=15, min_samples_split=15, n_estimators=80;, score=0.594 total time=   0.6s\n",
      "[CV 1/3] END criterion=gini, max_depth=100, max_features=log2, min_samples_leaf=15, min_samples_split=15, n_estimators=120;, score=0.599 total time=   1.0s\n",
      "[CV 2/3] END criterion=gini, max_depth=2000, max_features=sqrt, min_samples_leaf=5, min_samples_split=5, n_estimators=80;, score=0.594 total time=   0.7s\n",
      "[CV 3/3] END criterion=gini, max_depth=2000, max_features=sqrt, min_samples_leaf=5, min_samples_split=5, n_estimators=100;, score=0.599 total time=   0.9s\n",
      "[CV 1/3] END criterion=gini, max_depth=2000, max_features=sqrt, min_samples_leaf=5, min_samples_split=10, n_estimators=80;, score=0.588 total time=   0.7s\n",
      "[CV 3/3] END criterion=gini, max_depth=2000, max_features=sqrt, min_samples_leaf=5, min_samples_split=10, n_estimators=80;, score=0.600 total time=   0.6s\n",
      "[CV 1/3] END criterion=gini, max_depth=2000, max_features=sqrt, min_samples_leaf=5, min_samples_split=10, n_estimators=120;, score=0.587 total time=   0.9s\n",
      "[CV 2/3] END criterion=gini, max_depth=2000, max_features=sqrt, min_samples_leaf=5, min_samples_split=15, n_estimators=80;, score=0.599 total time=   0.7s\n",
      "[CV 3/3] END criterion=gini, max_depth=2000, max_features=sqrt, min_samples_leaf=5, min_samples_split=15, n_estimators=100;, score=0.594 total time=   0.7s\n",
      "[CV 1/3] END criterion=gini, max_depth=2000, max_features=sqrt, min_samples_leaf=10, min_samples_split=5, n_estimators=80;, score=0.593 total time=   0.6s\n",
      "[CV 1/3] END criterion=gini, max_depth=2000, max_features=sqrt, min_samples_leaf=10, min_samples_split=5, n_estimators=100;, score=0.596 total time=   0.8s\n",
      "[CV 2/3] END criterion=gini, max_depth=2000, max_features=sqrt, min_samples_leaf=10, min_samples_split=5, n_estimators=120;, score=0.597 total time=   1.1s\n",
      "[CV 3/3] END criterion=gini, max_depth=2000, max_features=sqrt, min_samples_leaf=10, min_samples_split=10, n_estimators=80;, score=0.597 total time=   0.6s\n",
      "[CV 1/3] END criterion=gini, max_depth=2000, max_features=sqrt, min_samples_leaf=10, min_samples_split=10, n_estimators=120;, score=0.599 total time=   1.0s\n",
      "[CV 2/3] END criterion=gini, max_depth=2000, max_features=sqrt, min_samples_leaf=10, min_samples_split=15, n_estimators=80;, score=0.600 total time=   0.6s\n",
      "[CV 3/3] END criterion=gini, max_depth=2000, max_features=sqrt, min_samples_leaf=10, min_samples_split=15, n_estimators=100;, score=0.598 total time=   0.8s\n",
      "[CV 1/3] END criterion=gini, max_depth=2000, max_features=sqrt, min_samples_leaf=15, min_samples_split=5, n_estimators=80;, score=0.601 total time=   0.6s\n",
      "[CV 1/3] END criterion=gini, max_depth=2000, max_features=sqrt, min_samples_leaf=15, min_samples_split=5, n_estimators=100;, score=0.599 total time=   0.8s\n",
      "[CV 2/3] END criterion=gini, max_depth=2000, max_features=sqrt, min_samples_leaf=15, min_samples_split=5, n_estimators=120;, score=0.602 total time=   1.3s\n",
      "[CV 3/3] END criterion=gini, max_depth=2000, max_features=sqrt, min_samples_leaf=15, min_samples_split=10, n_estimators=80;, score=0.594 total time=   0.7s\n",
      "[CV 1/3] END criterion=gini, max_depth=2000, max_features=sqrt, min_samples_leaf=15, min_samples_split=10, n_estimators=120;, score=0.599 total time=   1.6s\n",
      "[CV 2/3] END criterion=gini, max_depth=2000, max_features=sqrt, min_samples_leaf=15, min_samples_split=15, n_estimators=80;, score=0.600 total time=   0.9s\n",
      "[CV 3/3] END criterion=gini, max_depth=2000, max_features=sqrt, min_samples_leaf=15, min_samples_split=15, n_estimators=100;, score=0.595 total time=   1.4s\n",
      "[CV 1/3] END criterion=gini, max_depth=2000, max_features=log2, min_samples_leaf=5, min_samples_split=5, n_estimators=80;, score=0.588 total time=   1.4s\n",
      "[CV 2/3] END criterion=gini, max_depth=2000, max_features=log2, min_samples_leaf=5, min_samples_split=5, n_estimators=100;, score=0.592 total time=   1.2s\n",
      "[CV 3/3] END criterion=gini, max_depth=2000, max_features=log2, min_samples_leaf=5, min_samples_split=5, n_estimators=120;, score=0.598 total time=   1.0s\n",
      "[CV 1/3] END criterion=gini, max_depth=5, max_features=sqrt, min_samples_leaf=5, min_samples_split=5, n_estimators=80;, score=0.596 total time=   0.7s\n",
      "[CV 2/3] END criterion=gini, max_depth=5, max_features=sqrt, min_samples_leaf=5, min_samples_split=5, n_estimators=100;, score=0.603 total time=   0.8s\n",
      "[CV 3/3] END criterion=gini, max_depth=5, max_features=sqrt, min_samples_leaf=5, min_samples_split=5, n_estimators=120;, score=0.597 total time=   1.1s\n",
      "[CV 1/3] END criterion=gini, max_depth=5, max_features=sqrt, min_samples_leaf=5, min_samples_split=10, n_estimators=120;, score=0.597 total time=   1.2s\n",
      "[CV 2/3] END criterion=gini, max_depth=5, max_features=sqrt, min_samples_leaf=5, min_samples_split=15, n_estimators=80;, score=0.602 total time=   0.7s\n",
      "[CV 3/3] END criterion=gini, max_depth=5, max_features=sqrt, min_samples_leaf=5, min_samples_split=15, n_estimators=100;, score=0.594 total time=   0.8s\n",
      "[CV 3/3] END criterion=gini, max_depth=5, max_features=sqrt, min_samples_leaf=5, min_samples_split=15, n_estimators=120;, score=0.594 total time=   1.0s\n",
      "[CV 2/3] END criterion=gini, max_depth=5, max_features=sqrt, min_samples_leaf=10, min_samples_split=5, n_estimators=100;, score=0.604 total time=   0.8s\n",
      "[CV 3/3] END criterion=gini, max_depth=5, max_features=sqrt, min_samples_leaf=10, min_samples_split=5, n_estimators=120;, score=0.595 total time=   3.0s\n",
      "[CV 2/3] END criterion=gini, max_depth=5, max_features=sqrt, min_samples_leaf=10, min_samples_split=10, n_estimators=100;, score=0.604 total time=   1.4s\n",
      "[CV 3/3] END criterion=gini, max_depth=5, max_features=sqrt, min_samples_leaf=10, min_samples_split=10, n_estimators=120;, score=0.595 total time=   1.4s\n",
      "[CV 2/3] END criterion=gini, max_depth=5, max_features=sqrt, min_samples_leaf=10, min_samples_split=15, n_estimators=100;, score=0.604 total time=   3.8s\n",
      "[CV 2/3] END criterion=gini, max_depth=5, max_features=sqrt, min_samples_leaf=10, min_samples_split=15, n_estimators=120;, score=0.607 total time=   1.0s\n",
      "[CV 1/3] END criterion=gini, max_depth=5, max_features=sqrt, min_samples_leaf=15, min_samples_split=5, n_estimators=100;, score=0.599 total time=   0.8s\n",
      "[CV 2/3] END criterion=gini, max_depth=5, max_features=sqrt, min_samples_leaf=15, min_samples_split=5, n_estimators=120;, score=0.606 total time=   1.3s\n",
      "[CV 3/3] END criterion=gini, max_depth=5, max_features=sqrt, min_samples_leaf=15, min_samples_split=10, n_estimators=80;, score=0.601 total time=   1.1s\n",
      "[CV 1/3] END criterion=gini, max_depth=5, max_features=sqrt, min_samples_leaf=15, min_samples_split=10, n_estimators=120;, score=0.599 total time=   1.2s\n",
      "[CV 2/3] END criterion=gini, max_depth=5, max_features=sqrt, min_samples_leaf=15, min_samples_split=15, n_estimators=80;, score=0.600 total time=   1.3s\n",
      "[CV 3/3] END criterion=gini, max_depth=5, max_features=sqrt, min_samples_leaf=15, min_samples_split=15, n_estimators=100;, score=0.599 total time=   0.9s\n",
      "[CV 1/3] END criterion=gini, max_depth=5, max_features=log2, min_samples_leaf=5, min_samples_split=5, n_estimators=80;, score=0.596 total time=   0.9s\n",
      "[CV 2/3] END criterion=gini, max_depth=5, max_features=log2, min_samples_leaf=5, min_samples_split=5, n_estimators=100;, score=0.603 total time=   1.1s\n",
      "[CV 3/3] END criterion=gini, max_depth=5, max_features=log2, min_samples_leaf=5, min_samples_split=5, n_estimators=120;, score=0.597 total time=   1.0s\n",
      "[CV 2/3] END criterion=gini, max_depth=5, max_features=log2, min_samples_leaf=5, min_samples_split=10, n_estimators=100;, score=0.603 total time=   1.0s\n",
      "[CV 3/3] END criterion=gini, max_depth=5, max_features=log2, min_samples_leaf=5, min_samples_split=10, n_estimators=120;, score=0.597 total time=   0.9s\n",
      "[CV 1/3] END criterion=gini, max_depth=5, max_features=log2, min_samples_leaf=5, min_samples_split=15, n_estimators=100;, score=0.594 total time=   1.0s\n",
      "[CV 2/3] END criterion=gini, max_depth=5, max_features=log2, min_samples_leaf=5, min_samples_split=15, n_estimators=120;, score=0.605 total time=   1.2s\n",
      "[CV 3/3] END criterion=gini, max_depth=5, max_features=log2, min_samples_leaf=10, min_samples_split=5, n_estimators=80;, score=0.599 total time=   1.0s\n",
      "[CV 1/3] END criterion=gini, max_depth=5, max_features=log2, min_samples_leaf=10, min_samples_split=5, n_estimators=120;, score=0.597 total time=   1.1s\n",
      "[CV 2/3] END criterion=gini, max_depth=5, max_features=log2, min_samples_leaf=10, min_samples_split=10, n_estimators=80;, score=0.600 total time=   0.8s\n",
      "[CV 3/3] END criterion=gini, max_depth=5, max_features=log2, min_samples_leaf=10, min_samples_split=10, n_estimators=100;, score=0.600 total time=   0.8s\n",
      "[CV 1/3] END criterion=gini, max_depth=5, max_features=log2, min_samples_leaf=10, min_samples_split=15, n_estimators=80;, score=0.600 total time=   0.5s\n",
      "[CV 1/3] END criterion=gini, max_depth=5, max_features=log2, min_samples_leaf=10, min_samples_split=15, n_estimators=100;, score=0.597 total time=   0.8s\n",
      "[CV 2/3] END criterion=gini, max_depth=5, max_features=log2, min_samples_leaf=10, min_samples_split=15, n_estimators=120;, score=0.607 total time=   0.9s\n",
      "[CV 3/3] END criterion=gini, max_depth=5, max_features=log2, min_samples_leaf=15, min_samples_split=5, n_estimators=80;, score=0.601 total time=   0.6s\n",
      "[CV 1/3] END criterion=gini, max_depth=5, max_features=log2, min_samples_leaf=15, min_samples_split=5, n_estimators=120;, score=0.599 total time=   1.0s\n",
      "[CV 2/3] END criterion=gini, max_depth=5, max_features=log2, min_samples_leaf=15, min_samples_split=10, n_estimators=80;, score=0.600 total time=   1.1s\n",
      "[CV 3/3] END criterion=gini, max_depth=5, max_features=log2, min_samples_leaf=15, min_samples_split=10, n_estimators=100;, score=0.599 total time=   0.9s\n",
      "[CV 1/3] END criterion=gini, max_depth=5, max_features=log2, min_samples_leaf=15, min_samples_split=15, n_estimators=80;, score=0.598 total time=   0.6s\n",
      "[CV 2/3] END criterion=gini, max_depth=5, max_features=log2, min_samples_leaf=15, min_samples_split=15, n_estimators=100;, score=0.604 total time=   1.7s\n",
      "[CV 2/3] END criterion=gini, max_depth=5, max_features=log2, min_samples_leaf=15, min_samples_split=15, n_estimators=120;, score=0.606 total time=   0.9s\n",
      "[CV 1/3] END criterion=gini, max_depth=100, max_features=sqrt, min_samples_leaf=5, min_samples_split=5, n_estimators=100;, score=0.588 total time=   1.4s\n",
      "[CV 2/3] END criterion=gini, max_depth=100, max_features=sqrt, min_samples_leaf=5, min_samples_split=5, n_estimators=120;, score=0.596 total time=   1.7s\n",
      "[CV 3/3] END criterion=gini, max_depth=100, max_features=sqrt, min_samples_leaf=5, min_samples_split=10, n_estimators=80;, score=0.600 total time=   1.3s\n",
      "[CV 1/3] END criterion=gini, max_depth=100, max_features=sqrt, min_samples_leaf=5, min_samples_split=10, n_estimators=120;, score=0.587 total time=   3.3s\n",
      "[CV 2/3] END criterion=gini, max_depth=100, max_features=sqrt, min_samples_leaf=5, min_samples_split=15, n_estimators=80;, score=0.599 total time=   2.2s\n",
      "[CV 3/3] END criterion=gini, max_depth=100, max_features=sqrt, min_samples_leaf=5, min_samples_split=15, n_estimators=100;, score=0.594 total time=   2.4s\n",
      "[CV 1/3] END criterion=gini, max_depth=100, max_features=sqrt, min_samples_leaf=10, min_samples_split=5, n_estimators=80;, score=0.593 total time=   1.3s\n",
      "[CV 3/3] END criterion=gini, max_depth=100, max_features=sqrt, min_samples_leaf=10, min_samples_split=5, n_estimators=80;, score=0.597 total time=   1.5s\n",
      "[CV 1/3] END criterion=gini, max_depth=100, max_features=sqrt, min_samples_leaf=10, min_samples_split=5, n_estimators=120;, score=0.599 total time=   1.8s\n",
      "[CV 2/3] END criterion=gini, max_depth=100, max_features=sqrt, min_samples_leaf=10, min_samples_split=10, n_estimators=80;, score=0.600 total time=   1.0s\n",
      "[CV 3/3] END criterion=gini, max_depth=100, max_features=sqrt, min_samples_leaf=10, min_samples_split=10, n_estimators=100;, score=0.598 total time=   1.5s\n",
      "[CV 1/3] END criterion=gini, max_depth=100, max_features=sqrt, min_samples_leaf=10, min_samples_split=15, n_estimators=80;, score=0.593 total time=   1.2s\n",
      "[CV 3/3] END criterion=gini, max_depth=100, max_features=sqrt, min_samples_leaf=10, min_samples_split=15, n_estimators=80;, score=0.597 total time=   1.6s\n",
      "[CV 1/3] END criterion=gini, max_depth=100, max_features=sqrt, min_samples_leaf=10, min_samples_split=15, n_estimators=120;, score=0.599 total time=   2.1s\n",
      "[CV 2/3] END criterion=gini, max_depth=100, max_features=sqrt, min_samples_leaf=15, min_samples_split=5, n_estimators=80;, score=0.600 total time=   1.0s\n",
      "[CV 3/3] END criterion=gini, max_depth=100, max_features=sqrt, min_samples_leaf=15, min_samples_split=5, n_estimators=100;, score=0.595 total time=   1.3s\n",
      "[CV 1/3] END criterion=gini, max_depth=100, max_features=sqrt, min_samples_leaf=15, min_samples_split=10, n_estimators=80;, score=0.601 total time=   1.0s\n",
      "[CV 2/3] END criterion=gini, max_depth=100, max_features=sqrt, min_samples_leaf=15, min_samples_split=10, n_estimators=100;, score=0.600 total time=   0.7s\n",
      "[CV 3/3] END criterion=gini, max_depth=100, max_features=sqrt, min_samples_leaf=15, min_samples_split=10, n_estimators=120;, score=0.600 total time=   0.8s\n",
      "[CV 1/3] END criterion=gini, max_depth=100, max_features=sqrt, min_samples_leaf=15, min_samples_split=15, n_estimators=100;, score=0.599 total time=   0.7s\n",
      "[CV 2/3] END criterion=gini, max_depth=100, max_features=sqrt, min_samples_leaf=15, min_samples_split=15, n_estimators=120;, score=0.602 total time=   0.8s\n",
      "[CV 3/3] END criterion=gini, max_depth=100, max_features=log2, min_samples_leaf=5, min_samples_split=5, n_estimators=80;, score=0.600 total time=   0.8s\n",
      "[CV 1/3] END criterion=gini, max_depth=100, max_features=log2, min_samples_leaf=5, min_samples_split=5, n_estimators=120;, score=0.587 total time=   1.3s\n",
      "[CV 2/3] END criterion=gini, max_depth=100, max_features=log2, min_samples_leaf=5, min_samples_split=10, n_estimators=80;, score=0.594 total time=   0.8s\n",
      "[CV 3/3] END criterion=gini, max_depth=100, max_features=log2, min_samples_leaf=5, min_samples_split=10, n_estimators=100;, score=0.599 total time=   0.9s\n",
      "[CV 1/3] END criterion=gini, max_depth=100, max_features=log2, min_samples_leaf=5, min_samples_split=15, n_estimators=80;, score=0.588 total time=   0.7s\n",
      "[CV 3/3] END criterion=gini, max_depth=100, max_features=log2, min_samples_leaf=5, min_samples_split=15, n_estimators=80;, score=0.589 total time=   0.8s\n",
      "[CV 1/3] END criterion=gini, max_depth=100, max_features=log2, min_samples_leaf=5, min_samples_split=15, n_estimators=120;, score=0.589 total time=   1.4s\n",
      "[CV 2/3] END criterion=gini, max_depth=100, max_features=log2, min_samples_leaf=10, min_samples_split=5, n_estimators=80;, score=0.600 total time=   0.8s\n",
      "[CV 3/3] END criterion=gini, max_depth=100, max_features=log2, min_samples_leaf=10, min_samples_split=5, n_estimators=100;, score=0.598 total time=   0.9s\n",
      "[CV 1/3] END criterion=gini, max_depth=100, max_features=log2, min_samples_leaf=10, min_samples_split=10, n_estimators=80;, score=0.593 total time=   0.7s\n",
      "[CV 2/3] END criterion=gini, max_depth=100, max_features=log2, min_samples_leaf=10, min_samples_split=10, n_estimators=100;, score=0.599 total time=   1.0s\n",
      "[CV 3/3] END criterion=gini, max_depth=100, max_features=log2, min_samples_leaf=10, min_samples_split=10, n_estimators=120;, score=0.595 total time=   1.1s\n",
      "[CV 2/3] END criterion=gini, max_depth=100, max_features=log2, min_samples_leaf=10, min_samples_split=15, n_estimators=100;, score=0.599 total time=   1.0s\n",
      "[CV 3/3] END criterion=gini, max_depth=100, max_features=log2, min_samples_leaf=10, min_samples_split=15, n_estimators=120;, score=0.595 total time=   1.0s\n",
      "[CV 2/3] END criterion=gini, max_depth=100, max_features=log2, min_samples_leaf=15, min_samples_split=5, n_estimators=100;, score=0.600 total time=   0.7s\n",
      "[CV 3/3] END criterion=gini, max_depth=100, max_features=log2, min_samples_leaf=15, min_samples_split=5, n_estimators=120;, score=0.600 total time=   1.0s\n",
      "[CV 2/3] END criterion=gini, max_depth=100, max_features=log2, min_samples_leaf=15, min_samples_split=10, n_estimators=100;, score=0.600 total time=   0.7s\n",
      "[CV 3/3] END criterion=gini, max_depth=100, max_features=log2, min_samples_leaf=15, min_samples_split=10, n_estimators=120;, score=0.600 total time=   1.0s\n",
      "[CV 2/3] END criterion=gini, max_depth=100, max_features=log2, min_samples_leaf=15, min_samples_split=15, n_estimators=100;, score=0.600 total time=   0.9s\n",
      "[CV 3/3] END criterion=gini, max_depth=100, max_features=log2, min_samples_leaf=15, min_samples_split=15, n_estimators=120;, score=0.600 total time=   0.8s\n",
      "[CV 1/3] END criterion=gini, max_depth=2000, max_features=sqrt, min_samples_leaf=5, min_samples_split=5, n_estimators=100;, score=0.588 total time=   0.8s\n",
      "[CV 2/3] END criterion=gini, max_depth=2000, max_features=sqrt, min_samples_leaf=5, min_samples_split=5, n_estimators=120;, score=0.596 total time=   1.1s\n",
      "[CV 1/3] END criterion=gini, max_depth=2000, max_features=sqrt, min_samples_leaf=5, min_samples_split=10, n_estimators=100;, score=0.588 total time=   0.8s\n",
      "[CV 2/3] END criterion=gini, max_depth=2000, max_features=sqrt, min_samples_leaf=5, min_samples_split=10, n_estimators=120;, score=0.596 total time=   0.9s\n",
      "[CV 1/3] END criterion=gini, max_depth=2000, max_features=sqrt, min_samples_leaf=5, min_samples_split=15, n_estimators=100;, score=0.586 total time=   0.7s\n",
      "[CV 2/3] END criterion=gini, max_depth=2000, max_features=sqrt, min_samples_leaf=5, min_samples_split=15, n_estimators=120;, score=0.599 total time=   0.9s\n",
      "[CV 3/3] END criterion=gini, max_depth=2000, max_features=sqrt, min_samples_leaf=10, min_samples_split=5, n_estimators=80;, score=0.597 total time=   0.6s\n",
      "[CV 1/3] END criterion=gini, max_depth=2000, max_features=sqrt, min_samples_leaf=10, min_samples_split=5, n_estimators=120;, score=0.599 total time=   1.1s\n",
      "[CV 2/3] END criterion=gini, max_depth=2000, max_features=sqrt, min_samples_leaf=10, min_samples_split=10, n_estimators=80;, score=0.600 total time=   0.7s\n",
      "[CV 3/3] END criterion=gini, max_depth=2000, max_features=sqrt, min_samples_leaf=10, min_samples_split=10, n_estimators=100;, score=0.598 total time=   0.9s\n",
      "[CV 1/3] END criterion=gini, max_depth=2000, max_features=sqrt, min_samples_leaf=10, min_samples_split=15, n_estimators=80;, score=0.593 total time=   0.6s\n",
      "[CV 2/3] END criterion=gini, max_depth=2000, max_features=sqrt, min_samples_leaf=10, min_samples_split=15, n_estimators=100;, score=0.599 total time=   0.8s\n",
      "[CV 3/3] END criterion=gini, max_depth=2000, max_features=sqrt, min_samples_leaf=10, min_samples_split=15, n_estimators=120;, score=0.595 total time=   0.9s\n",
      "[CV 2/3] END criterion=gini, max_depth=2000, max_features=sqrt, min_samples_leaf=15, min_samples_split=5, n_estimators=100;, score=0.600 total time=   0.8s\n",
      "[CV 3/3] END criterion=gini, max_depth=2000, max_features=sqrt, min_samples_leaf=15, min_samples_split=5, n_estimators=120;, score=0.600 total time=   1.3s\n",
      "[CV 1/3] END criterion=gini, max_depth=2000, max_features=sqrt, min_samples_leaf=15, min_samples_split=10, n_estimators=100;, score=0.599 total time=   0.9s\n",
      "[CV 2/3] END criterion=gini, max_depth=2000, max_features=sqrt, min_samples_leaf=15, min_samples_split=10, n_estimators=120;, score=0.602 total time=   1.6s\n",
      "[CV 3/3] END criterion=gini, max_depth=2000, max_features=sqrt, min_samples_leaf=15, min_samples_split=15, n_estimators=80;, score=0.594 total time=   0.9s\n",
      "[CV 1/3] END criterion=gini, max_depth=2000, max_features=sqrt, min_samples_leaf=15, min_samples_split=15, n_estimators=120;, score=0.599 total time=   2.0s\n",
      "[CV 2/3] END criterion=gini, max_depth=2000, max_features=log2, min_samples_leaf=5, min_samples_split=5, n_estimators=80;, score=0.594 total time=   1.0s\n",
      "[CV 3/3] END criterion=gini, max_depth=2000, max_features=log2, min_samples_leaf=5, min_samples_split=5, n_estimators=100;, score=0.599 total time=   1.1s\n",
      "[CV 1/3] END criterion=gini, max_depth=2000, max_features=log2, min_samples_leaf=5, min_samples_split=10, n_estimators=80;, score=0.588 total time=   0.6s\n",
      "[CV 1/3] END criterion=gini, max_depth=2000, max_features=log2, min_samples_leaf=5, min_samples_split=10, n_estimators=100;, score=0.588 total time=   1.6s\n",
      "[CV 2/3] END criterion=gini, max_depth=2000, max_features=log2, min_samples_leaf=5, min_samples_split=10, n_estimators=120;, score=0.596 total time=   1.1s\n"
     ]
    },
    {
     "data": {
      "text/plain": [
       "GridSearchCV(cv=3,\n",
       "             estimator=RandomForestClassifier(max_depth=2000,\n",
       "                                              min_samples_leaf=5,\n",
       "                                              min_samples_split=10,\n",
       "                                              random_state=42),\n",
       "             n_jobs=-1,\n",
       "             param_grid={'criterion': ['gini', 'entropy'],\n",
       "                         'max_depth': [5, 100, 2000],\n",
       "                         'max_features': ['sqrt', 'log2'],\n",
       "                         'min_samples_leaf': [5, 10, 15],\n",
       "                         'min_samples_split': [5, 10, 15],\n",
       "                         'n_estimators': [80, 100, 120]},\n",
       "             verbose=3)"
      ]
     },
     "execution_count": 91,
     "metadata": {},
     "output_type": "execute_result"
    }
   ],
   "source": [
    "grid_search.fit(X_train,y_train)"
   ]
  },
  {
   "cell_type": "code",
   "execution_count": 92,
   "id": "71c9e623-4bf9-4d57-9d8e-ae62aa9d1292",
   "metadata": {
    "tags": []
   },
   "outputs": [
    {
     "data": {
      "text/plain": [
       "{'criterion': 'entropy',\n",
       " 'max_depth': 100,\n",
       " 'max_features': 'sqrt',\n",
       " 'min_samples_leaf': 15,\n",
       " 'min_samples_split': 5,\n",
       " 'n_estimators': 120}"
      ]
     },
     "execution_count": 92,
     "metadata": {},
     "output_type": "execute_result"
    }
   ],
   "source": [
    "grid_search.best_params_\n",
    "\"\"\"\n",
    "{'criterion': 'entropy',\n",
    " 'max_depth': 100,\n",
    " 'max_features': 'sqrt',\n",
    " 'min_samples_leaf': 15,\n",
    " 'min_samples_split': 5,\n",
    " 'n_estimators': 120}\n",
    "\"\"\""
   ]
  },
  {
   "cell_type": "code",
   "execution_count": 93,
   "id": "15531215-6614-4549-ae42-8e747381641e",
   "metadata": {},
   "outputs": [
    {
     "data": {
      "text/plain": [
       "RandomForestClassifier(criterion='entropy', max_depth=100, max_features='sqrt',\n",
       "                       min_samples_leaf=15, min_samples_split=5,\n",
       "                       n_estimators=120, random_state=42)"
      ]
     },
     "execution_count": 93,
     "metadata": {},
     "output_type": "execute_result"
    }
   ],
   "source": [
    "#using the best parameters\n",
    "from sklearn.ensemble import RandomForestClassifier\n",
    "\n",
    "clf=RandomForestClassifier(criterion = 'entropy',\n",
    "                           n_estimators = 120,\n",
    "                           max_depth = 100,\n",
    "                           max_features = 'sqrt',\n",
    "                           min_samples_leaf = 15,\n",
    "                           min_samples_split = 5,\n",
    "                           random_state=seed)\n",
    "\n",
    "#Train the model using the training sets y_pred=clf.predict(X_test)\n",
    "clf.fit(X_train,y_train)"
   ]
  },
  {
   "cell_type": "code",
   "execution_count": 94,
   "id": "e4d4aabc-0a87-4435-a714-327e4777b3a6",
   "metadata": {},
   "outputs": [
    {
     "name": "stdout",
     "output_type": "stream",
     "text": [
      "Misclassification rate:  0.385143570536829\n"
     ]
    }
   ],
   "source": [
    "# Calculate the misclassification rate\n",
    "y_pred=clf.predict(X_valid)\n",
    "misclassification_rate = 1 - accuracy_score(y_valid, y_pred)\n",
    "print(\"Misclassification rate: \", misclassification_rate)"
   ]
  },
  {
   "cell_type": "code",
   "execution_count": 95,
   "id": "75963df3-e9cb-45a5-9e47-c6d1222857e1",
   "metadata": {},
   "outputs": [
    {
     "name": "stdout",
     "output_type": "stream",
     "text": [
      "Confusion matrix: \n",
      " [[314 143   4]\n",
      " [106 668   5]\n",
      " [149 210   3]]\n"
     ]
    }
   ],
   "source": [
    "from sklearn.metrics import confusion_matrix\n",
    "conf_matrix = confusion_matrix(y_valid, y_pred)\n",
    "print(\"Confusion matrix: \\n\", conf_matrix)"
   ]
  },
  {
   "cell_type": "code",
   "execution_count": 96,
   "id": "36d2f240-c072-4b56-bc63-4e3d07510b52",
   "metadata": {
    "tags": []
   },
   "outputs": [
    {
     "name": "stdout",
     "output_type": "stream",
     "text": [
      "              precision    recall  f1-score   support\n",
      "\n",
      "           0       0.55      0.68      0.61       461\n",
      "           1       0.65      0.86      0.74       779\n",
      "           2       0.25      0.01      0.02       362\n",
      "\n",
      "    accuracy                           0.61      1602\n",
      "   macro avg       0.49      0.52      0.46      1602\n",
      "weighted avg       0.53      0.61      0.54      1602\n",
      "\n"
     ]
    },
    {
     "data": {
      "image/png": "[encoded data removed]",
      "text/plain": [
       "<Figure size 640x480 with 2 Axes>"
      ]
     },
     "metadata": {},
     "output_type": "display_data"
    }
   ],
   "source": [
    "metrics_display(RandomForestClassifier(criterion = 'entropy',\n",
    "                           n_estimators = 120,\n",
    "                           max_depth = 100,\n",
    "                           max_features = 'sqrt',\n",
    "                           min_samples_leaf = 15,\n",
    "                           min_samples_split = 5,\n",
    "                           random_state=seed))"
   ]
  },
  {
   "cell_type": "markdown",
   "id": "06cbc224-1877-4cd5-bc6e-263b4a4646a4",
   "metadata": {},
   "source": [
    "### Neural Network"
   ]
  },
  {
   "cell_type": "code",
   "execution_count": 97,
   "id": "f9a98fc7-0e11-4010-85ba-d38bb1e0d997",
   "metadata": {},
   "outputs": [
    {
     "data": {
      "text/html": [
       "<div>\n",
       "<style scoped>\n",
       "    .dataframe tbody tr th:only-of-type {\n",
       "        vertical-align: middle;\n",
       "    }\n",
       "\n",
       "    .dataframe tbody tr th {\n",
       "        vertical-align: top;\n",
       "    }\n",
       "\n",
       "    .dataframe thead th {\n",
       "        text-align: right;\n",
       "    }\n",
       "</style>\n",
       "<table border=\"1\" class=\"dataframe\">\n",
       "  <thead>\n",
       "    <tr style=\"text-align: right;\">\n",
       "      <th></th>\n",
       "      <th>Team1</th>\n",
       "      <th>Team2</th>\n",
       "      <th>Team1_FIFA_RANK</th>\n",
       "      <th>Team2_FIFA_RANK</th>\n",
       "      <th>Team1_Result</th>\n",
       "      <th>Team1_Goalkeeper</th>\n",
       "      <th>Team2_Goalkeeper</th>\n",
       "      <th>Team1_Defense</th>\n",
       "      <th>Team1_Offense</th>\n",
       "      <th>Team1_Midfield</th>\n",
       "      <th>Team2_Defense</th>\n",
       "      <th>Team2_Offense</th>\n",
       "      <th>Team2_Midfield</th>\n",
       "    </tr>\n",
       "  </thead>\n",
       "  <tbody>\n",
       "    <tr>\n",
       "      <th>5391</th>\n",
       "      <td>Netherlands</td>\n",
       "      <td>Wales</td>\n",
       "      <td>10</td>\n",
       "      <td>18</td>\n",
       "      <td>Win</td>\n",
       "      <td>81.0</td>\n",
       "      <td>74.000000</td>\n",
       "      <td>85.2</td>\n",
       "      <td>83.0</td>\n",
       "      <td>83.5</td>\n",
       "      <td>75.000000</td>\n",
       "      <td>73.0</td>\n",
       "      <td>78.5</td>\n",
       "    </tr>\n",
       "    <tr>\n",
       "      <th>5392</th>\n",
       "      <td>Poland</td>\n",
       "      <td>Belgium</td>\n",
       "      <td>26</td>\n",
       "      <td>2</td>\n",
       "      <td>Lose</td>\n",
       "      <td>87.0</td>\n",
       "      <td>89.000000</td>\n",
       "      <td>75.2</td>\n",
       "      <td>84.7</td>\n",
       "      <td>75.8</td>\n",
       "      <td>80.800000</td>\n",
       "      <td>85.7</td>\n",
       "      <td>85.5</td>\n",
       "    </tr>\n",
       "    <tr>\n",
       "      <th>5393</th>\n",
       "      <td>Chile</td>\n",
       "      <td>Ghana</td>\n",
       "      <td>28</td>\n",
       "      <td>60</td>\n",
       "      <td>Lose</td>\n",
       "      <td>79.0</td>\n",
       "      <td>74.000000</td>\n",
       "      <td>75.5</td>\n",
       "      <td>76.7</td>\n",
       "      <td>78.2</td>\n",
       "      <td>75.500000</td>\n",
       "      <td>76.0</td>\n",
       "      <td>78.2</td>\n",
       "    </tr>\n",
       "    <tr>\n",
       "      <th>5394</th>\n",
       "      <td>Japan</td>\n",
       "      <td>Tunisia</td>\n",
       "      <td>23</td>\n",
       "      <td>35</td>\n",
       "      <td>Lose</td>\n",
       "      <td>73.0</td>\n",
       "      <td>76.634753</td>\n",
       "      <td>75.2</td>\n",
       "      <td>75.0</td>\n",
       "      <td>77.5</td>\n",
       "      <td>70.800000</td>\n",
       "      <td>72.3</td>\n",
       "      <td>74.0</td>\n",
       "    </tr>\n",
       "    <tr>\n",
       "      <th>5395</th>\n",
       "      <td>Korea Republic</td>\n",
       "      <td>Egypt</td>\n",
       "      <td>29</td>\n",
       "      <td>32</td>\n",
       "      <td>Win</td>\n",
       "      <td>75.0</td>\n",
       "      <td>76.634753</td>\n",
       "      <td>73.0</td>\n",
       "      <td>80.0</td>\n",
       "      <td>73.8</td>\n",
       "      <td>76.207957</td>\n",
       "      <td>79.3</td>\n",
       "      <td>70.8</td>\n",
       "    </tr>\n",
       "  </tbody>\n",
       "</table>\n",
       "</div>"
      ],
      "text/plain": [
       "               Team1    Team2  Team1_FIFA_RANK  Team2_FIFA_RANK Team1_Result  \\\n",
       "5391     Netherlands    Wales               10               18          Win   \n",
       "5392          Poland  Belgium               26                2         Lose   \n",
       "5393           Chile    Ghana               28               60         Lose   \n",
       "5394           Japan  Tunisia               23               35         Lose   \n",
       "5395  Korea Republic    Egypt               29               32          Win   \n",
       "\n",
       "      Team1_Goalkeeper  Team2_Goalkeeper  Team1_Defense  Team1_Offense  \\\n",
       "5391              81.0         74.000000           85.2           83.0   \n",
       "5392              87.0         89.000000           75.2           84.7   \n",
       "5393              79.0         74.000000           75.5           76.7   \n",
       "5394              73.0         76.634753           75.2           75.0   \n",
       "5395              75.0         76.634753           73.0           80.0   \n",
       "\n",
       "      Team1_Midfield  Team2_Defense  Team2_Offense  Team2_Midfield  \n",
       "5391            83.5      75.000000           73.0            78.5  \n",
       "5392            75.8      80.800000           85.7            85.5  \n",
       "5393            78.2      75.500000           76.0            78.2  \n",
       "5394            77.5      70.800000           72.3            74.0  \n",
       "5395            73.8      76.207957           79.3            70.8  "
      ]
     },
     "execution_count": 97,
     "metadata": {},
     "output_type": "execute_result"
    }
   ],
   "source": [
    "# load data for one hot encoding for a neural network\n",
    "from pandas import read_csv\n",
    "from sklearn.model_selection import train_test_split\n",
    "from sklearn.preprocessing import OneHotEncoder\n",
    "from keras.models import Sequential\n",
    "from keras.layers import Dense\n",
    "\n",
    "new_df = pd.read_csv('./data/preprocessed.csv')\n",
    "new_df.tail()"
   ]
  },
  {
   "cell_type": "code",
   "execution_count": 98,
   "id": "baa516e4-edca-4aee-9788-b1cf49b41065",
   "metadata": {},
   "outputs": [
    {
     "data": {
      "text/plain": [
       "((1602, 12), (1602,))"
      ]
     },
     "execution_count": 98,
     "metadata": {},
     "output_type": "execute_result"
    }
   ],
   "source": [
    "# data partition again\n",
    "seed = 42\n",
    "X = new_df.drop('Team1_Result',axis=1)\n",
    "y = new_df['Team1_Result']\n",
    "from sklearn.model_selection import train_test_split\n",
    "\n",
    "# 70% training and 30% validation\n",
    "X_train, X_valid, y_train, y_valid = train_test_split(X, y, test_size=0.3, random_state=seed)\n",
    "\n",
    "# avoid error due to high cardinality by identifying those exist in valid but not training data\n",
    "index1 = X_valid[~X_valid['Team1'].isin(X_train['Team1'])].index\n",
    "index2 = X_valid[~X_valid['Team2'].isin(X_train['Team2'])].index\n",
    "\n",
    "# find the values that appear in either list\n",
    "unique_values = list(set(index1) | set(index2))\n",
    "\n",
    "# drop rows\n",
    "X_valid = X_valid.drop(unique_values)\n",
    "y_valid = y_valid.drop(unique_values)\n",
    "X_valid.shape, y_valid.shape"
   ]
  },
  {
   "cell_type": "code",
   "execution_count": 99,
   "id": "135d7e48-d886-43b8-87c2-033022cfc520",
   "metadata": {},
   "outputs": [
    {
     "data": {
      "text/html": [
       "<div>\n",
       "<style scoped>\n",
       "    .dataframe tbody tr th:only-of-type {\n",
       "        vertical-align: middle;\n",
       "    }\n",
       "\n",
       "    .dataframe tbody tr th {\n",
       "        vertical-align: top;\n",
       "    }\n",
       "\n",
       "    .dataframe thead th {\n",
       "        text-align: right;\n",
       "    }\n",
       "</style>\n",
       "<table border=\"1\" class=\"dataframe\">\n",
       "  <thead>\n",
       "    <tr style=\"text-align: right;\">\n",
       "      <th></th>\n",
       "      <th>Team1</th>\n",
       "      <th>Team2</th>\n",
       "      <th>Team1_FIFA_RANK</th>\n",
       "      <th>Team2_FIFA_RANK</th>\n",
       "      <th>Team1_Goalkeeper</th>\n",
       "      <th>Team2_Goalkeeper</th>\n",
       "      <th>Team1_Defense</th>\n",
       "      <th>Team1_Offense</th>\n",
       "      <th>Team1_Midfield</th>\n",
       "      <th>Team2_Defense</th>\n",
       "      <th>Team2_Offense</th>\n",
       "      <th>Team2_Midfield</th>\n",
       "    </tr>\n",
       "  </thead>\n",
       "  <tbody>\n",
       "    <tr>\n",
       "      <th>1541</th>\n",
       "      <td>Poland</td>\n",
       "      <td>Romania</td>\n",
       "      <td>56</td>\n",
       "      <td>36</td>\n",
       "      <td>80.0</td>\n",
       "      <td>77.000000</td>\n",
       "      <td>71.5</td>\n",
       "      <td>74.0</td>\n",
       "      <td>76.0</td>\n",
       "      <td>77.800000</td>\n",
       "      <td>77.000000</td>\n",
       "      <td>73.2</td>\n",
       "    </tr>\n",
       "    <tr>\n",
       "      <th>2252</th>\n",
       "      <td>Netherlands</td>\n",
       "      <td>Northern Ireland</td>\n",
       "      <td>4</td>\n",
       "      <td>100</td>\n",
       "      <td>84.0</td>\n",
       "      <td>73.000000</td>\n",
       "      <td>76.5</td>\n",
       "      <td>83.3</td>\n",
       "      <td>86.0</td>\n",
       "      <td>71.200000</td>\n",
       "      <td>71.000000</td>\n",
       "      <td>73.2</td>\n",
       "    </tr>\n",
       "    <tr>\n",
       "      <th>4986</th>\n",
       "      <td>USA</td>\n",
       "      <td>Haiti</td>\n",
       "      <td>20</td>\n",
       "      <td>83</td>\n",
       "      <td>76.0</td>\n",
       "      <td>76.634753</td>\n",
       "      <td>75.5</td>\n",
       "      <td>76.7</td>\n",
       "      <td>75.2</td>\n",
       "      <td>76.207957</td>\n",
       "      <td>77.467714</td>\n",
       "      <td>64.5</td>\n",
       "    </tr>\n",
       "  </tbody>\n",
       "</table>\n",
       "</div>"
      ],
      "text/plain": [
       "            Team1             Team2  Team1_FIFA_RANK  Team2_FIFA_RANK  \\\n",
       "1541       Poland           Romania               56               36   \n",
       "2252  Netherlands  Northern Ireland                4              100   \n",
       "4986          USA             Haiti               20               83   \n",
       "\n",
       "      Team1_Goalkeeper  Team2_Goalkeeper  Team1_Defense  Team1_Offense  \\\n",
       "1541              80.0         77.000000           71.5           74.0   \n",
       "2252              84.0         73.000000           76.5           83.3   \n",
       "4986              76.0         76.634753           75.5           76.7   \n",
       "\n",
       "      Team1_Midfield  Team2_Defense  Team2_Offense  Team2_Midfield  \n",
       "1541            76.0      77.800000      77.000000            73.2  \n",
       "2252            86.0      71.200000      71.000000            73.2  \n",
       "4986            75.2      76.207957      77.467714            64.5  "
      ]
     },
     "execution_count": 99,
     "metadata": {},
     "output_type": "execute_result"
    }
   ],
   "source": [
    "X_train.head(3)"
   ]
  },
  {
   "cell_type": "code",
   "execution_count": null,
   "id": "d965e4dc-3e4e-4dc8-a547-9f6f5e3462ce",
   "metadata": {},
   "outputs": [],
   "source": [
    "from sklearn.preprocessing import OneHotEncoder\n",
    "onehot_encoder = OneHotEncoder()\n",
    "onehot_encoder.fit(X_train)\n",
    "X_train = onehot_encoder.transform(X_train)\n",
    "X_valid = onehot_encoder.transform(X_valid)"
   ]
  },
  {
   "cell_type": "code",
   "execution_count": 107,
   "id": "f5c0de50-e8f7-4972-a6de-040208d34cf7",
   "metadata": {},
   "outputs": [
    {
     "data": {
      "text/html": [
       "<div>\n",
       "<style scoped>\n",
       "    .dataframe tbody tr th:only-of-type {\n",
       "        vertical-align: middle;\n",
       "    }\n",
       "\n",
       "    .dataframe tbody tr th {\n",
       "        vertical-align: top;\n",
       "    }\n",
       "\n",
       "    .dataframe thead th {\n",
       "        text-align: right;\n",
       "    }\n",
       "</style>\n",
       "<table border=\"1\" class=\"dataframe\">\n",
       "  <thead>\n",
       "    <tr style=\"text-align: right;\">\n",
       "      <th></th>\n",
       "      <th>Team1</th>\n",
       "      <th>Team2</th>\n",
       "    </tr>\n",
       "  </thead>\n",
       "  <tbody>\n",
       "    <tr>\n",
       "      <th>1541</th>\n",
       "      <td>Poland</td>\n",
       "      <td>Romania</td>\n",
       "    </tr>\n",
       "    <tr>\n",
       "      <th>2252</th>\n",
       "      <td>Netherlands</td>\n",
       "      <td>Northern Ireland</td>\n",
       "    </tr>\n",
       "    <tr>\n",
       "      <th>4986</th>\n",
       "      <td>USA</td>\n",
       "      <td>Haiti</td>\n",
       "    </tr>\n",
       "  </tbody>\n",
       "</table>\n",
       "</div>"
      ],
      "text/plain": [
       "            Team1             Team2\n",
       "1541       Poland           Romania\n",
       "2252  Netherlands  Northern Ireland\n",
       "4986          USA             Haiti"
      ]
     },
     "execution_count": 107,
     "metadata": {},
     "output_type": "execute_result"
    }
   ],
   "source": [
    "X_train[['Team1','Team2']].head(3)"
   ]
  },
  {
   "cell_type": "code",
   "execution_count": 110,
   "id": "091785c4-41c2-47a8-9725-4dfb67985ce5",
   "metadata": {},
   "outputs": [
    {
     "data": {
      "text/html": [
       "<div>\n",
       "<style scoped>\n",
       "    .dataframe tbody tr th:only-of-type {\n",
       "        vertical-align: middle;\n",
       "    }\n",
       "\n",
       "    .dataframe tbody tr th {\n",
       "        vertical-align: top;\n",
       "    }\n",
       "\n",
       "    .dataframe thead th {\n",
       "        text-align: right;\n",
       "    }\n",
       "</style>\n",
       "<table border=\"1\" class=\"dataframe\">\n",
       "  <thead>\n",
       "    <tr style=\"text-align: right;\">\n",
       "      <th></th>\n",
       "      <th>Team1_FIFA_RANK</th>\n",
       "      <th>Team2_FIFA_RANK</th>\n",
       "      <th>Team1_Goalkeeper</th>\n",
       "      <th>Team2_Goalkeeper</th>\n",
       "      <th>Team1_Defense</th>\n",
       "      <th>Team1_Offense</th>\n",
       "      <th>Team1_Midfield</th>\n",
       "      <th>Team2_Defense</th>\n",
       "      <th>Team2_Offense</th>\n",
       "      <th>Team2_Midfield</th>\n",
       "    </tr>\n",
       "  </thead>\n",
       "  <tbody>\n",
       "    <tr>\n",
       "      <th>1541</th>\n",
       "      <td>56</td>\n",
       "      <td>36</td>\n",
       "      <td>80.0</td>\n",
       "      <td>77.000000</td>\n",
       "      <td>71.5</td>\n",
       "      <td>74.0</td>\n",
       "      <td>76.0</td>\n",
       "      <td>77.800000</td>\n",
       "      <td>77.000000</td>\n",
       "      <td>73.2</td>\n",
       "    </tr>\n",
       "    <tr>\n",
       "      <th>2252</th>\n",
       "      <td>4</td>\n",
       "      <td>100</td>\n",
       "      <td>84.0</td>\n",
       "      <td>73.000000</td>\n",
       "      <td>76.5</td>\n",
       "      <td>83.3</td>\n",
       "      <td>86.0</td>\n",
       "      <td>71.200000</td>\n",
       "      <td>71.000000</td>\n",
       "      <td>73.2</td>\n",
       "    </tr>\n",
       "    <tr>\n",
       "      <th>4986</th>\n",
       "      <td>20</td>\n",
       "      <td>83</td>\n",
       "      <td>76.0</td>\n",
       "      <td>76.634753</td>\n",
       "      <td>75.5</td>\n",
       "      <td>76.7</td>\n",
       "      <td>75.2</td>\n",
       "      <td>76.207957</td>\n",
       "      <td>77.467714</td>\n",
       "      <td>64.5</td>\n",
       "    </tr>\n",
       "  </tbody>\n",
       "</table>\n",
       "</div>"
      ],
      "text/plain": [
       "      Team1_FIFA_RANK  Team2_FIFA_RANK  Team1_Goalkeeper  Team2_Goalkeeper  \\\n",
       "1541               56               36              80.0         77.000000   \n",
       "2252                4              100              84.0         73.000000   \n",
       "4986               20               83              76.0         76.634753   \n",
       "\n",
       "      Team1_Defense  Team1_Offense  Team1_Midfield  Team2_Defense  \\\n",
       "1541           71.5           74.0            76.0      77.800000   \n",
       "2252           76.5           83.3            86.0      71.200000   \n",
       "4986           75.5           76.7            75.2      76.207957   \n",
       "\n",
       "      Team2_Offense  Team2_Midfield  \n",
       "1541      77.000000            73.2  \n",
       "2252      71.000000            73.2  \n",
       "4986      77.467714            64.5  "
      ]
     },
     "execution_count": 110,
     "metadata": {},
     "output_type": "execute_result"
    }
   ],
   "source": [
    "X_train[X_train.columns[2:]].head(3)"
   ]
  },
  {
   "cell_type": "code",
   "execution_count": 119,
   "id": "a13da52a-0504-4574-91a5-fed6a78916a4",
   "metadata": {},
   "outputs": [],
   "source": [
    "categorical_cols = ['Team1','Team2']"
   ]
  },
  {
   "cell_type": "code",
   "execution_count": 121,
   "id": "0435e340-9bc9-4e28-885e-b2b1afb36821",
   "metadata": {},
   "outputs": [],
   "source": [
    "from sklearn.preprocessing import OneHotEncoder\n",
    "ohe = OneHotEncoder()\n",
    "\n",
    "#One-hot-encode the categorical columns -- outputs an array instead of dataframe!\n",
    "array_hot_encoded = ohe.fit_transform(X_train[categorical_cols])\n",
    "\n",
    "#Convert it to df\n",
    "data_hot_encoded = pd.DataFrame(array_hot_encoded, index=X_train.index)\n",
    "\n",
    "#Extract only the columns that didnt need to be encoded\n",
    "data_other_cols = X_train.drop(columns=categorical_cols)\n",
    "\n",
    "#Concatenate the two dataframes : \n",
    "data_out = pd.concat([data_hot_encoded, data_other_cols], axis=1)"
   ]
  },
  {
   "cell_type": "code",
   "execution_count": 123,
   "id": "d0e37332-4299-4c89-9d20-ee958defc665",
   "metadata": {},
   "outputs": [
    {
     "data": {
      "text/html": [
       "<div>\n",
       "<style scoped>\n",
       "    .dataframe tbody tr th:only-of-type {\n",
       "        vertical-align: middle;\n",
       "    }\n",
       "\n",
       "    .dataframe tbody tr th {\n",
       "        vertical-align: top;\n",
       "    }\n",
       "\n",
       "    .dataframe thead th {\n",
       "        text-align: right;\n",
       "    }\n",
       "</style>\n",
       "<table border=\"1\" class=\"dataframe\">\n",
       "  <thead>\n",
       "    <tr style=\"text-align: right;\">\n",
       "      <th></th>\n",
       "      <th>0</th>\n",
       "      <th>Team1_FIFA_RANK</th>\n",
       "      <th>Team2_FIFA_RANK</th>\n",
       "      <th>Team1_Goalkeeper</th>\n",
       "      <th>Team2_Goalkeeper</th>\n",
       "      <th>Team1_Defense</th>\n",
       "      <th>Team1_Offense</th>\n",
       "      <th>Team1_Midfield</th>\n",
       "      <th>Team2_Defense</th>\n",
       "      <th>Team2_Offense</th>\n",
       "      <th>Team2_Midfield</th>\n",
       "    </tr>\n",
       "  </thead>\n",
       "  <tbody>\n",
       "    <tr>\n",
       "      <th>1541</th>\n",
       "      <td>(0, 124)\\t1.0\\n  (0, 304)\\t1.0</td>\n",
       "      <td>56</td>\n",
       "      <td>36</td>\n",
       "      <td>80.0</td>\n",
       "      <td>77.000000</td>\n",
       "      <td>71.5</td>\n",
       "      <td>74.0</td>\n",
       "      <td>76.0</td>\n",
       "      <td>77.800000</td>\n",
       "      <td>77.000000</td>\n",
       "      <td>73.2</td>\n",
       "    </tr>\n",
       "    <tr>\n",
       "      <th>2252</th>\n",
       "      <td>(0, 112)\\t1.0\\n  (0, 293)\\t1.0</td>\n",
       "      <td>4</td>\n",
       "      <td>100</td>\n",
       "      <td>84.0</td>\n",
       "      <td>73.000000</td>\n",
       "      <td>76.5</td>\n",
       "      <td>83.3</td>\n",
       "      <td>86.0</td>\n",
       "      <td>71.200000</td>\n",
       "      <td>71.000000</td>\n",
       "      <td>73.2</td>\n",
       "    </tr>\n",
       "    <tr>\n",
       "      <th>4986</th>\n",
       "      <td>(0, 162)\\t1.0\\n  (0, 242)\\t1.0</td>\n",
       "      <td>20</td>\n",
       "      <td>83</td>\n",
       "      <td>76.0</td>\n",
       "      <td>76.634753</td>\n",
       "      <td>75.5</td>\n",
       "      <td>76.7</td>\n",
       "      <td>75.2</td>\n",
       "      <td>76.207957</td>\n",
       "      <td>77.467714</td>\n",
       "      <td>64.5</td>\n",
       "    </tr>\n",
       "    <tr>\n",
       "      <th>3936</th>\n",
       "      <td>(0, 49)\\t1.0\\n  (0, 315)\\t1.0</td>\n",
       "      <td>15</td>\n",
       "      <td>55</td>\n",
       "      <td>82.0</td>\n",
       "      <td>88.000000</td>\n",
       "      <td>82.8</td>\n",
       "      <td>83.3</td>\n",
       "      <td>82.8</td>\n",
       "      <td>75.200000</td>\n",
       "      <td>76.000000</td>\n",
       "      <td>77.2</td>\n",
       "    </tr>\n",
       "    <tr>\n",
       "      <th>2874</th>\n",
       "      <td>(0, 34)\\t1.0\\n  (0, 310)\\t1.0</td>\n",
       "      <td>5</td>\n",
       "      <td>63</td>\n",
       "      <td>76.0</td>\n",
       "      <td>65.000000</td>\n",
       "      <td>75.8</td>\n",
       "      <td>83.0</td>\n",
       "      <td>80.8</td>\n",
       "      <td>75.000000</td>\n",
       "      <td>79.700000</td>\n",
       "      <td>74.8</td>\n",
       "    </tr>\n",
       "  </tbody>\n",
       "</table>\n",
       "</div>"
      ],
      "text/plain": [
       "                                     0  Team1_FIFA_RANK  Team2_FIFA_RANK  \\\n",
       "1541    (0, 124)\\t1.0\\n  (0, 304)\\t1.0               56               36   \n",
       "2252    (0, 112)\\t1.0\\n  (0, 293)\\t1.0                4              100   \n",
       "4986    (0, 162)\\t1.0\\n  (0, 242)\\t1.0               20               83   \n",
       "3936     (0, 49)\\t1.0\\n  (0, 315)\\t1.0               15               55   \n",
       "2874     (0, 34)\\t1.0\\n  (0, 310)\\t1.0                5               63   \n",
       "\n",
       "      Team1_Goalkeeper  Team2_Goalkeeper  Team1_Defense  Team1_Offense  \\\n",
       "1541              80.0         77.000000           71.5           74.0   \n",
       "2252              84.0         73.000000           76.5           83.3   \n",
       "4986              76.0         76.634753           75.5           76.7   \n",
       "3936              82.0         88.000000           82.8           83.3   \n",
       "2874              76.0         65.000000           75.8           83.0   \n",
       "\n",
       "      Team1_Midfield  Team2_Defense  Team2_Offense  Team2_Midfield  \n",
       "1541            76.0      77.800000      77.000000            73.2  \n",
       "2252            86.0      71.200000      71.000000            73.2  \n",
       "4986            75.2      76.207957      77.467714            64.5  \n",
       "3936            82.8      75.200000      76.000000            77.2  \n",
       "2874            80.8      75.000000      79.700000            74.8  "
      ]
     },
     "execution_count": 123,
     "metadata": {},
     "output_type": "execute_result"
    }
   ],
   "source": [
    "data_out.head() #Err I will just use JMP"
   ]
  },
  {
   "cell_type": "markdown",
   "id": "5e8603d7-5ea3-4e08-8c88-f84cd6c0c4f4",
   "metadata": {},
   "source": [
    "## Conclusion"
   ]
  }
 ],
 "metadata": {
  "kernelspec": {
   "display_name": "Python 3 (ipykernel)",
   "language": "python",
   "name": "python3"
  },
  "language_info": {
   "codemirror_mode": {
    "name": "ipython",
    "version": 3
   },
   "file_extension": ".py",
   "mimetype": "text/x-python",
   "name": "python",
   "nbconvert_exporter": "python",
   "pygments_lexer": "ipython3",
   "version": "3.9.13"
  }
 },
 "nbformat": 4,
 "nbformat_minor": 5
}

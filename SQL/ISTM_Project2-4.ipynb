{
 "cells": [
  {
   "cell_type": "markdown",
   "id": "f1673db4-e8f9-4dc9-89ab-e3423eae0b5a",
   "metadata": {},
   "source": [
    "# ISTM4212_10 Project 2\n",
    "##### By Group 05: Violet(Yiqi) Chen [Group Lead], Xuening Yang, Yuyang He"
   ]
  },
  {
   "cell_type": "markdown",
   "id": "eb2cb282-64e1-4ac2-a1e8-75eca393265c",
   "metadata": {},
   "source": [
    ">Check Working Directory"
   ]
  },
  {
   "cell_type": "code",
   "execution_count": 6,
   "id": "de2ea285-a02d-463c-b0b8-5b8653aa094a",
   "metadata": {},
   "outputs": [
    {
     "name": "stdout",
     "output_type": "stream",
     "text": [
      "/home/ubuntu/notebooks/Project2_Group05\n"
     ]
    }
   ],
   "source": [
    "!pwd"
   ]
  },
  {
   "cell_type": "code",
   "execution_count": 7,
   "id": "8c19323f-abbf-4dcc-a945-d9c15b9f7b3e",
   "metadata": {},
   "outputs": [],
   "source": [
    "#%cd ./Project2_Group05"
   ]
  },
  {
   "cell_type": "markdown",
   "id": "3f7478b8-b6ae-48a1-b4fe-62a768b077b8",
   "metadata": {},
   "source": [
    "> Load sql"
   ]
  },
  {
   "cell_type": "code",
   "execution_count": 1,
   "id": "3840c210-b64d-4190-be65-fd81f706751e",
   "metadata": {},
   "outputs": [
    {
     "name": "stdout",
     "output_type": "stream",
     "text": [
      "ipython-sql==0.4.0\n",
      "psycopg2==2.9.3\n",
      "psycopg2-binary==2.9.3\n"
     ]
    }
   ],
   "source": [
    "!pip freeze | grep -E 'ipython-sql|psycopg2'"
   ]
  },
  {
   "cell_type": "code",
   "execution_count": 2,
   "id": "c76ae726-2057-4fb0-86b7-4ebd51fefb04",
   "metadata": {},
   "outputs": [],
   "source": [
    "%load_ext sql"
   ]
  },
  {
   "cell_type": "code",
   "execution_count": 3,
   "id": "1716e572-a677-4239-9549-6a30881ded7b",
   "metadata": {},
   "outputs": [],
   "source": [
    "%sql postgresql://student@/week6"
   ]
  },
  {
   "cell_type": "markdown",
   "id": "b25dc0fb-ad78-4b8f-afed-f2c7391ef16a",
   "metadata": {},
   "source": [
    "## First Part – ER Data Model Exercise (25 points)"
   ]
  },
  {
   "cell_type": "markdown",
   "id": "4c42fa5f-e33d-426c-8de8-ba89ecc04041",
   "metadata": {},
   "source": [
    "#### <font color='green'>  Explanation about the graph. </font>"
   ]
  },
  {
   "cell_type": "markdown",
   "id": "111ae641-2148-474a-b60a-00c2f9a8397f",
   "metadata": {},
   "source": [
    "Before getting into the first part designing our model, we closely observed the data and try to get some sense out of them. After we identified that some data files have duplicate and some does not have a natural primary key, we decided to use RStudio to process the data. There are 3 things we did: removed some duplicates, generate some primary keys, and alter columns. </br>\n",
    "+ We removed the duplicate for airports_list, B43_AIRCRAFT_INVENTORY, and CARRIER_DECODE by their primary key.\n",
    "+ We generate a few primary key for those who do not have a available primary keys or composite primary keys for the easiness to use. There are REPORT_ID for ontime_reporting (not available), S_DATE for airport_weather (composite), UNIQUE_CARRIER_ID for P10_EMPLOYEE (composite).\n",
    "+ We altered ontime_reporting by adding YEAR. We also altered airport_weather by selecting 7 features that are regarded as important by [raw data documentation](https://www.kaggle.com/threnjen/2019-airline-delays-and-cancellations?select=raw_data_documentation.txt), which are NAME, DATE, PRCP, SNOW, SNWD, TMAX, and AWND as well as STATION selected by us used to generate S_DATE. </br>\n",
    "\n",
    "Further details about detail steps and R functions as well as packages we used to perform the data cleaning will be available in 2. Constructing your Database – Data Loading of Second Part."
   ]
  },
  {
   "cell_type": "markdown",
   "id": "13aea840-6332-4670-b829-5f0515d7b835",
   "metadata": {},
   "source": [
    "#### <font color='bronze'>1. ER-diagram (10 points)</font>"
   ]
  },
  {
   "cell_type": "markdown",
   "id": "5d9345d1-10bf-4cfb-a1b8-c8ec4b482435",
   "metadata": {},
   "source": [
    "Refer to DBMS_ER_diagram_ISTM4212.png in the folder"
   ]
  },
  {
   "cell_type": "markdown",
   "id": "0cbfab15-fd14-4bc9-87df-4cb6d0b17e14",
   "metadata": {
    "tags": []
   },
   "source": [
    "#### <font color='bronze'>2. Relational DB schema (10 points)</font>"
   ]
  },
  {
   "cell_type": "markdown",
   "id": "f75befb5-dfb0-46c2-85de-68722c43d9ac",
   "metadata": {},
   "source": [
    "Refer to Relational_DB_Schema.xlsx in the folder"
   ]
  },
  {
   "cell_type": "markdown",
   "id": "55e0ab78-5bf5-4a14-b1dd-0658709943b8",
   "metadata": {
    "tags": []
   },
   "source": [
    "#### <font color='bronze'>3. General opinion on the data dictionary files provided. Provide suggestion on improving the design of the data files. (5 points)</font>"
   ]
  },
  {
   "cell_type": "markdown",
   "id": "19bc8903-26a1-4136-a83f-c5b8ed60f208",
   "metadata": {},
   "source": [
    "In the data preprocessing step, we identified a few issues related to data file provided, which can be improved.<br>\n",
    "1) **Duplicate**: \n",
    "i. In some data dictionary files, there are rows duplicating themselves, especially AIRPORT_COORDINATES, airports_list, and CARRIER_DECODE. They need to be cleaned to make each row unique by primary key. Also, there are duplicate column in the same data file: Entity P10_EMPLOYEES have attribute OP_UNIQUE_CARRIER and UNIQUE_CARRIER_NAME, which contain exact same information as attribute CARRIER and CARRIER_NAME under the same entity. Our suggestion is to keep only either pair given these two pairs are the same.<br>\n",
    "ii. In some data file, unique key is not unique. In CARRIER_DECODE.csv, according to the data description - \"Display carrier name by the airline id or carrier code\" - we expect both airline and carrier code to be unique key. However, doing unique by airline id or by carrier code returns different number of rows (1686 obs. and 1744 obs. respectively). On top of that, it is reasonable that a carrier may have multiple carrier codes, but a carrier code should not be shared by multiple carrier. However, for example, OP_UNIQUE_CARRIER \"4E\" which belongs to British Airtours Limited is also displayed as Tanana Air Service's carrier code whose code is actually \"Z3\" according to our research (refers to [Bureau of Transportation Statistics](https://www.bts.gov/topics/airlines-and-airports/airline-codes)). We suspect there may be some error in data collecting process, we suggest this data file to be regenerated.\n",
    "2) **Inconsistency**: We identified inconsistency in the data file, in both label/field/column names and the format of data.<br>\n",
    "i. One example of different column names will be airport ID, which appear as AIRLINE_ID, ORIGIN_AIRPORT_ID. Since both AIRLINE_ID and AIRPORT_ID refers to the same thing, for the easiness of understanding and database operation, we suggest to use same attribute name (either AIRLINE_ID or AIRPORT_ID) for most entities, except for ONTIME_REPORTING which has the need to differetiate between origin and destination.<br>\n",
    "ii. In the AIRPORT_WEATHER entity, the attribute DATE is formatted as both mm/dd/yyyy and yyyy-mm-dd in data file airport_weather_2019.csv but as yyyy-mm-dd in airport_weather_2020.csv. To avoid error when convert to DATE data type, we suggest to format this attribute consistently as yyyy-mm-dd.<br>\n",
    "iii. Also, in the AIRPORT_WEATHER entity, the columes in 2020 and 2019 csv files are ordered different, which will create mismatch when using csvstack. Therefore, we suggest that the columns should be arranged in same order and be consistent with same amount of columns (2020 has column WT18 while 2019 does not; 2019 has columns TOBS and WT11 while 2020 does not).\n",
    "3) **Difficulty of Locating Primary Key**: For some data, they are unique each row, but do not have primary keys which are easy to use. We suggest that primary key can be generate using simply index or meaningful infomation from multiple attributes to make it unique."
   ]
  },
  {
   "cell_type": "markdown",
   "id": "e14fb0c8-9ef2-4852-9f2c-7701336700df",
   "metadata": {},
   "source": [
    "## Second Part – Building a Physical Data model and construct the database (75 points)"
   ]
  },
  {
   "cell_type": "markdown",
   "id": "90a6dc82-4ae0-4756-8b20-15db471acc56",
   "metadata": {},
   "source": [
    "#### <font color='bronze'>1. Creating your Database Objects (20 points)</font>"
   ]
  },
  {
   "cell_type": "markdown",
   "id": "c428dcfd-78b3-44a6-a445-4e3fa1d1277b",
   "metadata": {},
   "source": [
    "##### <font color='grey'>Using the schema diagram from first part above, create the physical tables for all entities and their relationships. Make sure the tables contain all primary, foreign, and unique keys as well as any default, and check constraints (if any). The tables must also Indicate the null constraint for all attributes. (All entities from first part are required)</font>"
   ]
  },
  {
   "cell_type": "markdown",
   "id": "efa462e9-9db1-4997-a8d4-724f3c98becf",
   "metadata": {},
   "source": [
    "+ Create Table WEATHER\n",
    "<br/> We generate our own primary key S_DATE based on STATION and DATE. We only use 9 variable according to the raw_data_documentation.txt which says that Important features are NAME, DATE, PRCP, SNOW, SNWD, TMAX, and AWND. Further explanation will be available in the section where we copy the csv file into the table."
   ]
  },
  {
   "cell_type": "code",
   "execution_count": 15,
   "id": "8c8c5916-a83d-4ddc-ad4c-8026e728c3b1",
   "metadata": {},
   "outputs": [
    {
     "name": "stdout",
     "output_type": "stream",
     "text": [
      " * postgresql://student@/week6\n",
      "Done.\n",
      "Done.\n",
      "Done.\n",
      "Done.\n",
      "Done.\n",
      "Done.\n",
      "Done.\n"
     ]
    },
    {
     "data": {
      "text/plain": [
       "[]"
      ]
     },
     "execution_count": 15,
     "metadata": {},
     "output_type": "execute_result"
    }
   ],
   "source": [
    "%%sql\n",
    "DROP TABLE IF EXISTS WEATHER Cascade;\n",
    "\n",
    "CREATE TABLE WEATHER (\n",
    "    S_DATE varchar(50) Not NULL, \n",
    "    STATION varchar(50) Not NULL,\n",
    "    NAME varchar(108) NOT NULL,\n",
    "    DATE DATE NOT NULL,\n",
    "    PRCP Numeric(4,2) NULL,\n",
    "    SNOW Numeric(4,2) NULL,\n",
    "    SNWD Numeric(4,2) NULL,\n",
    "    TMAX Numeric(5,2) NULL,\n",
    "    AWND Numeric(4,2) NULL,\n",
    "    PRIMARY KEY (S_DATE),\n",
    "    UNIQUE (STATION, DATE),\n",
    "    UNIQUE (NAME, DATE)\n",
    ");\n",
    "\n",
    "COMMENT ON TABLE WEATHER is 'Airport weather by date';\n",
    "COMMENT ON COLUMN WEATHER.S_DATE is 'Generated primary key based on STATION and DATE';\n",
    "COMMENT ON COLUMN WEATHER.STATION is 'Location code';\n",
    "COMMENT ON COLUMN WEATHER.NAME is 'Location of reading';\n",
    "COMMENT ON COLUMN WEATHER.DATE is 'Date of reading';"
   ]
  },
  {
   "cell_type": "code",
   "execution_count": 16,
   "id": "eaa5ec04-5197-4941-bcad-37e0d8b19110",
   "metadata": {},
   "outputs": [
    {
     "name": "stdout",
     "output_type": "stream",
     "text": [
      " * postgresql://student@/week6\n",
      "0 rows affected.\n"
     ]
    },
    {
     "data": {
      "text/html": [
       "<table>\n",
       "    <thead>\n",
       "        <tr>\n",
       "            <th>s_date</th>\n",
       "            <th>station</th>\n",
       "            <th>name</th>\n",
       "            <th>date</th>\n",
       "            <th>prcp</th>\n",
       "            <th>snow</th>\n",
       "            <th>snwd</th>\n",
       "            <th>tmax</th>\n",
       "            <th>awnd</th>\n",
       "        </tr>\n",
       "    </thead>\n",
       "    <tbody>\n",
       "    </tbody>\n",
       "</table>"
      ],
      "text/plain": [
       "[]"
      ]
     },
     "execution_count": 16,
     "metadata": {},
     "output_type": "execute_result"
    }
   ],
   "source": [
    "%%sql\n",
    "select * from weather"
   ]
  },
  {
   "cell_type": "markdown",
   "id": "43a13d37-fec9-4948-b052-7fb4824b9524",
   "metadata": {},
   "source": [
    "+ Create Table AIRPORT_COORDINATES"
   ]
  },
  {
   "cell_type": "code",
   "execution_count": 18,
   "id": "186ec239-b504-4ee3-87df-d8a23b976b7f",
   "metadata": {},
   "outputs": [
    {
     "name": "stdout",
     "output_type": "stream",
     "text": [
      " * postgresql://student@/week6\n",
      "Done.\n",
      "Done.\n",
      "Done.\n",
      "Done.\n",
      "Done.\n"
     ]
    },
    {
     "data": {
      "text/plain": [
       "[]"
      ]
     },
     "execution_count": 18,
     "metadata": {},
     "output_type": "execute_result"
    }
   ],
   "source": [
    "%%sql\n",
    "DROP TABLE IF EXISTS AIRPORT_COORDINATES Cascade;\n",
    "\n",
    "CREATE TABLE AIRPORT_COORDINATES (\n",
    "  ORIGIN_AIRPORT_ID   Numeric(5) Not NULL, \n",
    "  DISPLAY_AIRPORT_NAME   varchar(50) NOT NULL,\n",
    "  LATITUDE Numeric(10,7) NULL,\n",
    "  LONGITUDE  Numeric(10,7) NULL, \n",
    "  PRIMARY KEY (ORIGIN_AIRPORT_ID),\n",
    "  UNIQUE (DISPLAY_AIRPORT_NAME)\n",
    ");\n",
    "\n",
    "COMMENT ON TABLE AIRPORT_COORDINATES is\n",
    "'AIRPORT_COORDINATES: Latitude and Longitude coordinates of airports, by airport name and airport id';\n",
    "COMMENT ON COLUMN AIRPORT_COORDINATES.ORIGIN_AIRPORT_ID is 'Airport ID, matches to ORIGIN_AIRPORT_ID in other files';\n",
    "COMMENT ON COLUMN AIRPORT_COORDINATES.DISPLAY_AIRPORT_NAME is 'Display Airport, matches to DISPLAY_AIRPORT_NAME in other files';"
   ]
  },
  {
   "cell_type": "code",
   "execution_count": 19,
   "id": "84181c92-4ba4-429d-8e45-28f2fa4688a2",
   "metadata": {},
   "outputs": [
    {
     "name": "stdout",
     "output_type": "stream",
     "text": [
      " * postgresql://student@/week6\n",
      "0 rows affected.\n"
     ]
    },
    {
     "data": {
      "text/html": [
       "<table>\n",
       "    <thead>\n",
       "        <tr>\n",
       "            <th>origin_airport_id</th>\n",
       "            <th>display_airport_name</th>\n",
       "            <th>latitude</th>\n",
       "            <th>longitude</th>\n",
       "        </tr>\n",
       "    </thead>\n",
       "    <tbody>\n",
       "    </tbody>\n",
       "</table>"
      ],
      "text/plain": [
       "[]"
      ]
     },
     "execution_count": 19,
     "metadata": {},
     "output_type": "execute_result"
    }
   ],
   "source": [
    "%%sql\n",
    "select * from AIRPORT_COORDINATES"
   ]
  },
  {
   "cell_type": "markdown",
   "id": "5ac00702-b445-4bb5-bf81-338e3b2ce4d5",
   "metadata": {},
   "source": [
    "+ Create Table AIRPORT_LIST"
   ]
  },
  {
   "cell_type": "code",
   "execution_count": 20,
   "id": "35797a7c-be7a-4024-ad08-0ff747cc2d8d",
   "metadata": {},
   "outputs": [
    {
     "name": "stdout",
     "output_type": "stream",
     "text": [
      " * postgresql://student@/week6\n",
      "Done.\n",
      "Done.\n",
      "Done.\n",
      "Done.\n",
      "Done.\n",
      "Done.\n"
     ]
    },
    {
     "data": {
      "text/plain": [
       "[]"
      ]
     },
     "execution_count": 20,
     "metadata": {},
     "output_type": "execute_result"
    }
   ],
   "source": [
    "%%sql\n",
    "DROP TABLE IF EXISTS AIRPORT_LIST Cascade;\n",
    "\n",
    "CREATE TABLE AIRPORT_LIST (\n",
    "  ORIGIN_AIRPORT_ID   Numeric(5) Not NULL, \n",
    "  DISPLAY_AIRPORT_NAME   varchar(108) NOT NULL,\n",
    "  ORIGIN_CITY_NAME varchar(50) NULL,\n",
    "  NAME  varchar(108) NULL, \n",
    "  PRIMARY KEY (ORIGIN_AIRPORT_ID),\n",
    "  UNIQUE (DISPLAY_AIRPORT_NAME)\n",
    ");\n",
    "\n",
    "COMMENT ON TABLE AIRPORT_LIST is\n",
    "'AIRPORT_COORDINATES: Airport display names; used with weather files';\n",
    "COMMENT ON COLUMN AIRPORT_LIST.ORIGIN_AIRPORT_ID is 'Airport ID, matches to ORIGIN_AIRPORT_ID in other files';\n",
    "COMMENT ON COLUMN AIRPORT_LIST.DISPLAY_AIRPORT_NAME is 'Display Airport, matches to DISPLAY_AIRPORT_NAME in other files';\n",
    "COMMENT ON COLUMN AIRPORT_LIST.NAME is 'Matches to NAME in airport_weather';"
   ]
  },
  {
   "cell_type": "code",
   "execution_count": 21,
   "id": "f2de9071-3678-45e8-a20a-131367e51c05",
   "metadata": {},
   "outputs": [
    {
     "name": "stdout",
     "output_type": "stream",
     "text": [
      " * postgresql://student@/week6\n",
      "0 rows affected.\n"
     ]
    },
    {
     "data": {
      "text/html": [
       "<table>\n",
       "    <thead>\n",
       "        <tr>\n",
       "            <th>origin_airport_id</th>\n",
       "            <th>display_airport_name</th>\n",
       "            <th>origin_city_name</th>\n",
       "            <th>name</th>\n",
       "        </tr>\n",
       "    </thead>\n",
       "    <tbody>\n",
       "    </tbody>\n",
       "</table>"
      ],
      "text/plain": [
       "[]"
      ]
     },
     "execution_count": 21,
     "metadata": {},
     "output_type": "execute_result"
    }
   ],
   "source": [
    "%%sql\n",
    "select * from airport_list"
   ]
  },
  {
   "cell_type": "markdown",
   "id": "1bde60fd-6fb4-4cb2-9ef9-1001b81484ff",
   "metadata": {},
   "source": [
    "+ Create Table AIRCRAFT"
   ]
  },
  {
   "cell_type": "code",
   "execution_count": 22,
   "id": "e92570fd-f738-47bc-aac1-78e02c08b1c9",
   "metadata": {},
   "outputs": [
    {
     "name": "stdout",
     "output_type": "stream",
     "text": [
      " * postgresql://student@/week6\n",
      "Done.\n",
      "Done.\n",
      "Done.\n",
      "Done.\n"
     ]
    },
    {
     "data": {
      "text/plain": [
       "[]"
      ]
     },
     "execution_count": 22,
     "metadata": {},
     "output_type": "execute_result"
    }
   ],
   "source": [
    "%%sql\n",
    "DROP TABLE IF EXISTS AIRCRAFT Cascade;\n",
    "\n",
    "CREATE TABLE AIRCRAFT (\n",
    "  MANUFACTURE_YEAR Numeric(4) NULL, \n",
    "  TAIL_NUM   varchar(50) NOT NULL,\n",
    "  NUMBER_OF_SEATS Numeric(3) NULL,\n",
    "  PRIMARY KEY (TAIL_NUM)\n",
    ");\n",
    "\n",
    "COMMENT ON TABLE AIRCRAFT is\n",
    "'AIRCRAFT: Manufacture year and passenger capacity for aircraft by tail number';\n",
    "COMMENT ON COLUMN AIRCRAFT.TAIL_NUM is 'Unique tail number, matches to TAIL_NUM in other files';"
   ]
  },
  {
   "cell_type": "code",
   "execution_count": 23,
   "id": "7183ddcb-4f3a-49cb-9525-a0fa14071e22",
   "metadata": {},
   "outputs": [
    {
     "name": "stdout",
     "output_type": "stream",
     "text": [
      " * postgresql://student@/week6\n",
      "0 rows affected.\n"
     ]
    },
    {
     "data": {
      "text/html": [
       "<table>\n",
       "    <thead>\n",
       "        <tr>\n",
       "            <th>manufacture_year</th>\n",
       "            <th>tail_num</th>\n",
       "            <th>number_of_seats</th>\n",
       "        </tr>\n",
       "    </thead>\n",
       "    <tbody>\n",
       "    </tbody>\n",
       "</table>"
      ],
      "text/plain": [
       "[]"
      ]
     },
     "execution_count": 23,
     "metadata": {},
     "output_type": "execute_result"
    }
   ],
   "source": [
    "%%sql\n",
    "select * from aircraft"
   ]
  },
  {
   "cell_type": "markdown",
   "id": "25fb22ff-961d-44cc-9d99-7f04a7b5f80e",
   "metadata": {},
   "source": [
    "+ Create Table CARRIER\n",
    "<br/> may need to redo data cleaning, do unique to carrier name"
   ]
  },
  {
   "cell_type": "code",
   "execution_count": 24,
   "id": "f1e614b2-cc97-4368-86c5-2695d535cf0c",
   "metadata": {},
   "outputs": [
    {
     "name": "stdout",
     "output_type": "stream",
     "text": [
      " * postgresql://student@/week6\n",
      "Done.\n",
      "Done.\n",
      "Done.\n",
      "Done.\n",
      "Done.\n",
      "Done.\n"
     ]
    },
    {
     "data": {
      "text/plain": [
       "[]"
      ]
     },
     "execution_count": 24,
     "metadata": {},
     "output_type": "execute_result"
    }
   ],
   "source": [
    "%%sql\n",
    "DROP TABLE IF EXISTS CARRIER Cascade;\n",
    "\n",
    "CREATE TABLE CARRIER (\n",
    "  AIRLINE_ID Numeric(5) NULL, --ATTENTATIVE\n",
    "  OP_UNIQUE_CARRIER varchar(50) NOT NULL,\n",
    "  CARRIER_NAME varchar(108) NULL,\n",
    "  PRIMARY KEY (OP_UNIQUE_CARRIER)\n",
    " );\n",
    "\n",
    "COMMENT ON TABLE CARRIER is 'CARRIER: Display carrier name by the airline id or carrier code';\n",
    "COMMENT ON COLUMN CARRIER.AIRLINE_ID is 'Airport ID, matches to AIRLINE_ID in other files';\n",
    "COMMENT ON COLUMN CARRIER.OP_UNIQUE_CARRIER is 'Carrier code, matches to OP_UNIQUE_CARRIER in other files';\n",
    "COMMENT ON COLUMN CARRIER.CARRIER_NAME is 'Carrier name, matches to UNIQUE_CARRIER_NAME or CARRIER_NAME in other files';"
   ]
  },
  {
   "cell_type": "code",
   "execution_count": 25,
   "id": "db16084b-0b5c-4d3f-bf76-a902e3533f68",
   "metadata": {},
   "outputs": [
    {
     "name": "stdout",
     "output_type": "stream",
     "text": [
      " * postgresql://student@/week6\n",
      "0 rows affected.\n"
     ]
    },
    {
     "data": {
      "text/html": [
       "<table>\n",
       "    <thead>\n",
       "        <tr>\n",
       "            <th>airline_id</th>\n",
       "            <th>op_unique_carrier</th>\n",
       "            <th>carrier_name</th>\n",
       "        </tr>\n",
       "    </thead>\n",
       "    <tbody>\n",
       "    </tbody>\n",
       "</table>"
      ],
      "text/plain": [
       "[]"
      ]
     },
     "execution_count": 25,
     "metadata": {},
     "output_type": "execute_result"
    }
   ],
   "source": [
    "%%sql\n",
    "select * from carrier"
   ]
  },
  {
   "cell_type": "markdown",
   "id": "f792a16c-59f0-48e7-92c3-0cad16bc7ddc",
   "metadata": {},
   "source": [
    "+ Create Table P10_EMPLOYEES </br>\n",
    "We recognized that this entity has a composite primary key -- OP_UNIQUE_CARRIER and ENTITY. For the easiness of use, UNIQUE_CARRIER_ID is a generated primary key based on OP_UNIQUE_CARRIER and ENTITY"
   ]
  },
  {
   "cell_type": "code",
   "execution_count": 27,
   "id": "2e4888c1-ec64-4624-8a6d-a08c2450c305",
   "metadata": {},
   "outputs": [
    {
     "name": "stdout",
     "output_type": "stream",
     "text": [
      " * postgresql://student@/week6\n",
      "Done.\n",
      "Done.\n",
      "Done.\n",
      "Done.\n",
      "Done.\n",
      "Done.\n"
     ]
    },
    {
     "data": {
      "text/plain": [
       "[]"
      ]
     },
     "execution_count": 27,
     "metadata": {},
     "output_type": "execute_result"
    }
   ],
   "source": [
    "%%sql\n",
    "DROP TABLE IF EXISTS P10_EMPLOYEES Cascade;\n",
    "\n",
    "CREATE TABLE P10_EMPLOYEES (\n",
    "    UNIQUE_CARRIER_ID varchar(50) NOT NULL,\n",
    "    YEAR Numeric(4)NOT NULL,\n",
    "    AIRLINE_ID Numeric(5) NOT NULL,\n",
    "    OP_UNIQUE_CARRIER varchar(50) NOT NULL,\n",
    "    UNIQUE_CARRIER_NAME varchar(108) NOT NULL,\n",
    "    ENTITY char(1) NOT NULL,\n",
    "    GENERAL_MANAGE Numeric(4) NULL,\n",
    "    PILOTS_COPILOTS Numeric(4) NULL,\n",
    "    OTHER_FLT_PERS Numeric(4) NULL,\n",
    "    PASS_GEN_SVC_ADMIN Numeric(5) NULL,\n",
    "    MAINTENANCE Numeric(5) NULL,\n",
    "    ARCFT_TRAF_HANDLING_GRP1 Numeric(4) NULL,\n",
    "    GEN_ARCFT_TRAF_HANDLING Numeric(4) NULL,\n",
    "    AIRCRAFT_CONTROL Numeric(4) NULL,\n",
    "    PASSENGER_HANDLING Numeric(5) NULL,\n",
    "    CARGO_HANDLING Numeric(6) NULL,\n",
    "    TRAINEES_INTRUCTOR Numeric(4) NULL,\n",
    "    STATISTICAL Numeric(5) NULL,\n",
    "    TRAFFIC_SOLICITERS Numeric(4) NULL,\n",
    "    OTHER Numeric(5) NULL,\n",
    "    TRANSPORT_RELATED Numeric(5) NULL,\n",
    "    TOTAL Numeric(5) NULL,\n",
    "    PRIMARY KEY (UNIQUE_CARRIER_ID),\n",
    "    UNIQUE (OP_UNIQUE_CARRIER, ENTITY)\n",
    "    -- FOREIGN KEY (OP_UNIQUE_CARRIER) references CARRIER(OP_UNIQUE_CARRIER)\n",
    ");\n",
    "\n",
    "COMMENT ON TABLE P10_EMPLOYEES is 'P10_EMPLOYEES: Employees per carrier';\n",
    "COMMENT ON COLUMN P10_EMPLOYEES.AIRLINE_ID is 'Airport ID, matches to AIRLINE_ID in other files';\n",
    "COMMENT ON COLUMN P10_EMPLOYEES.OP_UNIQUE_CARRIER is 'Carrier code, matches to OP_UNIQUE_CARRIER in other files';\n",
    "COMMENT ON COLUMN P10_EMPLOYEES.UNIQUE_CARRIER_NAME is 'Carrier name, matches to UNIQUE_CARRIER_NAME or CARRIER_NAME in other files';"
   ]
  },
  {
   "cell_type": "code",
   "execution_count": 28,
   "id": "7c8e5783-9eab-4602-8994-6b461b1e0a02",
   "metadata": {},
   "outputs": [
    {
     "name": "stdout",
     "output_type": "stream",
     "text": [
      " * postgresql://student@/week6\n",
      "0 rows affected.\n"
     ]
    },
    {
     "data": {
      "text/html": [
       "<table>\n",
       "    <thead>\n",
       "        <tr>\n",
       "            <th>unique_carrier_id</th>\n",
       "            <th>year</th>\n",
       "            <th>airline_id</th>\n",
       "            <th>op_unique_carrier</th>\n",
       "            <th>unique_carrier_name</th>\n",
       "            <th>entity</th>\n",
       "            <th>general_manage</th>\n",
       "            <th>pilots_copilots</th>\n",
       "            <th>other_flt_pers</th>\n",
       "            <th>pass_gen_svc_admin</th>\n",
       "            <th>maintenance</th>\n",
       "            <th>arcft_traf_handling_grp1</th>\n",
       "            <th>gen_arcft_traf_handling</th>\n",
       "            <th>aircraft_control</th>\n",
       "            <th>passenger_handling</th>\n",
       "            <th>cargo_handling</th>\n",
       "            <th>trainees_intructor</th>\n",
       "            <th>statistical</th>\n",
       "            <th>traffic_soliciters</th>\n",
       "            <th>other</th>\n",
       "            <th>transport_related</th>\n",
       "            <th>total</th>\n",
       "        </tr>\n",
       "    </thead>\n",
       "    <tbody>\n",
       "    </tbody>\n",
       "</table>"
      ],
      "text/plain": [
       "[]"
      ]
     },
     "execution_count": 28,
     "metadata": {},
     "output_type": "execute_result"
    }
   ],
   "source": [
    "%%sql\n",
    "select * from P10_EMPLOYEES"
   ]
  },
  {
   "cell_type": "markdown",
   "id": "dda00dac-713e-43b2-8ee5-d994659098df",
   "metadata": {},
   "source": [
    "+ Create Table ONTIME_REPORTING </br>\n",
    "Compared to index, we rather use a more meaningful derived primary key. REPORT_ID is a generated primary key using OP_UNIQUE_CARRIER, OP_CARRIER_FL_NUM, ORIGIN_AIRPORT_ID, YEAR, MONTH, DAY_OF_MONTH, TAIL_NUM based on the assumption that a **aircraft** of a certain **carrier** can only engage in a certain **air route** departing from certain **airport** in a certain **day**."
   ]
  },
  {
   "cell_type": "code",
   "execution_count": 29,
   "id": "f8199beb-ea59-4604-a6c2-259fd0990c2b",
   "metadata": {},
   "outputs": [
    {
     "name": "stdout",
     "output_type": "stream",
     "text": [
      " * postgresql://student@/week6\n",
      "Done.\n",
      "Done.\n"
     ]
    },
    {
     "data": {
      "text/plain": [
       "[]"
      ]
     },
     "execution_count": 29,
     "metadata": {},
     "output_type": "execute_result"
    }
   ],
   "source": [
    "%%sql\n",
    "DROP TABLE IF EXISTS ONTIME_REPORTING Cascade;\n",
    "\n",
    "CREATE TABLE ONTIME_REPORTING (\n",
    "  REPORT_ID   varchar(50) Not NULL, \n",
    "  YEAR   numeric(4) NOT NULL,\n",
    "  MONTH  numeric(1) NOT NULL,\n",
    "  DAY_OF_MONTH   numeric(2) NOT NULL,\n",
    "  DAY_OF_WEEK    numeric(1)  NOT NULL,   \n",
    "  OP_UNIQUE_CARRIER varchar(10) NOT NULL,\n",
    "  TAIL_NUM  varchar(10) NULL,\n",
    "  OP_CARRIER_FL_NUM numeric(4) NOT NULL,\n",
    "  ORIGIN_AIRPORT_ID numeric(5) NOT NULL,\n",
    "  ORIGIN  CHARACTER(10) NOT NULL,\n",
    "  ORIGIN_CITY_NAME varchar(50) NOT NULL,\n",
    "  DEST_AIRPORT_ID numeric(5) NOT NULL,\n",
    "  DEST  varchar(15) NOT NULL,\n",
    "  DEST_CITY_NAME  varchar(50) NOT NULL,\n",
    "  CRS_DEP_TIME numeric(4) NOT NULL,\n",
    "  DEP_TIME  numeric(4) NULL,\n",
    "  DEP_DELAY_NEW  numeric(6) NULL,\n",
    "  DEP_DEL15 numeric(2) NULL,\n",
    "  DEP_TIME_BLK VARCHAR(10) NOT NULL,\n",
    "  CRS_ARR_TIME  numeric(5) NOT NULL,\n",
    "  ARR_TIME   numeric(4) NULL,\n",
    "  ARR_DELAY_NEW  numeric(4) NULL,\n",
    "  ARR_TIME_BLK VARCHAR(10) NOT NULL,\n",
    "  CANCELLED  numeric(2) NULL,\n",
    "  CANCELLATION_CODE VARCHAR(1) NULL,\n",
    "  CRS_ELAPSED_TIME numeric(4) NULL,\n",
    "  ACTUAL_ELAPSED_TIME numeric(4) NULL,\n",
    "  DISTANCE  numeric(4) NOT NULL,\n",
    "  DISTANCE_GROUP numeric(2) NOT NULL,\n",
    "  CARRIER_DELAY  numeric(4) NULL,\n",
    "  WEATHER_DELAY  numeric(4) NULL,\n",
    "  NAS_DELAY  numeric(4) NULL,\n",
    "  SECURITY_DELAY numeric(4) NULL,\n",
    "  LATE_AIRCRAFT_DELAY numeric(4) NULL,\n",
    "  X varchar(2), -- what is this?\n",
    "  PRIMARY KEY (REPORT_ID),\n",
    "  FOREIGN KEY (OP_UNIQUE_CARRIER) references CARRIER(OP_UNIQUE_CARRIER)\n",
    "-- The foreign key in comments cannot connect because the data in the other table is not complete.\n",
    "-- Futher explanation will be available in the bottom of Part 2 question 2.\n",
    "  -- FOREIGN KEY (TAIL_NUM) references AIRCRAFT(TAIL_NUM),\n",
    "  -- FOREIGN KEY (ORIGIN_AIRPORT_ID) references AIRPORT_COORDINATES(ORIGIN_AIRPORT_ID) ,\n",
    "  -- FOREIGN KEY (DEST_AIRPORT_ID) references AIRPORT_COORDINATES(ORIGIN_AIRPORT_ID)\n",
    "  -- FOREIGN KEY (ORIGIN_AIRPORT_ID) references AIRPORT_LIST(ORIGIN_AIRPORT_ID) ,\n",
    "  -- FOREIGN KEY (DEST_AIRPORT_ID) references AIRPORT_LIST(ORIGIN_AIRPORT_ID)\n",
    "-- UNIQUE (CNAME)\n",
    ");"
   ]
  },
  {
   "cell_type": "code",
   "execution_count": 30,
   "id": "deaa03d2-de39-4dc8-b767-a40c4dc061b1",
   "metadata": {},
   "outputs": [
    {
     "name": "stdout",
     "output_type": "stream",
     "text": [
      " * postgresql://student@/week6\n",
      "0 rows affected.\n"
     ]
    },
    {
     "data": {
      "text/html": [
       "<table>\n",
       "    <thead>\n",
       "        <tr>\n",
       "            <th>report_id</th>\n",
       "            <th>year</th>\n",
       "            <th>month</th>\n",
       "            <th>day_of_month</th>\n",
       "            <th>day_of_week</th>\n",
       "            <th>op_unique_carrier</th>\n",
       "            <th>tail_num</th>\n",
       "            <th>op_carrier_fl_num</th>\n",
       "            <th>origin_airport_id</th>\n",
       "            <th>origin</th>\n",
       "            <th>origin_city_name</th>\n",
       "            <th>dest_airport_id</th>\n",
       "            <th>dest</th>\n",
       "            <th>dest_city_name</th>\n",
       "            <th>crs_dep_time</th>\n",
       "            <th>dep_time</th>\n",
       "            <th>dep_delay_new</th>\n",
       "            <th>dep_del15</th>\n",
       "            <th>dep_time_blk</th>\n",
       "            <th>crs_arr_time</th>\n",
       "            <th>arr_time</th>\n",
       "            <th>arr_delay_new</th>\n",
       "            <th>arr_time_blk</th>\n",
       "            <th>cancelled</th>\n",
       "            <th>cancellation_code</th>\n",
       "            <th>crs_elapsed_time</th>\n",
       "            <th>actual_elapsed_time</th>\n",
       "            <th>distance</th>\n",
       "            <th>distance_group</th>\n",
       "            <th>carrier_delay</th>\n",
       "            <th>weather_delay</th>\n",
       "            <th>nas_delay</th>\n",
       "            <th>security_delay</th>\n",
       "            <th>late_aircraft_delay</th>\n",
       "            <th>x</th>\n",
       "        </tr>\n",
       "    </thead>\n",
       "    <tbody>\n",
       "    </tbody>\n",
       "</table>"
      ],
      "text/plain": [
       "[]"
      ]
     },
     "execution_count": 30,
     "metadata": {},
     "output_type": "execute_result"
    }
   ],
   "source": [
    "%%sql\n",
    "select * from ONTIME_REPORTING"
   ]
  },
  {
   "cell_type": "markdown",
   "id": "8ac47bde-17c5-40d8-b7d1-435f62fb9950",
   "metadata": {},
   "source": [
    "#### <font color='bronze'>2. Constructing your Database – Data Loading (10 points)</font>"
   ]
  },
  {
   "cell_type": "markdown",
   "id": "08774fb3-37f9-4df0-b463-1b21a412cdb5",
   "metadata": {},
   "source": [
    "##### <font color='grey'> Once you have created the tables and their constraints, construct (i.e., populate) the tables in bulk using the data files for year 2019 (Jan-Mar) and 2020 (Jan-Mar). Make sure to check your answer (using select queries) against the original text files (using Linux or csvkit commands) </font>"
   ]
  },
  {
   "cell_type": "markdown",
   "id": "aa9ad98a-4dad-4c1e-b8a8-bb9f7daa7ec7",
   "metadata": {
    "jupyter": {
     "outputs_hidden": true
    },
    "tags": []
   },
   "source": [
    "%%sql \n",
    "-- checking what table do we have\n",
    "SELECT *\n",
    "FROM pg_catalog.pg_tables where tableowner='student'"
   ]
  },
  {
   "cell_type": "markdown",
   "id": "458dda7b-90b3-44e8-b567-db8d1a38377d",
   "metadata": {},
   "source": [
    "+ Import AIRPORT_COORDINATES"
   ]
  },
  {
   "cell_type": "markdown",
   "id": "c6e3db03-85eb-46ae-b49c-6a152b546015",
   "metadata": {},
   "source": [
    "Data cleaning using **RStudio**: </br>\n",
    "\n",
    "We remove the duplicate for our selected primary key using </br>\n",
    "> df <- df[!duplicated(df$origin_airport_id),]"
   ]
  },
  {
   "cell_type": "code",
   "execution_count": 33,
   "id": "fc07b224-5664-4f26-a9fb-cd459426b4a7",
   "metadata": {},
   "outputs": [
    {
     "name": "stdout",
     "output_type": "stream",
     "text": [
      "6487 AIRPORT_COORDINATES.csv\n"
     ]
    }
   ],
   "source": [
    "!wc -l AIRPORT_COORDINATES.csv"
   ]
  },
  {
   "cell_type": "code",
   "execution_count": 34,
   "id": "8578b8be-6f48-4848-a4d2-e1da1df9fd12",
   "metadata": {},
   "outputs": [
    {
     "name": "stdout",
     "output_type": "stream",
     "text": [
      " * postgresql://student@/week6\n",
      "6486 rows affected.\n"
     ]
    },
    {
     "data": {
      "text/plain": [
       "[]"
      ]
     },
     "execution_count": 34,
     "metadata": {},
     "output_type": "execute_result"
    }
   ],
   "source": [
    "%%sql\n",
    "COPY AIRPORT_COORDINATES FROM '/home/ubuntu/notebooks/Project2_Group05/AIRPORT_COORDINATES.csv'\n",
    "CSV\n",
    "HEADER;"
   ]
  },
  {
   "cell_type": "markdown",
   "id": "d6e35fa1-b4f2-4d72-bca3-564c4a060e7b",
   "metadata": {},
   "source": [
    "We used Linux to check the rows affected then we got 6487 rows which is one more than 6486 rows in the original dataset, AIRPORT_COORDINATES.csv. This is because we excluded the header when we inspect the data, therefore we used the same data in the next constructing table step."
   ]
  },
  {
   "cell_type": "code",
   "execution_count": 38,
   "id": "8467d04a-c75d-4158-ba8e-4cb3d7c75559",
   "metadata": {},
   "outputs": [
    {
     "name": "stdout",
     "output_type": "stream",
     "text": [
      "\"ORIGIN_AIRPORT_ID\",\"DISPLAY_AIRPORT_NAME\",\"LATITUDE\",\"LONGITUDE\"\n",
      "10001,\"Afognak Lake Airport\",58.10944444,-152.9066667\n",
      "10003,\"Bear Creek Mining Strip\",65.54805556,-161.0716667\n"
     ]
    }
   ],
   "source": [
    "!head -3 AIRPORT_COORDINATES.csv"
   ]
  },
  {
   "cell_type": "code",
   "execution_count": 35,
   "id": "3383e0c4-4875-4442-b12e-1917c1dd27cd",
   "metadata": {},
   "outputs": [
    {
     "name": "stdout",
     "output_type": "stream",
     "text": [
      " * postgresql://student@/week6\n",
      "2 rows affected.\n"
     ]
    },
    {
     "data": {
      "text/html": [
       "<table>\n",
       "    <thead>\n",
       "        <tr>\n",
       "            <th>origin_airport_id</th>\n",
       "            <th>display_airport_name</th>\n",
       "            <th>latitude</th>\n",
       "            <th>longitude</th>\n",
       "        </tr>\n",
       "    </thead>\n",
       "    <tbody>\n",
       "        <tr>\n",
       "            <td>10001</td>\n",
       "            <td>Afognak Lake Airport</td>\n",
       "            <td>58.1094444</td>\n",
       "            <td>-152.9066667</td>\n",
       "        </tr>\n",
       "        <tr>\n",
       "            <td>10003</td>\n",
       "            <td>Bear Creek Mining Strip</td>\n",
       "            <td>65.5480556</td>\n",
       "            <td>-161.0716667</td>\n",
       "        </tr>\n",
       "    </tbody>\n",
       "</table>"
      ],
      "text/plain": [
       "[(Decimal('10001'), 'Afognak Lake Airport', Decimal('58.1094444'), Decimal('-152.9066667')),\n",
       " (Decimal('10003'), 'Bear Creek Mining Strip', Decimal('65.5480556'), Decimal('-161.0716667'))]"
      ]
     },
     "execution_count": 35,
     "metadata": {},
     "output_type": "execute_result"
    }
   ],
   "source": [
    "%%sql\n",
    "select * from AIRPORT_COORDINATES limit 2"
   ]
  },
  {
   "cell_type": "markdown",
   "id": "f3e67add-d78c-4f5b-aaf7-75bf124608ce",
   "metadata": {},
   "source": [
    "+ Import weather </br>"
   ]
  },
  {
   "cell_type": "markdown",
   "id": "c36e1c62-43db-4589-9166-85ef90e3ab0b",
   "metadata": {},
   "source": [
    "Data cleaning using **RStudio**: </br>\n",
    "\n",
    "The column names and column number of 2019 and 2020 csv file is different, which hindered us from directly using csvstack, To solve this problem, we used RStudio to select only the useful attributes and arrange them in certain order.According to the raw_data_documentation.txt which says that Important features are NAME, DATE, PRCP, SNOW, SNWD, TMAX, and AWND, we only include these attributes and STATION as well as our generated attribute S_DATE. We select using function\n",
    "> df <-  select(df,c(\"STATION\", \"NAME\", \"DATE\", \"PRCP\", \"SNOW, SNWD, TMAX, and AWND))\n",
    "\n",
    "We observed that there are 2 formats of date presented in Date. Thus, we convert it to the standard DATE data type used in SQL by\n",
    "> library(lubridate) </br>\n",
    "mdy <- mdy(df$DATE) </br>\n",
    "dmy <- ymd(df$DATE) </br>\n",
    "mdy[is.na(mdy)] <- dmy[is.na(mdy)] </br>\n",
    "df$DATE<- mdy </br>\n",
    "\n",
    "As we are awared of the composite unique key (station, date) or unique key (name, date), we decide to generate a primary key based on STATION and DATE </br>\n",
    "> df <- mutate(df,S_DATE = paste0(STATION, DATE), .before = \"STATION\")\n",
    "\n",
    "and remove the slash using </br>\n",
    "> df$S_DATE <- gsub(\"-\",\"\",df$S_DATE)\n",
    "\n",
    "We cut out the data from January to March for 2019 weather data using\n",
    "> df <- df[df$DATE >= \"2019-01-01\" & df$DATE <= \"2019-03-31\", ]"
   ]
  },
  {
   "cell_type": "code",
   "execution_count": 5,
   "id": "0c021976-fc00-4bf2-8081-10f92ecf20aa",
   "metadata": {},
   "outputs": [],
   "source": [
    "!csvstack airport_weather_20*.csv > airport_weather.csv"
   ]
  },
  {
   "cell_type": "code",
   "execution_count": 36,
   "id": "e3eb36f4-783f-4867-81ec-5c61b2a68852",
   "metadata": {},
   "outputs": [
    {
     "name": "stdout",
     "output_type": "stream",
     "text": [
      "17084 airport_weather.csv\n"
     ]
    }
   ],
   "source": [
    "!wc -l airport_weather.csv"
   ]
  },
  {
   "cell_type": "code",
   "execution_count": 40,
   "id": "414ba933-8e83-42da-8975-89ff37553504",
   "metadata": {},
   "outputs": [
    {
     "name": "stdout",
     "output_type": "stream",
     "text": [
      " * postgresql://student@/week6\n",
      "17083 rows affected.\n"
     ]
    },
    {
     "data": {
      "text/plain": [
       "[]"
      ]
     },
     "execution_count": 40,
     "metadata": {},
     "output_type": "execute_result"
    }
   ],
   "source": [
    "%%sql\n",
    "COPY WEATHER FROM '/home/ubuntu/notebooks/Project2_Group05/airport_weather.csv'\n",
    "CSV\n",
    "HEADER;"
   ]
  },
  {
   "cell_type": "markdown",
   "id": "4d1c9d4b-308d-440a-bfa1-1978fc1459b0",
   "metadata": {},
   "source": [
    "We used Linux to check the rows affected then we got 17084 rows which is one more than 17083 rows in the original dataset, airport_weather.csv. This is because we excluded the header when we inspect the data, therefore we used the same data in the next constructing table step."
   ]
  },
  {
   "cell_type": "code",
   "execution_count": 39,
   "id": "92a24036-44f8-43a3-a084-3b7786787af1",
   "metadata": {},
   "outputs": [
    {
     "name": "stdout",
     "output_type": "stream",
     "text": [
      "S_DATE,STATION,NAME,DATE,PRCP,SNOW,SNWD,TMAX,AWND\n",
      "USW0001387420190101,USW00013874,\"ATLANTA HARTSFIELD JACKSON INTERNATIONAL AIRPORT, GA US\",2019-01-01,0.14,0,0,66,4.7\n",
      "USW0001387420190102,USW00013874,\"ATLANTA HARTSFIELD JACKSON INTERNATIONAL AIRPORT, GA US\",2019-01-02,0.57,0,0,59,4.92\n"
     ]
    }
   ],
   "source": [
    "!head -3 airport_weather.csv"
   ]
  },
  {
   "cell_type": "code",
   "execution_count": 41,
   "id": "4000320c-bf38-4c51-b13d-e5472e10b9c0",
   "metadata": {},
   "outputs": [
    {
     "name": "stdout",
     "output_type": "stream",
     "text": [
      " * postgresql://student@/week6\n",
      "2 rows affected.\n"
     ]
    },
    {
     "data": {
      "text/html": [
       "<table>\n",
       "    <thead>\n",
       "        <tr>\n",
       "            <th>s_date</th>\n",
       "            <th>station</th>\n",
       "            <th>name</th>\n",
       "            <th>date</th>\n",
       "            <th>prcp</th>\n",
       "            <th>snow</th>\n",
       "            <th>snwd</th>\n",
       "            <th>tmax</th>\n",
       "            <th>awnd</th>\n",
       "        </tr>\n",
       "    </thead>\n",
       "    <tbody>\n",
       "        <tr>\n",
       "            <td>USW0001387420190101</td>\n",
       "            <td>USW00013874</td>\n",
       "            <td>ATLANTA HARTSFIELD JACKSON INTERNATIONAL AIRPORT, GA US</td>\n",
       "            <td>2019-01-01</td>\n",
       "            <td>0.14</td>\n",
       "            <td>0.00</td>\n",
       "            <td>0.00</td>\n",
       "            <td>66.00</td>\n",
       "            <td>4.70</td>\n",
       "        </tr>\n",
       "        <tr>\n",
       "            <td>USW0001387420190102</td>\n",
       "            <td>USW00013874</td>\n",
       "            <td>ATLANTA HARTSFIELD JACKSON INTERNATIONAL AIRPORT, GA US</td>\n",
       "            <td>2019-01-02</td>\n",
       "            <td>0.57</td>\n",
       "            <td>0.00</td>\n",
       "            <td>0.00</td>\n",
       "            <td>59.00</td>\n",
       "            <td>4.92</td>\n",
       "        </tr>\n",
       "    </tbody>\n",
       "</table>"
      ],
      "text/plain": [
       "[('USW0001387420190101', 'USW00013874', 'ATLANTA HARTSFIELD JACKSON INTERNATIONAL AIRPORT, GA US', datetime.date(2019, 1, 1), Decimal('0.14'), Decimal('0.00'), Decimal('0.00'), Decimal('66.00'), Decimal('4.70')),\n",
       " ('USW0001387420190102', 'USW00013874', 'ATLANTA HARTSFIELD JACKSON INTERNATIONAL AIRPORT, GA US', datetime.date(2019, 1, 2), Decimal('0.57'), Decimal('0.00'), Decimal('0.00'), Decimal('59.00'), Decimal('4.92'))]"
      ]
     },
     "execution_count": 41,
     "metadata": {},
     "output_type": "execute_result"
    }
   ],
   "source": [
    "%%sql\n",
    "select * from WEATHER limit 2"
   ]
  },
  {
   "cell_type": "markdown",
   "id": "cc382015-4ce5-464c-bac7-e4466106a5b5",
   "metadata": {},
   "source": [
    "+ Import AIRPORT_LIST"
   ]
  },
  {
   "cell_type": "markdown",
   "id": "d82f8f7d-6653-4944-80a6-f51cad8c0223",
   "metadata": {},
   "source": [
    "Data cleaning: </br>\n",
    "We did not do cleaning to this file because each row is uniquely identified by ORIGIN_AIRPORT_ID."
   ]
  },
  {
   "cell_type": "code",
   "execution_count": 42,
   "id": "6d414224-b04f-4209-86a4-44e5f56f8b86",
   "metadata": {},
   "outputs": [
    {
     "name": "stdout",
     "output_type": "stream",
     "text": [
      "98 airports_list.csv\n"
     ]
    }
   ],
   "source": [
    "!wc -l airports_list.csv"
   ]
  },
  {
   "cell_type": "code",
   "execution_count": 43,
   "id": "ff563ccf-1a34-436b-b366-6de564023e7d",
   "metadata": {},
   "outputs": [
    {
     "name": "stdout",
     "output_type": "stream",
     "text": [
      " * postgresql://student@/week6\n",
      "97 rows affected.\n"
     ]
    },
    {
     "data": {
      "text/plain": [
       "[]"
      ]
     },
     "execution_count": 43,
     "metadata": {},
     "output_type": "execute_result"
    }
   ],
   "source": [
    "%%sql\n",
    "COPY AIRPORT_LIST FROM '/home/ubuntu/notebooks/Project2_Group05/airports_list.csv'\n",
    "CSV\n",
    "HEADER;"
   ]
  },
  {
   "cell_type": "markdown",
   "id": "87b9c7ef-7443-4390-b9ab-3e978642a246",
   "metadata": {},
   "source": [
    "We used Linux to check the rows affected then we got 98 rows which is one more than 97 rows in the original dataset, airport_list.csv. This is because we excluded the header when we inspect the data, therefore we used the same data in the next constructing table step."
   ]
  },
  {
   "cell_type": "code",
   "execution_count": 44,
   "id": "23554392-64b3-474c-b69f-86acbfaef7b1",
   "metadata": {},
   "outputs": [
    {
     "name": "stdout",
     "output_type": "stream",
     "text": [
      "ORIGIN_AIRPORT_ID,DISPLAY_AIRPORT_NAME,ORIGIN_CITY_NAME,NAME\n",
      "12992,Adams Field,\"Little Rock, AR\",\"NORTH LITTLE ROCK AIRPORT, AR US\"\n",
      "10257,Albany International,\"Albany, NY\",\"ALBANY INTERNATIONAL AIRPORT, NY US\"\n"
     ]
    }
   ],
   "source": [
    "!head -3 airports_list.csv"
   ]
  },
  {
   "cell_type": "code",
   "execution_count": 16,
   "id": "9d6a8db7-7276-4752-abdb-6703835842e3",
   "metadata": {},
   "outputs": [
    {
     "name": "stdout",
     "output_type": "stream",
     "text": [
      " * postgresql://student@/week6\n",
      "3 rows affected.\n"
     ]
    },
    {
     "data": {
      "text/html": [
       "<table>\n",
       "    <thead>\n",
       "        <tr>\n",
       "            <th>origin_airport_id</th>\n",
       "            <th>display_airport_name</th>\n",
       "            <th>origin_city_name</th>\n",
       "            <th>name</th>\n",
       "        </tr>\n",
       "    </thead>\n",
       "    <tbody>\n",
       "        <tr>\n",
       "            <td>12992</td>\n",
       "            <td>Adams Field</td>\n",
       "            <td>Little Rock, AR</td>\n",
       "            <td>NORTH LITTLE ROCK AIRPORT, AR US</td>\n",
       "        </tr>\n",
       "        <tr>\n",
       "            <td>10257</td>\n",
       "            <td>Albany International</td>\n",
       "            <td>Albany, NY</td>\n",
       "            <td>ALBANY INTERNATIONAL AIRPORT, NY US</td>\n",
       "        </tr>\n",
       "        <tr>\n",
       "            <td>10140</td>\n",
       "            <td>Albuquerque International Sunport</td>\n",
       "            <td>Albuquerque, NM</td>\n",
       "            <td>ALBUQUERQUE INTERNATIONAL AIRPORT, NM US</td>\n",
       "        </tr>\n",
       "    </tbody>\n",
       "</table>"
      ],
      "text/plain": [
       "[(Decimal('12992'), 'Adams Field', 'Little Rock, AR', 'NORTH LITTLE ROCK AIRPORT, AR US'),\n",
       " (Decimal('10257'), 'Albany International', 'Albany, NY', 'ALBANY INTERNATIONAL AIRPORT, NY US'),\n",
       " (Decimal('10140'), 'Albuquerque International Sunport', 'Albuquerque, NM', 'ALBUQUERQUE INTERNATIONAL AIRPORT, NM US')]"
      ]
     },
     "execution_count": 16,
     "metadata": {},
     "output_type": "execute_result"
    }
   ],
   "source": [
    "%%sql\n",
    "select * from AIRPORT_LIST limit 2"
   ]
  },
  {
   "cell_type": "markdown",
   "id": "5134e5f2-9bae-451c-a96d-972956e0f43d",
   "metadata": {},
   "source": [
    "+ Import AIRCRAFT"
   ]
  },
  {
   "cell_type": "markdown",
   "id": "8ae9c428-582f-4f7c-b6d8-61bc9535a8ab",
   "metadata": {},
   "source": [
    "Data cleaning using **RStudio**: </br>\n",
    "We check the duplicate based on selected primary key TAIL_NUM by\n",
    "> df[duplicated(df$TAIL_NUM),]\n",
    "\n",
    "We notice that some duplicates have complete records while the others do not. Thus, we create a table with duplicated record using\n",
    "> dup <- df[duplicated(df$TAIL_NUM),] </br>\n",
    "plyr::match_df(df,dup, on = 'TAIL_NUM')\n",
    "\n",
    "and then careful remove duplicates while preserving those with non-zero NUMBER_OF_SEATS. Then, we get rid of all duplicate of the same records by \n",
    "> df <- df[!duplicated(df$TAIL_NUM),]\n",
    "\n",
    "Besides, there is a cross in around the six-thousandth line in the data file causing error saying \"the file is not UTF-8 encoded.\" We simply find the cross and delete it to solve the error."
   ]
  },
  {
   "cell_type": "code",
   "execution_count": 46,
   "id": "873013ac-7ef1-495d-8075-7e8b3ba4acd1",
   "metadata": {},
   "outputs": [
    {
     "name": "stdout",
     "output_type": "stream",
     "text": [
      "7362 B43_AIRCRAFT_INVENTORY.csv\n"
     ]
    }
   ],
   "source": [
    "!wc -l B43_AIRCRAFT_INVENTORY.csv"
   ]
  },
  {
   "cell_type": "markdown",
   "id": "19c72228-2a08-44c5-914c-539e5aec322d",
   "metadata": {},
   "source": [
    "We used Linux to check the rows affected then we got 7362 rows which is one more than 7361 rows in the original dataset, B43_AIRCRAFT_INVENTORY.csv. This is because we excluded the header when we inspect the data, therefore we used the same data in the next constructing table step."
   ]
  },
  {
   "cell_type": "code",
   "execution_count": 47,
   "id": "9f0566e9-bc55-4f69-97cc-b6c20812262d",
   "metadata": {
    "tags": []
   },
   "outputs": [
    {
     "name": "stdout",
     "output_type": "stream",
     "text": [
      " * postgresql://student@/week6\n",
      "7361 rows affected.\n"
     ]
    },
    {
     "data": {
      "text/plain": [
       "[]"
      ]
     },
     "execution_count": 47,
     "metadata": {},
     "output_type": "execute_result"
    }
   ],
   "source": [
    "%%sql\n",
    "COPY AIRCRAFT FROM '/home/ubuntu/notebooks/Project2_Group05/B43_AIRCRAFT_INVENTORY.csv'\n",
    "CSV\n",
    "HEADER;"
   ]
  },
  {
   "cell_type": "code",
   "execution_count": 45,
   "id": "1639fa08-4759-4cf2-a71f-63e8a7ab7176",
   "metadata": {},
   "outputs": [
    {
     "name": "stdout",
     "output_type": "stream",
     "text": [
      "\"MANUFACTURE_YEAR\",\"TAIL_NUM\",\"NUMBER_OF_SEATS\"\n",
      "1944,\"N54514\",0\n",
      "1945,\"N1651M\",0\n"
     ]
    }
   ],
   "source": [
    "!head -3 B43_AIRCRAFT_INVENTORY.csv"
   ]
  },
  {
   "cell_type": "code",
   "execution_count": 48,
   "id": "b00c8a3b-9074-4a9f-8be5-2d508d47d378",
   "metadata": {},
   "outputs": [
    {
     "name": "stdout",
     "output_type": "stream",
     "text": [
      " * postgresql://student@/week6\n",
      "2 rows affected.\n"
     ]
    },
    {
     "data": {
      "text/html": [
       "<table>\n",
       "    <thead>\n",
       "        <tr>\n",
       "            <th>manufacture_year</th>\n",
       "            <th>tail_num</th>\n",
       "            <th>number_of_seats</th>\n",
       "        </tr>\n",
       "    </thead>\n",
       "    <tbody>\n",
       "        <tr>\n",
       "            <td>1944</td>\n",
       "            <td>N54514</td>\n",
       "            <td>0</td>\n",
       "        </tr>\n",
       "        <tr>\n",
       "            <td>1945</td>\n",
       "            <td>N1651M</td>\n",
       "            <td>0</td>\n",
       "        </tr>\n",
       "    </tbody>\n",
       "</table>"
      ],
      "text/plain": [
       "[(Decimal('1944'), 'N54514', Decimal('0')),\n",
       " (Decimal('1945'), 'N1651M', Decimal('0'))]"
      ]
     },
     "execution_count": 48,
     "metadata": {},
     "output_type": "execute_result"
    }
   ],
   "source": [
    "%%sql\n",
    "select * from AIRCRAFT limit 2"
   ]
  },
  {
   "cell_type": "markdown",
   "id": "8bac0eb8-12d6-4224-92f6-18329d728167",
   "metadata": {},
   "source": [
    "+ Import P10_EMPLOYEES"
   ]
  },
  {
   "cell_type": "markdown",
   "id": "3b1aafd8-a52a-4844-9f72-4c8917a28748",
   "metadata": {},
   "source": [
    "Data cleaning using **RStudio**: </br>\n",
    "We are awared of the composite primary key (OP_UNIQUE_CARRIER, ENTITY). But for the easiness of use, we decided to generate a primary key based on OP_UNIQUE_CARRIER and ENTITY\n",
    "> df <- mutate(df,UNIQUE_CARRIER_ID = paste0(OP_UNIQUE_CARRIER, ENTITY), .before = \"YEAR\")"
   ]
  },
  {
   "cell_type": "code",
   "execution_count": 50,
   "id": "0a6262ef-cb52-414a-9bef-43fa3e7b2dd6",
   "metadata": {},
   "outputs": [
    {
     "name": "stdout",
     "output_type": "stream",
     "text": [
      "90 P10_EMPLOYEES.csv\n"
     ]
    }
   ],
   "source": [
    "!wc -l P10_EMPLOYEES.csv"
   ]
  },
  {
   "cell_type": "code",
   "execution_count": 51,
   "id": "a6e41f81-62ba-434d-b20c-0bcc5ae50583",
   "metadata": {},
   "outputs": [
    {
     "name": "stdout",
     "output_type": "stream",
     "text": [
      " * postgresql://student@/week6\n",
      "89 rows affected.\n"
     ]
    },
    {
     "data": {
      "text/plain": [
       "[]"
      ]
     },
     "execution_count": 51,
     "metadata": {},
     "output_type": "execute_result"
    }
   ],
   "source": [
    "%%sql\n",
    "COPY P10_EMPLOYEES FROM '/home/ubuntu/notebooks/Project2_Group05/P10_EMPLOYEES.csv'\n",
    "CSV\n",
    "HEADER;"
   ]
  },
  {
   "cell_type": "markdown",
   "id": "d0373bc3-80d7-4106-b8d4-a728bf5f726e",
   "metadata": {},
   "source": [
    "We used Linux to check the rows affected then we got 90 rows which is one more than 89 rows in the original dataset, P10_EMPLOYEES.csv This is because we excluded the header when we inspect the data, therefore we used the same data in the next constructing table step."
   ]
  },
  {
   "cell_type": "code",
   "execution_count": 52,
   "id": "54e90284-5955-41c8-9cfa-4dccf5d516f1",
   "metadata": {},
   "outputs": [
    {
     "name": "stdout",
     "output_type": "stream",
     "text": [
      "\"UNIQUE_CARRIER_ID\",\"YEAR\",\"AIRLINE_ID\",\"OP_UNIQUE_CARRIER\",\"UNIQUE_CARRIER_NAME\",\"ENTITY\",\"GENERAL_MANAGE\",\"PILOTS_COPILOTS\",\"OTHER_FLT_PERS\",\"PASS_GEN_SVC_ADMIN\",\"MAINTENANCE\",\"ARCFT_TRAF_HANDLING_GRP1\",\"GEN_ARCFT_TRAF_HANDLING\",\"AIRCRAFT_CONTROL\",\"PASSENGER_HANDLING\",\"CARGO_HANDLING\",\"TRAINEES_INTRUCTOR\",\"STATISTICAL\",\"TRAFFIC_SOLICITERS\",\"OTHER\",\"TRANSPORT_RELATED\",\"TOTAL\"\n",
      "\"0WQD\",2019,21352,\"0WQ\",\"Avjet Corporation\",\"D\",4,53,6,19,29,21,0,0,0,3,1,18,0,7,0,161\n",
      "\"1BQI\",2019,21492,\"1BQ\",\"Eastern Airlines f/k/a Dynamic Airways, LLC\",\"I\",14,50,0,41,18,21,0,0,0,0,1,13,0,3,0,161\n"
     ]
    }
   ],
   "source": [
    "!head -3 P10_EMPLOYEES.csv"
   ]
  },
  {
   "cell_type": "code",
   "execution_count": 53,
   "id": "cbd95de5-d87b-4c1c-a186-042d7518f352",
   "metadata": {},
   "outputs": [
    {
     "name": "stdout",
     "output_type": "stream",
     "text": [
      " * postgresql://student@/week6\n",
      "2 rows affected.\n"
     ]
    },
    {
     "data": {
      "text/html": [
       "<table>\n",
       "    <thead>\n",
       "        <tr>\n",
       "            <th>unique_carrier_id</th>\n",
       "            <th>year</th>\n",
       "            <th>airline_id</th>\n",
       "            <th>op_unique_carrier</th>\n",
       "            <th>unique_carrier_name</th>\n",
       "            <th>entity</th>\n",
       "            <th>general_manage</th>\n",
       "            <th>pilots_copilots</th>\n",
       "            <th>other_flt_pers</th>\n",
       "            <th>pass_gen_svc_admin</th>\n",
       "            <th>maintenance</th>\n",
       "            <th>arcft_traf_handling_grp1</th>\n",
       "            <th>gen_arcft_traf_handling</th>\n",
       "            <th>aircraft_control</th>\n",
       "            <th>passenger_handling</th>\n",
       "            <th>cargo_handling</th>\n",
       "            <th>trainees_intructor</th>\n",
       "            <th>statistical</th>\n",
       "            <th>traffic_soliciters</th>\n",
       "            <th>other</th>\n",
       "            <th>transport_related</th>\n",
       "            <th>total</th>\n",
       "        </tr>\n",
       "    </thead>\n",
       "    <tbody>\n",
       "        <tr>\n",
       "            <td>0WQD</td>\n",
       "            <td>2019</td>\n",
       "            <td>21352</td>\n",
       "            <td>0WQ</td>\n",
       "            <td>Avjet Corporation</td>\n",
       "            <td>D</td>\n",
       "            <td>4</td>\n",
       "            <td>53</td>\n",
       "            <td>6</td>\n",
       "            <td>19</td>\n",
       "            <td>29</td>\n",
       "            <td>21</td>\n",
       "            <td>0</td>\n",
       "            <td>0</td>\n",
       "            <td>0</td>\n",
       "            <td>3</td>\n",
       "            <td>1</td>\n",
       "            <td>18</td>\n",
       "            <td>0</td>\n",
       "            <td>7</td>\n",
       "            <td>0</td>\n",
       "            <td>161</td>\n",
       "        </tr>\n",
       "        <tr>\n",
       "            <td>1BQI</td>\n",
       "            <td>2019</td>\n",
       "            <td>21492</td>\n",
       "            <td>1BQ</td>\n",
       "            <td>Eastern Airlines f/k/a Dynamic Airways, LLC</td>\n",
       "            <td>I</td>\n",
       "            <td>14</td>\n",
       "            <td>50</td>\n",
       "            <td>0</td>\n",
       "            <td>41</td>\n",
       "            <td>18</td>\n",
       "            <td>21</td>\n",
       "            <td>0</td>\n",
       "            <td>0</td>\n",
       "            <td>0</td>\n",
       "            <td>0</td>\n",
       "            <td>1</td>\n",
       "            <td>13</td>\n",
       "            <td>0</td>\n",
       "            <td>3</td>\n",
       "            <td>0</td>\n",
       "            <td>161</td>\n",
       "        </tr>\n",
       "    </tbody>\n",
       "</table>"
      ],
      "text/plain": [
       "[('0WQD', Decimal('2019'), Decimal('21352'), '0WQ', 'Avjet Corporation', 'D', Decimal('4'), Decimal('53'), Decimal('6'), Decimal('19'), Decimal('29'), Decimal('21'), Decimal('0'), Decimal('0'), Decimal('0'), Decimal('3'), Decimal('1'), Decimal('18'), Decimal('0'), Decimal('7'), Decimal('0'), Decimal('161')),\n",
       " ('1BQI', Decimal('2019'), Decimal('21492'), '1BQ', 'Eastern Airlines f/k/a Dynamic Airways, LLC', 'I', Decimal('14'), Decimal('50'), Decimal('0'), Decimal('41'), Decimal('18'), Decimal('21'), Decimal('0'), Decimal('0'), Decimal('0'), Decimal('0'), Decimal('1'), Decimal('13'), Decimal('0'), Decimal('3'), Decimal('0'), Decimal('161'))]"
      ]
     },
     "execution_count": 53,
     "metadata": {},
     "output_type": "execute_result"
    }
   ],
   "source": [
    "%%sql\n",
    "select * from P10_EMPLOYEES limit 2"
   ]
  },
  {
   "cell_type": "markdown",
   "id": "610d8fb0-498a-4f32-915e-42801a335a80",
   "metadata": {},
   "source": [
    "+ Import CARRIER"
   ]
  },
  {
   "cell_type": "markdown",
   "id": "c4ae23b1-d659-4d2b-8b8c-041d1bbc7d74",
   "metadata": {},
   "source": [
    "Data cleaning using **RStudio**: </br>\n",
    "\n",
    "We get rid of duplicate based of selected primary key OP_UNIQUE_CARRIER using\n",
    "> df <- df[!duplicated(df$OP_UNIQUE_CARRIER),]\n",
    "\n",
    "We notice that while some records have same AIRLINE_ID and CARRIER_NAME, their OP_UNIQUE_CARRIER could be different. We find it curious. However, out of prudence, we would rather not delete these records until further investigation on carrier decode is done."
   ]
  },
  {
   "cell_type": "code",
   "execution_count": 54,
   "id": "f6659575-77f1-4d15-9215-d5a79e08a8d1",
   "metadata": {},
   "outputs": [
    {
     "name": "stdout",
     "output_type": "stream",
     "text": [
      "1745 CARRIER_DECODE.csv\n"
     ]
    }
   ],
   "source": [
    "!wc -l CARRIER_DECODE.csv"
   ]
  },
  {
   "cell_type": "code",
   "execution_count": 55,
   "id": "badd7a8a-eb11-4440-8412-94089b98c5fe",
   "metadata": {},
   "outputs": [
    {
     "name": "stdout",
     "output_type": "stream",
     "text": [
      " * postgresql://student@/week6\n",
      "1744 rows affected.\n"
     ]
    },
    {
     "data": {
      "text/plain": [
       "[]"
      ]
     },
     "execution_count": 55,
     "metadata": {},
     "output_type": "execute_result"
    }
   ],
   "source": [
    "%%sql\n",
    "COPY CARRIER FROM '/home/ubuntu/notebooks/Project2_Group05/CARRIER_DECODE.csv'\n",
    "CSV\n",
    "HEADER;"
   ]
  },
  {
   "cell_type": "markdown",
   "id": "2400659a-8242-48e0-b895-561ffc0518cc",
   "metadata": {},
   "source": [
    "We used Linux to check the rows affected then we got 1745 rows which is one more than 1744 rows in the original dataset, CARRIER_DECODE.csv. This is because we excluded the header when we inspect the data, therefore we used the same data in the next constructing table step."
   ]
  },
  {
   "cell_type": "code",
   "execution_count": 56,
   "id": "23e4a6af-c155-4b54-b7ea-e5131673fe7b",
   "metadata": {},
   "outputs": [
    {
     "name": "stdout",
     "output_type": "stream",
     "text": [
      "\"AIRLINE_ID\",\"OP_UNIQUE_CARRIER\",\"CARRIER_NAME\"\n",
      "21754,\"2PQ\",\"21 Air LLC\"\n",
      "20342,\"Q5\",\"40-Mile Air\"\n"
     ]
    }
   ],
   "source": [
    "!head -3 CARRIER_DECODE.csv"
   ]
  },
  {
   "cell_type": "code",
   "execution_count": 57,
   "id": "871db8ed-e832-43bc-a878-4c286213dcda",
   "metadata": {},
   "outputs": [
    {
     "name": "stdout",
     "output_type": "stream",
     "text": [
      " * postgresql://student@/week6\n",
      "2 rows affected.\n"
     ]
    },
    {
     "data": {
      "text/html": [
       "<table>\n",
       "    <thead>\n",
       "        <tr>\n",
       "            <th>airline_id</th>\n",
       "            <th>op_unique_carrier</th>\n",
       "            <th>carrier_name</th>\n",
       "        </tr>\n",
       "    </thead>\n",
       "    <tbody>\n",
       "        <tr>\n",
       "            <td>21754</td>\n",
       "            <td>2PQ</td>\n",
       "            <td>21 Air LLC</td>\n",
       "        </tr>\n",
       "        <tr>\n",
       "            <td>20342</td>\n",
       "            <td>Q5</td>\n",
       "            <td>40-Mile Air</td>\n",
       "        </tr>\n",
       "    </tbody>\n",
       "</table>"
      ],
      "text/plain": [
       "[(Decimal('21754'), '2PQ', '21 Air LLC'),\n",
       " (Decimal('20342'), 'Q5', '40-Mile Air')]"
      ]
     },
     "execution_count": 57,
     "metadata": {},
     "output_type": "execute_result"
    }
   ],
   "source": [
    "%%sql\n",
    "select * from CARRIER limit 2"
   ]
  },
  {
   "cell_type": "markdown",
   "id": "8f012334-42c0-4554-a6d4-2454b25242e8",
   "metadata": {},
   "source": [
    "+ Import ONTIME_REPORTING"
   ]
  },
  {
   "cell_type": "markdown",
   "id": "1cbe1917-a72b-4dcb-83a1-2f38ac461b4a",
   "metadata": {},
   "source": [
    "Data cleaning using **RStudio**: </br>\n",
    "We noticed that this dataset does not have a natural primary key. Instead of using index, we decided to generate one that allows us to uniquely identify each record. Firstly, we add a column YEAR to the files. </br>\n",
    ">library(dplyr)\n",
    "df <- mutate(df,YEAR = 2019, .before = \"MONTH\") for ontime reporting of 2019\n",
    "df <- mutate(df,YEAR = 2020, .before = \"MONTH\") for ontime reporting of 2019\n",
    "\n",
    "Then, we generated primary key using OP_UNIQUE_CARRIER, OP_CARRIER_FL_NUM, ORIGIN_AIRPORT_ID, YEAR, MONTH, DAY_OF_MONTH, TAIL_NUM based on the assumption that a **aircraft** of a certain **carrier** can only engage in a certain **air route** departing from certain **airport** in a certain **day**. </br>\n",
    "> df <- mutate(df,REPORT_ID = paste0(OP_UNIQUE_CARRIER, OP_CARRIER_FL_NUM, ORIGIN_AIRPORT_ID, YEAR, MONTH, DAY_OF_MONTH, TAIL_NUM), .before = \"YEAR\")\n",
    "\n",
    "which can uniquely identify each row, because it return 0 row when we test our assumption with \n",
    "> df[duplicated(df$REPORT_ID),]"
   ]
  },
  {
   "cell_type": "code",
   "execution_count": 15,
   "id": "5f015e0d-a59b-4e3b-a6b3-dab404fa163f",
   "metadata": {},
   "outputs": [
    {
     "name": "stdout",
     "output_type": "stream",
     "text": [
      "   583986 c_ONTIME_REPORTING_2019_01.csv\n",
      "   533176 c_ONTIME_REPORTING_2019_02.csv\n",
      "   632075 c_ONTIME_REPORTING_2019_03.csv\n",
      "   607347 c_ONTIME_REPORTING_2020_01.csv\n",
      "   574269 c_ONTIME_REPORTING_2020_02.csv\n",
      "   648230 c_ONTIME_REPORTING_2020_03.csv\n",
      "  3579083 total\n"
     ]
    }
   ],
   "source": [
    "!wc -l c_ONTIME_REPORTING_20*.csv"
   ]
  },
  {
   "cell_type": "code",
   "execution_count": 16,
   "id": "b44ccbf8-d81a-4a7e-b246-5d5044e74a10",
   "metadata": {
    "tags": []
   },
   "outputs": [],
   "source": [
    "#!csvcut -n c_ONTIME_REPORTING_2019_01.csv"
   ]
  },
  {
   "cell_type": "code",
   "execution_count": 16,
   "id": "d90a36a9-527c-4821-ac06-649e2a5815e0",
   "metadata": {},
   "outputs": [],
   "source": [
    "!csvstack c_ONTIME_REPORTING_20*.csv > ONTIME_REPORTING_JANtoMAR.csv"
   ]
  },
  {
   "cell_type": "code",
   "execution_count": 58,
   "id": "8991c967-f78c-4538-8a31-bfed56e73a9c",
   "metadata": {},
   "outputs": [
    {
     "name": "stdout",
     "output_type": "stream",
     "text": [
      "3579078 ONTIME_REPORTING_JANtoMAR.csv\n"
     ]
    }
   ],
   "source": [
    "!wc -l ONTIME_REPORTING_JANtoMAR.csv"
   ]
  },
  {
   "cell_type": "code",
   "execution_count": 59,
   "id": "1ae7109c-7c25-48de-88b7-3adfcea8f2bd",
   "metadata": {},
   "outputs": [
    {
     "name": "stdout",
     "output_type": "stream",
     "text": [
      " * postgresql://student@/week6\n",
      "3579077 rows affected.\n"
     ]
    },
    {
     "data": {
      "text/plain": [
       "[]"
      ]
     },
     "execution_count": 59,
     "metadata": {},
     "output_type": "execute_result"
    }
   ],
   "source": [
    "%%sql\n",
    "COPY ONTIME_REPORTING FROM '/home/ubuntu/notebooks/Project2_Group05/ONTIME_REPORTING_JANtoMAR.csv'\n",
    "CSV\n",
    "HEADER;"
   ]
  },
  {
   "cell_type": "markdown",
   "id": "803d4132-4eda-4a13-93de-85acfcdf1787",
   "metadata": {},
   "source": [
    "We merged ontime reporting 2019 and 2020 together, 3579083 total, to a new file, ONTIME_REPORTING_JANtoMAR.csv. We used Linux to check the rows affected then we got 3579078 rows (5 rows missing from \"c_ONTIME_REPORTING_20*.csv\" because of 5 headers) which is one more than 3579077 rows in the previous dataset, ONTIME_REPORTING_JANtoMAR.csv. This is because we excluded the header when we inspect the data, therefore we used the same data in the next constructing table step."
   ]
  },
  {
   "cell_type": "code",
   "execution_count": 60,
   "id": "91e32d18-cfed-4d4c-800b-0b1ceeee935e",
   "metadata": {},
   "outputs": [
    {
     "name": "stdout",
     "output_type": "stream",
     "text": [
      "REPORT_ID,YEAR,MONTH,DAY_OF_MONTH,DAY_OF_WEEK,OP_UNIQUE_CARRIER,TAIL_NUM,OP_CARRIER_FL_NUM,ORIGIN_AIRPORT_ID,ORIGIN,ORIGIN_CITY_NAME,DEST_AIRPORT_ID,DEST,DEST_CITY_NAME,CRS_DEP_TIME,DEP_TIME,DEP_DELAY_NEW,DEP_DEL15,DEP_TIME_BLK,CRS_ARR_TIME,ARR_TIME,ARR_DELAY_NEW,ARR_TIME_BLK,CANCELLED,CANCELLATION_CODE,CRS_ELAPSED_TIME,ACTUAL_ELAPSED_TIME,DISTANCE,DISTANCE_GROUP,CARRIER_DELAY,WEATHER_DELAY,NAS_DELAY,SECURITY_DELAY,LATE_AIRCRAFT_DELAY,X\n",
      "9E328010397201916N8694A,2019,1,6,7,9E,N8694A,3280,10397,ATL,\"Atlanta, GA\",11150,CSG,\"Columbus, GA\",1645,1643,0,0,1600-1659,1732,1720,0,1700-1759,0,,47,37,83,1,,,,,,\n",
      "9E328010397201917N8970D,2019,1,7,1,9E,N8970D,3280,10397,ATL,\"Atlanta, GA\",11150,CSG,\"Columbus, GA\",1645,1640,0,0,1600-1659,1732,1712,0,1700-1759,0,,47,32,83,1,,,,,,\n"
     ]
    }
   ],
   "source": [
    "!head -3 ONTIME_REPORTING_JANtoMAR.csv"
   ]
  },
  {
   "cell_type": "code",
   "execution_count": 61,
   "id": "c1a18cb7-d193-4046-9d5f-21c82927c69d",
   "metadata": {},
   "outputs": [
    {
     "name": "stdout",
     "output_type": "stream",
     "text": [
      " * postgresql://student@/week6\n",
      "2 rows affected.\n"
     ]
    },
    {
     "data": {
      "text/html": [
       "<table>\n",
       "    <thead>\n",
       "        <tr>\n",
       "            <th>report_id</th>\n",
       "            <th>year</th>\n",
       "            <th>month</th>\n",
       "            <th>day_of_month</th>\n",
       "            <th>day_of_week</th>\n",
       "            <th>op_unique_carrier</th>\n",
       "            <th>tail_num</th>\n",
       "            <th>op_carrier_fl_num</th>\n",
       "            <th>origin_airport_id</th>\n",
       "            <th>origin</th>\n",
       "            <th>origin_city_name</th>\n",
       "            <th>dest_airport_id</th>\n",
       "            <th>dest</th>\n",
       "            <th>dest_city_name</th>\n",
       "            <th>crs_dep_time</th>\n",
       "            <th>dep_time</th>\n",
       "            <th>dep_delay_new</th>\n",
       "            <th>dep_del15</th>\n",
       "            <th>dep_time_blk</th>\n",
       "            <th>crs_arr_time</th>\n",
       "            <th>arr_time</th>\n",
       "            <th>arr_delay_new</th>\n",
       "            <th>arr_time_blk</th>\n",
       "            <th>cancelled</th>\n",
       "            <th>cancellation_code</th>\n",
       "            <th>crs_elapsed_time</th>\n",
       "            <th>actual_elapsed_time</th>\n",
       "            <th>distance</th>\n",
       "            <th>distance_group</th>\n",
       "            <th>carrier_delay</th>\n",
       "            <th>weather_delay</th>\n",
       "            <th>nas_delay</th>\n",
       "            <th>security_delay</th>\n",
       "            <th>late_aircraft_delay</th>\n",
       "            <th>x</th>\n",
       "        </tr>\n",
       "    </thead>\n",
       "    <tbody>\n",
       "        <tr>\n",
       "            <td>9E328010397201916N8694A</td>\n",
       "            <td>2019</td>\n",
       "            <td>1</td>\n",
       "            <td>6</td>\n",
       "            <td>7</td>\n",
       "            <td>9E</td>\n",
       "            <td>N8694A</td>\n",
       "            <td>3280</td>\n",
       "            <td>10397</td>\n",
       "            <td>ATL       </td>\n",
       "            <td>Atlanta, GA</td>\n",
       "            <td>11150</td>\n",
       "            <td>CSG</td>\n",
       "            <td>Columbus, GA</td>\n",
       "            <td>1645</td>\n",
       "            <td>1643</td>\n",
       "            <td>0</td>\n",
       "            <td>0</td>\n",
       "            <td>1600-1659</td>\n",
       "            <td>1732</td>\n",
       "            <td>1720</td>\n",
       "            <td>0</td>\n",
       "            <td>1700-1759</td>\n",
       "            <td>0</td>\n",
       "            <td>None</td>\n",
       "            <td>47</td>\n",
       "            <td>37</td>\n",
       "            <td>83</td>\n",
       "            <td>1</td>\n",
       "            <td>None</td>\n",
       "            <td>None</td>\n",
       "            <td>None</td>\n",
       "            <td>None</td>\n",
       "            <td>None</td>\n",
       "            <td>None</td>\n",
       "        </tr>\n",
       "        <tr>\n",
       "            <td>9E328010397201917N8970D</td>\n",
       "            <td>2019</td>\n",
       "            <td>1</td>\n",
       "            <td>7</td>\n",
       "            <td>1</td>\n",
       "            <td>9E</td>\n",
       "            <td>N8970D</td>\n",
       "            <td>3280</td>\n",
       "            <td>10397</td>\n",
       "            <td>ATL       </td>\n",
       "            <td>Atlanta, GA</td>\n",
       "            <td>11150</td>\n",
       "            <td>CSG</td>\n",
       "            <td>Columbus, GA</td>\n",
       "            <td>1645</td>\n",
       "            <td>1640</td>\n",
       "            <td>0</td>\n",
       "            <td>0</td>\n",
       "            <td>1600-1659</td>\n",
       "            <td>1732</td>\n",
       "            <td>1712</td>\n",
       "            <td>0</td>\n",
       "            <td>1700-1759</td>\n",
       "            <td>0</td>\n",
       "            <td>None</td>\n",
       "            <td>47</td>\n",
       "            <td>32</td>\n",
       "            <td>83</td>\n",
       "            <td>1</td>\n",
       "            <td>None</td>\n",
       "            <td>None</td>\n",
       "            <td>None</td>\n",
       "            <td>None</td>\n",
       "            <td>None</td>\n",
       "            <td>None</td>\n",
       "        </tr>\n",
       "    </tbody>\n",
       "</table>"
      ],
      "text/plain": [
       "[('9E328010397201916N8694A', Decimal('2019'), Decimal('1'), Decimal('6'), Decimal('7'), '9E', 'N8694A', Decimal('3280'), Decimal('10397'), 'ATL       ', 'Atlanta, GA', Decimal('11150'), 'CSG', 'Columbus, GA', Decimal('1645'), Decimal('1643'), Decimal('0'), Decimal('0'), '1600-1659', Decimal('1732'), Decimal('1720'), Decimal('0'), '1700-1759', Decimal('0'), None, Decimal('47'), Decimal('37'), Decimal('83'), Decimal('1'), None, None, None, None, None, None),\n",
       " ('9E328010397201917N8970D', Decimal('2019'), Decimal('1'), Decimal('7'), Decimal('1'), '9E', 'N8970D', Decimal('3280'), Decimal('10397'), 'ATL       ', 'Atlanta, GA', Decimal('11150'), 'CSG', 'Columbus, GA', Decimal('1645'), Decimal('1640'), Decimal('0'), Decimal('0'), '1600-1659', Decimal('1732'), Decimal('1712'), Decimal('0'), '1700-1759', Decimal('0'), None, Decimal('47'), Decimal('32'), Decimal('83'), Decimal('1'), None, None, None, None, None, None)]"
      ]
     },
     "execution_count": 61,
     "metadata": {},
     "output_type": "execute_result"
    }
   ],
   "source": [
    "%%sql\n",
    "select * from ONTIME_REPORTING limit 2"
   ]
  },
  {
   "cell_type": "markdown",
   "id": "4a09f084-596a-414d-a4d6-5fcb43127bdd",
   "metadata": {},
   "source": [
    "#### <font color='green'>  Further explanation about foreign key. </font>"
   ]
  },
  {
   "cell_type": "code",
   "execution_count": 6,
   "id": "739a2ec4-8611-476c-a6bd-555241664517",
   "metadata": {},
   "outputs": [
    {
     "name": "stdout",
     "output_type": "stream",
     "text": [
      " * postgresql://student@/week6\n",
      "1 rows affected.\n"
     ]
    },
    {
     "data": {
      "text/html": [
       "<table>\n",
       "    <thead>\n",
       "        <tr>\n",
       "            <th>count</th>\n",
       "        </tr>\n",
       "    </thead>\n",
       "    <tbody>\n",
       "        <tr>\n",
       "            <td>4</td>\n",
       "        </tr>\n",
       "    </tbody>\n",
       "</table>"
      ],
      "text/plain": [
       "[(4,)]"
      ]
     },
     "execution_count": 6,
     "metadata": {},
     "output_type": "execute_result"
    }
   ],
   "source": [
    "%%sql\n",
    "With diff as (\n",
    "    Select origin_airport_id from ONTIME_REPORTING\n",
    "    EXCEPT select origin_airport_id from AIRPORT_COORDINATES)\n",
    "select count(*) from diff\n",
    "-- There are 4 origin_airport_id present in ONTIME_REPORTING but not in AIRPORT_COORDINATES. \n",
    "    -- Therefore we cannot use foreign key to link this two tables."
   ]
  },
  {
   "cell_type": "code",
   "execution_count": 7,
   "id": "636d57ec-beb8-432f-9025-6b7b23a7d62c",
   "metadata": {},
   "outputs": [
    {
     "name": "stdout",
     "output_type": "stream",
     "text": [
      " * postgresql://student@/week6\n",
      "1 rows affected.\n"
     ]
    },
    {
     "data": {
      "text/html": [
       "<table>\n",
       "    <thead>\n",
       "        <tr>\n",
       "            <th>count</th>\n",
       "        </tr>\n",
       "    </thead>\n",
       "    <tbody>\n",
       "        <tr>\n",
       "            <td>4</td>\n",
       "        </tr>\n",
       "    </tbody>\n",
       "</table>"
      ],
      "text/plain": [
       "[(4,)]"
      ]
     },
     "execution_count": 7,
     "metadata": {},
     "output_type": "execute_result"
    }
   ],
   "source": [
    "%%sql\n",
    "With diff as (\n",
    "    Select dest_airport_id from ONTIME_REPORTING\n",
    "    EXCEPT select origin_airport_id from AIRPORT_COORDINATES)\n",
    "select count(*) from diff\n",
    "-- There are 4 dest_airport_id present in ONTIME_REPORTING but not in AIRPORT_COORDINATES. \n",
    "    -- Therefore we cannot use foreign key to link this two tables."
   ]
  },
  {
   "cell_type": "code",
   "execution_count": 5,
   "id": "3bd1aa0a-3a00-4cbf-ac77-516be8d1ab68",
   "metadata": {},
   "outputs": [
    {
     "name": "stdout",
     "output_type": "stream",
     "text": [
      " * postgresql://student@/week6\n",
      "1 rows affected.\n"
     ]
    },
    {
     "data": {
      "text/html": [
       "<table>\n",
       "    <thead>\n",
       "        <tr>\n",
       "            <th>count</th>\n",
       "        </tr>\n",
       "    </thead>\n",
       "    <tbody>\n",
       "        <tr>\n",
       "            <td>383</td>\n",
       "        </tr>\n",
       "    </tbody>\n",
       "</table>"
      ],
      "text/plain": [
       "[(383,)]"
      ]
     },
     "execution_count": 5,
     "metadata": {},
     "output_type": "execute_result"
    }
   ],
   "source": [
    "%%sql\n",
    "With diff as (\n",
    "    Select tail_num from ONTIME_REPORTING\n",
    "    EXCEPT select tail_num from AIRCRAFT)\n",
    "select count(*) from diff\n",
    "-- There are 383 tail_num present in ONTIME_REPORTING but not in AIRCRAFT. \n",
    "    -- Therefore we cannot use foreign key to link this two tables."
   ]
  },
  {
   "cell_type": "code",
   "execution_count": 8,
   "id": "b586972b-b581-4065-a4fc-3f36af93a18e",
   "metadata": {},
   "outputs": [
    {
     "name": "stdout",
     "output_type": "stream",
     "text": [
      " * postgresql://student@/week6\n",
      "1 rows affected.\n"
     ]
    },
    {
     "data": {
      "text/html": [
       "<table>\n",
       "    <thead>\n",
       "        <tr>\n",
       "            <th>count</th>\n",
       "        </tr>\n",
       "    </thead>\n",
       "    <tbody>\n",
       "        <tr>\n",
       "            <td>0</td>\n",
       "        </tr>\n",
       "    </tbody>\n",
       "</table>"
      ],
      "text/plain": [
       "[(0,)]"
      ]
     },
     "execution_count": 8,
     "metadata": {},
     "output_type": "execute_result"
    }
   ],
   "source": [
    "%%sql\n",
    "With diff as (\n",
    "    Select op_unique_carrier from ONTIME_REPORTING\n",
    "    EXCEPT select op_unique_carrier from CARRIER)\n",
    "select count(*) from diff\n",
    "-- There are 0 op_unique_carrier present in ONTIME_REPORTING but not in CARRIER. \n",
    "    -- Therefore we can use foreign key to link this two tables."
   ]
  },
  {
   "cell_type": "code",
   "execution_count": 11,
   "id": "474da276-3e45-44e3-a5ad-7a5d4b2425f1",
   "metadata": {},
   "outputs": [
    {
     "name": "stdout",
     "output_type": "stream",
     "text": [
      " * postgresql://student@/week6\n",
      "1 rows affected.\n"
     ]
    },
    {
     "data": {
      "text/html": [
       "<table>\n",
       "    <thead>\n",
       "        <tr>\n",
       "            <th>count</th>\n",
       "        </tr>\n",
       "    </thead>\n",
       "    <tbody>\n",
       "        <tr>\n",
       "            <td>0</td>\n",
       "        </tr>\n",
       "    </tbody>\n",
       "</table>"
      ],
      "text/plain": [
       "[(0,)]"
      ]
     },
     "execution_count": 11,
     "metadata": {},
     "output_type": "execute_result"
    }
   ],
   "source": [
    "%%sql\n",
    "With diff as (\n",
    "    Select op_unique_carrier from P10_EMPLOYEES\n",
    "    EXCEPT select op_unique_carrier from CARRIER)\n",
    "select count(*) from diff\n",
    "-- There are 0 op_unique_carrier present in ONTIME_REPORTING but not in CARRIER. \n",
    "    -- Therefore we cannot use foreign key to link this two tables."
   ]
  },
  {
   "cell_type": "code",
   "execution_count": 12,
   "id": "0ef855d3-36ac-4c2d-99a7-d58f9aebd971",
   "metadata": {},
   "outputs": [
    {
     "name": "stdout",
     "output_type": "stream",
     "text": [
      " * postgresql://student@/week6\n",
      "1 rows affected.\n"
     ]
    },
    {
     "data": {
      "text/html": [
       "<table>\n",
       "    <thead>\n",
       "        <tr>\n",
       "            <th>count</th>\n",
       "        </tr>\n",
       "    </thead>\n",
       "    <tbody>\n",
       "        <tr>\n",
       "            <td>258</td>\n",
       "        </tr>\n",
       "    </tbody>\n",
       "</table>"
      ],
      "text/plain": [
       "[(258,)]"
      ]
     },
     "execution_count": 12,
     "metadata": {},
     "output_type": "execute_result"
    }
   ],
   "source": [
    "%%sql\n",
    "With diff as (\n",
    "    Select origin_airport_id from ONTIME_REPORTING\n",
    "    EXCEPT select origin_airport_id from AIRPORT_LIST)\n",
    "select count(*) from diff\n",
    "-- There are 258 origin_airport_id present in ONTIME_REPORTING but not in AIRPORT_LIST.\n",
    "    -- Therefore we cannot use foreign key to link this two tables."
   ]
  },
  {
   "cell_type": "code",
   "execution_count": 13,
   "id": "1a071189-babd-45d4-943a-11591f34a601",
   "metadata": {},
   "outputs": [
    {
     "name": "stdout",
     "output_type": "stream",
     "text": [
      " * postgresql://student@/week6\n",
      "1 rows affected.\n"
     ]
    },
    {
     "data": {
      "text/html": [
       "<table>\n",
       "    <thead>\n",
       "        <tr>\n",
       "            <th>count</th>\n",
       "        </tr>\n",
       "    </thead>\n",
       "    <tbody>\n",
       "        <tr>\n",
       "            <td>258</td>\n",
       "        </tr>\n",
       "    </tbody>\n",
       "</table>"
      ],
      "text/plain": [
       "[(258,)]"
      ]
     },
     "execution_count": 13,
     "metadata": {},
     "output_type": "execute_result"
    }
   ],
   "source": [
    "%%sql\n",
    "With diff as (\n",
    "    Select dest_airport_id from ONTIME_REPORTING\n",
    "    EXCEPT select origin_airport_id from AIRPORT_LIST)\n",
    "select count(*) from diff\n",
    "-- There are 258 dest_airport_id present in ONTIME_REPORTING but not in AIRPORT_LIST. \n",
    "    -- Therefore we cannot use foreign key to link this two tables."
   ]
  },
  {
   "cell_type": "code",
   "execution_count": 14,
   "id": "67283c14-a2b8-446f-ac5a-1acc0c11eeb7",
   "metadata": {},
   "outputs": [
    {
     "name": "stdout",
     "output_type": "stream",
     "text": [
      " * postgresql://student@/week6\n",
      "1 rows affected.\n"
     ]
    },
    {
     "data": {
      "text/html": [
       "<table>\n",
       "    <thead>\n",
       "        <tr>\n",
       "            <th>count</th>\n",
       "        </tr>\n",
       "    </thead>\n",
       "    <tbody>\n",
       "        <tr>\n",
       "            <td>1</td>\n",
       "        </tr>\n",
       "    </tbody>\n",
       "</table>"
      ],
      "text/plain": [
       "[(1,)]"
      ]
     },
     "execution_count": 14,
     "metadata": {},
     "output_type": "execute_result"
    }
   ],
   "source": [
    "%%sql\n",
    "With diff as (\n",
    "    Select name from AIRPORT_LIST\n",
    "    EXCEPT select name from WEATHER)\n",
    "select count(*) from diff\n",
    "-- There are 1 name present in WEATHER but not in AIRPORT_LIST. \n",
    "    -- Therefore we cannot use foreign key to link this two tables. "
   ]
  },
  {
   "cell_type": "markdown",
   "id": "71be8acc-d2db-4a72-85e9-f4299926a5f6",
   "metadata": {},
   "source": [
    "#### <font color='bronze'>3. Change Management (10 points)</font>"
   ]
  },
  {
   "cell_type": "markdown",
   "id": "c1442432-3ba0-4cf5-9ef0-4ffbf0349860",
   "metadata": {},
   "source": [
    "##### <font color='grey'> Your sponsor asked you to manipulate the original flight date. Write a query that combine day, month, and year of the on-time flight report file into one field. Name the new field “Flight_date”. Once created and checked you can drop the original three fields. For date conversion check https://www.postgresql.org/docs/12/functions-formatting.html."
   ]
  },
  {
   "cell_type": "markdown",
   "id": "49216361-fc82-43bf-81d5-47866b6d65d1",
   "metadata": {},
   "source": [
    "Create Test_ONTIME_REPORTING and select few data to test the methodology"
   ]
  },
  {
   "cell_type": "code",
   "execution_count": 6,
   "id": "4d5c1ae2-3b1b-46dc-b554-7d18488f12b8",
   "metadata": {},
   "outputs": [
    {
     "name": "stdout",
     "output_type": "stream",
     "text": [
      " * postgresql://student@/week6\n",
      "Done.\n",
      "20176 rows affected.\n",
      "2 rows affected.\n"
     ]
    },
    {
     "data": {
      "text/html": [
       "<table>\n",
       "    <thead>\n",
       "        <tr>\n",
       "            <th>report_id</th>\n",
       "            <th>year</th>\n",
       "            <th>month</th>\n",
       "            <th>day_of_month</th>\n",
       "            <th>day_of_week</th>\n",
       "            <th>op_unique_carrier</th>\n",
       "            <th>tail_num</th>\n",
       "            <th>op_carrier_fl_num</th>\n",
       "            <th>origin_airport_id</th>\n",
       "            <th>origin</th>\n",
       "            <th>origin_city_name</th>\n",
       "            <th>dest_airport_id</th>\n",
       "            <th>dest</th>\n",
       "            <th>dest_city_name</th>\n",
       "            <th>crs_dep_time</th>\n",
       "            <th>dep_time</th>\n",
       "            <th>dep_delay_new</th>\n",
       "            <th>dep_del15</th>\n",
       "            <th>dep_time_blk</th>\n",
       "            <th>crs_arr_time</th>\n",
       "            <th>arr_time</th>\n",
       "            <th>arr_delay_new</th>\n",
       "            <th>arr_time_blk</th>\n",
       "            <th>cancelled</th>\n",
       "            <th>cancellation_code</th>\n",
       "            <th>crs_elapsed_time</th>\n",
       "            <th>actual_elapsed_time</th>\n",
       "            <th>distance</th>\n",
       "            <th>distance_group</th>\n",
       "            <th>carrier_delay</th>\n",
       "            <th>weather_delay</th>\n",
       "            <th>nas_delay</th>\n",
       "            <th>security_delay</th>\n",
       "            <th>late_aircraft_delay</th>\n",
       "            <th>x</th>\n",
       "        </tr>\n",
       "    </thead>\n",
       "    <tbody>\n",
       "        <tr>\n",
       "            <td>9E5452103972019325N8974C</td>\n",
       "            <td>2019</td>\n",
       "            <td>3</td>\n",
       "            <td>25</td>\n",
       "            <td>1</td>\n",
       "            <td>9E</td>\n",
       "            <td>N8974C</td>\n",
       "            <td>5452</td>\n",
       "            <td>10397</td>\n",
       "            <td>ATL       </td>\n",
       "            <td>Atlanta, GA</td>\n",
       "            <td>12951</td>\n",
       "            <td>LFT</td>\n",
       "            <td>Lafayette, LA</td>\n",
       "            <td>1002</td>\n",
       "            <td>955</td>\n",
       "            <td>0</td>\n",
       "            <td>0</td>\n",
       "            <td>1000-1059</td>\n",
       "            <td>1101</td>\n",
       "            <td>1043</td>\n",
       "            <td>0</td>\n",
       "            <td>1100-1159</td>\n",
       "            <td>0</td>\n",
       "            <td>None</td>\n",
       "            <td>119</td>\n",
       "            <td>108</td>\n",
       "            <td>503</td>\n",
       "            <td>3</td>\n",
       "            <td>None</td>\n",
       "            <td>None</td>\n",
       "            <td>None</td>\n",
       "            <td>None</td>\n",
       "            <td>None</td>\n",
       "            <td>None</td>\n",
       "        </tr>\n",
       "        <tr>\n",
       "            <td>9E5451107212019318N915XJ</td>\n",
       "            <td>2019</td>\n",
       "            <td>3</td>\n",
       "            <td>18</td>\n",
       "            <td>1</td>\n",
       "            <td>9E</td>\n",
       "            <td>N915XJ</td>\n",
       "            <td>5451</td>\n",
       "            <td>10721</td>\n",
       "            <td>BOS       </td>\n",
       "            <td>Boston, MA</td>\n",
       "            <td>14492</td>\n",
       "            <td>RDU</td>\n",
       "            <td>Raleigh/Durham, NC</td>\n",
       "            <td>1422</td>\n",
       "            <td>1415</td>\n",
       "            <td>0</td>\n",
       "            <td>0</td>\n",
       "            <td>1400-1459</td>\n",
       "            <td>1637</td>\n",
       "            <td>1634</td>\n",
       "            <td>0</td>\n",
       "            <td>1600-1659</td>\n",
       "            <td>0</td>\n",
       "            <td>None</td>\n",
       "            <td>135</td>\n",
       "            <td>139</td>\n",
       "            <td>612</td>\n",
       "            <td>3</td>\n",
       "            <td>None</td>\n",
       "            <td>None</td>\n",
       "            <td>None</td>\n",
       "            <td>None</td>\n",
       "            <td>None</td>\n",
       "            <td>None</td>\n",
       "        </tr>\n",
       "    </tbody>\n",
       "</table>"
      ],
      "text/plain": [
       "[('9E5452103972019325N8974C', Decimal('2019'), Decimal('3'), Decimal('25'), Decimal('1'), '9E', 'N8974C', Decimal('5452'), Decimal('10397'), 'ATL       ', 'Atlanta, GA', Decimal('12951'), 'LFT', 'Lafayette, LA', Decimal('1002'), Decimal('955'), Decimal('0'), Decimal('0'), '1000-1059', Decimal('1101'), Decimal('1043'), Decimal('0'), '1100-1159', Decimal('0'), None, Decimal('119'), Decimal('108'), Decimal('503'), Decimal('3'), None, None, None, None, None, None),\n",
       " ('9E5451107212019318N915XJ', Decimal('2019'), Decimal('3'), Decimal('18'), Decimal('1'), '9E', 'N915XJ', Decimal('5451'), Decimal('10721'), 'BOS       ', 'Boston, MA', Decimal('14492'), 'RDU', 'Raleigh/Durham, NC', Decimal('1422'), Decimal('1415'), Decimal('0'), Decimal('0'), '1400-1459', Decimal('1637'), Decimal('1634'), Decimal('0'), '1600-1659', Decimal('0'), None, Decimal('135'), Decimal('139'), Decimal('612'), Decimal('3'), None, None, None, None, None, None)]"
      ]
     },
     "execution_count": 6,
     "metadata": {},
     "output_type": "execute_result"
    }
   ],
   "source": [
    "%%sql\n",
    "DROP TABLE if exists Test_ONTIME_REPORTING Cascade;\n",
    "\n",
    "create table Test_ONTIME_REPORTING as\n",
    "SELECT * from ONTIME_REPORTING\n",
    "WHERE op_unique_carrier = '9E' and day_of_week = 1;\n",
    "\n",
    "SELECT * from Test_ONTIME_REPORTING LIMIT 2;"
   ]
  },
  {
   "cell_type": "code",
   "execution_count": 7,
   "id": "d4d37936-a757-4f09-bba2-4b541a73d472",
   "metadata": {},
   "outputs": [
    {
     "name": "stdout",
     "output_type": "stream",
     "text": [
      " * postgresql://student@/week6\n",
      "Done.\n"
     ]
    },
    {
     "data": {
      "text/plain": [
       "[]"
      ]
     },
     "execution_count": 7,
     "metadata": {},
     "output_type": "execute_result"
    }
   ],
   "source": [
    "%%sql\n",
    "-- here we add a column called Flight_date in our test table\n",
    "ALTER table Test_ONTIME_REPORTING \n",
    "ADD COLUMN Flight_date DATE NULL;"
   ]
  },
  {
   "cell_type": "code",
   "execution_count": 25,
   "id": "1cdae07c-bf5f-46be-a343-1536593bf82f",
   "metadata": {},
   "outputs": [
    {
     "name": "stdout",
     "output_type": "stream",
     "text": [
      " * postgresql://student@/week6\n",
      "2 rows affected.\n"
     ]
    },
    {
     "data": {
      "text/html": [
       "<table>\n",
       "    <thead>\n",
       "        <tr>\n",
       "            <th>date</th>\n",
       "        </tr>\n",
       "    </thead>\n",
       "    <tbody>\n",
       "        <tr>\n",
       "            <td>2019-01-07</td>\n",
       "        </tr>\n",
       "        <tr>\n",
       "            <td>2019-01-07</td>\n",
       "        </tr>\n",
       "    </tbody>\n",
       "</table>"
      ],
      "text/plain": [
       "[(datetime.date(2019, 1, 7),), (datetime.date(2019, 1, 7),)]"
      ]
     },
     "execution_count": 25,
     "metadata": {},
     "output_type": "execute_result"
    }
   ],
   "source": [
    "%%sql\n",
    "-- here we test how can we concatenate the year, month, and day_of_month\n",
    "Select Cast(year || '-' || month || '-' || day_of_month as date)\n",
    "From Test_ONTIME_REPORTING\n",
    "limit 2;"
   ]
  },
  {
   "cell_type": "code",
   "execution_count": 9,
   "id": "0e85dff2-01c0-4321-b462-607dc5771897",
   "metadata": {
    "tags": []
   },
   "outputs": [
    {
     "name": "stdout",
     "output_type": "stream",
     "text": [
      " * postgresql://student@/week6\n",
      "20176 rows affected.\n"
     ]
    },
    {
     "data": {
      "text/plain": [
       "[]"
      ]
     },
     "execution_count": 9,
     "metadata": {},
     "output_type": "execute_result"
    }
   ],
   "source": [
    "%%sql\n",
    "-- here we update the concatenated data into Flight_date column of the test table and check the table\n",
    "UPDATE Test_ONTIME_REPORTING\n",
    "set Flight_date = Cast(year || '-' || month || '-' || day_of_month as date);\n",
    "\n",
    "Select * from Test_ONTIME_REPORTING limit 2;"
   ]
  },
  {
   "cell_type": "code",
   "execution_count": 11,
   "id": "84e9142d-b282-4ec6-b8a4-484c42cbdafe",
   "metadata": {
    "tags": []
   },
   "outputs": [
    {
     "name": "stdout",
     "output_type": "stream",
     "text": [
      " * postgresql://student@/week6\n",
      "0 rows affected.\n"
     ]
    },
    {
     "data": {
      "text/html": [
       "<table>\n",
       "    <thead>\n",
       "        <tr>\n",
       "            <th>report_id</th>\n",
       "            <th>year</th>\n",
       "            <th>month</th>\n",
       "            <th>day_of_month</th>\n",
       "            <th>day_of_week</th>\n",
       "            <th>op_unique_carrier</th>\n",
       "            <th>tail_num</th>\n",
       "            <th>op_carrier_fl_num</th>\n",
       "            <th>origin_airport_id</th>\n",
       "            <th>origin</th>\n",
       "            <th>origin_city_name</th>\n",
       "            <th>dest_airport_id</th>\n",
       "            <th>dest</th>\n",
       "            <th>dest_city_name</th>\n",
       "            <th>crs_dep_time</th>\n",
       "            <th>dep_time</th>\n",
       "            <th>dep_delay_new</th>\n",
       "            <th>dep_del15</th>\n",
       "            <th>dep_time_blk</th>\n",
       "            <th>crs_arr_time</th>\n",
       "            <th>arr_time</th>\n",
       "            <th>arr_delay_new</th>\n",
       "            <th>arr_time_blk</th>\n",
       "            <th>cancelled</th>\n",
       "            <th>cancellation_code</th>\n",
       "            <th>crs_elapsed_time</th>\n",
       "            <th>actual_elapsed_time</th>\n",
       "            <th>distance</th>\n",
       "            <th>distance_group</th>\n",
       "            <th>carrier_delay</th>\n",
       "            <th>weather_delay</th>\n",
       "            <th>nas_delay</th>\n",
       "            <th>security_delay</th>\n",
       "            <th>late_aircraft_delay</th>\n",
       "            <th>x</th>\n",
       "            <th>flight_date</th>\n",
       "        </tr>\n",
       "    </thead>\n",
       "    <tbody>\n",
       "    </tbody>\n",
       "</table>"
      ],
      "text/plain": [
       "[]"
      ]
     },
     "execution_count": 11,
     "metadata": {},
     "output_type": "execute_result"
    }
   ],
   "source": [
    "%%sql\n",
    "-- here we check if there is any rows of Flight_date column in the test table not updated\n",
    "Select * from Test_ONTIME_REPORTING\n",
    "WHERE Flight_date is null;"
   ]
  },
  {
   "cell_type": "code",
   "execution_count": 12,
   "id": "7a8fbd12-d2d9-43cb-8d57-ea06dad8b6d5",
   "metadata": {},
   "outputs": [
    {
     "name": "stdout",
     "output_type": "stream",
     "text": [
      " * postgresql://student@/week6\n",
      "Done.\n",
      "Done.\n",
      "Done.\n",
      "2 rows affected.\n"
     ]
    },
    {
     "data": {
      "text/html": [
       "<table>\n",
       "    <thead>\n",
       "        <tr>\n",
       "            <th>report_id</th>\n",
       "            <th>day_of_week</th>\n",
       "            <th>op_unique_carrier</th>\n",
       "            <th>tail_num</th>\n",
       "            <th>op_carrier_fl_num</th>\n",
       "            <th>origin_airport_id</th>\n",
       "            <th>origin</th>\n",
       "            <th>origin_city_name</th>\n",
       "            <th>dest_airport_id</th>\n",
       "            <th>dest</th>\n",
       "            <th>dest_city_name</th>\n",
       "            <th>crs_dep_time</th>\n",
       "            <th>dep_time</th>\n",
       "            <th>dep_delay_new</th>\n",
       "            <th>dep_del15</th>\n",
       "            <th>dep_time_blk</th>\n",
       "            <th>crs_arr_time</th>\n",
       "            <th>arr_time</th>\n",
       "            <th>arr_delay_new</th>\n",
       "            <th>arr_time_blk</th>\n",
       "            <th>cancelled</th>\n",
       "            <th>cancellation_code</th>\n",
       "            <th>crs_elapsed_time</th>\n",
       "            <th>actual_elapsed_time</th>\n",
       "            <th>distance</th>\n",
       "            <th>distance_group</th>\n",
       "            <th>carrier_delay</th>\n",
       "            <th>weather_delay</th>\n",
       "            <th>nas_delay</th>\n",
       "            <th>security_delay</th>\n",
       "            <th>late_aircraft_delay</th>\n",
       "            <th>x</th>\n",
       "            <th>flight_date</th>\n",
       "        </tr>\n",
       "    </thead>\n",
       "    <tbody>\n",
       "        <tr>\n",
       "            <td>9E3354123232019325N836AY</td>\n",
       "            <td>1</td>\n",
       "            <td>9E</td>\n",
       "            <td>N836AY</td>\n",
       "            <td>3354</td>\n",
       "            <td>12323</td>\n",
       "            <td>ILM       </td>\n",
       "            <td>Wilmington, NC</td>\n",
       "            <td>10397</td>\n",
       "            <td>ATL</td>\n",
       "            <td>Atlanta, GA</td>\n",
       "            <td>1841</td>\n",
       "            <td>1834</td>\n",
       "            <td>0</td>\n",
       "            <td>0</td>\n",
       "            <td>1800-1859</td>\n",
       "            <td>2019</td>\n",
       "            <td>123</td>\n",
       "            <td>None</td>\n",
       "            <td>2000-2059</td>\n",
       "            <td>0</td>\n",
       "            <td>None</td>\n",
       "            <td>98</td>\n",
       "            <td>None</td>\n",
       "            <td>377</td>\n",
       "            <td>2</td>\n",
       "            <td>None</td>\n",
       "            <td>None</td>\n",
       "            <td>None</td>\n",
       "            <td>None</td>\n",
       "            <td>None</td>\n",
       "            <td>None</td>\n",
       "            <td>2019-03-25</td>\n",
       "        </tr>\n",
       "        <tr>\n",
       "            <td>9E3414129532019318N272PQ</td>\n",
       "            <td>1</td>\n",
       "            <td>9E</td>\n",
       "            <td>N272PQ</td>\n",
       "            <td>3414</td>\n",
       "            <td>12953</td>\n",
       "            <td>LGA       </td>\n",
       "            <td>New York, NY</td>\n",
       "            <td>10792</td>\n",
       "            <td>BUF</td>\n",
       "            <td>Buffalo, NY</td>\n",
       "            <td>2150</td>\n",
       "            <td>2140</td>\n",
       "            <td>0</td>\n",
       "            <td>0</td>\n",
       "            <td>2100-2159</td>\n",
       "            <td>2316</td>\n",
       "            <td>2252</td>\n",
       "            <td>0</td>\n",
       "            <td>2300-2359</td>\n",
       "            <td>0</td>\n",
       "            <td>None</td>\n",
       "            <td>86</td>\n",
       "            <td>72</td>\n",
       "            <td>292</td>\n",
       "            <td>2</td>\n",
       "            <td>None</td>\n",
       "            <td>None</td>\n",
       "            <td>None</td>\n",
       "            <td>None</td>\n",
       "            <td>None</td>\n",
       "            <td>None</td>\n",
       "            <td>2019-03-18</td>\n",
       "        </tr>\n",
       "    </tbody>\n",
       "</table>"
      ],
      "text/plain": [
       "[('9E3354123232019325N836AY', Decimal('1'), '9E', 'N836AY', Decimal('3354'), Decimal('12323'), 'ILM       ', 'Wilmington, NC', Decimal('10397'), 'ATL', 'Atlanta, GA', Decimal('1841'), Decimal('1834'), Decimal('0'), Decimal('0'), '1800-1859', Decimal('2019'), Decimal('123'), None, '2000-2059', Decimal('0'), None, Decimal('98'), None, Decimal('377'), Decimal('2'), None, None, None, None, None, None, datetime.date(2019, 3, 25)),\n",
       " ('9E3414129532019318N272PQ', Decimal('1'), '9E', 'N272PQ', Decimal('3414'), Decimal('12953'), 'LGA       ', 'New York, NY', Decimal('10792'), 'BUF', 'Buffalo, NY', Decimal('2150'), Decimal('2140'), Decimal('0'), Decimal('0'), '2100-2159', Decimal('2316'), Decimal('2252'), Decimal('0'), '2300-2359', Decimal('0'), None, Decimal('86'), Decimal('72'), Decimal('292'), Decimal('2'), None, None, None, None, None, None, datetime.date(2019, 3, 18))]"
      ]
     },
     "execution_count": 12,
     "metadata": {},
     "output_type": "execute_result"
    }
   ],
   "source": [
    "%%sql\n",
    "-- here we delete the year, month, and day_of_month; then check the table\n",
    "Alter table Test_ONTIME_REPORTING drop column year; \n",
    "Alter table Test_ONTIME_REPORTING drop column month;\n",
    "Alter table Test_ONTIME_REPORTING drop column day_of_month;\n",
    "\n",
    "Select * from Test_ONTIME_REPORTING limit 2;\n",
    "-- since our test table looks good, we decide to work on the real ONTIME_REPORTING table"
   ]
  },
  {
   "cell_type": "markdown",
   "id": "8f423ec1-3cae-4f32-9e72-19d6331f823d",
   "metadata": {},
   "source": [
    "<font color='green'>Working on the actual ONTIME_REPORTING</font>"
   ]
  },
  {
   "cell_type": "code",
   "execution_count": 62,
   "id": "0fdd034b-dc16-4b3c-8cd3-a2fa6b4daa09",
   "metadata": {},
   "outputs": [
    {
     "name": "stdout",
     "output_type": "stream",
     "text": [
      " * postgresql://student@/week6\n",
      "Done.\n"
     ]
    },
    {
     "data": {
      "text/plain": [
       "[]"
      ]
     },
     "execution_count": 62,
     "metadata": {},
     "output_type": "execute_result"
    }
   ],
   "source": [
    "%%sql\n",
    "ALTER table ONTIME_REPORTING \n",
    "ADD COLUMN Flight_date DATE NULL;"
   ]
  },
  {
   "cell_type": "code",
   "execution_count": 63,
   "id": "e9a59bba-3506-4333-8ffc-6d09c3e1450f",
   "metadata": {},
   "outputs": [
    {
     "name": "stdout",
     "output_type": "stream",
     "text": [
      " * postgresql://student@/week6\n",
      "2 rows affected.\n"
     ]
    },
    {
     "data": {
      "text/html": [
       "<table>\n",
       "    <thead>\n",
       "        <tr>\n",
       "            <th>report_id</th>\n",
       "            <th>year</th>\n",
       "            <th>month</th>\n",
       "            <th>day_of_month</th>\n",
       "            <th>day_of_week</th>\n",
       "            <th>op_unique_carrier</th>\n",
       "            <th>tail_num</th>\n",
       "            <th>op_carrier_fl_num</th>\n",
       "            <th>origin_airport_id</th>\n",
       "            <th>origin</th>\n",
       "            <th>origin_city_name</th>\n",
       "            <th>dest_airport_id</th>\n",
       "            <th>dest</th>\n",
       "            <th>dest_city_name</th>\n",
       "            <th>crs_dep_time</th>\n",
       "            <th>dep_time</th>\n",
       "            <th>dep_delay_new</th>\n",
       "            <th>dep_del15</th>\n",
       "            <th>dep_time_blk</th>\n",
       "            <th>crs_arr_time</th>\n",
       "            <th>arr_time</th>\n",
       "            <th>arr_delay_new</th>\n",
       "            <th>arr_time_blk</th>\n",
       "            <th>cancelled</th>\n",
       "            <th>cancellation_code</th>\n",
       "            <th>crs_elapsed_time</th>\n",
       "            <th>actual_elapsed_time</th>\n",
       "            <th>distance</th>\n",
       "            <th>distance_group</th>\n",
       "            <th>carrier_delay</th>\n",
       "            <th>weather_delay</th>\n",
       "            <th>nas_delay</th>\n",
       "            <th>security_delay</th>\n",
       "            <th>late_aircraft_delay</th>\n",
       "            <th>x</th>\n",
       "            <th>flight_date</th>\n",
       "        </tr>\n",
       "    </thead>\n",
       "    <tbody>\n",
       "        <tr>\n",
       "            <td>9E328010397201916N8694A</td>\n",
       "            <td>2019</td>\n",
       "            <td>1</td>\n",
       "            <td>6</td>\n",
       "            <td>7</td>\n",
       "            <td>9E</td>\n",
       "            <td>N8694A</td>\n",
       "            <td>3280</td>\n",
       "            <td>10397</td>\n",
       "            <td>ATL       </td>\n",
       "            <td>Atlanta, GA</td>\n",
       "            <td>11150</td>\n",
       "            <td>CSG</td>\n",
       "            <td>Columbus, GA</td>\n",
       "            <td>1645</td>\n",
       "            <td>1643</td>\n",
       "            <td>0</td>\n",
       "            <td>0</td>\n",
       "            <td>1600-1659</td>\n",
       "            <td>1732</td>\n",
       "            <td>1720</td>\n",
       "            <td>0</td>\n",
       "            <td>1700-1759</td>\n",
       "            <td>0</td>\n",
       "            <td>None</td>\n",
       "            <td>47</td>\n",
       "            <td>37</td>\n",
       "            <td>83</td>\n",
       "            <td>1</td>\n",
       "            <td>None</td>\n",
       "            <td>None</td>\n",
       "            <td>None</td>\n",
       "            <td>None</td>\n",
       "            <td>None</td>\n",
       "            <td>None</td>\n",
       "            <td>None</td>\n",
       "        </tr>\n",
       "        <tr>\n",
       "            <td>9E328010397201917N8970D</td>\n",
       "            <td>2019</td>\n",
       "            <td>1</td>\n",
       "            <td>7</td>\n",
       "            <td>1</td>\n",
       "            <td>9E</td>\n",
       "            <td>N8970D</td>\n",
       "            <td>3280</td>\n",
       "            <td>10397</td>\n",
       "            <td>ATL       </td>\n",
       "            <td>Atlanta, GA</td>\n",
       "            <td>11150</td>\n",
       "            <td>CSG</td>\n",
       "            <td>Columbus, GA</td>\n",
       "            <td>1645</td>\n",
       "            <td>1640</td>\n",
       "            <td>0</td>\n",
       "            <td>0</td>\n",
       "            <td>1600-1659</td>\n",
       "            <td>1732</td>\n",
       "            <td>1712</td>\n",
       "            <td>0</td>\n",
       "            <td>1700-1759</td>\n",
       "            <td>0</td>\n",
       "            <td>None</td>\n",
       "            <td>47</td>\n",
       "            <td>32</td>\n",
       "            <td>83</td>\n",
       "            <td>1</td>\n",
       "            <td>None</td>\n",
       "            <td>None</td>\n",
       "            <td>None</td>\n",
       "            <td>None</td>\n",
       "            <td>None</td>\n",
       "            <td>None</td>\n",
       "            <td>None</td>\n",
       "        </tr>\n",
       "    </tbody>\n",
       "</table>"
      ],
      "text/plain": [
       "[('9E328010397201916N8694A', Decimal('2019'), Decimal('1'), Decimal('6'), Decimal('7'), '9E', 'N8694A', Decimal('3280'), Decimal('10397'), 'ATL       ', 'Atlanta, GA', Decimal('11150'), 'CSG', 'Columbus, GA', Decimal('1645'), Decimal('1643'), Decimal('0'), Decimal('0'), '1600-1659', Decimal('1732'), Decimal('1720'), Decimal('0'), '1700-1759', Decimal('0'), None, Decimal('47'), Decimal('37'), Decimal('83'), Decimal('1'), None, None, None, None, None, None, None),\n",
       " ('9E328010397201917N8970D', Decimal('2019'), Decimal('1'), Decimal('7'), Decimal('1'), '9E', 'N8970D', Decimal('3280'), Decimal('10397'), 'ATL       ', 'Atlanta, GA', Decimal('11150'), 'CSG', 'Columbus, GA', Decimal('1645'), Decimal('1640'), Decimal('0'), Decimal('0'), '1600-1659', Decimal('1732'), Decimal('1712'), Decimal('0'), '1700-1759', Decimal('0'), None, Decimal('47'), Decimal('32'), Decimal('83'), Decimal('1'), None, None, None, None, None, None, None)]"
      ]
     },
     "execution_count": 63,
     "metadata": {},
     "output_type": "execute_result"
    }
   ],
   "source": [
    "%%sql\n",
    "Select * from ONTIME_REPORTING limit 2;"
   ]
  },
  {
   "cell_type": "markdown",
   "id": "cabeaaef-559f-4cf5-84b0-4fe3fd59c15a",
   "metadata": {},
   "source": [
    "Now we have the column flight_date added, we can start input value."
   ]
  },
  {
   "cell_type": "code",
   "execution_count": 64,
   "id": "f7d959fd-c601-4250-9408-ab331f8f5d85",
   "metadata": {},
   "outputs": [
    {
     "name": "stdout",
     "output_type": "stream",
     "text": [
      " * postgresql://student@/week6\n",
      "3579077 rows affected.\n"
     ]
    },
    {
     "data": {
      "text/plain": [
       "[]"
      ]
     },
     "execution_count": 64,
     "metadata": {},
     "output_type": "execute_result"
    }
   ],
   "source": [
    "%%sql\n",
    "UPDATE ONTIME_REPORTING\n",
    "set Flight_date = Cast(year || '-' || month || '-' || day_of_month as date);"
   ]
  },
  {
   "cell_type": "code",
   "execution_count": 65,
   "id": "edb397a0-379c-4b7c-a413-aff3cc23c230",
   "metadata": {},
   "outputs": [
    {
     "name": "stdout",
     "output_type": "stream",
     "text": [
      " * postgresql://student@/week6\n",
      "2 rows affected.\n"
     ]
    },
    {
     "data": {
      "text/html": [
       "<table>\n",
       "    <thead>\n",
       "        <tr>\n",
       "            <th>report_id</th>\n",
       "            <th>year</th>\n",
       "            <th>month</th>\n",
       "            <th>day_of_month</th>\n",
       "            <th>day_of_week</th>\n",
       "            <th>op_unique_carrier</th>\n",
       "            <th>tail_num</th>\n",
       "            <th>op_carrier_fl_num</th>\n",
       "            <th>origin_airport_id</th>\n",
       "            <th>origin</th>\n",
       "            <th>origin_city_name</th>\n",
       "            <th>dest_airport_id</th>\n",
       "            <th>dest</th>\n",
       "            <th>dest_city_name</th>\n",
       "            <th>crs_dep_time</th>\n",
       "            <th>dep_time</th>\n",
       "            <th>dep_delay_new</th>\n",
       "            <th>dep_del15</th>\n",
       "            <th>dep_time_blk</th>\n",
       "            <th>crs_arr_time</th>\n",
       "            <th>arr_time</th>\n",
       "            <th>arr_delay_new</th>\n",
       "            <th>arr_time_blk</th>\n",
       "            <th>cancelled</th>\n",
       "            <th>cancellation_code</th>\n",
       "            <th>crs_elapsed_time</th>\n",
       "            <th>actual_elapsed_time</th>\n",
       "            <th>distance</th>\n",
       "            <th>distance_group</th>\n",
       "            <th>carrier_delay</th>\n",
       "            <th>weather_delay</th>\n",
       "            <th>nas_delay</th>\n",
       "            <th>security_delay</th>\n",
       "            <th>late_aircraft_delay</th>\n",
       "            <th>x</th>\n",
       "            <th>flight_date</th>\n",
       "        </tr>\n",
       "    </thead>\n",
       "    <tbody>\n",
       "        <tr>\n",
       "            <td>9E3342145762019130N8970D</td>\n",
       "            <td>2019</td>\n",
       "            <td>1</td>\n",
       "            <td>30</td>\n",
       "            <td>3</td>\n",
       "            <td>9E</td>\n",
       "            <td>N8970D</td>\n",
       "            <td>3342</td>\n",
       "            <td>14576</td>\n",
       "            <td>ROC       </td>\n",
       "            <td>Rochester, NY</td>\n",
       "            <td>12953</td>\n",
       "            <td>LGA</td>\n",
       "            <td>New York, NY</td>\n",
       "            <td>1436</td>\n",
       "            <td>None</td>\n",
       "            <td>None</td>\n",
       "            <td>None</td>\n",
       "            <td>1400-1459</td>\n",
       "            <td>1600</td>\n",
       "            <td>None</td>\n",
       "            <td>None</td>\n",
       "            <td>1600-1659</td>\n",
       "            <td>1</td>\n",
       "            <td>B</td>\n",
       "            <td>84</td>\n",
       "            <td>None</td>\n",
       "            <td>254</td>\n",
       "            <td>2</td>\n",
       "            <td>None</td>\n",
       "            <td>None</td>\n",
       "            <td>None</td>\n",
       "            <td>None</td>\n",
       "            <td>None</td>\n",
       "            <td>None</td>\n",
       "            <td>2019-01-30</td>\n",
       "        </tr>\n",
       "        <tr>\n",
       "            <td>9E3371145762019120N195PQ</td>\n",
       "            <td>2019</td>\n",
       "            <td>1</td>\n",
       "            <td>20</td>\n",
       "            <td>7</td>\n",
       "            <td>9E</td>\n",
       "            <td>N195PQ</td>\n",
       "            <td>3371</td>\n",
       "            <td>14576</td>\n",
       "            <td>ROC       </td>\n",
       "            <td>Rochester, NY</td>\n",
       "            <td>12478</td>\n",
       "            <td>JFK</td>\n",
       "            <td>New York, NY</td>\n",
       "            <td>520</td>\n",
       "            <td>None</td>\n",
       "            <td>None</td>\n",
       "            <td>None</td>\n",
       "            <td>0001-0559</td>\n",
       "            <td>700</td>\n",
       "            <td>None</td>\n",
       "            <td>None</td>\n",
       "            <td>0700-0759</td>\n",
       "            <td>1</td>\n",
       "            <td>B</td>\n",
       "            <td>100</td>\n",
       "            <td>None</td>\n",
       "            <td>264</td>\n",
       "            <td>2</td>\n",
       "            <td>None</td>\n",
       "            <td>None</td>\n",
       "            <td>None</td>\n",
       "            <td>None</td>\n",
       "            <td>None</td>\n",
       "            <td>None</td>\n",
       "            <td>2019-01-20</td>\n",
       "        </tr>\n",
       "    </tbody>\n",
       "</table>"
      ],
      "text/plain": [
       "[('9E3342145762019130N8970D', Decimal('2019'), Decimal('1'), Decimal('30'), Decimal('3'), '9E', 'N8970D', Decimal('3342'), Decimal('14576'), 'ROC       ', 'Rochester, NY', Decimal('12953'), 'LGA', 'New York, NY', Decimal('1436'), None, None, None, '1400-1459', Decimal('1600'), None, None, '1600-1659', Decimal('1'), 'B', Decimal('84'), None, Decimal('254'), Decimal('2'), None, None, None, None, None, None, datetime.date(2019, 1, 30)),\n",
       " ('9E3371145762019120N195PQ', Decimal('2019'), Decimal('1'), Decimal('20'), Decimal('7'), '9E', 'N195PQ', Decimal('3371'), Decimal('14576'), 'ROC       ', 'Rochester, NY', Decimal('12478'), 'JFK', 'New York, NY', Decimal('520'), None, None, None, '0001-0559', Decimal('700'), None, None, '0700-0759', Decimal('1'), 'B', Decimal('100'), None, Decimal('264'), Decimal('2'), None, None, None, None, None, None, datetime.date(2019, 1, 20))]"
      ]
     },
     "execution_count": 65,
     "metadata": {},
     "output_type": "execute_result"
    }
   ],
   "source": [
    "%%sql\n",
    "Select * from ONTIME_REPORTING limit 2;"
   ]
  },
  {
   "cell_type": "markdown",
   "id": "52ac54cd-c384-4037-926c-8c5e7fed0b1c",
   "metadata": {},
   "source": [
    "Now our data is filled successfully. We can drop year, month, and day_of_month columns."
   ]
  },
  {
   "cell_type": "code",
   "execution_count": 66,
   "id": "f787d504-fca1-4f88-8827-257a96feaa7f",
   "metadata": {},
   "outputs": [
    {
     "name": "stdout",
     "output_type": "stream",
     "text": [
      " * postgresql://student@/week6\n",
      "Done.\n",
      "Done.\n",
      "Done.\n",
      "2 rows affected.\n",
      "(psycopg2.ProgrammingError) can't execute an empty query\n",
      "[SQL: -- now we successfully get rid of year, month, and day_of_month columns]\n",
      "(Background on this error at: https://sqlalche.me/e/14/f405)\n"
     ]
    }
   ],
   "source": [
    "%%sql\n",
    "Alter table ONTIME_REPORTING drop column year; \n",
    "Alter table ONTIME_REPORTING drop column month;\n",
    "Alter table ONTIME_REPORTING drop column day_of_month;\n",
    "\n",
    "Select * from ONTIME_REPORTING limit 2;\n",
    "-- now we successfully get rid of year, month, and day_of_month columns"
   ]
  },
  {
   "cell_type": "markdown",
   "id": "fd97aaf7-c5fe-4405-8064-161b14a1a636",
   "metadata": {},
   "source": [
    "#### <font color='bronze'>4. Data analysis (20 points)</font>"
   ]
  },
  {
   "cell_type": "markdown",
   "id": "9fceecb9-4665-491d-867f-a3713eb88636",
   "metadata": {},
   "source": [
    "##### <font color='grey'> 1) Top 10 airlines in terms of number of scheduled flights. On each of the top 10 airlines show total flights, the sum of all delays by type, and total cancellations. </font>"
   ]
  },
  {
   "cell_type": "code",
   "execution_count": 67,
   "id": "c1f2c11b-0930-4435-9304-91244d797f9b",
   "metadata": {},
   "outputs": [
    {
     "name": "stdout",
     "output_type": "stream",
     "text": [
      " * postgresql://student@/week6\n",
      "10 rows affected.\n"
     ]
    },
    {
     "data": {
      "text/html": [
       "<table>\n",
       "    <thead>\n",
       "        <tr>\n",
       "            <th>airline</th>\n",
       "            <th>total scheduled flights</th>\n",
       "            <th>sum of carrier delay</th>\n",
       "            <th>sum of weather delay</th>\n",
       "            <th>sum of nas delay</th>\n",
       "            <th>sum of security delay</th>\n",
       "            <th>sum of late aircraft delay</th>\n",
       "            <th>total cancellations</th>\n",
       "        </tr>\n",
       "    </thead>\n",
       "    <tbody>\n",
       "        <tr>\n",
       "            <td>Southwest Airlines Co.</td>\n",
       "            <td>658265</td>\n",
       "            <td>1509844</td>\n",
       "            <td>74316</td>\n",
       "            <td>705725</td>\n",
       "            <td>19991</td>\n",
       "            <td>1759119</td>\n",
       "            <td>36722</td>\n",
       "        </tr>\n",
       "        <tr>\n",
       "            <td>Delta Air Lines Inc.</td>\n",
       "            <td>467185</td>\n",
       "            <td>1327495</td>\n",
       "            <td>325429</td>\n",
       "            <td>965721</td>\n",
       "            <td>3363</td>\n",
       "            <td>1066182</td>\n",
       "            <td>20174</td>\n",
       "        </tr>\n",
       "        <tr>\n",
       "            <td>American Airlines Inc.</td>\n",
       "            <td>457111</td>\n",
       "            <td>1758590</td>\n",
       "            <td>181434</td>\n",
       "            <td>1039563</td>\n",
       "            <td>7618</td>\n",
       "            <td>1799175</td>\n",
       "            <td>20782</td>\n",
       "        </tr>\n",
       "        <tr>\n",
       "            <td>SkyWest Airlines Inc.</td>\n",
       "            <td>407303</td>\n",
       "            <td>2529666</td>\n",
       "            <td>698177</td>\n",
       "            <td>1131810</td>\n",
       "            <td>4781</td>\n",
       "            <td>1634730</td>\n",
       "            <td>17457</td>\n",
       "        </tr>\n",
       "        <tr>\n",
       "            <td>United Air Lines Inc.</td>\n",
       "            <td>292736</td>\n",
       "            <td>729115</td>\n",
       "            <td>157040</td>\n",
       "            <td>1098214</td>\n",
       "            <td>546</td>\n",
       "            <td>1283961</td>\n",
       "            <td>14297</td>\n",
       "        </tr>\n",
       "        <tr>\n",
       "            <td>Midwest Airline, Inc.</td>\n",
       "            <td>163469</td>\n",
       "            <td>362907</td>\n",
       "            <td>75630</td>\n",
       "            <td>540814</td>\n",
       "            <td>1059</td>\n",
       "            <td>613239</td>\n",
       "            <td>7066</td>\n",
       "        </tr>\n",
       "        <tr>\n",
       "            <td>American Eagle Airlines Inc.</td>\n",
       "            <td>153185</td>\n",
       "            <td>423455</td>\n",
       "            <td>135555</td>\n",
       "            <td>445035</td>\n",
       "            <td>1148</td>\n",
       "            <td>721184</td>\n",
       "            <td>8670</td>\n",
       "        </tr>\n",
       "        <tr>\n",
       "            <td>JetBlue Airways</td>\n",
       "            <td>146661</td>\n",
       "            <td>806009</td>\n",
       "            <td>40894</td>\n",
       "            <td>447768</td>\n",
       "            <td>3124</td>\n",
       "            <td>844491</td>\n",
       "            <td>6215</td>\n",
       "        </tr>\n",
       "        <tr>\n",
       "            <td>Comair Inc.</td>\n",
       "            <td>141506</td>\n",
       "            <td>531257</td>\n",
       "            <td>64036</td>\n",
       "            <td>245468</td>\n",
       "            <td>2009</td>\n",
       "            <td>955513</td>\n",
       "            <td>7076</td>\n",
       "        </tr>\n",
       "        <tr>\n",
       "            <td>Endeavor Air Inc.</td>\n",
       "            <td>131567</td>\n",
       "            <td>387508</td>\n",
       "            <td>103785</td>\n",
       "            <td>324399</td>\n",
       "            <td>291</td>\n",
       "            <td>601609</td>\n",
       "            <td>4754</td>\n",
       "        </tr>\n",
       "    </tbody>\n",
       "</table>"
      ],
      "text/plain": [
       "[('Southwest Airlines Co.', 658265, Decimal('1509844'), Decimal('74316'), Decimal('705725'), Decimal('19991'), Decimal('1759119'), Decimal('36722')),\n",
       " ('Delta Air Lines Inc.', 467185, Decimal('1327495'), Decimal('325429'), Decimal('965721'), Decimal('3363'), Decimal('1066182'), Decimal('20174')),\n",
       " ('American Airlines Inc.', 457111, Decimal('1758590'), Decimal('181434'), Decimal('1039563'), Decimal('7618'), Decimal('1799175'), Decimal('20782')),\n",
       " ('SkyWest Airlines Inc.', 407303, Decimal('2529666'), Decimal('698177'), Decimal('1131810'), Decimal('4781'), Decimal('1634730'), Decimal('17457')),\n",
       " ('United Air Lines Inc.', 292736, Decimal('729115'), Decimal('157040'), Decimal('1098214'), Decimal('546'), Decimal('1283961'), Decimal('14297')),\n",
       " ('Midwest Airline, Inc.', 163469, Decimal('362907'), Decimal('75630'), Decimal('540814'), Decimal('1059'), Decimal('613239'), Decimal('7066')),\n",
       " ('American Eagle Airlines Inc.', 153185, Decimal('423455'), Decimal('135555'), Decimal('445035'), Decimal('1148'), Decimal('721184'), Decimal('8670')),\n",
       " ('JetBlue Airways', 146661, Decimal('806009'), Decimal('40894'), Decimal('447768'), Decimal('3124'), Decimal('844491'), Decimal('6215')),\n",
       " ('Comair Inc.', 141506, Decimal('531257'), Decimal('64036'), Decimal('245468'), Decimal('2009'), Decimal('955513'), Decimal('7076')),\n",
       " ('Endeavor Air Inc.', 131567, Decimal('387508'), Decimal('103785'), Decimal('324399'), Decimal('291'), Decimal('601609'), Decimal('4754'))]"
      ]
     },
     "execution_count": 67,
     "metadata": {},
     "output_type": "execute_result"
    }
   ],
   "source": [
    "%%sql\n",
    "-- AIRLINE is carrier_name\n",
    "-- Sum of all delays by type (in minutes)\n",
    "SELECT C.carrier_name as \"airline\", \n",
    "    count(*) as \"total scheduled flights\", \n",
    "    sum(OP.carrier_delay) as \"sum of carrier delay\",\n",
    "    sum(OP.weather_delay) as \"sum of weather delay\",\n",
    "    sum(OP.nas_delay) as \"sum of nas delay\",\n",
    "    sum(OP.security_delay) as \"sum of security delay\",\n",
    "    sum(OP.late_aircraft_delay) as \"sum of late aircraft delay\",\n",
    "    sum(OP.cancelled) as \"total cancellations\"\n",
    "from ONTIME_REPORTING OP, CARRIER C\n",
    "WHERE C.op_unique_carrier = OP.op_unique_carrier\n",
    "GROUP BY C.carrier_name\n",
    "ORDER BY count(*) Desc\n",
    "LIMIT 10"
   ]
  },
  {
   "cell_type": "markdown",
   "id": "c8dd837e-6ab2-4397-9738-28486f97bacf",
   "metadata": {},
   "source": [
    "ANS:\n",
    "top 10 airlines in terms of number of scheduled flights are:\n",
    "1. Southwest Airlines Co.\n",
    "2. Delta Air Lines Inc.\n",
    "3. American Airlines Inc.\n",
    "4. SkyWest Airlines Inc.\n",
    "5. United Air Lines Inc.\n",
    "6. Midwest Airline, Inc.\n",
    "7. American Eagle Airlines Inc.\n",
    "8. JetBlue Airways\n",
    "9. Comair Inc.\n",
    "10. Endeavor Air Inc."
   ]
  },
  {
   "cell_type": "code",
   "execution_count": 14,
   "id": "112f6994-c1c1-4470-9566-ed4866bb23e4",
   "metadata": {},
   "outputs": [
    {
     "name": "stdout",
     "output_type": "stream",
     "text": [
      " * postgresql://student@/week6\n",
      "2 rows affected.\n"
     ]
    },
    {
     "data": {
      "text/html": [
       "<table>\n",
       "    <thead>\n",
       "        <tr>\n",
       "            <th>cancelled</th>\n",
       "        </tr>\n",
       "    </thead>\n",
       "    <tbody>\n",
       "        <tr>\n",
       "            <td>1</td>\n",
       "        </tr>\n",
       "        <tr>\n",
       "            <td>0</td>\n",
       "        </tr>\n",
       "    </tbody>\n",
       "</table>"
      ],
      "text/plain": [
       "[(Decimal('1'),), (Decimal('0'),)]"
      ]
     },
     "execution_count": 14,
     "metadata": {},
     "output_type": "execute_result"
    }
   ],
   "source": [
    "%%sql\n",
    "SELECT distinct cancelled from ONTIME_REPORTING\n",
    "-- cancelled is binary so that we can use sum() function to count total cancellations"
   ]
  },
  {
   "cell_type": "markdown",
   "id": "6402d6ff-121f-43f3-b531-0b4288d7e716",
   "metadata": {},
   "source": [
    "%%sql\n",
    "-- AIRLINE is carrier_name </br>\n",
    "-- This code is used to count how many times of delays happen by type </br>\n",
    "SELECT C.carrier_name as \"airline\", \n",
    "    count(*) as \"total scheduled flights\", \n",
    "    count(OP.carrier_delay) - sum(CASE WHEN OP.carrier_delay = 0 THEN 1 ELSE 0 END) as \"total carrier delay\",\n",
    "    count(OP.weather_delay) - sum(CASE WHEN OP.weather_delay = 0 THEN 1 ELSE 0 END) as \"total weather delay\",\n",
    "    count(OP.nas_delay) - sum(CASE WHEN OP.nas_delay = 0 THEN 1 ELSE 0 END) as \"total nas delay\",\n",
    "    count(OP.security_delay) - sum(CASE WHEN OP.security_delay = 0 THEN 1 ELSE 0 END) as \"total security delay\",\n",
    "    count(OP.late_aircraft_delay) - sum(CASE WHEN OP.late_aircraft_delay = 0 THEN 1 ELSE 0 END) as \"total late aircraft delay\",\n",
    "    sum(OP.cancelled) as \"total cancellations\"\n",
    "from ONTIME_REPORTING OP, CARRIER C\n",
    "WHERE C.op_unique_carrier = OP.op_unique_carrier\n",
    "GROUP BY C.carrier_name\n",
    "ORDER BY count(*) Desc\n",
    "LIMIT 10"
   ]
  },
  {
   "cell_type": "markdown",
   "id": "2e850549-be0b-403c-8045-fcdf68018f4c",
   "metadata": {},
   "source": [
    "##### <font color='grey'> 2) Top 10 busiest airport pairs in terms of total scheduled flights? Of those, indicate the airlines, total number of seats they can offer. </font>"
   ]
  },
  {
   "cell_type": "code",
   "execution_count": 68,
   "id": "f90116c4-e33f-4431-83d2-66f47d13a5f3",
   "metadata": {},
   "outputs": [
    {
     "name": "stdout",
     "output_type": "stream",
     "text": [
      " * postgresql://student@/week6\n",
      "10 rows affected.\n"
     ]
    },
    {
     "data": {
      "text/html": [
       "<table>\n",
       "    <thead>\n",
       "        <tr>\n",
       "            <th>busiest airport pairs</th>\n",
       "            <th>airline</th>\n",
       "            <th>total scheduled flights</th>\n",
       "            <th>total number of seats</th>\n",
       "        </tr>\n",
       "    </thead>\n",
       "    <tbody>\n",
       "        <tr>\n",
       "            <td>Hollywood-Burbank Midpoint-Kahului Airport</td>\n",
       "            <td>Hawaiian Airlines Inc.</td>\n",
       "            <td>4680</td>\n",
       "            <td>578478</td>\n",
       "        </tr>\n",
       "        <tr>\n",
       "            <td>Kahului Airport-Hollywood-Burbank Midpoint</td>\n",
       "            <td>Hawaiian Airlines Inc.</td>\n",
       "            <td>4673</td>\n",
       "            <td>577617</td>\n",
       "        </tr>\n",
       "        <tr>\n",
       "            <td>William P Hobby-Dallas Love Field</td>\n",
       "            <td>Southwest Airlines Co.</td>\n",
       "            <td>3320</td>\n",
       "            <td>487752</td>\n",
       "        </tr>\n",
       "        <tr>\n",
       "            <td>Dallas Love Field-William P Hobby</td>\n",
       "            <td>Southwest Airlines Co.</td>\n",
       "            <td>3300</td>\n",
       "            <td>482940</td>\n",
       "        </tr>\n",
       "        <tr>\n",
       "            <td>Hollywood-Burbank Midpoint-Lihue Airport</td>\n",
       "            <td>Hawaiian Airlines Inc.</td>\n",
       "            <td>3131</td>\n",
       "            <td>385113</td>\n",
       "        </tr>\n",
       "        <tr>\n",
       "            <td>Lihue Airport-Hollywood-Burbank Midpoint</td>\n",
       "            <td>Hawaiian Airlines Inc.</td>\n",
       "            <td>3123</td>\n",
       "            <td>384129</td>\n",
       "        </tr>\n",
       "        <tr>\n",
       "            <td>Hollywood-Burbank Midpoint-Keahole</td>\n",
       "            <td>Hawaiian Airlines Inc.</td>\n",
       "            <td>3011</td>\n",
       "            <td>370353</td>\n",
       "        </tr>\n",
       "        <tr>\n",
       "            <td>Keahole-Hollywood-Burbank Midpoint</td>\n",
       "            <td>Hawaiian Airlines Inc.</td>\n",
       "            <td>3007</td>\n",
       "            <td>369861</td>\n",
       "        </tr>\n",
       "        <tr>\n",
       "            <td>Orlando International-Atlanta Municipal</td>\n",
       "            <td>Delta Air Lines Inc.</td>\n",
       "            <td>2900</td>\n",
       "            <td>582744</td>\n",
       "        </tr>\n",
       "        <tr>\n",
       "            <td>Atlanta Municipal-Orlando International</td>\n",
       "            <td>Delta Air Lines Inc.</td>\n",
       "            <td>2894</td>\n",
       "            <td>581626</td>\n",
       "        </tr>\n",
       "    </tbody>\n",
       "</table>"
      ],
      "text/plain": [
       "[('Hollywood-Burbank Midpoint-Kahului Airport', 'Hawaiian Airlines Inc.', 4680, Decimal('578478')),\n",
       " ('Kahului Airport-Hollywood-Burbank Midpoint', 'Hawaiian Airlines Inc.', 4673, Decimal('577617')),\n",
       " ('William P Hobby-Dallas Love Field', 'Southwest Airlines Co.', 3320, Decimal('487752')),\n",
       " ('Dallas Love Field-William P Hobby', 'Southwest Airlines Co.', 3300, Decimal('482940')),\n",
       " ('Hollywood-Burbank Midpoint-Lihue Airport', 'Hawaiian Airlines Inc.', 3131, Decimal('385113')),\n",
       " ('Lihue Airport-Hollywood-Burbank Midpoint', 'Hawaiian Airlines Inc.', 3123, Decimal('384129')),\n",
       " ('Hollywood-Burbank Midpoint-Keahole', 'Hawaiian Airlines Inc.', 3011, Decimal('370353')),\n",
       " ('Keahole-Hollywood-Burbank Midpoint', 'Hawaiian Airlines Inc.', 3007, Decimal('369861')),\n",
       " ('Orlando International-Atlanta Municipal', 'Delta Air Lines Inc.', 2900, Decimal('582744')),\n",
       " ('Atlanta Municipal-Orlando International', 'Delta Air Lines Inc.', 2894, Decimal('581626'))]"
      ]
     },
     "execution_count": 68,
     "metadata": {},
     "output_type": "execute_result"
    }
   ],
   "source": [
    "%%sql\n",
    "SELECT AO.DISPLAY_AIRPORT_NAME || '-' || AD.DISPLAY_AIRPORT_NAME as \"busiest airport pairs\", \n",
    "    C.carrier_name as \"airline\",\n",
    "    count(*) as \"total scheduled flights\",\n",
    "    SUM(A.NUMBER_OF_SEATS) as  \"total number of seats\"\n",
    "FROM   ONTIME_REPORTING OP, AIRCRAFT A, CARRIER C, AIRPORT_LIST AO, AIRPORT_LIST AD\n",
    "WHERE  A.tail_num = OP.tail_num \n",
    "    and C.op_unique_carrier = OP.op_unique_carrier\n",
    "    and OP.origin_airport_id = AO.origin_airport_id\n",
    "    and OP.dest_airport_id=AD.origin_airport_id\n",
    "group by AO.DISPLAY_AIRPORT_NAME || '-' || AD.DISPLAY_AIRPORT_NAME, C.carrier_name\n",
    "ORDER BY count(*) Desc\n",
    "limit 10"
   ]
  },
  {
   "cell_type": "markdown",
   "id": "d5b7172e-44e5-4342-9ae9-f2552c3aa763",
   "metadata": {},
   "source": [
    "ANS:\n",
    "The top10 busiest airport pairs in terms of total scheduled flights are:\n",
    " 1. Hollywood-Burbank Midpoint-Kahului Airport Hawaiian Airlines Inc.\n",
    " 2. Kahului Airport-Hollywood-Burbank Midpoint Hawaiian Airlines Inc.\n",
    " 3. William P Hobby-Dallas Love Field Southwest Airlines Co.\n",
    " 4. Dallas Love Field-William P Hobby Southwest Airlines Co.\n",
    " 5. Hollywood-Burbank Midpoint-Lihue Airport Hawaiian Airlines Inc.\n",
    " 6. Lihue Airport-Hollywood-Burbank Midpoint Hawaiian Airlines Inc.\n",
    " 7. Hollywood-Burbank Midpoint-Keahole Hawaiian Airlines Inc.\n",
    " 8. Keahole-Hollywood-Burbank Midpoint Hawaiian Airlines Inc.\n",
    " 9. Orlando International-Atlanta Municipal Delta Air Lines Inc.\n",
    " 10. Atlanta Municipal-Orlando International Delta Air Lines Inc."
   ]
  },
  {
   "cell_type": "markdown",
   "id": "8966f604-e0ae-4b64-8282-2a16ffe80589",
   "metadata": {},
   "source": [
    "##### <font color='grey'> 3) Top 10 snow days (SNOW field). For each find the corresponding date and airport. Did any flight departed or landed from those airports on those days? </font>"
   ]
  },
  {
   "cell_type": "code",
   "execution_count": 69,
   "id": "3dce4e84-156c-464e-908d-a77b6ea88cae",
   "metadata": {},
   "outputs": [
    {
     "name": "stdout",
     "output_type": "stream",
     "text": [
      " * postgresql://student@/week6\n",
      "10 rows affected.\n"
     ]
    },
    {
     "data": {
      "text/html": [
       "<table>\n",
       "    <thead>\n",
       "        <tr>\n",
       "            <th>display_airport_name</th>\n",
       "            <th>date</th>\n",
       "            <th>snow</th>\n",
       "            <th>flight_departed</th>\n",
       "            <th>flight_landed</th>\n",
       "        </tr>\n",
       "    </thead>\n",
       "    <tbody>\n",
       "        <tr>\n",
       "            <td>Greater Buffalo International</td>\n",
       "            <td>2019-01-25</td>\n",
       "            <td>17.20</td>\n",
       "            <td>61</td>\n",
       "            <td>60</td>\n",
       "        </tr>\n",
       "        <tr>\n",
       "            <td>Greater Buffalo International</td>\n",
       "            <td>2019-01-30</td>\n",
       "            <td>13.60</td>\n",
       "            <td>2</td>\n",
       "            <td>2</td>\n",
       "        </tr>\n",
       "        <tr>\n",
       "            <td>Albany International</td>\n",
       "            <td>2019-01-20</td>\n",
       "            <td>10.40</td>\n",
       "            <td>1</td>\n",
       "            <td>3</td>\n",
       "        </tr>\n",
       "        <tr>\n",
       "            <td>Logan International</td>\n",
       "            <td>2019-03-04</td>\n",
       "            <td>9.90</td>\n",
       "            <td>255</td>\n",
       "            <td>298</td>\n",
       "        </tr>\n",
       "        <tr>\n",
       "            <td>Syracuse Hancock International</td>\n",
       "            <td>2019-01-20</td>\n",
       "            <td>9.30</td>\n",
       "            <td>13</td>\n",
       "            <td>20</td>\n",
       "        </tr>\n",
       "        <tr>\n",
       "            <td>Syracuse Hancock International</td>\n",
       "            <td>2020-02-07</td>\n",
       "            <td>9.20</td>\n",
       "            <td>26</td>\n",
       "            <td>26</td>\n",
       "        </tr>\n",
       "        <tr>\n",
       "            <td>Minneapolis-St Paul International</td>\n",
       "            <td>2019-02-20</td>\n",
       "            <td>9.10</td>\n",
       "            <td>18</td>\n",
       "            <td>21</td>\n",
       "        </tr>\n",
       "        <tr>\n",
       "            <td>Anchorage International</td>\n",
       "            <td>2020-02-18</td>\n",
       "            <td>8.90</td>\n",
       "            <td>39</td>\n",
       "            <td>41</td>\n",
       "        </tr>\n",
       "        <tr>\n",
       "            <td>Salt Lake City International</td>\n",
       "            <td>2020-02-03</td>\n",
       "            <td>8.60</td>\n",
       "            <td>336</td>\n",
       "            <td>335</td>\n",
       "        </tr>\n",
       "        <tr>\n",
       "            <td>General Mitchell Field</td>\n",
       "            <td>2019-02-12</td>\n",
       "            <td>8.30</td>\n",
       "            <td>61</td>\n",
       "            <td>66</td>\n",
       "        </tr>\n",
       "    </tbody>\n",
       "</table>"
      ],
      "text/plain": [
       "[('Greater Buffalo International', datetime.date(2019, 1, 25), Decimal('17.20'), Decimal('61'), Decimal('60')),\n",
       " ('Greater Buffalo International', datetime.date(2019, 1, 30), Decimal('13.60'), Decimal('2'), Decimal('2')),\n",
       " ('Albany International', datetime.date(2019, 1, 20), Decimal('10.40'), Decimal('1'), Decimal('3')),\n",
       " ('Logan International', datetime.date(2019, 3, 4), Decimal('9.90'), Decimal('255'), Decimal('298')),\n",
       " ('Syracuse Hancock International', datetime.date(2019, 1, 20), Decimal('9.30'), Decimal('13'), Decimal('20')),\n",
       " ('Syracuse Hancock International', datetime.date(2020, 2, 7), Decimal('9.20'), Decimal('26'), Decimal('26')),\n",
       " ('Minneapolis-St Paul International', datetime.date(2019, 2, 20), Decimal('9.10'), Decimal('18'), Decimal('21')),\n",
       " ('Anchorage International', datetime.date(2020, 2, 18), Decimal('8.90'), Decimal('39'), Decimal('41')),\n",
       " ('Salt Lake City International', datetime.date(2020, 2, 3), Decimal('8.60'), Decimal('336'), Decimal('335')),\n",
       " ('General Mitchell Field', datetime.date(2019, 2, 12), Decimal('8.30'), Decimal('61'), Decimal('66'))]"
      ]
     },
     "execution_count": 69,
     "metadata": {},
     "output_type": "execute_result"
    }
   ],
   "source": [
    "%%sql\n",
    "WITH\n",
    "T10SNOW_D as (\n",
    "    SELECT AL.display_airport_name, W.date, W.snow, count(*) - sum(cancelled) as \"flight_departed\"\n",
    "    FROM WEATHER W LEFT OUTER JOIN AIRPORT_LIST AL ON (LOWER(AL.name) = LOWER(W.name)), ONTIME_REPORTING OP\n",
    "    WHERE W.date = OP.flight_date and OP.origin_airport_id = AL.origin_airport_id\n",
    "    GROUP BY AL.display_airport_name, W.date, W.snow \n",
    "    ORDER BY W.snow Desc NULLS LAST\n",
    "    LIMIT 10),\n",
    "T10SNOW_L as (\n",
    "    SELECT AL.display_airport_name, W.date, W.snow, count(*) - sum(cancelled) as \"flight_landed\"\n",
    "    FROM WEATHER W LEFT OUTER JOIN AIRPORT_LIST AL ON (LOWER(AL.name) = LOWER(W.name)), ONTIME_REPORTING OP\n",
    "    WHERE W.date = OP.flight_date and OP.dest_airport_id = AL.origin_airport_id\n",
    "    GROUP BY AL.display_airport_name, W.date, W.snow \n",
    "    ORDER BY W.snow Desc NULLS LAST\n",
    "    LIMIT 10)\n",
    "SELECT D.display_airport_name, D.date, D.snow, D.flight_departed, L.flight_landed\n",
    "FROM T10SNOW_D D\n",
    "LEFT JOIN T10SNOW_L L ON (D.display_airport_name = L.display_airport_name) and (D.date = L.date)\n",
    "ORDER BY D.snow Desc;"
   ]
  },
  {
   "cell_type": "markdown",
   "id": "2462cf10-4ff4-47eb-bbc5-a61e4713f281",
   "metadata": {},
   "source": [
    "ANS:\n",
    "    Top 10 snow days( airport and date):\n",
    "1. Greater Buffalo International     2019-01-25\n",
    "2. Greater Buffalo International     2019-01-30\n",
    "3. Albany International              2019-01-20\n",
    "4. Logan International               2019-03-04\n",
    "5. Syracuse Hancock International    2019-01-20\n",
    "6. Syracuse Hancock International    2020-02-07\n",
    "7. Minneapolis-St Paul International 2019-02-20\n",
    "8. Anchorage International           2020-02-18\n",
    "9. Salt Lake City International      2020-02-03\n",
    "10.General Mitchell Field            2019-02-12\n",
    "\n",
    "We use WITH to generate 2 tables and combine them to display aircraft departed and landed. All the airports of the top 10 snow have flight departed and landed in the certain day. The accurate number of flight departed and landed showed above in the table."
   ]
  },
  {
   "cell_type": "markdown",
   "id": "29b12798-2c81-4e9a-b9b9-1c15032abed6",
   "metadata": {},
   "source": [
    "<font color='green'>Explanation</font>\n",
    "\n",
    "We test our result by running a query on WEATHER table only. </br> \n",
    "We find out that 'BURLINGTON INTERNATIONAL AIRPORT, VT US' is not on our departed-lander-of-top-10-snow-day query while is presented on top-10-snow-day query. </br> We further investigate by looking for the 'BURLINGTON INTERNATIONAL AIRPORT, VT US' in AIRPORT_LIST table. By doing so, we find out that it is not on departed-lander-of-top-10-snow-day query because it is not available in AIRPORT_LIST AL table and thus the full name (WEATHER.name) cannot match to the ONTIME_REPORTING OP(origin_airport_id/dest_airport_id) through AIRPORT_LIST table (AL.name = WEATHER.name and OP.origin_airport_id/OP.origin_airport_id = AL.origin_airport_id). </br> \n",
    "Therefore, our query gives the corresponding top 11 snow days with the omission of 'BURLINGTON INTERNATIONAL AIRPORT, VT US' which eventually affect 10 rows."
   ]
  },
  {
   "cell_type": "code",
   "execution_count": 60,
   "id": "98d69e6f-2452-408b-bcf0-d2a5f58ef40b",
   "metadata": {
    "tags": []
   },
   "outputs": [
    {
     "name": "stdout",
     "output_type": "stream",
     "text": [
      " * postgresql://student@/week6\n",
      "11 rows affected.\n"
     ]
    },
    {
     "data": {
      "text/html": [
       "<table>\n",
       "    <thead>\n",
       "        <tr>\n",
       "            <th>s_date</th>\n",
       "            <th>station</th>\n",
       "            <th>name</th>\n",
       "            <th>date</th>\n",
       "            <th>prcp</th>\n",
       "            <th>snow</th>\n",
       "            <th>snwd</th>\n",
       "            <th>tmax</th>\n",
       "            <th>awnd</th>\n",
       "        </tr>\n",
       "    </thead>\n",
       "    <tbody>\n",
       "        <tr>\n",
       "            <td>USW0001473320190125</td>\n",
       "            <td>USW00014733</td>\n",
       "            <td>BUFFALO NIAGARA INTERNATIONAL, NY US</td>\n",
       "            <td>2019-01-25</td>\n",
       "            <td>0.87</td>\n",
       "            <td>17.20</td>\n",
       "            <td>5.90</td>\n",
       "            <td>28.00</td>\n",
       "            <td>18.57</td>\n",
       "        </tr>\n",
       "        <tr>\n",
       "            <td>USW0001474220190120</td>\n",
       "            <td>USW00014742</td>\n",
       "            <td>BURLINGTON INTERNATIONAL AIRPORT, VT US</td>\n",
       "            <td>2019-01-20</td>\n",
       "            <td>0.50</td>\n",
       "            <td>15.60</td>\n",
       "            <td>18.10</td>\n",
       "            <td>5.00</td>\n",
       "            <td>10.96</td>\n",
       "        </tr>\n",
       "        <tr>\n",
       "            <td>USW0001473320190130</td>\n",
       "            <td>USW00014733</td>\n",
       "            <td>BUFFALO NIAGARA INTERNATIONAL, NY US</td>\n",
       "            <td>2019-01-30</td>\n",
       "            <td>0.89</td>\n",
       "            <td>13.60</td>\n",
       "            <td>18.90</td>\n",
       "            <td>11.00</td>\n",
       "            <td>17.67</td>\n",
       "        </tr>\n",
       "        <tr>\n",
       "            <td>USW0001473520190120</td>\n",
       "            <td>USW00014735</td>\n",
       "            <td>ALBANY INTERNATIONAL AIRPORT, NY US</td>\n",
       "            <td>2019-01-20</td>\n",
       "            <td>1.25</td>\n",
       "            <td>10.40</td>\n",
       "            <td>11.00</td>\n",
       "            <td>21.00</td>\n",
       "            <td>10.96</td>\n",
       "        </tr>\n",
       "        <tr>\n",
       "            <td>USW0001473920190304</td>\n",
       "            <td>USW00014739</td>\n",
       "            <td>BOSTON, MA US</td>\n",
       "            <td>2019-03-04</td>\n",
       "            <td>0.97</td>\n",
       "            <td>9.90</td>\n",
       "            <td>None</td>\n",
       "            <td>40.00</td>\n",
       "            <td>13.20</td>\n",
       "        </tr>\n",
       "        <tr>\n",
       "            <td>USW0001477120190120</td>\n",
       "            <td>USW00014771</td>\n",
       "            <td>SYRACUSE HANCOCK INTERNATIONAL AIRPORT, NY US</td>\n",
       "            <td>2019-01-20</td>\n",
       "            <td>0.57</td>\n",
       "            <td>9.30</td>\n",
       "            <td>15.00</td>\n",
       "            <td>19.00</td>\n",
       "            <td>11.86</td>\n",
       "        </tr>\n",
       "        <tr>\n",
       "            <td>USW0001477120200207</td>\n",
       "            <td>USW00014771</td>\n",
       "            <td>SYRACUSE HANCOCK INTERNATIONAL AIRPORT, NY US</td>\n",
       "            <td>2020-02-07</td>\n",
       "            <td>0.90</td>\n",
       "            <td>9.20</td>\n",
       "            <td>5.10</td>\n",
       "            <td>33.00</td>\n",
       "            <td>11.18</td>\n",
       "        </tr>\n",
       "        <tr>\n",
       "            <td>USW0001492220190220</td>\n",
       "            <td>USW00014922</td>\n",
       "            <td>MINNEAPOLIS ST. PAUL INTERNATIONAL AIRPORT, MN US</td>\n",
       "            <td>2019-02-20</td>\n",
       "            <td>0.60</td>\n",
       "            <td>9.10</td>\n",
       "            <td>11.00</td>\n",
       "            <td>28.00</td>\n",
       "            <td>10.74</td>\n",
       "        </tr>\n",
       "        <tr>\n",
       "            <td>USW0002645120200218</td>\n",
       "            <td>USW00026451</td>\n",
       "            <td>ANCHORAGE TED STEVENS INTERNATIONAL AIRPORT, AK US</td>\n",
       "            <td>2020-02-18</td>\n",
       "            <td>0.88</td>\n",
       "            <td>8.90</td>\n",
       "            <td>11.80</td>\n",
       "            <td>44.00</td>\n",
       "            <td>10.51</td>\n",
       "        </tr>\n",
       "        <tr>\n",
       "            <td>USW0002412720200203</td>\n",
       "            <td>USW00024127</td>\n",
       "            <td>SALT LAKE CITY INTERNATIONAL AIRPORT, UT US</td>\n",
       "            <td>2020-02-03</td>\n",
       "            <td>0.41</td>\n",
       "            <td>8.60</td>\n",
       "            <td>5.10</td>\n",
       "            <td>29.00</td>\n",
       "            <td>16.33</td>\n",
       "        </tr>\n",
       "        <tr>\n",
       "            <td>USW0001483920190212</td>\n",
       "            <td>USW00014839</td>\n",
       "            <td>MILWAUKEE MITCHELL AIRPORT, WI US</td>\n",
       "            <td>2019-02-12</td>\n",
       "            <td>0.84</td>\n",
       "            <td>8.30</td>\n",
       "            <td>5.90</td>\n",
       "            <td>34.00</td>\n",
       "            <td>13.20</td>\n",
       "        </tr>\n",
       "    </tbody>\n",
       "</table>"
      ],
      "text/plain": [
       "[('USW0001473320190125', 'USW00014733', 'BUFFALO NIAGARA INTERNATIONAL, NY US', datetime.date(2019, 1, 25), Decimal('0.87'), Decimal('17.20'), Decimal('5.90'), Decimal('28.00'), Decimal('18.57')),\n",
       " ('USW0001474220190120', 'USW00014742', 'BURLINGTON INTERNATIONAL AIRPORT, VT US', datetime.date(2019, 1, 20), Decimal('0.50'), Decimal('15.60'), Decimal('18.10'), Decimal('5.00'), Decimal('10.96')),\n",
       " ('USW0001473320190130', 'USW00014733', 'BUFFALO NIAGARA INTERNATIONAL, NY US', datetime.date(2019, 1, 30), Decimal('0.89'), Decimal('13.60'), Decimal('18.90'), Decimal('11.00'), Decimal('17.67')),\n",
       " ('USW0001473520190120', 'USW00014735', 'ALBANY INTERNATIONAL AIRPORT, NY US', datetime.date(2019, 1, 20), Decimal('1.25'), Decimal('10.40'), Decimal('11.00'), Decimal('21.00'), Decimal('10.96')),\n",
       " ('USW0001473920190304', 'USW00014739', 'BOSTON, MA US', datetime.date(2019, 3, 4), Decimal('0.97'), Decimal('9.90'), None, Decimal('40.00'), Decimal('13.20')),\n",
       " ('USW0001477120190120', 'USW00014771', 'SYRACUSE HANCOCK INTERNATIONAL AIRPORT, NY US', datetime.date(2019, 1, 20), Decimal('0.57'), Decimal('9.30'), Decimal('15.00'), Decimal('19.00'), Decimal('11.86')),\n",
       " ('USW0001477120200207', 'USW00014771', 'SYRACUSE HANCOCK INTERNATIONAL AIRPORT, NY US', datetime.date(2020, 2, 7), Decimal('0.90'), Decimal('9.20'), Decimal('5.10'), Decimal('33.00'), Decimal('11.18')),\n",
       " ('USW0001492220190220', 'USW00014922', 'MINNEAPOLIS ST. PAUL INTERNATIONAL AIRPORT, MN US', datetime.date(2019, 2, 20), Decimal('0.60'), Decimal('9.10'), Decimal('11.00'), Decimal('28.00'), Decimal('10.74')),\n",
       " ('USW0002645120200218', 'USW00026451', 'ANCHORAGE TED STEVENS INTERNATIONAL AIRPORT, AK US', datetime.date(2020, 2, 18), Decimal('0.88'), Decimal('8.90'), Decimal('11.80'), Decimal('44.00'), Decimal('10.51')),\n",
       " ('USW0002412720200203', 'USW00024127', 'SALT LAKE CITY INTERNATIONAL AIRPORT, UT US', datetime.date(2020, 2, 3), Decimal('0.41'), Decimal('8.60'), Decimal('5.10'), Decimal('29.00'), Decimal('16.33')),\n",
       " ('USW0001483920190212', 'USW00014839', 'MILWAUKEE MITCHELL AIRPORT, WI US', datetime.date(2019, 2, 12), Decimal('0.84'), Decimal('8.30'), Decimal('5.90'), Decimal('34.00'), Decimal('13.20'))]"
      ]
     },
     "execution_count": 60,
     "metadata": {},
     "output_type": "execute_result"
    }
   ],
   "source": [
    "%%sql\n",
    "SELECT * FROM WEATHER ORDER BY snow Desc NULLS LAST LIMIT 11"
   ]
  },
  {
   "cell_type": "code",
   "execution_count": 56,
   "id": "c18a6197-74ab-4439-af22-6835f434a339",
   "metadata": {
    "tags": []
   },
   "outputs": [
    {
     "name": "stdout",
     "output_type": "stream",
     "text": [
      " * postgresql://student@/week6\n",
      "0 rows affected.\n"
     ]
    },
    {
     "data": {
      "text/html": [
       "<table>\n",
       "    <thead>\n",
       "        <tr>\n",
       "            <th>origin_airport_id</th>\n",
       "            <th>display_airport_name</th>\n",
       "            <th>origin_city_name</th>\n",
       "            <th>name</th>\n",
       "        </tr>\n",
       "    </thead>\n",
       "    <tbody>\n",
       "    </tbody>\n",
       "</table>"
      ],
      "text/plain": [
       "[]"
      ]
     },
     "execution_count": 56,
     "metadata": {},
     "output_type": "execute_result"
    }
   ],
   "source": [
    "%%sql\n",
    "SELECT *\n",
    "FROM AIRPORT_LIST AL\n",
    "WHERE AL.name = 'BURLINGTON INTERNATIONAL AIRPORT, VT US'"
   ]
  },
  {
   "cell_type": "markdown",
   "id": "2eb0c105-4c27-4f47-9661-f8146dd4f503",
   "metadata": {},
   "source": [
    "Test on our output to see if our count is accurate: this test match our output which says 'Albany International' have 1 departed and 3 landed on 2019-01-20"
   ]
  },
  {
   "cell_type": "code",
   "execution_count": 21,
   "id": "e816b3ef-cd64-4de9-b66d-eccb21b4e5a7",
   "metadata": {
    "tags": []
   },
   "outputs": [
    {
     "name": "stdout",
     "output_type": "stream",
     "text": [
      " * postgresql://student@/week6\n",
      "1 rows affected.\n"
     ]
    },
    {
     "data": {
      "text/html": [
       "<table>\n",
       "    <thead>\n",
       "        <tr>\n",
       "            <th>origin_airport_id</th>\n",
       "            <th>display_airport_name</th>\n",
       "            <th>origin_city_name</th>\n",
       "            <th>name</th>\n",
       "        </tr>\n",
       "    </thead>\n",
       "    <tbody>\n",
       "        <tr>\n",
       "            <td>10257</td>\n",
       "            <td>Albany International</td>\n",
       "            <td>Albany, NY</td>\n",
       "            <td>ALBANY INTERNATIONAL AIRPORT, NY US</td>\n",
       "        </tr>\n",
       "    </tbody>\n",
       "</table>"
      ],
      "text/plain": [
       "[(Decimal('10257'), 'Albany International', 'Albany, NY', 'ALBANY INTERNATIONAL AIRPORT, NY US')]"
      ]
     },
     "execution_count": 21,
     "metadata": {},
     "output_type": "execute_result"
    }
   ],
   "source": [
    "%%sql\n",
    "SELECT *\n",
    "FROM AIRPORT_LIST AL\n",
    "WHERE AL.display_airport_name = 'Albany International'"
   ]
  },
  {
   "cell_type": "code",
   "execution_count": 23,
   "id": "2790be56-0dcd-4573-9e34-a8813270087e",
   "metadata": {},
   "outputs": [
    {
     "name": "stdout",
     "output_type": "stream",
     "text": [
      " * postgresql://student@/week6\n",
      "4 rows affected.\n"
     ]
    },
    {
     "data": {
      "text/html": [
       "<table>\n",
       "    <thead>\n",
       "        <tr>\n",
       "            <th>report_id</th>\n",
       "            <th>day_of_week</th>\n",
       "            <th>op_unique_carrier</th>\n",
       "            <th>tail_num</th>\n",
       "            <th>op_carrier_fl_num</th>\n",
       "            <th>origin_airport_id</th>\n",
       "            <th>origin</th>\n",
       "            <th>origin_city_name</th>\n",
       "            <th>dest_airport_id</th>\n",
       "            <th>dest</th>\n",
       "            <th>dest_city_name</th>\n",
       "            <th>crs_dep_time</th>\n",
       "            <th>dep_time</th>\n",
       "            <th>dep_delay_new</th>\n",
       "            <th>dep_del15</th>\n",
       "            <th>dep_time_blk</th>\n",
       "            <th>crs_arr_time</th>\n",
       "            <th>arr_time</th>\n",
       "            <th>arr_delay_new</th>\n",
       "            <th>arr_time_blk</th>\n",
       "            <th>cancelled</th>\n",
       "            <th>cancellation_code</th>\n",
       "            <th>crs_elapsed_time</th>\n",
       "            <th>actual_elapsed_time</th>\n",
       "            <th>distance</th>\n",
       "            <th>distance_group</th>\n",
       "            <th>carrier_delay</th>\n",
       "            <th>weather_delay</th>\n",
       "            <th>nas_delay</th>\n",
       "            <th>security_delay</th>\n",
       "            <th>late_aircraft_delay</th>\n",
       "            <th>x</th>\n",
       "            <th>flight_date</th>\n",
       "        </tr>\n",
       "    </thead>\n",
       "    <tbody>\n",
       "        <tr>\n",
       "            <td>DL2228103972019120N979DL</td>\n",
       "            <td>7</td>\n",
       "            <td>DL</td>\n",
       "            <td>N979DL</td>\n",
       "            <td>2228</td>\n",
       "            <td>10397</td>\n",
       "            <td>ATL       </td>\n",
       "            <td>Atlanta, GA</td>\n",
       "            <td>10257</td>\n",
       "            <td>ALB</td>\n",
       "            <td>Albany, NY</td>\n",
       "            <td>1952</td>\n",
       "            <td>2050</td>\n",
       "            <td>58</td>\n",
       "            <td>1</td>\n",
       "            <td>1900-1959</td>\n",
       "            <td>2207</td>\n",
       "            <td>2310</td>\n",
       "            <td>63</td>\n",
       "            <td>2200-2259</td>\n",
       "            <td>0</td>\n",
       "            <td>None</td>\n",
       "            <td>135</td>\n",
       "            <td>140</td>\n",
       "            <td>853</td>\n",
       "            <td>4</td>\n",
       "            <td>0</td>\n",
       "            <td>0</td>\n",
       "            <td>63</td>\n",
       "            <td>0</td>\n",
       "            <td>0</td>\n",
       "            <td>None</td>\n",
       "            <td>2019-01-20</td>\n",
       "        </tr>\n",
       "        <tr>\n",
       "            <td>AA1905110572019120N717UW</td>\n",
       "            <td>7</td>\n",
       "            <td>AA</td>\n",
       "            <td>N717UW</td>\n",
       "            <td>1905</td>\n",
       "            <td>11057</td>\n",
       "            <td>CLT       </td>\n",
       "            <td>Charlotte, NC</td>\n",
       "            <td>10257</td>\n",
       "            <td>ALB</td>\n",
       "            <td>Albany, NY</td>\n",
       "            <td>1630</td>\n",
       "            <td>1629</td>\n",
       "            <td>0</td>\n",
       "            <td>0</td>\n",
       "            <td>1600-1659</td>\n",
       "            <td>1829</td>\n",
       "            <td>None</td>\n",
       "            <td>None</td>\n",
       "            <td>1800-1859</td>\n",
       "            <td>0</td>\n",
       "            <td>None</td>\n",
       "            <td>119</td>\n",
       "            <td>None</td>\n",
       "            <td>646</td>\n",
       "            <td>3</td>\n",
       "            <td>None</td>\n",
       "            <td>None</td>\n",
       "            <td>None</td>\n",
       "            <td>None</td>\n",
       "            <td>None</td>\n",
       "            <td>None</td>\n",
       "            <td>2019-01-20</td>\n",
       "        </tr>\n",
       "        <tr>\n",
       "            <td>DL1875102572019120N912DE</td>\n",
       "            <td>7</td>\n",
       "            <td>DL</td>\n",
       "            <td>N912DE</td>\n",
       "            <td>1875</td>\n",
       "            <td>10257</td>\n",
       "            <td>ALB       </td>\n",
       "            <td>Albany, NY</td>\n",
       "            <td>10397</td>\n",
       "            <td>ATL</td>\n",
       "            <td>Atlanta, GA</td>\n",
       "            <td>1400</td>\n",
       "            <td>957</td>\n",
       "            <td>1197</td>\n",
       "            <td>1</td>\n",
       "            <td>1400-1459</td>\n",
       "            <td>1706</td>\n",
       "            <td>1347</td>\n",
       "            <td>1241</td>\n",
       "            <td>1700-1759</td>\n",
       "            <td>0</td>\n",
       "            <td>None</td>\n",
       "            <td>186</td>\n",
       "            <td>230</td>\n",
       "            <td>853</td>\n",
       "            <td>4</td>\n",
       "            <td>0</td>\n",
       "            <td>1198</td>\n",
       "            <td>43</td>\n",
       "            <td>0</td>\n",
       "            <td>0</td>\n",
       "            <td>None</td>\n",
       "            <td>2019-01-20</td>\n",
       "        </tr>\n",
       "        <tr>\n",
       "            <td>DL1875103972019120N912DE</td>\n",
       "            <td>7</td>\n",
       "            <td>DL</td>\n",
       "            <td>N912DE</td>\n",
       "            <td>1875</td>\n",
       "            <td>10397</td>\n",
       "            <td>ATL       </td>\n",
       "            <td>Atlanta, GA</td>\n",
       "            <td>10257</td>\n",
       "            <td>ALB</td>\n",
       "            <td>Albany, NY</td>\n",
       "            <td>1031</td>\n",
       "            <td>1718</td>\n",
       "            <td>407</td>\n",
       "            <td>1</td>\n",
       "            <td>1000-1059</td>\n",
       "            <td>1248</td>\n",
       "            <td>1956</td>\n",
       "            <td>428</td>\n",
       "            <td>1200-1259</td>\n",
       "            <td>0</td>\n",
       "            <td>None</td>\n",
       "            <td>137</td>\n",
       "            <td>158</td>\n",
       "            <td>853</td>\n",
       "            <td>4</td>\n",
       "            <td>0</td>\n",
       "            <td>0</td>\n",
       "            <td>428</td>\n",
       "            <td>0</td>\n",
       "            <td>0</td>\n",
       "            <td>None</td>\n",
       "            <td>2019-01-20</td>\n",
       "        </tr>\n",
       "    </tbody>\n",
       "</table>"
      ],
      "text/plain": [
       "[('DL2228103972019120N979DL', Decimal('7'), 'DL', 'N979DL', Decimal('2228'), Decimal('10397'), 'ATL       ', 'Atlanta, GA', Decimal('10257'), 'ALB', 'Albany, NY', Decimal('1952'), Decimal('2050'), Decimal('58'), Decimal('1'), '1900-1959', Decimal('2207'), Decimal('2310'), Decimal('63'), '2200-2259', Decimal('0'), None, Decimal('135'), Decimal('140'), Decimal('853'), Decimal('4'), Decimal('0'), Decimal('0'), Decimal('63'), Decimal('0'), Decimal('0'), None, datetime.date(2019, 1, 20)),\n",
       " ('AA1905110572019120N717UW', Decimal('7'), 'AA', 'N717UW', Decimal('1905'), Decimal('11057'), 'CLT       ', 'Charlotte, NC', Decimal('10257'), 'ALB', 'Albany, NY', Decimal('1630'), Decimal('1629'), Decimal('0'), Decimal('0'), '1600-1659', Decimal('1829'), None, None, '1800-1859', Decimal('0'), None, Decimal('119'), None, Decimal('646'), Decimal('3'), None, None, None, None, None, None, datetime.date(2019, 1, 20)),\n",
       " ('DL1875102572019120N912DE', Decimal('7'), 'DL', 'N912DE', Decimal('1875'), Decimal('10257'), 'ALB       ', 'Albany, NY', Decimal('10397'), 'ATL', 'Atlanta, GA', Decimal('1400'), Decimal('957'), Decimal('1197'), Decimal('1'), '1400-1459', Decimal('1706'), Decimal('1347'), Decimal('1241'), '1700-1759', Decimal('0'), None, Decimal('186'), Decimal('230'), Decimal('853'), Decimal('4'), Decimal('0'), Decimal('1198'), Decimal('43'), Decimal('0'), Decimal('0'), None, datetime.date(2019, 1, 20)),\n",
       " ('DL1875103972019120N912DE', Decimal('7'), 'DL', 'N912DE', Decimal('1875'), Decimal('10397'), 'ATL       ', 'Atlanta, GA', Decimal('10257'), 'ALB', 'Albany, NY', Decimal('1031'), Decimal('1718'), Decimal('407'), Decimal('1'), '1000-1059', Decimal('1248'), Decimal('1956'), Decimal('428'), '1200-1259', Decimal('0'), None, Decimal('137'), Decimal('158'), Decimal('853'), Decimal('4'), Decimal('0'), Decimal('0'), Decimal('428'), Decimal('0'), Decimal('0'), None, datetime.date(2019, 1, 20))]"
      ]
     },
     "execution_count": 23,
     "metadata": {},
     "output_type": "execute_result"
    }
   ],
   "source": [
    "%%sql\n",
    "SELECT *\n",
    "FROM ONTIME_REPORTING OP\n",
    "WHERE (origin_airport_id = 10257 or dest_airport_id = 10257) and flight_date = '2019-01-20' and cancelled = 0"
   ]
  },
  {
   "cell_type": "markdown",
   "id": "0f8a07d6-4ef7-481e-9349-66976ba09fbc",
   "metadata": {
    "tags": []
   },
   "source": [
    "Breaking down the code to departed flight and landed flight "
   ]
  },
  {
   "cell_type": "code",
   "execution_count": 11,
   "id": "f9ba8af7-86ab-4162-8621-0dc04251a128",
   "metadata": {},
   "outputs": [
    {
     "name": "stdout",
     "output_type": "stream",
     "text": [
      " * postgresql://student@/week6\n",
      "10 rows affected.\n"
     ]
    },
    {
     "data": {
      "text/html": [
       "<table>\n",
       "    <thead>\n",
       "        <tr>\n",
       "            <th>display_airport_name</th>\n",
       "            <th>date</th>\n",
       "            <th>snow</th>\n",
       "            <th>flight departed</th>\n",
       "        </tr>\n",
       "    </thead>\n",
       "    <tbody>\n",
       "        <tr>\n",
       "            <td>Greater Buffalo International</td>\n",
       "            <td>2019-01-25</td>\n",
       "            <td>17.20</td>\n",
       "            <td>61</td>\n",
       "        </tr>\n",
       "        <tr>\n",
       "            <td>Greater Buffalo International</td>\n",
       "            <td>2019-01-30</td>\n",
       "            <td>13.60</td>\n",
       "            <td>2</td>\n",
       "        </tr>\n",
       "        <tr>\n",
       "            <td>Albany International</td>\n",
       "            <td>2019-01-20</td>\n",
       "            <td>10.40</td>\n",
       "            <td>1</td>\n",
       "        </tr>\n",
       "        <tr>\n",
       "            <td>Logan International</td>\n",
       "            <td>2019-03-04</td>\n",
       "            <td>9.90</td>\n",
       "            <td>255</td>\n",
       "        </tr>\n",
       "        <tr>\n",
       "            <td>Syracuse Hancock International</td>\n",
       "            <td>2019-01-20</td>\n",
       "            <td>9.30</td>\n",
       "            <td>13</td>\n",
       "        </tr>\n",
       "        <tr>\n",
       "            <td>Syracuse Hancock International</td>\n",
       "            <td>2020-02-07</td>\n",
       "            <td>9.20</td>\n",
       "            <td>26</td>\n",
       "        </tr>\n",
       "        <tr>\n",
       "            <td>Minneapolis-St Paul International</td>\n",
       "            <td>2019-02-20</td>\n",
       "            <td>9.10</td>\n",
       "            <td>18</td>\n",
       "        </tr>\n",
       "        <tr>\n",
       "            <td>Anchorage International</td>\n",
       "            <td>2020-02-18</td>\n",
       "            <td>8.90</td>\n",
       "            <td>39</td>\n",
       "        </tr>\n",
       "        <tr>\n",
       "            <td>Salt Lake City International</td>\n",
       "            <td>2020-02-03</td>\n",
       "            <td>8.60</td>\n",
       "            <td>336</td>\n",
       "        </tr>\n",
       "        <tr>\n",
       "            <td>General Mitchell Field</td>\n",
       "            <td>2019-02-12</td>\n",
       "            <td>8.30</td>\n",
       "            <td>61</td>\n",
       "        </tr>\n",
       "    </tbody>\n",
       "</table>"
      ],
      "text/plain": [
       "[('Greater Buffalo International', datetime.date(2019, 1, 25), Decimal('17.20'), Decimal('61')),\n",
       " ('Greater Buffalo International', datetime.date(2019, 1, 30), Decimal('13.60'), Decimal('2')),\n",
       " ('Albany International', datetime.date(2019, 1, 20), Decimal('10.40'), Decimal('1')),\n",
       " ('Logan International', datetime.date(2019, 3, 4), Decimal('9.90'), Decimal('255')),\n",
       " ('Syracuse Hancock International', datetime.date(2019, 1, 20), Decimal('9.30'), Decimal('13')),\n",
       " ('Syracuse Hancock International', datetime.date(2020, 2, 7), Decimal('9.20'), Decimal('26')),\n",
       " ('Minneapolis-St Paul International', datetime.date(2019, 2, 20), Decimal('9.10'), Decimal('18')),\n",
       " ('Anchorage International', datetime.date(2020, 2, 18), Decimal('8.90'), Decimal('39')),\n",
       " ('Salt Lake City International', datetime.date(2020, 2, 3), Decimal('8.60'), Decimal('336')),\n",
       " ('General Mitchell Field', datetime.date(2019, 2, 12), Decimal('8.30'), Decimal('61'))]"
      ]
     },
     "execution_count": 11,
     "metadata": {},
     "output_type": "execute_result"
    }
   ],
   "source": [
    "%%sql\n",
    "-- left out join is used to display even if departed and landed is None\n",
    "SELECT AL.display_airport_name, W.date, W.snow, count(*) - sum(cancelled) as \"flight departed\"\n",
    "FROM WEATHER W LEFT OUTER JOIN AIRPORT_LIST AL ON (LOWER(AL.name) = LOWER(W.name)), ONTIME_REPORTING OP\n",
    "WHERE W.date = OP.flight_date and \n",
    "    OP.origin_airport_id = AL.origin_airport_id\n",
    "GROUP BY AL.display_airport_name, W.date, W.snow \n",
    "ORDER BY W.snow Desc NULLS LAST\n",
    "LIMIT 10;"
   ]
  },
  {
   "cell_type": "code",
   "execution_count": 16,
   "id": "a5f1d1c9-8c61-4944-b5ef-95e85595cd0b",
   "metadata": {},
   "outputs": [
    {
     "name": "stdout",
     "output_type": "stream",
     "text": [
      " * postgresql://student@/week6\n",
      "10 rows affected.\n"
     ]
    },
    {
     "data": {
      "text/html": [
       "<table>\n",
       "    <thead>\n",
       "        <tr>\n",
       "            <th>display_airport_name</th>\n",
       "            <th>date</th>\n",
       "            <th>snow</th>\n",
       "            <th>flight landed</th>\n",
       "        </tr>\n",
       "    </thead>\n",
       "    <tbody>\n",
       "        <tr>\n",
       "            <td>Greater Buffalo International</td>\n",
       "            <td>2019-01-25</td>\n",
       "            <td>17.20</td>\n",
       "            <td>60</td>\n",
       "        </tr>\n",
       "        <tr>\n",
       "            <td>Greater Buffalo International</td>\n",
       "            <td>2019-01-30</td>\n",
       "            <td>13.60</td>\n",
       "            <td>2</td>\n",
       "        </tr>\n",
       "        <tr>\n",
       "            <td>Albany International</td>\n",
       "            <td>2019-01-20</td>\n",
       "            <td>10.40</td>\n",
       "            <td>3</td>\n",
       "        </tr>\n",
       "        <tr>\n",
       "            <td>Logan International</td>\n",
       "            <td>2019-03-04</td>\n",
       "            <td>9.90</td>\n",
       "            <td>298</td>\n",
       "        </tr>\n",
       "        <tr>\n",
       "            <td>Syracuse Hancock International</td>\n",
       "            <td>2019-01-20</td>\n",
       "            <td>9.30</td>\n",
       "            <td>20</td>\n",
       "        </tr>\n",
       "        <tr>\n",
       "            <td>Syracuse Hancock International</td>\n",
       "            <td>2020-02-07</td>\n",
       "            <td>9.20</td>\n",
       "            <td>26</td>\n",
       "        </tr>\n",
       "        <tr>\n",
       "            <td>Minneapolis-St Paul International</td>\n",
       "            <td>2019-02-20</td>\n",
       "            <td>9.10</td>\n",
       "            <td>21</td>\n",
       "        </tr>\n",
       "        <tr>\n",
       "            <td>Anchorage International</td>\n",
       "            <td>2020-02-18</td>\n",
       "            <td>8.90</td>\n",
       "            <td>41</td>\n",
       "        </tr>\n",
       "        <tr>\n",
       "            <td>Salt Lake City International</td>\n",
       "            <td>2020-02-03</td>\n",
       "            <td>8.60</td>\n",
       "            <td>335</td>\n",
       "        </tr>\n",
       "        <tr>\n",
       "            <td>General Mitchell Field</td>\n",
       "            <td>2019-02-12</td>\n",
       "            <td>8.30</td>\n",
       "            <td>66</td>\n",
       "        </tr>\n",
       "    </tbody>\n",
       "</table>"
      ],
      "text/plain": [
       "[('Greater Buffalo International', datetime.date(2019, 1, 25), Decimal('17.20'), Decimal('60')),\n",
       " ('Greater Buffalo International', datetime.date(2019, 1, 30), Decimal('13.60'), Decimal('2')),\n",
       " ('Albany International', datetime.date(2019, 1, 20), Decimal('10.40'), Decimal('3')),\n",
       " ('Logan International', datetime.date(2019, 3, 4), Decimal('9.90'), Decimal('298')),\n",
       " ('Syracuse Hancock International', datetime.date(2019, 1, 20), Decimal('9.30'), Decimal('20')),\n",
       " ('Syracuse Hancock International', datetime.date(2020, 2, 7), Decimal('9.20'), Decimal('26')),\n",
       " ('Minneapolis-St Paul International', datetime.date(2019, 2, 20), Decimal('9.10'), Decimal('21')),\n",
       " ('Anchorage International', datetime.date(2020, 2, 18), Decimal('8.90'), Decimal('41')),\n",
       " ('Salt Lake City International', datetime.date(2020, 2, 3), Decimal('8.60'), Decimal('335')),\n",
       " ('General Mitchell Field', datetime.date(2019, 2, 12), Decimal('8.30'), Decimal('66'))]"
      ]
     },
     "execution_count": 16,
     "metadata": {},
     "output_type": "execute_result"
    }
   ],
   "source": [
    "%%sql\n",
    "-- left out join is used to display even if departed and landed is None\n",
    "SELECT AL.display_airport_name, W.date, W.snow, count(*) - sum(cancelled) as \"flight landed\"\n",
    "FROM WEATHER W LEFT OUTER JOIN AIRPORT_LIST AL ON (LOWER(AL.name) = LOWER(W.name)), ONTIME_REPORTING OP\n",
    "WHERE W.date = OP.flight_date and \n",
    "    OP.dest_airport_id = AL.origin_airport_id\n",
    "GROUP BY AL.display_airport_name, W.date, W.snow \n",
    "ORDER BY W.snow Desc NULLS LAST\n",
    "LIMIT 10;"
   ]
  }
 ],
 "metadata": {
  "kernelspec": {
   "display_name": "Python 3 (ipykernel)",
   "language": "python",
   "name": "python3"
  },
  "language_info": {
   "codemirror_mode": {
    "name": "ipython",
    "version": 3
   },
   "file_extension": ".py",
   "mimetype": "text/x-python",
   "name": "python",
   "nbconvert_exporter": "python",
   "pygments_lexer": "ipython3",
   "version": "3.8.10"
  }
 },
 "nbformat": 4,
 "nbformat_minor": 5
}
